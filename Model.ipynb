{
 "cells": [
  {
   "cell_type": "code",
   "execution_count": null,
   "metadata": {},
   "outputs": [],
   "source": [
    "import tensorflow as tf\n",
    "import keras\n",
    "\n",
    "#Logistic Regresstion\n",
    "\n",
    "from sklearn.linear_model import LogisticRegression\n",
    "logreg = LogisticRegression(random_state=0, solver='lbfgs', multi_class='multinomial')\n",
    "logreg.fit(X, y)\n",
    "\n",
    "\n",
    "#Deep Learning Keras Model\n",
    "#relu -linear\n",
    "#sigmoid function for final layer\n",
    "#Dropout 50%\n",
    "#Dimension input features column\n",
    "#Output binary classification 0 and 1\n",
    "model = Sequential()\n",
    "model.add(Dense(124, activation='relu', input_dim = X.shape[1])\n",
    "model.add(Dropout(0.5))\n",
    "model.add(Dense(64, activation='relu'))\n",
    "model.add(Dropout(0.5))\n",
    "model.add(Dense(32, activation='relu'))\n",
    "model.add(Dropout(0.5))\n",
    "model.add(Dense(1, activation='sigmoid'))\n",
    "model.summary()\n",
    "#Using binary_crossentropy\n",
    "model.compile(optimizer='rmsprop',\n",
    "              loss='binary_crossentropy',\n",
    "              metrics=['accuracy'])\n",
    "\n",
    "\n",
    "\n",
    "#KNN\n",
    "n_neigh = 3\n",
    "from sklearn.neighbors import KNeighborsClassifier\n",
    "neighbor = KNeighborsClassifier(n_neigh)\n",
    "neighbor.fit(X, y) \n",
    "\n",
    "\n",
    "\n",
    "#Naive Bayes\n",
    "from sklearn.naive_bayes import GaussianNB\n",
    "gaus = GaussianNB()\n",
    "clf.fit(X, Y)\n"
   ]
  }
 ],
 "metadata": {
  "kernelspec": {
   "display_name": "Python 3",
   "language": "python",
   "name": "python3"
  },
  "language_info": {
   "codemirror_mode": {
    "name": "ipython",
    "version": 3
   },
   "file_extension": ".py",
   "mimetype": "text/x-python",
   "name": "python",
   "nbconvert_exporter": "python",
   "pygments_lexer": "ipython3",
   "version": "3.7.4"
  }
 },
 "nbformat": 4,
 "nbformat_minor": 2
}
