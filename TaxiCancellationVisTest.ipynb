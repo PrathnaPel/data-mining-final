{
 "cells": [
  {
   "cell_type": "code",
   "execution_count": 1,
   "metadata": {
    "pycharm": {
     "is_executing": false
    }
   },
   "outputs": [],
   "source": [
    "import pandas as pd\n",
    "import numpy as np\n",
    "import datetime\n",
    "#import pandas_profiling # pip install pandas_profiling\n",
    "\n",
    "taxiCancellationScore = pd.read_csv('Kaggle_YourCabs_score.csv')\n",
    "taxiCancellationTraining = pd.read_csv('Kaggle_YourCabs_training.csv')"
   ]
  },
  {
   "cell_type": "code",
   "execution_count": 36,
   "metadata": {
    "pycharm": {
     "is_executing": false
    }
   },
   "outputs": [
    {
     "data": {
      "text/plain": "Index(['id', 'user_id', 'vehicle_model_id', 'package_id', 'travel_type_id',\n       'from_area_id', 'to_area_id', 'from_city_id', 'to_city_id', 'from_date',\n       'to_date', 'online_booking', 'mobile_site_booking', 'booking_created',\n       'from_lat', 'from_long', 'to_lat', 'to_long', 'Car_Cancellation',\n       'Cost_of_error'],\n      dtype='object')"
     },
     "metadata": {},
     "output_type": "execute_result",
     "execution_count": 36
    }
   ],
   "source": [
    "#taxiCancellationScore.Profile_Report()\n",
    "taxiCancellationTraining.columns"
   ]
  },
  {
   "cell_type": "code",
   "execution_count": 3,
   "metadata": {
    "pycharm": {
     "is_executing": false
    }
   },
   "outputs": [
    {
     "data": {
      "text/plain": "(43431, 20)"
     },
     "metadata": {},
     "output_type": "execute_result",
     "execution_count": 3
    }
   ],
   "source": [
    "taxiCancellationTraining.shape"
   ]
  },
  {
   "cell_type": "code",
   "execution_count": 4,
   "metadata": {
    "pycharm": {
     "is_executing": false
    }
   },
   "outputs": [
    {
     "data": {
      "text/plain": "           id  user_id  vehicle_model_id  package_id  travel_type_id  \\\n0      132512    22177                28         NaN               2   \n1      132513    21413                12         NaN               2   \n2      132514    22178                12         NaN               2   \n3      132515    13034                12         NaN               2   \n4      132517    22180                12         NaN               2   \n5      132518    17712                12         NaN               2   \n6      132519    22172                12         NaN               1   \n7      132520    22181                12         NaN               2   \n8      132521    22182                65         2.0               3   \n9      132522    22184                12         NaN               2   \n10     132523     4941                12         NaN               2   \n11     132524    17037                12         NaN               2   \n12     132525    22185                12         NaN               2   \n13     132526    22186                12         NaN               2   \n14     132527       16                28         NaN               2   \n15     132528    15097                12         NaN               2   \n16     132530      761                12         NaN               2   \n17     132531    22189                24         NaN               1   \n18     132533    17226                12         NaN               2   \n19     132534      868                12         NaN               2   \n20     132535    22190                87         2.0               3   \n21     132536       16                28         NaN               2   \n22     132537    21558                12         NaN               2   \n23     132538    21995                12         1.0               3   \n24     132539    22192                54         NaN               1   \n25     132540    22193                12         NaN               2   \n26     132541    20430                12         NaN               2   \n27     132542    22194                12         NaN               2   \n28     132543    21716                28         NaN               2   \n29     132544    38966                12         NaN               2   \n...       ...      ...               ...         ...             ...   \n43401  185909    27899                65         7.0               3   \n43402  185910    47996                89         1.0               3   \n43403  185911    41939                65         7.0               3   \n43404  185912    48711                12         NaN               2   \n43405  185914    41939                12         4.0               3   \n43406  185915    40643                12         3.0               3   \n43407  185916    48714                87         NaN               1   \n43408  185917    40643                12         3.0               3   \n43409  185918    41939                12         4.0               3   \n43410  185919    41939                12         4.0               3   \n43411  185920    31846                65         4.0               3   \n43412  185921    44027                12         NaN               2   \n43413  185922    48718                12         NaN               2   \n43414  185923    34127                12         NaN               2   \n43415  185924    48719                12         1.0               3   \n43416  185926    36929                12         NaN               2   \n43417  185927    41939                12         4.0               3   \n43418  185928    48721                12         NaN               2   \n43419  185929    46807                12         NaN               2   \n43420  185930    36265                65         2.0               3   \n43421  185931    48723                12         NaN               2   \n43422  185932    48724                12         NaN               2   \n43423  185933    48725                24         NaN               2   \n43424  185935    48726                12         2.0               3   \n43425  185936    30220                12         NaN               2   \n43426  185937    14364                12         NaN               2   \n43427  185938    48727                12         NaN               2   \n43428  185939    48729                12         1.0               3   \n43429  185940    30724                87         NaN               2   \n43430  185941    48730                12         NaN               2   \n\n       from_area_id  to_area_id  from_city_id  to_city_id         from_date  \\\n0              83.0       448.0           NaN         NaN     1/1/2013 2:00   \n1            1010.0       540.0           NaN         NaN     1/1/2013 9:00   \n2            1301.0      1034.0           NaN         NaN     1/1/2013 3:30   \n3             768.0       398.0           NaN         NaN     1/1/2013 5:45   \n4            1365.0       849.0           NaN         NaN     1/1/2013 9:00   \n5            1021.0      1323.0           NaN         NaN    1/1/2013 22:30   \n6             571.0         NaN          15.0       108.0     1/1/2013 9:45   \n7            1192.0       832.0           NaN         NaN    1/1/2013 11:00   \n8             448.0         NaN           NaN         NaN    1/1/2013 16:00   \n9             516.0       376.0           NaN         NaN    1/1/2013 11:00   \n10            150.0       776.0           NaN         NaN    1/1/2013 11:00   \n11            455.0      1330.0           NaN         NaN    1/1/2013 12:45   \n12           1166.0      1328.0           NaN         NaN    1/1/2013 12:30   \n13            793.0       590.0           NaN         NaN    1/1/2013 12:45   \n14           1063.0        58.0           NaN         NaN    1/1/2013 15:00   \n15           1102.0       292.0           NaN         NaN     1/2/2013 2:00   \n16            814.0       393.0           NaN         NaN     1/2/2013 0:30   \n17           1383.0         NaN           NaN        32.0    1/12/2013 8:00   \n18           1353.0       585.0           NaN         NaN    1/1/2013 16:00   \n19            297.0       212.0           NaN         NaN    1/1/2013 13:15   \n20            471.0         NaN           NaN         NaN    1/1/2013 14:30   \n21             58.0      1063.0           NaN         NaN    1/1/2013 18:30   \n22            540.0       409.0           NaN         NaN    1/1/2013 16:00   \n23           1286.0         NaN           NaN         NaN    1/1/2013 16:30   \n24            515.0         NaN          15.0        32.0     1/5/2013 8:30   \n25            142.0       393.0           NaN         NaN    1/1/2013 17:00   \n26            393.0        61.0           NaN         NaN    1/2/2013 20:00   \n27             89.0       585.0           NaN         NaN    1/1/2013 20:30   \n28           1237.0       330.0           NaN         NaN    1/1/2013 16:30   \n29             61.0       393.0           NaN         NaN    1/1/2013 18:00   \n...             ...         ...           ...         ...               ...   \n43401        1038.0         NaN          15.0         NaN  11/24/2013 12:00   \n43402         328.0         NaN          15.0         NaN  11/24/2013 14:30   \n43403        1038.0         NaN          15.0         NaN  11/24/2013 12:00   \n43404         238.0       393.0          15.0         NaN   11/25/2013 3:15   \n43405        1281.0         NaN          15.0         NaN  11/24/2013 14:00   \n43406         136.0         NaN          15.0         NaN  11/24/2013 15:00   \n43407        1180.0         NaN          15.0        62.0  12/24/2013 15:00   \n43408         136.0         NaN          15.0         NaN  11/24/2013 15:00   \n43409        1281.0         NaN          15.0         NaN  11/24/2013 14:00   \n43410        1281.0         NaN          15.0         NaN  11/24/2013 14:00   \n43411         541.0         NaN          15.0         NaN  11/24/2013 14:15   \n43412        1384.0       571.0          15.0         NaN  11/24/2013 19:30   \n43413        1377.0       393.0          15.0         NaN   11/25/2013 4:15   \n43414         376.0       424.0          15.0         NaN  11/24/2013 22:15   \n43415         768.0         NaN          15.0         NaN  11/24/2013 16:00   \n43416         396.0       393.0          15.0         NaN  11/24/2013 16:15   \n43417        1390.0         NaN          15.0         NaN  11/24/2013 15:00   \n43418        1263.0       393.0          15.0         NaN  11/24/2013 18:00   \n43419         571.0       393.0          15.0         NaN   11/25/2013 4:30   \n43420        1237.0         NaN          15.0         NaN   11/25/2013 1:00   \n43421        1371.0      1181.0          15.0         NaN   11/25/2013 9:45   \n43422         393.0       269.0          15.0         NaN  11/24/2013 21:15   \n43423         585.0       339.0          15.0         NaN  11/24/2013 16:00   \n43424         515.0         NaN          15.0         NaN  11/24/2013 15:15   \n43425         585.0      1226.0          15.0         NaN   11/25/2013 0:00   \n43426        1147.0       452.0          15.0         NaN  11/24/2013 18:00   \n43427         393.0       466.0          15.0         NaN   11/26/2013 1:00   \n43428         974.0         NaN          15.0         NaN  11/24/2013 18:30   \n43429        1263.0       542.0          15.0         NaN  11/24/2013 16:00   \n43430         689.0       393.0          15.0         NaN   11/25/2013 5:00   \n\n           to_date  online_booking  mobile_site_booking   booking_created  \\\n0              NaN               0                    0     1/1/2013 1:39   \n1              NaN               0                    0     1/1/2013 2:25   \n2              NaN               0                    0     1/1/2013 3:08   \n3              NaN               0                    0     1/1/2013 4:39   \n4              NaN               0                    0     1/1/2013 7:53   \n5              NaN               0                    0     1/1/2013 8:01   \n6      41275.40625               0                    0     1/1/2013 9:21   \n7              NaN               0                    0     1/1/2013 9:39   \n8              NaN               0                    0     1/1/2013 9:44   \n9              NaN               0                    0     1/1/2013 9:49   \n10             NaN               0                    0     1/1/2013 9:55   \n11             NaN               0                    0     1/1/2013 9:59   \n12             NaN               0                    0    1/1/2013 10:18   \n13             NaN               0                    0    1/1/2013 11:17   \n14             NaN               1                    0    1/1/2013 11:48   \n15             NaN               0                    0    1/1/2013 11:52   \n16     41277.00000               1                    0    1/1/2013 12:14   \n17     41288.00000               1                    0    1/1/2013 12:17   \n18             NaN               0                    0    1/1/2013 12:28   \n19             NaN               0                    0    1/1/2013 12:42   \n20             NaN               0                    0    1/1/2013 12:52   \n21             NaN               1                    0    1/1/2013 13:40   \n22             NaN               1                    0    1/1/2013 13:50   \n23             NaN               0                    0    1/1/2013 14:39   \n24     41279.00000               0                    0    1/1/2013 14:40   \n25             NaN               1                    0    1/1/2013 14:56   \n26             NaN               0                    0    1/1/2013 15:02   \n27             NaN               0                    0    1/1/2013 15:07   \n28             NaN               0                    0    1/1/2013 15:07   \n29             NaN               0                    0    1/1/2013 15:11   \n...            ...             ...                  ...               ...   \n43401  41602.91667               0                    0   11/24/2013 9:44   \n43402  41602.81250               0                    0   11/24/2013 9:52   \n43403  41602.91667               0                    0   11/24/2013 9:53   \n43404  41603.18573               1                    0  11/24/2013 10:21   \n43405  41603.00000               0                    0  11/24/2013 10:56   \n43406  41602.91667               1                    0  11/24/2013 11:33   \n43407  41634.99931               0                    0  11/24/2013 11:34   \n43408  41602.91667               1                    0  11/24/2013 11:36   \n43409  41603.00000               0                    0  11/24/2013 11:44   \n43410  41603.00000               0                    0  11/24/2013 11:46   \n43411  41603.01042               0                    1  11/24/2013 12:09   \n43412  41602.89769               0                    1  11/24/2013 12:10   \n43413  41603.21192               1                    0  11/24/2013 12:10   \n43414  41602.95931               0                    1  11/24/2013 12:25   \n43415  41602.87500               0                    1  11/24/2013 12:32   \n43416  41602.75176               1                    0  11/24/2013 12:58   \n43417  41603.04167               0                    0  11/24/2013 13:06   \n43418  41602.86178               1                    0  11/24/2013 13:07   \n43419  41603.23846               0                    0  11/24/2013 13:47   \n43420  41603.41667               1                    0  11/24/2013 13:54   \n43421  41603.43118               0                    0  11/24/2013 14:10   \n43422  41602.98345               0                    0  11/24/2013 14:12   \n43423  41602.70913               0                    1  11/24/2013 14:15   \n43424  41603.01042               0                    0  11/24/2013 14:23   \n43425  41603.03336               0                    1  11/24/2013 14:24   \n43426  41602.82020               1                    0  11/24/2013 14:25   \n43427  41604.08037               1                    0  11/24/2013 14:30   \n43428  41602.97917               0                    0  11/24/2013 14:35   \n43429  41602.69495               0                    0  11/24/2013 14:43   \n43430  41603.25385               0                    1  11/24/2013 14:50   \n\n        from_lat  from_long     to_lat    to_long  Car_Cancellation  \\\n0      12.924150  77.672290  12.927320  77.635750                 0   \n1      12.966910  77.749350  12.927680  77.626640                 0   \n2      12.937222  77.626915  13.047926  77.597766                 0   \n3      12.989990  77.553320  12.971430  77.639140                 0   \n4      12.845653  77.677925  12.954340  77.600720                 0   \n5      13.028530  77.546250  12.869805  77.653211                 0   \n6      12.951850  77.696420        NaN        NaN                 0   \n7      12.976770  77.572700  12.880190  77.645580                 0   \n8      12.927320  77.635750        NaN        NaN                 0   \n9      13.005600  77.657990  12.902450  77.660810                 0   \n10     12.897240  77.610650  13.015080  77.677960                 0   \n11     12.999874  77.678120  12.953434  77.706510                 0   \n12     12.997198  77.669514  12.958808  77.649047                 0   \n13     13.022390  77.594920  13.008260  77.564330                 0   \n14     12.934477  77.611284  12.889630  77.601190                 0   \n15     12.936520  77.544810  12.939440  77.629230                 0   \n16     12.908993  77.688900  13.199560  77.706880                 0   \n17     12.930451  77.685822        NaN        NaN                 0   \n18     12.966545  77.711639  12.976770  77.572700                 0   \n19     12.997890  77.614880  12.994740  77.607970                 0   \n20     13.018540  77.635240        NaN        NaN                 0   \n21     12.889630  77.601190  12.934477  77.611284                 1   \n22     12.927680  77.626640  13.077460  77.606680                 0   \n23     12.973448  77.620320        NaN        NaN                 0   \n24     12.978960  77.673450        NaN        NaN                 0   \n25     12.912810  77.609230  13.199560  77.706880                 0   \n26     13.199560  77.706880  12.962980  77.712290                 0   \n27     12.965190  77.719320  12.976770  77.572700                 0   \n28     12.926450  77.612060  12.858833  77.589127                 0   \n29     12.962980  77.712290  13.199560  77.706880                 0   \n...          ...        ...        ...        ...               ...   \n43401  12.981266  77.637162        NaN        NaN                 0   \n43402  12.945310  77.565530        NaN        NaN                 0   \n43403  12.981266  77.637162        NaN        NaN                 0   \n43404  12.937110  77.601710  13.199560  77.706880                 0   \n43405  12.934634  77.611283        NaN        NaN                 0   \n43406  12.907960  77.624180        NaN        NaN                 1   \n43407  12.900840  77.564830        NaN        NaN                 0   \n43408  12.907960  77.624180        NaN        NaN                 1   \n43409  12.934634  77.611283        NaN        NaN                 0   \n43410  12.934634  77.611283        NaN        NaN                 0   \n43411  12.935240  77.619970        NaN        NaN                 1   \n43412  13.028530  77.546250  12.951850  77.696420                 0   \n43413  13.055755  77.632910  13.199560  77.706880                 0   \n43414  12.902450  77.660810  12.930840  77.618830                 1   \n43415  12.989990  77.553320        NaN        NaN                 0   \n43416  12.920730  77.664820  13.199560  77.706880                 0   \n43417  12.969368  77.641302        NaN        NaN                 0   \n43418  12.968970  77.594560  13.199560  77.706880                 0   \n43419  12.951850  77.696420  13.199560  77.706880                 0   \n43420  12.926450  77.612060        NaN        NaN                 0   \n43421  13.000418  77.674835  12.978960  77.673450                 0   \n43422  13.199560  77.706880  12.974400  77.691830                 1   \n43423  12.976770  77.572700  12.910280  77.645120                 0   \n43424  12.978960  77.673450        NaN        NaN                 0   \n43425  12.976770  77.572700  13.015080  77.677960                 0   \n43426  13.030640  77.649100  12.952780  77.590880                 0   \n43427  13.199560  77.706880  13.017436  77.644580                 0   \n43428  13.075570  77.559040        NaN        NaN                 0   \n43429  12.968970  77.594560  12.938230  77.622890                 0   \n43430  12.976720  77.649270  13.199560  77.706880                 0   \n\n       Cost_of_error  \n0                1.0  \n1                1.0  \n2                1.0  \n3                1.0  \n4                1.0  \n5                1.0  \n6                1.0  \n7                1.0  \n8                1.0  \n9                1.0  \n10               1.0  \n11               1.0  \n12               1.0  \n13               1.0  \n14               1.0  \n15               1.0  \n16               1.0  \n17               1.0  \n18               1.0  \n19               1.0  \n20               1.0  \n21             100.0  \n22               1.0  \n23               1.0  \n24               1.0  \n25               1.0  \n26               1.0  \n27               1.0  \n28               1.0  \n29               1.0  \n...              ...  \n43401            1.0  \n43402            1.0  \n43403            1.0  \n43404            1.0  \n43405            1.0  \n43406          100.0  \n43407            1.0  \n43408          100.0  \n43409            1.0  \n43410            1.0  \n43411          100.0  \n43412            1.0  \n43413            1.0  \n43414          100.0  \n43415            1.0  \n43416            1.0  \n43417            1.0  \n43418            1.0  \n43419            1.0  \n43420            1.0  \n43421            1.0  \n43422          100.0  \n43423            1.0  \n43424            1.0  \n43425            1.0  \n43426            1.0  \n43427            1.0  \n43428            1.0  \n43429            1.0  \n43430            1.0  \n\n[43431 rows x 20 columns]",
      "text/html": "<div>\n<style scoped>\n    .dataframe tbody tr th:only-of-type {\n        vertical-align: middle;\n    }\n\n    .dataframe tbody tr th {\n        vertical-align: top;\n    }\n\n    .dataframe thead th {\n        text-align: right;\n    }\n</style>\n<table border=\"1\" class=\"dataframe\">\n  <thead>\n    <tr style=\"text-align: right;\">\n      <th></th>\n      <th>id</th>\n      <th>user_id</th>\n      <th>vehicle_model_id</th>\n      <th>package_id</th>\n      <th>travel_type_id</th>\n      <th>from_area_id</th>\n      <th>to_area_id</th>\n      <th>from_city_id</th>\n      <th>to_city_id</th>\n      <th>from_date</th>\n      <th>to_date</th>\n      <th>online_booking</th>\n      <th>mobile_site_booking</th>\n      <th>booking_created</th>\n      <th>from_lat</th>\n      <th>from_long</th>\n      <th>to_lat</th>\n      <th>to_long</th>\n      <th>Car_Cancellation</th>\n      <th>Cost_of_error</th>\n    </tr>\n  </thead>\n  <tbody>\n    <tr>\n      <th>0</th>\n      <td>132512</td>\n      <td>22177</td>\n      <td>28</td>\n      <td>NaN</td>\n      <td>2</td>\n      <td>83.0</td>\n      <td>448.0</td>\n      <td>NaN</td>\n      <td>NaN</td>\n      <td>1/1/2013 2:00</td>\n      <td>NaN</td>\n      <td>0</td>\n      <td>0</td>\n      <td>1/1/2013 1:39</td>\n      <td>12.924150</td>\n      <td>77.672290</td>\n      <td>12.927320</td>\n      <td>77.635750</td>\n      <td>0</td>\n      <td>1.0</td>\n    </tr>\n    <tr>\n      <th>1</th>\n      <td>132513</td>\n      <td>21413</td>\n      <td>12</td>\n      <td>NaN</td>\n      <td>2</td>\n      <td>1010.0</td>\n      <td>540.0</td>\n      <td>NaN</td>\n      <td>NaN</td>\n      <td>1/1/2013 9:00</td>\n      <td>NaN</td>\n      <td>0</td>\n      <td>0</td>\n      <td>1/1/2013 2:25</td>\n      <td>12.966910</td>\n      <td>77.749350</td>\n      <td>12.927680</td>\n      <td>77.626640</td>\n      <td>0</td>\n      <td>1.0</td>\n    </tr>\n    <tr>\n      <th>2</th>\n      <td>132514</td>\n      <td>22178</td>\n      <td>12</td>\n      <td>NaN</td>\n      <td>2</td>\n      <td>1301.0</td>\n      <td>1034.0</td>\n      <td>NaN</td>\n      <td>NaN</td>\n      <td>1/1/2013 3:30</td>\n      <td>NaN</td>\n      <td>0</td>\n      <td>0</td>\n      <td>1/1/2013 3:08</td>\n      <td>12.937222</td>\n      <td>77.626915</td>\n      <td>13.047926</td>\n      <td>77.597766</td>\n      <td>0</td>\n      <td>1.0</td>\n    </tr>\n    <tr>\n      <th>3</th>\n      <td>132515</td>\n      <td>13034</td>\n      <td>12</td>\n      <td>NaN</td>\n      <td>2</td>\n      <td>768.0</td>\n      <td>398.0</td>\n      <td>NaN</td>\n      <td>NaN</td>\n      <td>1/1/2013 5:45</td>\n      <td>NaN</td>\n      <td>0</td>\n      <td>0</td>\n      <td>1/1/2013 4:39</td>\n      <td>12.989990</td>\n      <td>77.553320</td>\n      <td>12.971430</td>\n      <td>77.639140</td>\n      <td>0</td>\n      <td>1.0</td>\n    </tr>\n    <tr>\n      <th>4</th>\n      <td>132517</td>\n      <td>22180</td>\n      <td>12</td>\n      <td>NaN</td>\n      <td>2</td>\n      <td>1365.0</td>\n      <td>849.0</td>\n      <td>NaN</td>\n      <td>NaN</td>\n      <td>1/1/2013 9:00</td>\n      <td>NaN</td>\n      <td>0</td>\n      <td>0</td>\n      <td>1/1/2013 7:53</td>\n      <td>12.845653</td>\n      <td>77.677925</td>\n      <td>12.954340</td>\n      <td>77.600720</td>\n      <td>0</td>\n      <td>1.0</td>\n    </tr>\n    <tr>\n      <th>5</th>\n      <td>132518</td>\n      <td>17712</td>\n      <td>12</td>\n      <td>NaN</td>\n      <td>2</td>\n      <td>1021.0</td>\n      <td>1323.0</td>\n      <td>NaN</td>\n      <td>NaN</td>\n      <td>1/1/2013 22:30</td>\n      <td>NaN</td>\n      <td>0</td>\n      <td>0</td>\n      <td>1/1/2013 8:01</td>\n      <td>13.028530</td>\n      <td>77.546250</td>\n      <td>12.869805</td>\n      <td>77.653211</td>\n      <td>0</td>\n      <td>1.0</td>\n    </tr>\n    <tr>\n      <th>6</th>\n      <td>132519</td>\n      <td>22172</td>\n      <td>12</td>\n      <td>NaN</td>\n      <td>1</td>\n      <td>571.0</td>\n      <td>NaN</td>\n      <td>15.0</td>\n      <td>108.0</td>\n      <td>1/1/2013 9:45</td>\n      <td>41275.40625</td>\n      <td>0</td>\n      <td>0</td>\n      <td>1/1/2013 9:21</td>\n      <td>12.951850</td>\n      <td>77.696420</td>\n      <td>NaN</td>\n      <td>NaN</td>\n      <td>0</td>\n      <td>1.0</td>\n    </tr>\n    <tr>\n      <th>7</th>\n      <td>132520</td>\n      <td>22181</td>\n      <td>12</td>\n      <td>NaN</td>\n      <td>2</td>\n      <td>1192.0</td>\n      <td>832.0</td>\n      <td>NaN</td>\n      <td>NaN</td>\n      <td>1/1/2013 11:00</td>\n      <td>NaN</td>\n      <td>0</td>\n      <td>0</td>\n      <td>1/1/2013 9:39</td>\n      <td>12.976770</td>\n      <td>77.572700</td>\n      <td>12.880190</td>\n      <td>77.645580</td>\n      <td>0</td>\n      <td>1.0</td>\n    </tr>\n    <tr>\n      <th>8</th>\n      <td>132521</td>\n      <td>22182</td>\n      <td>65</td>\n      <td>2.0</td>\n      <td>3</td>\n      <td>448.0</td>\n      <td>NaN</td>\n      <td>NaN</td>\n      <td>NaN</td>\n      <td>1/1/2013 16:00</td>\n      <td>NaN</td>\n      <td>0</td>\n      <td>0</td>\n      <td>1/1/2013 9:44</td>\n      <td>12.927320</td>\n      <td>77.635750</td>\n      <td>NaN</td>\n      <td>NaN</td>\n      <td>0</td>\n      <td>1.0</td>\n    </tr>\n    <tr>\n      <th>9</th>\n      <td>132522</td>\n      <td>22184</td>\n      <td>12</td>\n      <td>NaN</td>\n      <td>2</td>\n      <td>516.0</td>\n      <td>376.0</td>\n      <td>NaN</td>\n      <td>NaN</td>\n      <td>1/1/2013 11:00</td>\n      <td>NaN</td>\n      <td>0</td>\n      <td>0</td>\n      <td>1/1/2013 9:49</td>\n      <td>13.005600</td>\n      <td>77.657990</td>\n      <td>12.902450</td>\n      <td>77.660810</td>\n      <td>0</td>\n      <td>1.0</td>\n    </tr>\n    <tr>\n      <th>10</th>\n      <td>132523</td>\n      <td>4941</td>\n      <td>12</td>\n      <td>NaN</td>\n      <td>2</td>\n      <td>150.0</td>\n      <td>776.0</td>\n      <td>NaN</td>\n      <td>NaN</td>\n      <td>1/1/2013 11:00</td>\n      <td>NaN</td>\n      <td>0</td>\n      <td>0</td>\n      <td>1/1/2013 9:55</td>\n      <td>12.897240</td>\n      <td>77.610650</td>\n      <td>13.015080</td>\n      <td>77.677960</td>\n      <td>0</td>\n      <td>1.0</td>\n    </tr>\n    <tr>\n      <th>11</th>\n      <td>132524</td>\n      <td>17037</td>\n      <td>12</td>\n      <td>NaN</td>\n      <td>2</td>\n      <td>455.0</td>\n      <td>1330.0</td>\n      <td>NaN</td>\n      <td>NaN</td>\n      <td>1/1/2013 12:45</td>\n      <td>NaN</td>\n      <td>0</td>\n      <td>0</td>\n      <td>1/1/2013 9:59</td>\n      <td>12.999874</td>\n      <td>77.678120</td>\n      <td>12.953434</td>\n      <td>77.706510</td>\n      <td>0</td>\n      <td>1.0</td>\n    </tr>\n    <tr>\n      <th>12</th>\n      <td>132525</td>\n      <td>22185</td>\n      <td>12</td>\n      <td>NaN</td>\n      <td>2</td>\n      <td>1166.0</td>\n      <td>1328.0</td>\n      <td>NaN</td>\n      <td>NaN</td>\n      <td>1/1/2013 12:30</td>\n      <td>NaN</td>\n      <td>0</td>\n      <td>0</td>\n      <td>1/1/2013 10:18</td>\n      <td>12.997198</td>\n      <td>77.669514</td>\n      <td>12.958808</td>\n      <td>77.649047</td>\n      <td>0</td>\n      <td>1.0</td>\n    </tr>\n    <tr>\n      <th>13</th>\n      <td>132526</td>\n      <td>22186</td>\n      <td>12</td>\n      <td>NaN</td>\n      <td>2</td>\n      <td>793.0</td>\n      <td>590.0</td>\n      <td>NaN</td>\n      <td>NaN</td>\n      <td>1/1/2013 12:45</td>\n      <td>NaN</td>\n      <td>0</td>\n      <td>0</td>\n      <td>1/1/2013 11:17</td>\n      <td>13.022390</td>\n      <td>77.594920</td>\n      <td>13.008260</td>\n      <td>77.564330</td>\n      <td>0</td>\n      <td>1.0</td>\n    </tr>\n    <tr>\n      <th>14</th>\n      <td>132527</td>\n      <td>16</td>\n      <td>28</td>\n      <td>NaN</td>\n      <td>2</td>\n      <td>1063.0</td>\n      <td>58.0</td>\n      <td>NaN</td>\n      <td>NaN</td>\n      <td>1/1/2013 15:00</td>\n      <td>NaN</td>\n      <td>1</td>\n      <td>0</td>\n      <td>1/1/2013 11:48</td>\n      <td>12.934477</td>\n      <td>77.611284</td>\n      <td>12.889630</td>\n      <td>77.601190</td>\n      <td>0</td>\n      <td>1.0</td>\n    </tr>\n    <tr>\n      <th>15</th>\n      <td>132528</td>\n      <td>15097</td>\n      <td>12</td>\n      <td>NaN</td>\n      <td>2</td>\n      <td>1102.0</td>\n      <td>292.0</td>\n      <td>NaN</td>\n      <td>NaN</td>\n      <td>1/2/2013 2:00</td>\n      <td>NaN</td>\n      <td>0</td>\n      <td>0</td>\n      <td>1/1/2013 11:52</td>\n      <td>12.936520</td>\n      <td>77.544810</td>\n      <td>12.939440</td>\n      <td>77.629230</td>\n      <td>0</td>\n      <td>1.0</td>\n    </tr>\n    <tr>\n      <th>16</th>\n      <td>132530</td>\n      <td>761</td>\n      <td>12</td>\n      <td>NaN</td>\n      <td>2</td>\n      <td>814.0</td>\n      <td>393.0</td>\n      <td>NaN</td>\n      <td>NaN</td>\n      <td>1/2/2013 0:30</td>\n      <td>41277.00000</td>\n      <td>1</td>\n      <td>0</td>\n      <td>1/1/2013 12:14</td>\n      <td>12.908993</td>\n      <td>77.688900</td>\n      <td>13.199560</td>\n      <td>77.706880</td>\n      <td>0</td>\n      <td>1.0</td>\n    </tr>\n    <tr>\n      <th>17</th>\n      <td>132531</td>\n      <td>22189</td>\n      <td>24</td>\n      <td>NaN</td>\n      <td>1</td>\n      <td>1383.0</td>\n      <td>NaN</td>\n      <td>NaN</td>\n      <td>32.0</td>\n      <td>1/12/2013 8:00</td>\n      <td>41288.00000</td>\n      <td>1</td>\n      <td>0</td>\n      <td>1/1/2013 12:17</td>\n      <td>12.930451</td>\n      <td>77.685822</td>\n      <td>NaN</td>\n      <td>NaN</td>\n      <td>0</td>\n      <td>1.0</td>\n    </tr>\n    <tr>\n      <th>18</th>\n      <td>132533</td>\n      <td>17226</td>\n      <td>12</td>\n      <td>NaN</td>\n      <td>2</td>\n      <td>1353.0</td>\n      <td>585.0</td>\n      <td>NaN</td>\n      <td>NaN</td>\n      <td>1/1/2013 16:00</td>\n      <td>NaN</td>\n      <td>0</td>\n      <td>0</td>\n      <td>1/1/2013 12:28</td>\n      <td>12.966545</td>\n      <td>77.711639</td>\n      <td>12.976770</td>\n      <td>77.572700</td>\n      <td>0</td>\n      <td>1.0</td>\n    </tr>\n    <tr>\n      <th>19</th>\n      <td>132534</td>\n      <td>868</td>\n      <td>12</td>\n      <td>NaN</td>\n      <td>2</td>\n      <td>297.0</td>\n      <td>212.0</td>\n      <td>NaN</td>\n      <td>NaN</td>\n      <td>1/1/2013 13:15</td>\n      <td>NaN</td>\n      <td>0</td>\n      <td>0</td>\n      <td>1/1/2013 12:42</td>\n      <td>12.997890</td>\n      <td>77.614880</td>\n      <td>12.994740</td>\n      <td>77.607970</td>\n      <td>0</td>\n      <td>1.0</td>\n    </tr>\n    <tr>\n      <th>20</th>\n      <td>132535</td>\n      <td>22190</td>\n      <td>87</td>\n      <td>2.0</td>\n      <td>3</td>\n      <td>471.0</td>\n      <td>NaN</td>\n      <td>NaN</td>\n      <td>NaN</td>\n      <td>1/1/2013 14:30</td>\n      <td>NaN</td>\n      <td>0</td>\n      <td>0</td>\n      <td>1/1/2013 12:52</td>\n      <td>13.018540</td>\n      <td>77.635240</td>\n      <td>NaN</td>\n      <td>NaN</td>\n      <td>0</td>\n      <td>1.0</td>\n    </tr>\n    <tr>\n      <th>21</th>\n      <td>132536</td>\n      <td>16</td>\n      <td>28</td>\n      <td>NaN</td>\n      <td>2</td>\n      <td>58.0</td>\n      <td>1063.0</td>\n      <td>NaN</td>\n      <td>NaN</td>\n      <td>1/1/2013 18:30</td>\n      <td>NaN</td>\n      <td>1</td>\n      <td>0</td>\n      <td>1/1/2013 13:40</td>\n      <td>12.889630</td>\n      <td>77.601190</td>\n      <td>12.934477</td>\n      <td>77.611284</td>\n      <td>1</td>\n      <td>100.0</td>\n    </tr>\n    <tr>\n      <th>22</th>\n      <td>132537</td>\n      <td>21558</td>\n      <td>12</td>\n      <td>NaN</td>\n      <td>2</td>\n      <td>540.0</td>\n      <td>409.0</td>\n      <td>NaN</td>\n      <td>NaN</td>\n      <td>1/1/2013 16:00</td>\n      <td>NaN</td>\n      <td>1</td>\n      <td>0</td>\n      <td>1/1/2013 13:50</td>\n      <td>12.927680</td>\n      <td>77.626640</td>\n      <td>13.077460</td>\n      <td>77.606680</td>\n      <td>0</td>\n      <td>1.0</td>\n    </tr>\n    <tr>\n      <th>23</th>\n      <td>132538</td>\n      <td>21995</td>\n      <td>12</td>\n      <td>1.0</td>\n      <td>3</td>\n      <td>1286.0</td>\n      <td>NaN</td>\n      <td>NaN</td>\n      <td>NaN</td>\n      <td>1/1/2013 16:30</td>\n      <td>NaN</td>\n      <td>0</td>\n      <td>0</td>\n      <td>1/1/2013 14:39</td>\n      <td>12.973448</td>\n      <td>77.620320</td>\n      <td>NaN</td>\n      <td>NaN</td>\n      <td>0</td>\n      <td>1.0</td>\n    </tr>\n    <tr>\n      <th>24</th>\n      <td>132539</td>\n      <td>22192</td>\n      <td>54</td>\n      <td>NaN</td>\n      <td>1</td>\n      <td>515.0</td>\n      <td>NaN</td>\n      <td>15.0</td>\n      <td>32.0</td>\n      <td>1/5/2013 8:30</td>\n      <td>41279.00000</td>\n      <td>0</td>\n      <td>0</td>\n      <td>1/1/2013 14:40</td>\n      <td>12.978960</td>\n      <td>77.673450</td>\n      <td>NaN</td>\n      <td>NaN</td>\n      <td>0</td>\n      <td>1.0</td>\n    </tr>\n    <tr>\n      <th>25</th>\n      <td>132540</td>\n      <td>22193</td>\n      <td>12</td>\n      <td>NaN</td>\n      <td>2</td>\n      <td>142.0</td>\n      <td>393.0</td>\n      <td>NaN</td>\n      <td>NaN</td>\n      <td>1/1/2013 17:00</td>\n      <td>NaN</td>\n      <td>1</td>\n      <td>0</td>\n      <td>1/1/2013 14:56</td>\n      <td>12.912810</td>\n      <td>77.609230</td>\n      <td>13.199560</td>\n      <td>77.706880</td>\n      <td>0</td>\n      <td>1.0</td>\n    </tr>\n    <tr>\n      <th>26</th>\n      <td>132541</td>\n      <td>20430</td>\n      <td>12</td>\n      <td>NaN</td>\n      <td>2</td>\n      <td>393.0</td>\n      <td>61.0</td>\n      <td>NaN</td>\n      <td>NaN</td>\n      <td>1/2/2013 20:00</td>\n      <td>NaN</td>\n      <td>0</td>\n      <td>0</td>\n      <td>1/1/2013 15:02</td>\n      <td>13.199560</td>\n      <td>77.706880</td>\n      <td>12.962980</td>\n      <td>77.712290</td>\n      <td>0</td>\n      <td>1.0</td>\n    </tr>\n    <tr>\n      <th>27</th>\n      <td>132542</td>\n      <td>22194</td>\n      <td>12</td>\n      <td>NaN</td>\n      <td>2</td>\n      <td>89.0</td>\n      <td>585.0</td>\n      <td>NaN</td>\n      <td>NaN</td>\n      <td>1/1/2013 20:30</td>\n      <td>NaN</td>\n      <td>0</td>\n      <td>0</td>\n      <td>1/1/2013 15:07</td>\n      <td>12.965190</td>\n      <td>77.719320</td>\n      <td>12.976770</td>\n      <td>77.572700</td>\n      <td>0</td>\n      <td>1.0</td>\n    </tr>\n    <tr>\n      <th>28</th>\n      <td>132543</td>\n      <td>21716</td>\n      <td>28</td>\n      <td>NaN</td>\n      <td>2</td>\n      <td>1237.0</td>\n      <td>330.0</td>\n      <td>NaN</td>\n      <td>NaN</td>\n      <td>1/1/2013 16:30</td>\n      <td>NaN</td>\n      <td>0</td>\n      <td>0</td>\n      <td>1/1/2013 15:07</td>\n      <td>12.926450</td>\n      <td>77.612060</td>\n      <td>12.858833</td>\n      <td>77.589127</td>\n      <td>0</td>\n      <td>1.0</td>\n    </tr>\n    <tr>\n      <th>29</th>\n      <td>132544</td>\n      <td>38966</td>\n      <td>12</td>\n      <td>NaN</td>\n      <td>2</td>\n      <td>61.0</td>\n      <td>393.0</td>\n      <td>NaN</td>\n      <td>NaN</td>\n      <td>1/1/2013 18:00</td>\n      <td>NaN</td>\n      <td>0</td>\n      <td>0</td>\n      <td>1/1/2013 15:11</td>\n      <td>12.962980</td>\n      <td>77.712290</td>\n      <td>13.199560</td>\n      <td>77.706880</td>\n      <td>0</td>\n      <td>1.0</td>\n    </tr>\n    <tr>\n      <th>...</th>\n      <td>...</td>\n      <td>...</td>\n      <td>...</td>\n      <td>...</td>\n      <td>...</td>\n      <td>...</td>\n      <td>...</td>\n      <td>...</td>\n      <td>...</td>\n      <td>...</td>\n      <td>...</td>\n      <td>...</td>\n      <td>...</td>\n      <td>...</td>\n      <td>...</td>\n      <td>...</td>\n      <td>...</td>\n      <td>...</td>\n      <td>...</td>\n      <td>...</td>\n    </tr>\n    <tr>\n      <th>43401</th>\n      <td>185909</td>\n      <td>27899</td>\n      <td>65</td>\n      <td>7.0</td>\n      <td>3</td>\n      <td>1038.0</td>\n      <td>NaN</td>\n      <td>15.0</td>\n      <td>NaN</td>\n      <td>11/24/2013 12:00</td>\n      <td>41602.91667</td>\n      <td>0</td>\n      <td>0</td>\n      <td>11/24/2013 9:44</td>\n      <td>12.981266</td>\n      <td>77.637162</td>\n      <td>NaN</td>\n      <td>NaN</td>\n      <td>0</td>\n      <td>1.0</td>\n    </tr>\n    <tr>\n      <th>43402</th>\n      <td>185910</td>\n      <td>47996</td>\n      <td>89</td>\n      <td>1.0</td>\n      <td>3</td>\n      <td>328.0</td>\n      <td>NaN</td>\n      <td>15.0</td>\n      <td>NaN</td>\n      <td>11/24/2013 14:30</td>\n      <td>41602.81250</td>\n      <td>0</td>\n      <td>0</td>\n      <td>11/24/2013 9:52</td>\n      <td>12.945310</td>\n      <td>77.565530</td>\n      <td>NaN</td>\n      <td>NaN</td>\n      <td>0</td>\n      <td>1.0</td>\n    </tr>\n    <tr>\n      <th>43403</th>\n      <td>185911</td>\n      <td>41939</td>\n      <td>65</td>\n      <td>7.0</td>\n      <td>3</td>\n      <td>1038.0</td>\n      <td>NaN</td>\n      <td>15.0</td>\n      <td>NaN</td>\n      <td>11/24/2013 12:00</td>\n      <td>41602.91667</td>\n      <td>0</td>\n      <td>0</td>\n      <td>11/24/2013 9:53</td>\n      <td>12.981266</td>\n      <td>77.637162</td>\n      <td>NaN</td>\n      <td>NaN</td>\n      <td>0</td>\n      <td>1.0</td>\n    </tr>\n    <tr>\n      <th>43404</th>\n      <td>185912</td>\n      <td>48711</td>\n      <td>12</td>\n      <td>NaN</td>\n      <td>2</td>\n      <td>238.0</td>\n      <td>393.0</td>\n      <td>15.0</td>\n      <td>NaN</td>\n      <td>11/25/2013 3:15</td>\n      <td>41603.18573</td>\n      <td>1</td>\n      <td>0</td>\n      <td>11/24/2013 10:21</td>\n      <td>12.937110</td>\n      <td>77.601710</td>\n      <td>13.199560</td>\n      <td>77.706880</td>\n      <td>0</td>\n      <td>1.0</td>\n    </tr>\n    <tr>\n      <th>43405</th>\n      <td>185914</td>\n      <td>41939</td>\n      <td>12</td>\n      <td>4.0</td>\n      <td>3</td>\n      <td>1281.0</td>\n      <td>NaN</td>\n      <td>15.0</td>\n      <td>NaN</td>\n      <td>11/24/2013 14:00</td>\n      <td>41603.00000</td>\n      <td>0</td>\n      <td>0</td>\n      <td>11/24/2013 10:56</td>\n      <td>12.934634</td>\n      <td>77.611283</td>\n      <td>NaN</td>\n      <td>NaN</td>\n      <td>0</td>\n      <td>1.0</td>\n    </tr>\n    <tr>\n      <th>43406</th>\n      <td>185915</td>\n      <td>40643</td>\n      <td>12</td>\n      <td>3.0</td>\n      <td>3</td>\n      <td>136.0</td>\n      <td>NaN</td>\n      <td>15.0</td>\n      <td>NaN</td>\n      <td>11/24/2013 15:00</td>\n      <td>41602.91667</td>\n      <td>1</td>\n      <td>0</td>\n      <td>11/24/2013 11:33</td>\n      <td>12.907960</td>\n      <td>77.624180</td>\n      <td>NaN</td>\n      <td>NaN</td>\n      <td>1</td>\n      <td>100.0</td>\n    </tr>\n    <tr>\n      <th>43407</th>\n      <td>185916</td>\n      <td>48714</td>\n      <td>87</td>\n      <td>NaN</td>\n      <td>1</td>\n      <td>1180.0</td>\n      <td>NaN</td>\n      <td>15.0</td>\n      <td>62.0</td>\n      <td>12/24/2013 15:00</td>\n      <td>41634.99931</td>\n      <td>0</td>\n      <td>0</td>\n      <td>11/24/2013 11:34</td>\n      <td>12.900840</td>\n      <td>77.564830</td>\n      <td>NaN</td>\n      <td>NaN</td>\n      <td>0</td>\n      <td>1.0</td>\n    </tr>\n    <tr>\n      <th>43408</th>\n      <td>185917</td>\n      <td>40643</td>\n      <td>12</td>\n      <td>3.0</td>\n      <td>3</td>\n      <td>136.0</td>\n      <td>NaN</td>\n      <td>15.0</td>\n      <td>NaN</td>\n      <td>11/24/2013 15:00</td>\n      <td>41602.91667</td>\n      <td>1</td>\n      <td>0</td>\n      <td>11/24/2013 11:36</td>\n      <td>12.907960</td>\n      <td>77.624180</td>\n      <td>NaN</td>\n      <td>NaN</td>\n      <td>1</td>\n      <td>100.0</td>\n    </tr>\n    <tr>\n      <th>43409</th>\n      <td>185918</td>\n      <td>41939</td>\n      <td>12</td>\n      <td>4.0</td>\n      <td>3</td>\n      <td>1281.0</td>\n      <td>NaN</td>\n      <td>15.0</td>\n      <td>NaN</td>\n      <td>11/24/2013 14:00</td>\n      <td>41603.00000</td>\n      <td>0</td>\n      <td>0</td>\n      <td>11/24/2013 11:44</td>\n      <td>12.934634</td>\n      <td>77.611283</td>\n      <td>NaN</td>\n      <td>NaN</td>\n      <td>0</td>\n      <td>1.0</td>\n    </tr>\n    <tr>\n      <th>43410</th>\n      <td>185919</td>\n      <td>41939</td>\n      <td>12</td>\n      <td>4.0</td>\n      <td>3</td>\n      <td>1281.0</td>\n      <td>NaN</td>\n      <td>15.0</td>\n      <td>NaN</td>\n      <td>11/24/2013 14:00</td>\n      <td>41603.00000</td>\n      <td>0</td>\n      <td>0</td>\n      <td>11/24/2013 11:46</td>\n      <td>12.934634</td>\n      <td>77.611283</td>\n      <td>NaN</td>\n      <td>NaN</td>\n      <td>0</td>\n      <td>1.0</td>\n    </tr>\n    <tr>\n      <th>43411</th>\n      <td>185920</td>\n      <td>31846</td>\n      <td>65</td>\n      <td>4.0</td>\n      <td>3</td>\n      <td>541.0</td>\n      <td>NaN</td>\n      <td>15.0</td>\n      <td>NaN</td>\n      <td>11/24/2013 14:15</td>\n      <td>41603.01042</td>\n      <td>0</td>\n      <td>1</td>\n      <td>11/24/2013 12:09</td>\n      <td>12.935240</td>\n      <td>77.619970</td>\n      <td>NaN</td>\n      <td>NaN</td>\n      <td>1</td>\n      <td>100.0</td>\n    </tr>\n    <tr>\n      <th>43412</th>\n      <td>185921</td>\n      <td>44027</td>\n      <td>12</td>\n      <td>NaN</td>\n      <td>2</td>\n      <td>1384.0</td>\n      <td>571.0</td>\n      <td>15.0</td>\n      <td>NaN</td>\n      <td>11/24/2013 19:30</td>\n      <td>41602.89769</td>\n      <td>0</td>\n      <td>1</td>\n      <td>11/24/2013 12:10</td>\n      <td>13.028530</td>\n      <td>77.546250</td>\n      <td>12.951850</td>\n      <td>77.696420</td>\n      <td>0</td>\n      <td>1.0</td>\n    </tr>\n    <tr>\n      <th>43413</th>\n      <td>185922</td>\n      <td>48718</td>\n      <td>12</td>\n      <td>NaN</td>\n      <td>2</td>\n      <td>1377.0</td>\n      <td>393.0</td>\n      <td>15.0</td>\n      <td>NaN</td>\n      <td>11/25/2013 4:15</td>\n      <td>41603.21192</td>\n      <td>1</td>\n      <td>0</td>\n      <td>11/24/2013 12:10</td>\n      <td>13.055755</td>\n      <td>77.632910</td>\n      <td>13.199560</td>\n      <td>77.706880</td>\n      <td>0</td>\n      <td>1.0</td>\n    </tr>\n    <tr>\n      <th>43414</th>\n      <td>185923</td>\n      <td>34127</td>\n      <td>12</td>\n      <td>NaN</td>\n      <td>2</td>\n      <td>376.0</td>\n      <td>424.0</td>\n      <td>15.0</td>\n      <td>NaN</td>\n      <td>11/24/2013 22:15</td>\n      <td>41602.95931</td>\n      <td>0</td>\n      <td>1</td>\n      <td>11/24/2013 12:25</td>\n      <td>12.902450</td>\n      <td>77.660810</td>\n      <td>12.930840</td>\n      <td>77.618830</td>\n      <td>1</td>\n      <td>100.0</td>\n    </tr>\n    <tr>\n      <th>43415</th>\n      <td>185924</td>\n      <td>48719</td>\n      <td>12</td>\n      <td>1.0</td>\n      <td>3</td>\n      <td>768.0</td>\n      <td>NaN</td>\n      <td>15.0</td>\n      <td>NaN</td>\n      <td>11/24/2013 16:00</td>\n      <td>41602.87500</td>\n      <td>0</td>\n      <td>1</td>\n      <td>11/24/2013 12:32</td>\n      <td>12.989990</td>\n      <td>77.553320</td>\n      <td>NaN</td>\n      <td>NaN</td>\n      <td>0</td>\n      <td>1.0</td>\n    </tr>\n    <tr>\n      <th>43416</th>\n      <td>185926</td>\n      <td>36929</td>\n      <td>12</td>\n      <td>NaN</td>\n      <td>2</td>\n      <td>396.0</td>\n      <td>393.0</td>\n      <td>15.0</td>\n      <td>NaN</td>\n      <td>11/24/2013 16:15</td>\n      <td>41602.75176</td>\n      <td>1</td>\n      <td>0</td>\n      <td>11/24/2013 12:58</td>\n      <td>12.920730</td>\n      <td>77.664820</td>\n      <td>13.199560</td>\n      <td>77.706880</td>\n      <td>0</td>\n      <td>1.0</td>\n    </tr>\n    <tr>\n      <th>43417</th>\n      <td>185927</td>\n      <td>41939</td>\n      <td>12</td>\n      <td>4.0</td>\n      <td>3</td>\n      <td>1390.0</td>\n      <td>NaN</td>\n      <td>15.0</td>\n      <td>NaN</td>\n      <td>11/24/2013 15:00</td>\n      <td>41603.04167</td>\n      <td>0</td>\n      <td>0</td>\n      <td>11/24/2013 13:06</td>\n      <td>12.969368</td>\n      <td>77.641302</td>\n      <td>NaN</td>\n      <td>NaN</td>\n      <td>0</td>\n      <td>1.0</td>\n    </tr>\n    <tr>\n      <th>43418</th>\n      <td>185928</td>\n      <td>48721</td>\n      <td>12</td>\n      <td>NaN</td>\n      <td>2</td>\n      <td>1263.0</td>\n      <td>393.0</td>\n      <td>15.0</td>\n      <td>NaN</td>\n      <td>11/24/2013 18:00</td>\n      <td>41602.86178</td>\n      <td>1</td>\n      <td>0</td>\n      <td>11/24/2013 13:07</td>\n      <td>12.968970</td>\n      <td>77.594560</td>\n      <td>13.199560</td>\n      <td>77.706880</td>\n      <td>0</td>\n      <td>1.0</td>\n    </tr>\n    <tr>\n      <th>43419</th>\n      <td>185929</td>\n      <td>46807</td>\n      <td>12</td>\n      <td>NaN</td>\n      <td>2</td>\n      <td>571.0</td>\n      <td>393.0</td>\n      <td>15.0</td>\n      <td>NaN</td>\n      <td>11/25/2013 4:30</td>\n      <td>41603.23846</td>\n      <td>0</td>\n      <td>0</td>\n      <td>11/24/2013 13:47</td>\n      <td>12.951850</td>\n      <td>77.696420</td>\n      <td>13.199560</td>\n      <td>77.706880</td>\n      <td>0</td>\n      <td>1.0</td>\n    </tr>\n    <tr>\n      <th>43420</th>\n      <td>185930</td>\n      <td>36265</td>\n      <td>65</td>\n      <td>2.0</td>\n      <td>3</td>\n      <td>1237.0</td>\n      <td>NaN</td>\n      <td>15.0</td>\n      <td>NaN</td>\n      <td>11/25/2013 1:00</td>\n      <td>41603.41667</td>\n      <td>1</td>\n      <td>0</td>\n      <td>11/24/2013 13:54</td>\n      <td>12.926450</td>\n      <td>77.612060</td>\n      <td>NaN</td>\n      <td>NaN</td>\n      <td>0</td>\n      <td>1.0</td>\n    </tr>\n    <tr>\n      <th>43421</th>\n      <td>185931</td>\n      <td>48723</td>\n      <td>12</td>\n      <td>NaN</td>\n      <td>2</td>\n      <td>1371.0</td>\n      <td>1181.0</td>\n      <td>15.0</td>\n      <td>NaN</td>\n      <td>11/25/2013 9:45</td>\n      <td>41603.43118</td>\n      <td>0</td>\n      <td>0</td>\n      <td>11/24/2013 14:10</td>\n      <td>13.000418</td>\n      <td>77.674835</td>\n      <td>12.978960</td>\n      <td>77.673450</td>\n      <td>0</td>\n      <td>1.0</td>\n    </tr>\n    <tr>\n      <th>43422</th>\n      <td>185932</td>\n      <td>48724</td>\n      <td>12</td>\n      <td>NaN</td>\n      <td>2</td>\n      <td>393.0</td>\n      <td>269.0</td>\n      <td>15.0</td>\n      <td>NaN</td>\n      <td>11/24/2013 21:15</td>\n      <td>41602.98345</td>\n      <td>0</td>\n      <td>0</td>\n      <td>11/24/2013 14:12</td>\n      <td>13.199560</td>\n      <td>77.706880</td>\n      <td>12.974400</td>\n      <td>77.691830</td>\n      <td>1</td>\n      <td>100.0</td>\n    </tr>\n    <tr>\n      <th>43423</th>\n      <td>185933</td>\n      <td>48725</td>\n      <td>24</td>\n      <td>NaN</td>\n      <td>2</td>\n      <td>585.0</td>\n      <td>339.0</td>\n      <td>15.0</td>\n      <td>NaN</td>\n      <td>11/24/2013 16:00</td>\n      <td>41602.70913</td>\n      <td>0</td>\n      <td>1</td>\n      <td>11/24/2013 14:15</td>\n      <td>12.976770</td>\n      <td>77.572700</td>\n      <td>12.910280</td>\n      <td>77.645120</td>\n      <td>0</td>\n      <td>1.0</td>\n    </tr>\n    <tr>\n      <th>43424</th>\n      <td>185935</td>\n      <td>48726</td>\n      <td>12</td>\n      <td>2.0</td>\n      <td>3</td>\n      <td>515.0</td>\n      <td>NaN</td>\n      <td>15.0</td>\n      <td>NaN</td>\n      <td>11/24/2013 15:15</td>\n      <td>41603.01042</td>\n      <td>0</td>\n      <td>0</td>\n      <td>11/24/2013 14:23</td>\n      <td>12.978960</td>\n      <td>77.673450</td>\n      <td>NaN</td>\n      <td>NaN</td>\n      <td>0</td>\n      <td>1.0</td>\n    </tr>\n    <tr>\n      <th>43425</th>\n      <td>185936</td>\n      <td>30220</td>\n      <td>12</td>\n      <td>NaN</td>\n      <td>2</td>\n      <td>585.0</td>\n      <td>1226.0</td>\n      <td>15.0</td>\n      <td>NaN</td>\n      <td>11/25/2013 0:00</td>\n      <td>41603.03336</td>\n      <td>0</td>\n      <td>1</td>\n      <td>11/24/2013 14:24</td>\n      <td>12.976770</td>\n      <td>77.572700</td>\n      <td>13.015080</td>\n      <td>77.677960</td>\n      <td>0</td>\n      <td>1.0</td>\n    </tr>\n    <tr>\n      <th>43426</th>\n      <td>185937</td>\n      <td>14364</td>\n      <td>12</td>\n      <td>NaN</td>\n      <td>2</td>\n      <td>1147.0</td>\n      <td>452.0</td>\n      <td>15.0</td>\n      <td>NaN</td>\n      <td>11/24/2013 18:00</td>\n      <td>41602.82020</td>\n      <td>1</td>\n      <td>0</td>\n      <td>11/24/2013 14:25</td>\n      <td>13.030640</td>\n      <td>77.649100</td>\n      <td>12.952780</td>\n      <td>77.590880</td>\n      <td>0</td>\n      <td>1.0</td>\n    </tr>\n    <tr>\n      <th>43427</th>\n      <td>185938</td>\n      <td>48727</td>\n      <td>12</td>\n      <td>NaN</td>\n      <td>2</td>\n      <td>393.0</td>\n      <td>466.0</td>\n      <td>15.0</td>\n      <td>NaN</td>\n      <td>11/26/2013 1:00</td>\n      <td>41604.08037</td>\n      <td>1</td>\n      <td>0</td>\n      <td>11/24/2013 14:30</td>\n      <td>13.199560</td>\n      <td>77.706880</td>\n      <td>13.017436</td>\n      <td>77.644580</td>\n      <td>0</td>\n      <td>1.0</td>\n    </tr>\n    <tr>\n      <th>43428</th>\n      <td>185939</td>\n      <td>48729</td>\n      <td>12</td>\n      <td>1.0</td>\n      <td>3</td>\n      <td>974.0</td>\n      <td>NaN</td>\n      <td>15.0</td>\n      <td>NaN</td>\n      <td>11/24/2013 18:30</td>\n      <td>41602.97917</td>\n      <td>0</td>\n      <td>0</td>\n      <td>11/24/2013 14:35</td>\n      <td>13.075570</td>\n      <td>77.559040</td>\n      <td>NaN</td>\n      <td>NaN</td>\n      <td>0</td>\n      <td>1.0</td>\n    </tr>\n    <tr>\n      <th>43429</th>\n      <td>185940</td>\n      <td>30724</td>\n      <td>87</td>\n      <td>NaN</td>\n      <td>2</td>\n      <td>1263.0</td>\n      <td>542.0</td>\n      <td>15.0</td>\n      <td>NaN</td>\n      <td>11/24/2013 16:00</td>\n      <td>41602.69495</td>\n      <td>0</td>\n      <td>0</td>\n      <td>11/24/2013 14:43</td>\n      <td>12.968970</td>\n      <td>77.594560</td>\n      <td>12.938230</td>\n      <td>77.622890</td>\n      <td>0</td>\n      <td>1.0</td>\n    </tr>\n    <tr>\n      <th>43430</th>\n      <td>185941</td>\n      <td>48730</td>\n      <td>12</td>\n      <td>NaN</td>\n      <td>2</td>\n      <td>689.0</td>\n      <td>393.0</td>\n      <td>15.0</td>\n      <td>NaN</td>\n      <td>11/25/2013 5:00</td>\n      <td>41603.25385</td>\n      <td>0</td>\n      <td>1</td>\n      <td>11/24/2013 14:50</td>\n      <td>12.976720</td>\n      <td>77.649270</td>\n      <td>13.199560</td>\n      <td>77.706880</td>\n      <td>0</td>\n      <td>1.0</td>\n    </tr>\n  </tbody>\n</table>\n<p>43431 rows × 20 columns</p>\n</div>"
     },
     "metadata": {},
     "output_type": "execute_result",
     "execution_count": 4
    }
   ],
   "source": [
    "taxiCancellationTraining"
   ]
  },
  {
   "cell_type": "markdown",
   "metadata": {},
   "source": [
    "### Drop 9138 rows, Drop from_city_id, Drop row from_lat"
   ]
  },
  {
   "cell_type": "code",
   "execution_count": 5,
   "metadata": {
    "pycharm": {
     "is_executing": false
    }
   },
   "outputs": [
    {
     "data": {
      "text/plain": "id                         0\nuser_id                    0\nvehicle_model_id           0\npackage_id             35881\ntravel_type_id             0\nfrom_area_id              88\nto_area_id              9138\nfrom_city_id           27086\nto_city_id             41843\nfrom_date                  0\nto_date                17890\nonline_booking             0\nmobile_site_booking        0\nbooking_created            0\nfrom_lat                  93\nfrom_long                 93\nto_lat                  9138\nto_long                 9138\nCar_Cancellation           0\nCost_of_error              0\ndtype: int64"
     },
     "metadata": {},
     "output_type": "execute_result",
     "execution_count": 5
    }
   ],
   "source": [
    "taxiCancellationTraining.isnull().sum()"
   ]
  },
  {
   "cell_type": "code",
   "metadata": {
    "pycharm": {
     "name": "#%% \n",
     "is_executing": false
    }
   },
   "source": [
    "check = 0\n",
    "for x in taxiCancellationTraining.itertuples():\n",
    "    if np.isnan(x.to_lat) and x.Car_Cancellation is 0:\n",
    "        check +=1\n",
    "        \n",
    "print(check)"
   ],
   "execution_count": 42,
   "outputs": [
    {
     "name": "stdout",
     "text": [
      "8781\n"
     ],
     "output_type": "stream"
    }
   ]
  },
  {
   "cell_type": "markdown",
   "metadata": {},
   "source": [
    "## Addressing Time"
   ]
  },
  {
   "cell_type": "code",
   "execution_count": 6,
   "metadata": {
    "pycharm": {
     "is_executing": false
    }
   },
   "outputs": [],
   "source": [
    "#convert try 2\n",
    "from_weekdate_test = [] #days of week\n",
    "from_time_test = []\n",
    "for x in taxiCancellationScore['from_date']:\n",
    "    if type(x) is str:\n",
    "        ziz = x.split(' ')\n",
    "        day = ziz[0].split('/')\n",
    "        for z in range(len(day)):\n",
    "            day[z] = int(day[z])\n",
    "        from_weekdate_test.append(datetime.date(day[2], day[0], day[1]).weekday())\n",
    "        #from_weekdate is now ints as day of week, 0=sunday etc\n",
    "\n",
    "        time = ziz[1].split(':')\n",
    "        from_time_test.append(int(time[0])*60 + int(time[1]))\n",
    "        #from_time is now ints as minute of day\n",
    "        \n",
    "        \n",
    "booking_weekdate_test = [] #days of week\n",
    "booking_time_test = []\n",
    "for x in taxiCancellationScore['booking_created']:\n",
    "    if type(x) is str:\n",
    "        ziz = x.split(' ')\n",
    "        day = ziz[0].split('/')\n",
    "        for z in range(len(day)):\n",
    "            day[z] = int(day[z])\n",
    "        booking_weekdate_test.append(datetime.date(day[2], day[0], day[1]).weekday())\n",
    "        #booking_weekdate is now ints as day of week, 0=sunday etc\n",
    "\n",
    "        time = ziz[1].split(':')\n",
    "        booking_time_test.append(int(time[0])*60 + int(time[1]))\n",
    "        #booking_time is now ints as minute of day\n",
    "        \n",
    "#to be appended: from_weekdate, from_time, booking_weekdate, booking_time"
   ]
  },
  {
   "cell_type": "code",
   "execution_count": 7,
   "metadata": {
    "pycharm": {
     "is_executing": false
    }
   },
   "outputs": [],
   "source": [
    "#convert try 2\n",
    "from_weekdate = [] #days of week\n",
    "from_time = []\n",
    "for x in taxiCancellationTraining['from_date']:\n",
    "    if type(x) is str:\n",
    "        ziz = x.split(' ')\n",
    "        day = ziz[0].split('/')\n",
    "        for z in range(len(day)):\n",
    "            day[z] = int(day[z])\n",
    "        from_weekdate.append(datetime.date(day[2], day[0], day[1]).weekday())\n",
    "        #from_weekdate is now ints as day of week, 0=sunday etc\n",
    "\n",
    "        time = ziz[1].split(':')\n",
    "        from_time.append(int(time[0])*60 + int(time[1]))\n",
    "        #from_time is now ints as minute of day\n",
    "        \n",
    "        \n",
    "booking_weekdate = [] #days of week\n",
    "booking_time = []\n",
    "for x in taxiCancellationTraining['booking_created']:\n",
    "    if type(x) is str:\n",
    "        ziz = x.split(' ')\n",
    "        day = ziz[0].split('/')\n",
    "        for z in range(len(day)):\n",
    "            day[z] = int(day[z])\n",
    "        booking_weekdate.append(datetime.date(day[2], day[0], day[1]).weekday())\n",
    "        #booking_weekdate is now ints as day of week, 0=sunday etc\n",
    "\n",
    "        time = ziz[1].split(':')\n",
    "        booking_time.append(int(time[0])*60 + int(time[1]))\n",
    "        #booking_time is now ints as minute of day\n",
    "        \n",
    "#to be appended: from_weekdate, from_time, booking_weekdate, booking_time"
   ]
  },
  {
   "cell_type": "code",
   "execution_count": 8,
   "metadata": {
    "pycharm": {
     "is_executing": false
    }
   },
   "outputs": [],
   "source": [
    "date_df = pd.DataFrame({'from_weekdate':from_weekdate,'from_time':from_time,'booking_weekdate':booking_weekdate,'booking_time':booking_time})\n",
    "new_taxiCancellationTraining = taxiCancellationTraining.join(date_df)"
   ]
  },
  {
   "cell_type": "code",
   "metadata": {
    "pycharm": {
     "name": "#%% \n",
     "is_executing": false
    }
   },
   "source": [],
   "execution_count": 8,
   "outputs": []
  },
  {
   "cell_type": "markdown",
   "metadata": {},
   "source": [
    "## Addressing Null values"
   ]
  },
  {
   "cell_type": "code",
   "execution_count": 9,
   "metadata": {
    "pycharm": {
     "is_executing": false
    }
   },
   "outputs": [],
   "source": [
    "new_taxiCancellationTraining.dropna(subset=['to_area_id', 'to_lat', 'to_long', ], inplace = True)"
   ]
  },
  {
   "cell_type": "code",
   "execution_count": 10,
   "metadata": {
    "pycharm": {
     "is_executing": false
    }
   },
   "outputs": [
    {
     "data": {
      "text/plain": "id                         0\nuser_id                    0\nvehicle_model_id           0\npackage_id             34293\ntravel_type_id             0\nfrom_area_id               0\nto_area_id                 0\nfrom_city_id           19788\nto_city_id             34293\nfrom_date                  0\nto_date                15186\nonline_booking             0\nmobile_site_booking        0\nbooking_created            0\nfrom_lat                   0\nfrom_long                  0\nto_lat                     0\nto_long                    0\nCar_Cancellation           0\nCost_of_error              0\nfrom_weekdate              0\nfrom_time                  0\nbooking_weekdate           0\nbooking_time               0\ndtype: int64"
     },
     "metadata": {},
     "output_type": "execute_result",
     "execution_count": 10
    }
   ],
   "source": [
    "new_taxiCancellationTraining.isnull().sum()"
   ]
  },
  {
   "cell_type": "code",
   "execution_count": 11,
   "metadata": {
    "pycharm": {
     "is_executing": false
    }
   },
   "outputs": [
    {
     "data": {
      "text/plain": "           id  user_id  vehicle_model_id  package_id  travel_type_id  \\\n0      132512    22177                28         NaN               2   \n1      132513    21413                12         NaN               2   \n2      132514    22178                12         NaN               2   \n3      132515    13034                12         NaN               2   \n4      132517    22180                12         NaN               2   \n5      132518    17712                12         NaN               2   \n7      132520    22181                12         NaN               2   \n9      132522    22184                12         NaN               2   \n10     132523     4941                12         NaN               2   \n11     132524    17037                12         NaN               2   \n12     132525    22185                12         NaN               2   \n13     132526    22186                12         NaN               2   \n14     132527       16                28         NaN               2   \n15     132528    15097                12         NaN               2   \n16     132530      761                12         NaN               2   \n18     132533    17226                12         NaN               2   \n19     132534      868                12         NaN               2   \n21     132536       16                28         NaN               2   \n22     132537    21558                12         NaN               2   \n25     132540    22193                12         NaN               2   \n26     132541    20430                12         NaN               2   \n27     132542    22194                12         NaN               2   \n28     132543    21716                28         NaN               2   \n29     132544    38966                12         NaN               2   \n30     132545    12973                12         NaN               2   \n31     132546    22196                12         NaN               2   \n32     132550     8327                12         NaN               2   \n33     132551    22200                12         NaN               2   \n35     132553    22202                12         NaN               2   \n36     132555    20340                12         NaN               2   \n...       ...      ...               ...         ...             ...   \n43378  185881    48690                12         NaN               2   \n43380  185884    48692                12         NaN               2   \n43381  185885    48693                12         NaN               2   \n43382  185886    48694                12         NaN               2   \n43383  185887    48696                12         NaN               2   \n43384  185888     4367                12         NaN               2   \n43388  185893    15932                12         NaN               2   \n43389  185895    48701                87         NaN               2   \n43391  185897    48703                12         NaN               2   \n43392  185898    39618                12         NaN               2   \n43394  185900    48705                12         NaN               2   \n43395  185901    48539                89         NaN               2   \n43396  185902    48706                12         NaN               2   \n43397  185903    48707                12         NaN               2   \n43399  185907    48709                12         NaN               2   \n43404  185912    48711                12         NaN               2   \n43412  185921    44027                12         NaN               2   \n43413  185922    48718                12         NaN               2   \n43414  185923    34127                12         NaN               2   \n43416  185926    36929                12         NaN               2   \n43418  185928    48721                12         NaN               2   \n43419  185929    46807                12         NaN               2   \n43421  185931    48723                12         NaN               2   \n43422  185932    48724                12         NaN               2   \n43423  185933    48725                24         NaN               2   \n43425  185936    30220                12         NaN               2   \n43426  185937    14364                12         NaN               2   \n43427  185938    48727                12         NaN               2   \n43429  185940    30724                87         NaN               2   \n43430  185941    48730                12         NaN               2   \n\n       from_area_id  to_area_id  from_city_id  to_city_id         from_date  \\\n0              83.0       448.0           NaN         NaN     1/1/2013 2:00   \n1            1010.0       540.0           NaN         NaN     1/1/2013 9:00   \n2            1301.0      1034.0           NaN         NaN     1/1/2013 3:30   \n3             768.0       398.0           NaN         NaN     1/1/2013 5:45   \n4            1365.0       849.0           NaN         NaN     1/1/2013 9:00   \n5            1021.0      1323.0           NaN         NaN    1/1/2013 22:30   \n7            1192.0       832.0           NaN         NaN    1/1/2013 11:00   \n9             516.0       376.0           NaN         NaN    1/1/2013 11:00   \n10            150.0       776.0           NaN         NaN    1/1/2013 11:00   \n11            455.0      1330.0           NaN         NaN    1/1/2013 12:45   \n12           1166.0      1328.0           NaN         NaN    1/1/2013 12:30   \n13            793.0       590.0           NaN         NaN    1/1/2013 12:45   \n14           1063.0        58.0           NaN         NaN    1/1/2013 15:00   \n15           1102.0       292.0           NaN         NaN     1/2/2013 2:00   \n16            814.0       393.0           NaN         NaN     1/2/2013 0:30   \n18           1353.0       585.0           NaN         NaN    1/1/2013 16:00   \n19            297.0       212.0           NaN         NaN    1/1/2013 13:15   \n21             58.0      1063.0           NaN         NaN    1/1/2013 18:30   \n22            540.0       409.0           NaN         NaN    1/1/2013 16:00   \n25            142.0       393.0           NaN         NaN    1/1/2013 17:00   \n26            393.0        61.0           NaN         NaN    1/2/2013 20:00   \n27             89.0       585.0           NaN         NaN    1/1/2013 20:30   \n28           1237.0       330.0           NaN         NaN    1/1/2013 16:30   \n29             61.0       393.0           NaN         NaN    1/1/2013 18:00   \n30            137.0      1068.0           NaN         NaN     1/2/2013 7:00   \n31            409.0      1194.0           NaN         NaN    1/1/2013 16:15   \n32           1062.0      1010.0           NaN         NaN     1/2/2013 8:00   \n33           1371.0       839.0           NaN         NaN    1/2/2013 10:30   \n35           1017.0       496.0           NaN         NaN     1/2/2013 5:00   \n36            793.0       393.0           NaN         NaN     1/2/2013 8:00   \n...             ...         ...           ...         ...               ...   \n43378        1087.0       393.0          15.0         NaN   11/24/2013 0:00   \n43380        1036.0       393.0          15.0         NaN   11/24/2013 5:00   \n43381         218.0       352.0          15.0         NaN  11/24/2013 18:45   \n43382         142.0       393.0          15.0         NaN   11/24/2013 1:00   \n43383         218.0       466.0          15.0         NaN   11/24/2013 6:30   \n43384         458.0       393.0          15.0         NaN   11/24/2013 5:30   \n43388        1191.0      1038.0          15.0         NaN   11/24/2013 8:15   \n43389         515.0       393.0          15.0         NaN   11/25/2013 3:30   \n43391         448.0       393.0          15.0         NaN   11/24/2013 8:30   \n43392         393.0      1147.0          15.0         NaN  11/24/2013 11:30   \n43394        1226.0      1371.0          15.0         NaN   11/25/2013 2:30   \n43395         540.0       585.0          15.0         NaN  11/24/2013 13:30   \n43396         136.0      1142.0          15.0         NaN  11/24/2013 17:15   \n43397         515.0      1371.0          15.0         NaN  11/24/2013 13:00   \n43399         393.0      1082.0          15.0         NaN  11/25/2013 13:15   \n43404         238.0       393.0          15.0         NaN   11/25/2013 3:15   \n43412        1384.0       571.0          15.0         NaN  11/24/2013 19:30   \n43413        1377.0       393.0          15.0         NaN   11/25/2013 4:15   \n43414         376.0       424.0          15.0         NaN  11/24/2013 22:15   \n43416         396.0       393.0          15.0         NaN  11/24/2013 16:15   \n43418        1263.0       393.0          15.0         NaN  11/24/2013 18:00   \n43419         571.0       393.0          15.0         NaN   11/25/2013 4:30   \n43421        1371.0      1181.0          15.0         NaN   11/25/2013 9:45   \n43422         393.0       269.0          15.0         NaN  11/24/2013 21:15   \n43423         585.0       339.0          15.0         NaN  11/24/2013 16:00   \n43425         585.0      1226.0          15.0         NaN   11/25/2013 0:00   \n43426        1147.0       452.0          15.0         NaN  11/24/2013 18:00   \n43427         393.0       466.0          15.0         NaN   11/26/2013 1:00   \n43429        1263.0       542.0          15.0         NaN  11/24/2013 16:00   \n43430         689.0       393.0          15.0         NaN   11/25/2013 5:00   \n\n       ...   from_lat  from_long     to_lat    to_long  Car_Cancellation  \\\n0      ...  12.924150  77.672290  12.927320  77.635750                 0   \n1      ...  12.966910  77.749350  12.927680  77.626640                 0   \n2      ...  12.937222  77.626915  13.047926  77.597766                 0   \n3      ...  12.989990  77.553320  12.971430  77.639140                 0   \n4      ...  12.845653  77.677925  12.954340  77.600720                 0   \n5      ...  13.028530  77.546250  12.869805  77.653211                 0   \n7      ...  12.976770  77.572700  12.880190  77.645580                 0   \n9      ...  13.005600  77.657990  12.902450  77.660810                 0   \n10     ...  12.897240  77.610650  13.015080  77.677960                 0   \n11     ...  12.999874  77.678120  12.953434  77.706510                 0   \n12     ...  12.997198  77.669514  12.958808  77.649047                 0   \n13     ...  13.022390  77.594920  13.008260  77.564330                 0   \n14     ...  12.934477  77.611284  12.889630  77.601190                 0   \n15     ...  12.936520  77.544810  12.939440  77.629230                 0   \n16     ...  12.908993  77.688900  13.199560  77.706880                 0   \n18     ...  12.966545  77.711639  12.976770  77.572700                 0   \n19     ...  12.997890  77.614880  12.994740  77.607970                 0   \n21     ...  12.889630  77.601190  12.934477  77.611284                 1   \n22     ...  12.927680  77.626640  13.077460  77.606680                 0   \n25     ...  12.912810  77.609230  13.199560  77.706880                 0   \n26     ...  13.199560  77.706880  12.962980  77.712290                 0   \n27     ...  12.965190  77.719320  12.976770  77.572700                 0   \n28     ...  12.926450  77.612060  12.858833  77.589127                 0   \n29     ...  12.962980  77.712290  13.199560  77.706880                 0   \n30     ...  12.815750  77.684650  13.044009  77.606805                 0   \n31     ...  13.077460  77.606680  13.004460  77.569230                 0   \n32     ...  13.059784  77.609219  12.966910  77.749350                 0   \n33     ...  13.000418  77.674835  12.857730  77.786420                 0   \n35     ...  13.110840  77.600740  13.058450  77.640750                 0   \n36     ...  13.022390  77.594920  13.199560  77.706880                 0   \n...    ...        ...        ...        ...        ...               ...   \n43378  ...  12.909579  77.638063  13.199560  77.706880                 0   \n43380  ...  12.925568  77.580568  13.199560  77.706880                 0   \n43381  ...  12.967990  77.588820  13.033690  77.628210                 1   \n43382  ...  12.912810  77.609230  13.199560  77.706880                 0   \n43383  ...  12.967990  77.588820  13.017436  77.644580                 1   \n43384  ...  13.000370  77.727460  13.199560  77.706880                 0   \n43388  ...  13.030170  77.566840  12.981266  77.637162                 0   \n43389  ...  12.978960  77.673450  13.199560  77.706880                 0   \n43391  ...  12.927320  77.635750  13.199560  77.706880                 0   \n43392  ...  13.199560  77.706880  13.030640  77.649100                 0   \n43394  ...  13.015080  77.677960  13.000418  77.674835                 0   \n43395  ...  12.927680  77.626640  12.976770  77.572700                 1   \n43396  ...  12.907960  77.624180  13.033690  77.628210                 0   \n43397  ...  12.978960  77.673450  13.000418  77.674835                 1   \n43399  ...  13.199560  77.706880  12.870924  77.575879                 0   \n43404  ...  12.937110  77.601710  13.199560  77.706880                 0   \n43412  ...  13.028530  77.546250  12.951850  77.696420                 0   \n43413  ...  13.055755  77.632910  13.199560  77.706880                 0   \n43414  ...  12.902450  77.660810  12.930840  77.618830                 1   \n43416  ...  12.920730  77.664820  13.199560  77.706880                 0   \n43418  ...  12.968970  77.594560  13.199560  77.706880                 0   \n43419  ...  12.951850  77.696420  13.199560  77.706880                 0   \n43421  ...  13.000418  77.674835  12.978960  77.673450                 0   \n43422  ...  13.199560  77.706880  12.974400  77.691830                 1   \n43423  ...  12.976770  77.572700  12.910280  77.645120                 0   \n43425  ...  12.976770  77.572700  13.015080  77.677960                 0   \n43426  ...  13.030640  77.649100  12.952780  77.590880                 0   \n43427  ...  13.199560  77.706880  13.017436  77.644580                 0   \n43429  ...  12.968970  77.594560  12.938230  77.622890                 0   \n43430  ...  12.976720  77.649270  13.199560  77.706880                 0   \n\n       Cost_of_error  from_weekdate  from_time  booking_weekdate  booking_time  \n0                1.0              1        120                 1            99  \n1                1.0              1        540                 1           145  \n2                1.0              1        210                 1           188  \n3                1.0              1        345                 1           279  \n4                1.0              1        540                 1           473  \n5                1.0              1       1350                 1           481  \n7                1.0              1        660                 1           579  \n9                1.0              1        660                 1           589  \n10               1.0              1        660                 1           595  \n11               1.0              1        765                 1           599  \n12               1.0              1        750                 1           618  \n13               1.0              1        765                 1           677  \n14               1.0              1        900                 1           708  \n15               1.0              2        120                 1           712  \n16               1.0              2         30                 1           734  \n18               1.0              1        960                 1           748  \n19               1.0              1        795                 1           762  \n21             100.0              1       1110                 1           820  \n22               1.0              1        960                 1           830  \n25               1.0              1       1020                 1           896  \n26               1.0              2       1200                 1           902  \n27               1.0              1       1230                 1           907  \n28               1.0              1        990                 1           907  \n29               1.0              1       1080                 1           911  \n30               1.0              2        420                 1           939  \n31               1.0              1        975                 1           940  \n32               1.0              2        480                 1          1036  \n33               1.0              2        630                 1          1041  \n35               1.0              2        300                 1          1050  \n36               1.0              2        480                 1          1061  \n...              ...            ...        ...               ...           ...  \n43378            1.0              6          0                 5          1365  \n43380            1.0              6        300                 5          1388  \n43381          100.0              6       1125                 5          1389  \n43382            1.0              6         60                 5          1389  \n43383          100.0              6        390                 5          1394  \n43384            1.0              6        330                 5          1395  \n43388            1.0              6        495                 6            11  \n43389            1.0              0        210                 6           105  \n43391            1.0              6        510                 6           319  \n43392            1.0              6        690                 6           423  \n43394            1.0              0        150                 6           453  \n43395          100.0              6        810                 6           483  \n43396            1.0              6       1035                 6           526  \n43397          100.0              6        780                 6           539  \n43399            1.0              0        795                 6           571  \n43404            1.0              0        195                 6           621  \n43412            1.0              6       1170                 6           730  \n43413            1.0              0        255                 6           730  \n43414          100.0              6       1335                 6           745  \n43416            1.0              6        975                 6           778  \n43418            1.0              6       1080                 6           787  \n43419            1.0              0        270                 6           827  \n43421            1.0              0        585                 6           850  \n43422          100.0              6       1275                 6           852  \n43423            1.0              6        960                 6           855  \n43425            1.0              0          0                 6           864  \n43426            1.0              6       1080                 6           865  \n43427            1.0              1         60                 6           870  \n43429            1.0              6        960                 6           883  \n43430            1.0              0        300                 6           890  \n\n[34293 rows x 24 columns]",
      "text/html": "<div>\n<style scoped>\n    .dataframe tbody tr th:only-of-type {\n        vertical-align: middle;\n    }\n\n    .dataframe tbody tr th {\n        vertical-align: top;\n    }\n\n    .dataframe thead th {\n        text-align: right;\n    }\n</style>\n<table border=\"1\" class=\"dataframe\">\n  <thead>\n    <tr style=\"text-align: right;\">\n      <th></th>\n      <th>id</th>\n      <th>user_id</th>\n      <th>vehicle_model_id</th>\n      <th>package_id</th>\n      <th>travel_type_id</th>\n      <th>from_area_id</th>\n      <th>to_area_id</th>\n      <th>from_city_id</th>\n      <th>to_city_id</th>\n      <th>from_date</th>\n      <th>...</th>\n      <th>from_lat</th>\n      <th>from_long</th>\n      <th>to_lat</th>\n      <th>to_long</th>\n      <th>Car_Cancellation</th>\n      <th>Cost_of_error</th>\n      <th>from_weekdate</th>\n      <th>from_time</th>\n      <th>booking_weekdate</th>\n      <th>booking_time</th>\n    </tr>\n  </thead>\n  <tbody>\n    <tr>\n      <th>0</th>\n      <td>132512</td>\n      <td>22177</td>\n      <td>28</td>\n      <td>NaN</td>\n      <td>2</td>\n      <td>83.0</td>\n      <td>448.0</td>\n      <td>NaN</td>\n      <td>NaN</td>\n      <td>1/1/2013 2:00</td>\n      <td>...</td>\n      <td>12.924150</td>\n      <td>77.672290</td>\n      <td>12.927320</td>\n      <td>77.635750</td>\n      <td>0</td>\n      <td>1.0</td>\n      <td>1</td>\n      <td>120</td>\n      <td>1</td>\n      <td>99</td>\n    </tr>\n    <tr>\n      <th>1</th>\n      <td>132513</td>\n      <td>21413</td>\n      <td>12</td>\n      <td>NaN</td>\n      <td>2</td>\n      <td>1010.0</td>\n      <td>540.0</td>\n      <td>NaN</td>\n      <td>NaN</td>\n      <td>1/1/2013 9:00</td>\n      <td>...</td>\n      <td>12.966910</td>\n      <td>77.749350</td>\n      <td>12.927680</td>\n      <td>77.626640</td>\n      <td>0</td>\n      <td>1.0</td>\n      <td>1</td>\n      <td>540</td>\n      <td>1</td>\n      <td>145</td>\n    </tr>\n    <tr>\n      <th>2</th>\n      <td>132514</td>\n      <td>22178</td>\n      <td>12</td>\n      <td>NaN</td>\n      <td>2</td>\n      <td>1301.0</td>\n      <td>1034.0</td>\n      <td>NaN</td>\n      <td>NaN</td>\n      <td>1/1/2013 3:30</td>\n      <td>...</td>\n      <td>12.937222</td>\n      <td>77.626915</td>\n      <td>13.047926</td>\n      <td>77.597766</td>\n      <td>0</td>\n      <td>1.0</td>\n      <td>1</td>\n      <td>210</td>\n      <td>1</td>\n      <td>188</td>\n    </tr>\n    <tr>\n      <th>3</th>\n      <td>132515</td>\n      <td>13034</td>\n      <td>12</td>\n      <td>NaN</td>\n      <td>2</td>\n      <td>768.0</td>\n      <td>398.0</td>\n      <td>NaN</td>\n      <td>NaN</td>\n      <td>1/1/2013 5:45</td>\n      <td>...</td>\n      <td>12.989990</td>\n      <td>77.553320</td>\n      <td>12.971430</td>\n      <td>77.639140</td>\n      <td>0</td>\n      <td>1.0</td>\n      <td>1</td>\n      <td>345</td>\n      <td>1</td>\n      <td>279</td>\n    </tr>\n    <tr>\n      <th>4</th>\n      <td>132517</td>\n      <td>22180</td>\n      <td>12</td>\n      <td>NaN</td>\n      <td>2</td>\n      <td>1365.0</td>\n      <td>849.0</td>\n      <td>NaN</td>\n      <td>NaN</td>\n      <td>1/1/2013 9:00</td>\n      <td>...</td>\n      <td>12.845653</td>\n      <td>77.677925</td>\n      <td>12.954340</td>\n      <td>77.600720</td>\n      <td>0</td>\n      <td>1.0</td>\n      <td>1</td>\n      <td>540</td>\n      <td>1</td>\n      <td>473</td>\n    </tr>\n    <tr>\n      <th>5</th>\n      <td>132518</td>\n      <td>17712</td>\n      <td>12</td>\n      <td>NaN</td>\n      <td>2</td>\n      <td>1021.0</td>\n      <td>1323.0</td>\n      <td>NaN</td>\n      <td>NaN</td>\n      <td>1/1/2013 22:30</td>\n      <td>...</td>\n      <td>13.028530</td>\n      <td>77.546250</td>\n      <td>12.869805</td>\n      <td>77.653211</td>\n      <td>0</td>\n      <td>1.0</td>\n      <td>1</td>\n      <td>1350</td>\n      <td>1</td>\n      <td>481</td>\n    </tr>\n    <tr>\n      <th>7</th>\n      <td>132520</td>\n      <td>22181</td>\n      <td>12</td>\n      <td>NaN</td>\n      <td>2</td>\n      <td>1192.0</td>\n      <td>832.0</td>\n      <td>NaN</td>\n      <td>NaN</td>\n      <td>1/1/2013 11:00</td>\n      <td>...</td>\n      <td>12.976770</td>\n      <td>77.572700</td>\n      <td>12.880190</td>\n      <td>77.645580</td>\n      <td>0</td>\n      <td>1.0</td>\n      <td>1</td>\n      <td>660</td>\n      <td>1</td>\n      <td>579</td>\n    </tr>\n    <tr>\n      <th>9</th>\n      <td>132522</td>\n      <td>22184</td>\n      <td>12</td>\n      <td>NaN</td>\n      <td>2</td>\n      <td>516.0</td>\n      <td>376.0</td>\n      <td>NaN</td>\n      <td>NaN</td>\n      <td>1/1/2013 11:00</td>\n      <td>...</td>\n      <td>13.005600</td>\n      <td>77.657990</td>\n      <td>12.902450</td>\n      <td>77.660810</td>\n      <td>0</td>\n      <td>1.0</td>\n      <td>1</td>\n      <td>660</td>\n      <td>1</td>\n      <td>589</td>\n    </tr>\n    <tr>\n      <th>10</th>\n      <td>132523</td>\n      <td>4941</td>\n      <td>12</td>\n      <td>NaN</td>\n      <td>2</td>\n      <td>150.0</td>\n      <td>776.0</td>\n      <td>NaN</td>\n      <td>NaN</td>\n      <td>1/1/2013 11:00</td>\n      <td>...</td>\n      <td>12.897240</td>\n      <td>77.610650</td>\n      <td>13.015080</td>\n      <td>77.677960</td>\n      <td>0</td>\n      <td>1.0</td>\n      <td>1</td>\n      <td>660</td>\n      <td>1</td>\n      <td>595</td>\n    </tr>\n    <tr>\n      <th>11</th>\n      <td>132524</td>\n      <td>17037</td>\n      <td>12</td>\n      <td>NaN</td>\n      <td>2</td>\n      <td>455.0</td>\n      <td>1330.0</td>\n      <td>NaN</td>\n      <td>NaN</td>\n      <td>1/1/2013 12:45</td>\n      <td>...</td>\n      <td>12.999874</td>\n      <td>77.678120</td>\n      <td>12.953434</td>\n      <td>77.706510</td>\n      <td>0</td>\n      <td>1.0</td>\n      <td>1</td>\n      <td>765</td>\n      <td>1</td>\n      <td>599</td>\n    </tr>\n    <tr>\n      <th>12</th>\n      <td>132525</td>\n      <td>22185</td>\n      <td>12</td>\n      <td>NaN</td>\n      <td>2</td>\n      <td>1166.0</td>\n      <td>1328.0</td>\n      <td>NaN</td>\n      <td>NaN</td>\n      <td>1/1/2013 12:30</td>\n      <td>...</td>\n      <td>12.997198</td>\n      <td>77.669514</td>\n      <td>12.958808</td>\n      <td>77.649047</td>\n      <td>0</td>\n      <td>1.0</td>\n      <td>1</td>\n      <td>750</td>\n      <td>1</td>\n      <td>618</td>\n    </tr>\n    <tr>\n      <th>13</th>\n      <td>132526</td>\n      <td>22186</td>\n      <td>12</td>\n      <td>NaN</td>\n      <td>2</td>\n      <td>793.0</td>\n      <td>590.0</td>\n      <td>NaN</td>\n      <td>NaN</td>\n      <td>1/1/2013 12:45</td>\n      <td>...</td>\n      <td>13.022390</td>\n      <td>77.594920</td>\n      <td>13.008260</td>\n      <td>77.564330</td>\n      <td>0</td>\n      <td>1.0</td>\n      <td>1</td>\n      <td>765</td>\n      <td>1</td>\n      <td>677</td>\n    </tr>\n    <tr>\n      <th>14</th>\n      <td>132527</td>\n      <td>16</td>\n      <td>28</td>\n      <td>NaN</td>\n      <td>2</td>\n      <td>1063.0</td>\n      <td>58.0</td>\n      <td>NaN</td>\n      <td>NaN</td>\n      <td>1/1/2013 15:00</td>\n      <td>...</td>\n      <td>12.934477</td>\n      <td>77.611284</td>\n      <td>12.889630</td>\n      <td>77.601190</td>\n      <td>0</td>\n      <td>1.0</td>\n      <td>1</td>\n      <td>900</td>\n      <td>1</td>\n      <td>708</td>\n    </tr>\n    <tr>\n      <th>15</th>\n      <td>132528</td>\n      <td>15097</td>\n      <td>12</td>\n      <td>NaN</td>\n      <td>2</td>\n      <td>1102.0</td>\n      <td>292.0</td>\n      <td>NaN</td>\n      <td>NaN</td>\n      <td>1/2/2013 2:00</td>\n      <td>...</td>\n      <td>12.936520</td>\n      <td>77.544810</td>\n      <td>12.939440</td>\n      <td>77.629230</td>\n      <td>0</td>\n      <td>1.0</td>\n      <td>2</td>\n      <td>120</td>\n      <td>1</td>\n      <td>712</td>\n    </tr>\n    <tr>\n      <th>16</th>\n      <td>132530</td>\n      <td>761</td>\n      <td>12</td>\n      <td>NaN</td>\n      <td>2</td>\n      <td>814.0</td>\n      <td>393.0</td>\n      <td>NaN</td>\n      <td>NaN</td>\n      <td>1/2/2013 0:30</td>\n      <td>...</td>\n      <td>12.908993</td>\n      <td>77.688900</td>\n      <td>13.199560</td>\n      <td>77.706880</td>\n      <td>0</td>\n      <td>1.0</td>\n      <td>2</td>\n      <td>30</td>\n      <td>1</td>\n      <td>734</td>\n    </tr>\n    <tr>\n      <th>18</th>\n      <td>132533</td>\n      <td>17226</td>\n      <td>12</td>\n      <td>NaN</td>\n      <td>2</td>\n      <td>1353.0</td>\n      <td>585.0</td>\n      <td>NaN</td>\n      <td>NaN</td>\n      <td>1/1/2013 16:00</td>\n      <td>...</td>\n      <td>12.966545</td>\n      <td>77.711639</td>\n      <td>12.976770</td>\n      <td>77.572700</td>\n      <td>0</td>\n      <td>1.0</td>\n      <td>1</td>\n      <td>960</td>\n      <td>1</td>\n      <td>748</td>\n    </tr>\n    <tr>\n      <th>19</th>\n      <td>132534</td>\n      <td>868</td>\n      <td>12</td>\n      <td>NaN</td>\n      <td>2</td>\n      <td>297.0</td>\n      <td>212.0</td>\n      <td>NaN</td>\n      <td>NaN</td>\n      <td>1/1/2013 13:15</td>\n      <td>...</td>\n      <td>12.997890</td>\n      <td>77.614880</td>\n      <td>12.994740</td>\n      <td>77.607970</td>\n      <td>0</td>\n      <td>1.0</td>\n      <td>1</td>\n      <td>795</td>\n      <td>1</td>\n      <td>762</td>\n    </tr>\n    <tr>\n      <th>21</th>\n      <td>132536</td>\n      <td>16</td>\n      <td>28</td>\n      <td>NaN</td>\n      <td>2</td>\n      <td>58.0</td>\n      <td>1063.0</td>\n      <td>NaN</td>\n      <td>NaN</td>\n      <td>1/1/2013 18:30</td>\n      <td>...</td>\n      <td>12.889630</td>\n      <td>77.601190</td>\n      <td>12.934477</td>\n      <td>77.611284</td>\n      <td>1</td>\n      <td>100.0</td>\n      <td>1</td>\n      <td>1110</td>\n      <td>1</td>\n      <td>820</td>\n    </tr>\n    <tr>\n      <th>22</th>\n      <td>132537</td>\n      <td>21558</td>\n      <td>12</td>\n      <td>NaN</td>\n      <td>2</td>\n      <td>540.0</td>\n      <td>409.0</td>\n      <td>NaN</td>\n      <td>NaN</td>\n      <td>1/1/2013 16:00</td>\n      <td>...</td>\n      <td>12.927680</td>\n      <td>77.626640</td>\n      <td>13.077460</td>\n      <td>77.606680</td>\n      <td>0</td>\n      <td>1.0</td>\n      <td>1</td>\n      <td>960</td>\n      <td>1</td>\n      <td>830</td>\n    </tr>\n    <tr>\n      <th>25</th>\n      <td>132540</td>\n      <td>22193</td>\n      <td>12</td>\n      <td>NaN</td>\n      <td>2</td>\n      <td>142.0</td>\n      <td>393.0</td>\n      <td>NaN</td>\n      <td>NaN</td>\n      <td>1/1/2013 17:00</td>\n      <td>...</td>\n      <td>12.912810</td>\n      <td>77.609230</td>\n      <td>13.199560</td>\n      <td>77.706880</td>\n      <td>0</td>\n      <td>1.0</td>\n      <td>1</td>\n      <td>1020</td>\n      <td>1</td>\n      <td>896</td>\n    </tr>\n    <tr>\n      <th>26</th>\n      <td>132541</td>\n      <td>20430</td>\n      <td>12</td>\n      <td>NaN</td>\n      <td>2</td>\n      <td>393.0</td>\n      <td>61.0</td>\n      <td>NaN</td>\n      <td>NaN</td>\n      <td>1/2/2013 20:00</td>\n      <td>...</td>\n      <td>13.199560</td>\n      <td>77.706880</td>\n      <td>12.962980</td>\n      <td>77.712290</td>\n      <td>0</td>\n      <td>1.0</td>\n      <td>2</td>\n      <td>1200</td>\n      <td>1</td>\n      <td>902</td>\n    </tr>\n    <tr>\n      <th>27</th>\n      <td>132542</td>\n      <td>22194</td>\n      <td>12</td>\n      <td>NaN</td>\n      <td>2</td>\n      <td>89.0</td>\n      <td>585.0</td>\n      <td>NaN</td>\n      <td>NaN</td>\n      <td>1/1/2013 20:30</td>\n      <td>...</td>\n      <td>12.965190</td>\n      <td>77.719320</td>\n      <td>12.976770</td>\n      <td>77.572700</td>\n      <td>0</td>\n      <td>1.0</td>\n      <td>1</td>\n      <td>1230</td>\n      <td>1</td>\n      <td>907</td>\n    </tr>\n    <tr>\n      <th>28</th>\n      <td>132543</td>\n      <td>21716</td>\n      <td>28</td>\n      <td>NaN</td>\n      <td>2</td>\n      <td>1237.0</td>\n      <td>330.0</td>\n      <td>NaN</td>\n      <td>NaN</td>\n      <td>1/1/2013 16:30</td>\n      <td>...</td>\n      <td>12.926450</td>\n      <td>77.612060</td>\n      <td>12.858833</td>\n      <td>77.589127</td>\n      <td>0</td>\n      <td>1.0</td>\n      <td>1</td>\n      <td>990</td>\n      <td>1</td>\n      <td>907</td>\n    </tr>\n    <tr>\n      <th>29</th>\n      <td>132544</td>\n      <td>38966</td>\n      <td>12</td>\n      <td>NaN</td>\n      <td>2</td>\n      <td>61.0</td>\n      <td>393.0</td>\n      <td>NaN</td>\n      <td>NaN</td>\n      <td>1/1/2013 18:00</td>\n      <td>...</td>\n      <td>12.962980</td>\n      <td>77.712290</td>\n      <td>13.199560</td>\n      <td>77.706880</td>\n      <td>0</td>\n      <td>1.0</td>\n      <td>1</td>\n      <td>1080</td>\n      <td>1</td>\n      <td>911</td>\n    </tr>\n    <tr>\n      <th>30</th>\n      <td>132545</td>\n      <td>12973</td>\n      <td>12</td>\n      <td>NaN</td>\n      <td>2</td>\n      <td>137.0</td>\n      <td>1068.0</td>\n      <td>NaN</td>\n      <td>NaN</td>\n      <td>1/2/2013 7:00</td>\n      <td>...</td>\n      <td>12.815750</td>\n      <td>77.684650</td>\n      <td>13.044009</td>\n      <td>77.606805</td>\n      <td>0</td>\n      <td>1.0</td>\n      <td>2</td>\n      <td>420</td>\n      <td>1</td>\n      <td>939</td>\n    </tr>\n    <tr>\n      <th>31</th>\n      <td>132546</td>\n      <td>22196</td>\n      <td>12</td>\n      <td>NaN</td>\n      <td>2</td>\n      <td>409.0</td>\n      <td>1194.0</td>\n      <td>NaN</td>\n      <td>NaN</td>\n      <td>1/1/2013 16:15</td>\n      <td>...</td>\n      <td>13.077460</td>\n      <td>77.606680</td>\n      <td>13.004460</td>\n      <td>77.569230</td>\n      <td>0</td>\n      <td>1.0</td>\n      <td>1</td>\n      <td>975</td>\n      <td>1</td>\n      <td>940</td>\n    </tr>\n    <tr>\n      <th>32</th>\n      <td>132550</td>\n      <td>8327</td>\n      <td>12</td>\n      <td>NaN</td>\n      <td>2</td>\n      <td>1062.0</td>\n      <td>1010.0</td>\n      <td>NaN</td>\n      <td>NaN</td>\n      <td>1/2/2013 8:00</td>\n      <td>...</td>\n      <td>13.059784</td>\n      <td>77.609219</td>\n      <td>12.966910</td>\n      <td>77.749350</td>\n      <td>0</td>\n      <td>1.0</td>\n      <td>2</td>\n      <td>480</td>\n      <td>1</td>\n      <td>1036</td>\n    </tr>\n    <tr>\n      <th>33</th>\n      <td>132551</td>\n      <td>22200</td>\n      <td>12</td>\n      <td>NaN</td>\n      <td>2</td>\n      <td>1371.0</td>\n      <td>839.0</td>\n      <td>NaN</td>\n      <td>NaN</td>\n      <td>1/2/2013 10:30</td>\n      <td>...</td>\n      <td>13.000418</td>\n      <td>77.674835</td>\n      <td>12.857730</td>\n      <td>77.786420</td>\n      <td>0</td>\n      <td>1.0</td>\n      <td>2</td>\n      <td>630</td>\n      <td>1</td>\n      <td>1041</td>\n    </tr>\n    <tr>\n      <th>35</th>\n      <td>132553</td>\n      <td>22202</td>\n      <td>12</td>\n      <td>NaN</td>\n      <td>2</td>\n      <td>1017.0</td>\n      <td>496.0</td>\n      <td>NaN</td>\n      <td>NaN</td>\n      <td>1/2/2013 5:00</td>\n      <td>...</td>\n      <td>13.110840</td>\n      <td>77.600740</td>\n      <td>13.058450</td>\n      <td>77.640750</td>\n      <td>0</td>\n      <td>1.0</td>\n      <td>2</td>\n      <td>300</td>\n      <td>1</td>\n      <td>1050</td>\n    </tr>\n    <tr>\n      <th>36</th>\n      <td>132555</td>\n      <td>20340</td>\n      <td>12</td>\n      <td>NaN</td>\n      <td>2</td>\n      <td>793.0</td>\n      <td>393.0</td>\n      <td>NaN</td>\n      <td>NaN</td>\n      <td>1/2/2013 8:00</td>\n      <td>...</td>\n      <td>13.022390</td>\n      <td>77.594920</td>\n      <td>13.199560</td>\n      <td>77.706880</td>\n      <td>0</td>\n      <td>1.0</td>\n      <td>2</td>\n      <td>480</td>\n      <td>1</td>\n      <td>1061</td>\n    </tr>\n    <tr>\n      <th>...</th>\n      <td>...</td>\n      <td>...</td>\n      <td>...</td>\n      <td>...</td>\n      <td>...</td>\n      <td>...</td>\n      <td>...</td>\n      <td>...</td>\n      <td>...</td>\n      <td>...</td>\n      <td>...</td>\n      <td>...</td>\n      <td>...</td>\n      <td>...</td>\n      <td>...</td>\n      <td>...</td>\n      <td>...</td>\n      <td>...</td>\n      <td>...</td>\n      <td>...</td>\n      <td>...</td>\n    </tr>\n    <tr>\n      <th>43378</th>\n      <td>185881</td>\n      <td>48690</td>\n      <td>12</td>\n      <td>NaN</td>\n      <td>2</td>\n      <td>1087.0</td>\n      <td>393.0</td>\n      <td>15.0</td>\n      <td>NaN</td>\n      <td>11/24/2013 0:00</td>\n      <td>...</td>\n      <td>12.909579</td>\n      <td>77.638063</td>\n      <td>13.199560</td>\n      <td>77.706880</td>\n      <td>0</td>\n      <td>1.0</td>\n      <td>6</td>\n      <td>0</td>\n      <td>5</td>\n      <td>1365</td>\n    </tr>\n    <tr>\n      <th>43380</th>\n      <td>185884</td>\n      <td>48692</td>\n      <td>12</td>\n      <td>NaN</td>\n      <td>2</td>\n      <td>1036.0</td>\n      <td>393.0</td>\n      <td>15.0</td>\n      <td>NaN</td>\n      <td>11/24/2013 5:00</td>\n      <td>...</td>\n      <td>12.925568</td>\n      <td>77.580568</td>\n      <td>13.199560</td>\n      <td>77.706880</td>\n      <td>0</td>\n      <td>1.0</td>\n      <td>6</td>\n      <td>300</td>\n      <td>5</td>\n      <td>1388</td>\n    </tr>\n    <tr>\n      <th>43381</th>\n      <td>185885</td>\n      <td>48693</td>\n      <td>12</td>\n      <td>NaN</td>\n      <td>2</td>\n      <td>218.0</td>\n      <td>352.0</td>\n      <td>15.0</td>\n      <td>NaN</td>\n      <td>11/24/2013 18:45</td>\n      <td>...</td>\n      <td>12.967990</td>\n      <td>77.588820</td>\n      <td>13.033690</td>\n      <td>77.628210</td>\n      <td>1</td>\n      <td>100.0</td>\n      <td>6</td>\n      <td>1125</td>\n      <td>5</td>\n      <td>1389</td>\n    </tr>\n    <tr>\n      <th>43382</th>\n      <td>185886</td>\n      <td>48694</td>\n      <td>12</td>\n      <td>NaN</td>\n      <td>2</td>\n      <td>142.0</td>\n      <td>393.0</td>\n      <td>15.0</td>\n      <td>NaN</td>\n      <td>11/24/2013 1:00</td>\n      <td>...</td>\n      <td>12.912810</td>\n      <td>77.609230</td>\n      <td>13.199560</td>\n      <td>77.706880</td>\n      <td>0</td>\n      <td>1.0</td>\n      <td>6</td>\n      <td>60</td>\n      <td>5</td>\n      <td>1389</td>\n    </tr>\n    <tr>\n      <th>43383</th>\n      <td>185887</td>\n      <td>48696</td>\n      <td>12</td>\n      <td>NaN</td>\n      <td>2</td>\n      <td>218.0</td>\n      <td>466.0</td>\n      <td>15.0</td>\n      <td>NaN</td>\n      <td>11/24/2013 6:30</td>\n      <td>...</td>\n      <td>12.967990</td>\n      <td>77.588820</td>\n      <td>13.017436</td>\n      <td>77.644580</td>\n      <td>1</td>\n      <td>100.0</td>\n      <td>6</td>\n      <td>390</td>\n      <td>5</td>\n      <td>1394</td>\n    </tr>\n    <tr>\n      <th>43384</th>\n      <td>185888</td>\n      <td>4367</td>\n      <td>12</td>\n      <td>NaN</td>\n      <td>2</td>\n      <td>458.0</td>\n      <td>393.0</td>\n      <td>15.0</td>\n      <td>NaN</td>\n      <td>11/24/2013 5:30</td>\n      <td>...</td>\n      <td>13.000370</td>\n      <td>77.727460</td>\n      <td>13.199560</td>\n      <td>77.706880</td>\n      <td>0</td>\n      <td>1.0</td>\n      <td>6</td>\n      <td>330</td>\n      <td>5</td>\n      <td>1395</td>\n    </tr>\n    <tr>\n      <th>43388</th>\n      <td>185893</td>\n      <td>15932</td>\n      <td>12</td>\n      <td>NaN</td>\n      <td>2</td>\n      <td>1191.0</td>\n      <td>1038.0</td>\n      <td>15.0</td>\n      <td>NaN</td>\n      <td>11/24/2013 8:15</td>\n      <td>...</td>\n      <td>13.030170</td>\n      <td>77.566840</td>\n      <td>12.981266</td>\n      <td>77.637162</td>\n      <td>0</td>\n      <td>1.0</td>\n      <td>6</td>\n      <td>495</td>\n      <td>6</td>\n      <td>11</td>\n    </tr>\n    <tr>\n      <th>43389</th>\n      <td>185895</td>\n      <td>48701</td>\n      <td>87</td>\n      <td>NaN</td>\n      <td>2</td>\n      <td>515.0</td>\n      <td>393.0</td>\n      <td>15.0</td>\n      <td>NaN</td>\n      <td>11/25/2013 3:30</td>\n      <td>...</td>\n      <td>12.978960</td>\n      <td>77.673450</td>\n      <td>13.199560</td>\n      <td>77.706880</td>\n      <td>0</td>\n      <td>1.0</td>\n      <td>0</td>\n      <td>210</td>\n      <td>6</td>\n      <td>105</td>\n    </tr>\n    <tr>\n      <th>43391</th>\n      <td>185897</td>\n      <td>48703</td>\n      <td>12</td>\n      <td>NaN</td>\n      <td>2</td>\n      <td>448.0</td>\n      <td>393.0</td>\n      <td>15.0</td>\n      <td>NaN</td>\n      <td>11/24/2013 8:30</td>\n      <td>...</td>\n      <td>12.927320</td>\n      <td>77.635750</td>\n      <td>13.199560</td>\n      <td>77.706880</td>\n      <td>0</td>\n      <td>1.0</td>\n      <td>6</td>\n      <td>510</td>\n      <td>6</td>\n      <td>319</td>\n    </tr>\n    <tr>\n      <th>43392</th>\n      <td>185898</td>\n      <td>39618</td>\n      <td>12</td>\n      <td>NaN</td>\n      <td>2</td>\n      <td>393.0</td>\n      <td>1147.0</td>\n      <td>15.0</td>\n      <td>NaN</td>\n      <td>11/24/2013 11:30</td>\n      <td>...</td>\n      <td>13.199560</td>\n      <td>77.706880</td>\n      <td>13.030640</td>\n      <td>77.649100</td>\n      <td>0</td>\n      <td>1.0</td>\n      <td>6</td>\n      <td>690</td>\n      <td>6</td>\n      <td>423</td>\n    </tr>\n    <tr>\n      <th>43394</th>\n      <td>185900</td>\n      <td>48705</td>\n      <td>12</td>\n      <td>NaN</td>\n      <td>2</td>\n      <td>1226.0</td>\n      <td>1371.0</td>\n      <td>15.0</td>\n      <td>NaN</td>\n      <td>11/25/2013 2:30</td>\n      <td>...</td>\n      <td>13.015080</td>\n      <td>77.677960</td>\n      <td>13.000418</td>\n      <td>77.674835</td>\n      <td>0</td>\n      <td>1.0</td>\n      <td>0</td>\n      <td>150</td>\n      <td>6</td>\n      <td>453</td>\n    </tr>\n    <tr>\n      <th>43395</th>\n      <td>185901</td>\n      <td>48539</td>\n      <td>89</td>\n      <td>NaN</td>\n      <td>2</td>\n      <td>540.0</td>\n      <td>585.0</td>\n      <td>15.0</td>\n      <td>NaN</td>\n      <td>11/24/2013 13:30</td>\n      <td>...</td>\n      <td>12.927680</td>\n      <td>77.626640</td>\n      <td>12.976770</td>\n      <td>77.572700</td>\n      <td>1</td>\n      <td>100.0</td>\n      <td>6</td>\n      <td>810</td>\n      <td>6</td>\n      <td>483</td>\n    </tr>\n    <tr>\n      <th>43396</th>\n      <td>185902</td>\n      <td>48706</td>\n      <td>12</td>\n      <td>NaN</td>\n      <td>2</td>\n      <td>136.0</td>\n      <td>1142.0</td>\n      <td>15.0</td>\n      <td>NaN</td>\n      <td>11/24/2013 17:15</td>\n      <td>...</td>\n      <td>12.907960</td>\n      <td>77.624180</td>\n      <td>13.033690</td>\n      <td>77.628210</td>\n      <td>0</td>\n      <td>1.0</td>\n      <td>6</td>\n      <td>1035</td>\n      <td>6</td>\n      <td>526</td>\n    </tr>\n    <tr>\n      <th>43397</th>\n      <td>185903</td>\n      <td>48707</td>\n      <td>12</td>\n      <td>NaN</td>\n      <td>2</td>\n      <td>515.0</td>\n      <td>1371.0</td>\n      <td>15.0</td>\n      <td>NaN</td>\n      <td>11/24/2013 13:00</td>\n      <td>...</td>\n      <td>12.978960</td>\n      <td>77.673450</td>\n      <td>13.000418</td>\n      <td>77.674835</td>\n      <td>1</td>\n      <td>100.0</td>\n      <td>6</td>\n      <td>780</td>\n      <td>6</td>\n      <td>539</td>\n    </tr>\n    <tr>\n      <th>43399</th>\n      <td>185907</td>\n      <td>48709</td>\n      <td>12</td>\n      <td>NaN</td>\n      <td>2</td>\n      <td>393.0</td>\n      <td>1082.0</td>\n      <td>15.0</td>\n      <td>NaN</td>\n      <td>11/25/2013 13:15</td>\n      <td>...</td>\n      <td>13.199560</td>\n      <td>77.706880</td>\n      <td>12.870924</td>\n      <td>77.575879</td>\n      <td>0</td>\n      <td>1.0</td>\n      <td>0</td>\n      <td>795</td>\n      <td>6</td>\n      <td>571</td>\n    </tr>\n    <tr>\n      <th>43404</th>\n      <td>185912</td>\n      <td>48711</td>\n      <td>12</td>\n      <td>NaN</td>\n      <td>2</td>\n      <td>238.0</td>\n      <td>393.0</td>\n      <td>15.0</td>\n      <td>NaN</td>\n      <td>11/25/2013 3:15</td>\n      <td>...</td>\n      <td>12.937110</td>\n      <td>77.601710</td>\n      <td>13.199560</td>\n      <td>77.706880</td>\n      <td>0</td>\n      <td>1.0</td>\n      <td>0</td>\n      <td>195</td>\n      <td>6</td>\n      <td>621</td>\n    </tr>\n    <tr>\n      <th>43412</th>\n      <td>185921</td>\n      <td>44027</td>\n      <td>12</td>\n      <td>NaN</td>\n      <td>2</td>\n      <td>1384.0</td>\n      <td>571.0</td>\n      <td>15.0</td>\n      <td>NaN</td>\n      <td>11/24/2013 19:30</td>\n      <td>...</td>\n      <td>13.028530</td>\n      <td>77.546250</td>\n      <td>12.951850</td>\n      <td>77.696420</td>\n      <td>0</td>\n      <td>1.0</td>\n      <td>6</td>\n      <td>1170</td>\n      <td>6</td>\n      <td>730</td>\n    </tr>\n    <tr>\n      <th>43413</th>\n      <td>185922</td>\n      <td>48718</td>\n      <td>12</td>\n      <td>NaN</td>\n      <td>2</td>\n      <td>1377.0</td>\n      <td>393.0</td>\n      <td>15.0</td>\n      <td>NaN</td>\n      <td>11/25/2013 4:15</td>\n      <td>...</td>\n      <td>13.055755</td>\n      <td>77.632910</td>\n      <td>13.199560</td>\n      <td>77.706880</td>\n      <td>0</td>\n      <td>1.0</td>\n      <td>0</td>\n      <td>255</td>\n      <td>6</td>\n      <td>730</td>\n    </tr>\n    <tr>\n      <th>43414</th>\n      <td>185923</td>\n      <td>34127</td>\n      <td>12</td>\n      <td>NaN</td>\n      <td>2</td>\n      <td>376.0</td>\n      <td>424.0</td>\n      <td>15.0</td>\n      <td>NaN</td>\n      <td>11/24/2013 22:15</td>\n      <td>...</td>\n      <td>12.902450</td>\n      <td>77.660810</td>\n      <td>12.930840</td>\n      <td>77.618830</td>\n      <td>1</td>\n      <td>100.0</td>\n      <td>6</td>\n      <td>1335</td>\n      <td>6</td>\n      <td>745</td>\n    </tr>\n    <tr>\n      <th>43416</th>\n      <td>185926</td>\n      <td>36929</td>\n      <td>12</td>\n      <td>NaN</td>\n      <td>2</td>\n      <td>396.0</td>\n      <td>393.0</td>\n      <td>15.0</td>\n      <td>NaN</td>\n      <td>11/24/2013 16:15</td>\n      <td>...</td>\n      <td>12.920730</td>\n      <td>77.664820</td>\n      <td>13.199560</td>\n      <td>77.706880</td>\n      <td>0</td>\n      <td>1.0</td>\n      <td>6</td>\n      <td>975</td>\n      <td>6</td>\n      <td>778</td>\n    </tr>\n    <tr>\n      <th>43418</th>\n      <td>185928</td>\n      <td>48721</td>\n      <td>12</td>\n      <td>NaN</td>\n      <td>2</td>\n      <td>1263.0</td>\n      <td>393.0</td>\n      <td>15.0</td>\n      <td>NaN</td>\n      <td>11/24/2013 18:00</td>\n      <td>...</td>\n      <td>12.968970</td>\n      <td>77.594560</td>\n      <td>13.199560</td>\n      <td>77.706880</td>\n      <td>0</td>\n      <td>1.0</td>\n      <td>6</td>\n      <td>1080</td>\n      <td>6</td>\n      <td>787</td>\n    </tr>\n    <tr>\n      <th>43419</th>\n      <td>185929</td>\n      <td>46807</td>\n      <td>12</td>\n      <td>NaN</td>\n      <td>2</td>\n      <td>571.0</td>\n      <td>393.0</td>\n      <td>15.0</td>\n      <td>NaN</td>\n      <td>11/25/2013 4:30</td>\n      <td>...</td>\n      <td>12.951850</td>\n      <td>77.696420</td>\n      <td>13.199560</td>\n      <td>77.706880</td>\n      <td>0</td>\n      <td>1.0</td>\n      <td>0</td>\n      <td>270</td>\n      <td>6</td>\n      <td>827</td>\n    </tr>\n    <tr>\n      <th>43421</th>\n      <td>185931</td>\n      <td>48723</td>\n      <td>12</td>\n      <td>NaN</td>\n      <td>2</td>\n      <td>1371.0</td>\n      <td>1181.0</td>\n      <td>15.0</td>\n      <td>NaN</td>\n      <td>11/25/2013 9:45</td>\n      <td>...</td>\n      <td>13.000418</td>\n      <td>77.674835</td>\n      <td>12.978960</td>\n      <td>77.673450</td>\n      <td>0</td>\n      <td>1.0</td>\n      <td>0</td>\n      <td>585</td>\n      <td>6</td>\n      <td>850</td>\n    </tr>\n    <tr>\n      <th>43422</th>\n      <td>185932</td>\n      <td>48724</td>\n      <td>12</td>\n      <td>NaN</td>\n      <td>2</td>\n      <td>393.0</td>\n      <td>269.0</td>\n      <td>15.0</td>\n      <td>NaN</td>\n      <td>11/24/2013 21:15</td>\n      <td>...</td>\n      <td>13.199560</td>\n      <td>77.706880</td>\n      <td>12.974400</td>\n      <td>77.691830</td>\n      <td>1</td>\n      <td>100.0</td>\n      <td>6</td>\n      <td>1275</td>\n      <td>6</td>\n      <td>852</td>\n    </tr>\n    <tr>\n      <th>43423</th>\n      <td>185933</td>\n      <td>48725</td>\n      <td>24</td>\n      <td>NaN</td>\n      <td>2</td>\n      <td>585.0</td>\n      <td>339.0</td>\n      <td>15.0</td>\n      <td>NaN</td>\n      <td>11/24/2013 16:00</td>\n      <td>...</td>\n      <td>12.976770</td>\n      <td>77.572700</td>\n      <td>12.910280</td>\n      <td>77.645120</td>\n      <td>0</td>\n      <td>1.0</td>\n      <td>6</td>\n      <td>960</td>\n      <td>6</td>\n      <td>855</td>\n    </tr>\n    <tr>\n      <th>43425</th>\n      <td>185936</td>\n      <td>30220</td>\n      <td>12</td>\n      <td>NaN</td>\n      <td>2</td>\n      <td>585.0</td>\n      <td>1226.0</td>\n      <td>15.0</td>\n      <td>NaN</td>\n      <td>11/25/2013 0:00</td>\n      <td>...</td>\n      <td>12.976770</td>\n      <td>77.572700</td>\n      <td>13.015080</td>\n      <td>77.677960</td>\n      <td>0</td>\n      <td>1.0</td>\n      <td>0</td>\n      <td>0</td>\n      <td>6</td>\n      <td>864</td>\n    </tr>\n    <tr>\n      <th>43426</th>\n      <td>185937</td>\n      <td>14364</td>\n      <td>12</td>\n      <td>NaN</td>\n      <td>2</td>\n      <td>1147.0</td>\n      <td>452.0</td>\n      <td>15.0</td>\n      <td>NaN</td>\n      <td>11/24/2013 18:00</td>\n      <td>...</td>\n      <td>13.030640</td>\n      <td>77.649100</td>\n      <td>12.952780</td>\n      <td>77.590880</td>\n      <td>0</td>\n      <td>1.0</td>\n      <td>6</td>\n      <td>1080</td>\n      <td>6</td>\n      <td>865</td>\n    </tr>\n    <tr>\n      <th>43427</th>\n      <td>185938</td>\n      <td>48727</td>\n      <td>12</td>\n      <td>NaN</td>\n      <td>2</td>\n      <td>393.0</td>\n      <td>466.0</td>\n      <td>15.0</td>\n      <td>NaN</td>\n      <td>11/26/2013 1:00</td>\n      <td>...</td>\n      <td>13.199560</td>\n      <td>77.706880</td>\n      <td>13.017436</td>\n      <td>77.644580</td>\n      <td>0</td>\n      <td>1.0</td>\n      <td>1</td>\n      <td>60</td>\n      <td>6</td>\n      <td>870</td>\n    </tr>\n    <tr>\n      <th>43429</th>\n      <td>185940</td>\n      <td>30724</td>\n      <td>87</td>\n      <td>NaN</td>\n      <td>2</td>\n      <td>1263.0</td>\n      <td>542.0</td>\n      <td>15.0</td>\n      <td>NaN</td>\n      <td>11/24/2013 16:00</td>\n      <td>...</td>\n      <td>12.968970</td>\n      <td>77.594560</td>\n      <td>12.938230</td>\n      <td>77.622890</td>\n      <td>0</td>\n      <td>1.0</td>\n      <td>6</td>\n      <td>960</td>\n      <td>6</td>\n      <td>883</td>\n    </tr>\n    <tr>\n      <th>43430</th>\n      <td>185941</td>\n      <td>48730</td>\n      <td>12</td>\n      <td>NaN</td>\n      <td>2</td>\n      <td>689.0</td>\n      <td>393.0</td>\n      <td>15.0</td>\n      <td>NaN</td>\n      <td>11/25/2013 5:00</td>\n      <td>...</td>\n      <td>12.976720</td>\n      <td>77.649270</td>\n      <td>13.199560</td>\n      <td>77.706880</td>\n      <td>0</td>\n      <td>1.0</td>\n      <td>0</td>\n      <td>300</td>\n      <td>6</td>\n      <td>890</td>\n    </tr>\n  </tbody>\n</table>\n<p>34293 rows × 24 columns</p>\n</div>"
     },
     "metadata": {},
     "output_type": "execute_result",
     "execution_count": 11
    }
   ],
   "source": [
    "new_taxiCancellationTraining"
   ]
  },
  {
   "cell_type": "code",
   "execution_count": 12,
   "metadata": {
    "pycharm": {
     "is_executing": false
    }
   },
   "outputs": [],
   "source": [
    "feature_cols = ['vehicle_model_id', 'travel_type_id',\n",
    "                'from_area_id', 'to_area_id', \n",
    "       'online_booking', 'mobile_site_booking',\n",
    "       'from_lat', 'from_long', 'to_lat', 'to_long', 'from_weekdate','from_time','booking_weekdate','booking_time']"
   ]
  },
  {
   "cell_type": "code",
   "execution_count": 13,
   "metadata": {
    "pycharm": {
     "is_executing": false
    }
   },
   "outputs": [
    {
     "data": {
      "text/plain": "vehicle_model_id       0\ntravel_type_id         0\nfrom_area_id           0\nto_area_id             0\nonline_booking         0\nmobile_site_booking    0\nfrom_lat               0\nfrom_long              0\nto_lat                 0\nto_long                0\nfrom_weekdate          0\nfrom_time              0\nbooking_weekdate       0\nbooking_time           0\ndtype: int64"
     },
     "metadata": {},
     "output_type": "execute_result",
     "execution_count": 13
    }
   ],
   "source": [
    "X = new_taxiCancellationTraining.loc[:,feature_cols] # Features\n",
    "y = new_taxiCancellationTraining.loc[:,'Car_Cancellation'] # Target variable\n",
    "X.isnull().sum()"
   ]
  },
  {
   "cell_type": "code",
   "execution_count": 14,
   "metadata": {
    "pycharm": {
     "is_executing": false
    }
   },
   "outputs": [
    {
     "data": {
      "text/plain": "(34293, 14)"
     },
     "metadata": {},
     "output_type": "execute_result",
     "execution_count": 14
    }
   ],
   "source": [
    "X.shape\n",
    "#34k rows"
   ]
  },
  {
   "cell_type": "markdown",
   "metadata": {},
   "source": [
    "# Problem with dataset"
   ]
  },
  {
   "cell_type": "code",
   "execution_count": 15,
   "outputs": [
    {
     "name": "stdout",
     "text": [
      "(5926, 24)\n"
     ],
     "output_type": "stream"
    }
   ],
   "source": [
    "#modify training dataframe so that data is 50-50 split of correct/incorrect\n",
    "from sklearn.model_selection import train_test_split\n",
    "fullUsableDataSet = new_taxiCancellationTraining\n",
    "\n",
    "zizzle = [] #cancellation = 0\n",
    "sizzle = [] #cancellation = 1\n",
    "\n",
    "for row in new_taxiCancellationTraining.itertuples():\n",
    "    if row.Car_Cancellation is 0:\n",
    "        ziz = list(row)\n",
    "        zizzle.append(ziz[1:])\n",
    "    elif row.Car_Cancellation is 1:\n",
    "        siz = list(row)\n",
    "        sizzle.append(siz[1:])\n",
    "drizzle, discard = train_test_split(zizzle, test_size = .9,random_state = 1)\n",
    "#drizzle = 10% of non-cancelled test data\n",
    "foshizzle = drizzle + sizzle #~3k cancelled + ~3k non-cancelled\n",
    "\n",
    "TempNonCancelledTrain = pd.DataFrame(foshizzle, columns = new_taxiCancellationTraining.columns)\n",
    "print(TempNonCancelledTrain.shape)\n",
    "\n",
    "new_taxiCancellationTraining = TempNonCancelledTrain"
   ],
   "metadata": {
    "collapsed": false,
    "pycharm": {
     "name": "#%%\n",
     "is_executing": false
    }
   }
  },
  {
   "cell_type": "code",
   "execution_count": 16,
   "outputs": [
    {
     "data": {
      "text/plain": "vehicle_model_id       0\ntravel_type_id         0\nfrom_area_id           0\nto_area_id             0\nonline_booking         0\nmobile_site_booking    0\nfrom_lat               0\nfrom_long              0\nto_lat                 0\nto_long                0\nfrom_weekdate          0\nfrom_time              0\nbooking_weekdate       0\nbooking_time           0\ndtype: int64"
     },
     "metadata": {},
     "output_type": "execute_result",
     "execution_count": 16
    }
   ],
   "source": [
    "X = new_taxiCancellationTraining.loc[:,feature_cols] # Features\n",
    "y = new_taxiCancellationTraining.loc[:,'Car_Cancellation'] # Target variable\n",
    "X.isnull().sum()"
   ],
   "metadata": {
    "collapsed": false,
    "pycharm": {
     "name": "#%%\n",
     "is_executing": false
    }
   }
  },
  {
   "cell_type": "markdown",
   "metadata": {},
   "source": [
    "# ONLY 3,132 taxi orders were cancelled, 40,299 ON TRAINING Dataset"
   ]
  },
  {
   "cell_type": "code",
   "execution_count": 17,
   "metadata": {
    "pycharm": {
     "is_executing": false
    }
   },
   "outputs": [
    {
     "data": {
      "text/plain": "(3132, 40299)"
     },
     "metadata": {},
     "output_type": "execute_result",
     "execution_count": 17
    }
   ],
   "source": [
    "## Non cancellation \n",
    "nines=taxiCancellationTraining.loc[:,'Car_Cancellation'].values\n",
    "np.count_nonzero(nines) , nines.shape[0]-np.count_nonzero(nines)\n"
   ]
  },
  {
   "cell_type": "markdown",
   "metadata": {},
   "source": [
    "## train_test_split"
   ]
  },
  {
   "cell_type": "code",
   "execution_count": 18,
   "metadata": {
    "pycharm": {
     "is_executing": false
    }
   },
   "outputs": [],
   "source": [
    "X_train, X_test, y_train, y_test = train_test_split(X,y, test_size =0.30, random_state = 1)"
   ]
  },
  {
   "cell_type": "markdown",
   "metadata": {},
   "source": [
    "## 4 Models"
   ]
  },
  {
   "cell_type": "code",
   "execution_count": 19,
   "metadata": {
    "pycharm": {
     "is_executing": false
    }
   },
   "outputs": [
    {
     "name": "stderr",
     "text": [
      "Using TensorFlow backend.\n"
     ],
     "output_type": "stream"
    }
   ],
   "source": [
    "import tensorflow as tf\n",
    "from keras.models import Sequential\n",
    "from keras.layers import Dense, Dropout\n",
    "\n",
    "#Logistic Regresstion\n",
    "#Logistic Regresstion"
   ]
  },
  {
   "cell_type": "code",
   "execution_count": 20,
   "metadata": {
    "pycharm": {
     "name": "#%% \n",
     "is_executing": false
    }
   },
   "outputs": [
    {
     "name": "stderr",
     "text": [
      "C:\\Users\\ajfre\\Anaconda3\\lib\\site-packages\\sklearn\\linear_model\\logistic.py:947: ConvergenceWarning: lbfgs failed to converge. Increase the number of iterations.\n  \"of iterations.\", ConvergenceWarning)\n"
     ],
     "output_type": "stream"
    },
    {
     "data": {
      "text/plain": "LogisticRegression(C=1.0, class_weight=None, dual=False, fit_intercept=True,\n                   intercept_scaling=1, l1_ratio=None, max_iter=100,\n                   multi_class='multinomial', n_jobs=None, penalty='l2',\n                   random_state=0, solver='lbfgs', tol=0.0001, verbose=0,\n                   warm_start=False)"
     },
     "metadata": {},
     "output_type": "execute_result",
     "execution_count": 20
    }
   ],
   "source": [
    "from sklearn.linear_model import LogisticRegression\n",
    "logreg = LogisticRegression(random_state=0, solver='lbfgs', multi_class='multinomial')\n",
    "logreg.fit(X_train, y_train)"
   ]
  },
  {
   "cell_type": "code",
   "execution_count": 21,
   "metadata": {
    "pycharm": {
     "is_executing": false,
     "name": "#%%\n"
    }
   },
   "outputs": [
    {
     "name": "stdout",
     "text": [
      "Model: \"sequential_1\"\n_________________________________________________________________\nLayer (type)                 Output Shape              Param #   \n=================================================================\ndense_1 (Dense)              (None, 124)               1860      \n_________________________________________________________________\ndropout_1 (Dropout)          (None, 124)               0         \n_________________________________________________________________\ndense_2 (Dense)              (None, 64)                8000      \n_________________________________________________________________\ndropout_2 (Dropout)          (None, 64)                0         \n_________________________________________________________________\ndense_3 (Dense)              (None, 32)                2080      \n_________________________________________________________________\ndropout_3 (Dropout)          (None, 32)                0         \n_________________________________________________________________\ndense_4 (Dense)              (None, 1)                 33        \n=================================================================\nTotal params: 11,973\nTrainable params: 11,973\nNon-trainable params: 0\n_________________________________________________________________\n"
     ],
     "output_type": "stream"
    }
   ],
   "source": [
    "#Deep Learning Keras Model\n",
    "#relu -linear\n",
    "#sigmoid function for final layer\n",
    "#Dropout 50%\n",
    "#Dimension input features column\n",
    "#Output binary classification 0 and 1\n",
    "model = Sequential()\n",
    "model.add(Dense(124, activation='relu', input_dim = X.shape[1]))\n",
    "model.add(Dropout(0.5))\n",
    "model.add(Dense(64, activation='relu'))\n",
    "model.add(Dropout(0.5))\n",
    "model.add(Dense(32, activation='relu'))\n",
    "model.add(Dropout(0.5))\n",
    "model.add(Dense(1, activation='sigmoid'))\n",
    "model.summary()\n",
    "#Using binary_crossentropy\n",
    "model.compile(optimizer='rmsprop',\n",
    "              loss='binary_crossentropy',\n",
    "              metrics=['accuracy'])\n"
   ]
  },
  {
   "cell_type": "code",
   "execution_count": 22,
   "metadata": {
    "pycharm": {
     "name": "#%%\n",
     "is_executing": false
    }
   },
   "outputs": [
    {
     "data": {
      "text/plain": "KNeighborsClassifier(algorithm='auto', leaf_size=30, metric='minkowski',\n                     metric_params=None, n_jobs=None, n_neighbors=3, p=2,\n                     weights='uniform')"
     },
     "metadata": {},
     "output_type": "execute_result",
     "execution_count": 22
    }
   ],
   "source": [
    "#KNN\n",
    "n_neigh = 3\n",
    "from sklearn.neighbors import KNeighborsClassifier\n",
    "neighbor = KNeighborsClassifier(n_neigh)\n",
    "neighbor.fit(X_train, y_train) "
   ]
  },
  {
   "cell_type": "code",
   "execution_count": 23,
   "metadata": {
    "pycharm": {
     "is_executing": false,
     "name": "#%%\n"
    }
   },
   "outputs": [
    {
     "data": {
      "text/plain": "GaussianNB(priors=None, var_smoothing=1e-09)"
     },
     "metadata": {},
     "output_type": "execute_result",
     "execution_count": 23
    }
   ],
   "source": [
    "#Naive Bayes\n",
    "from sklearn.naive_bayes import GaussianNB\n",
    "gaus = GaussianNB()\n",
    "gaus.fit(X_train, y_train)"
   ]
  },
  {
   "cell_type": "markdown",
   "metadata": {},
   "source": [
    "# Prediction"
   ]
  },
  {
   "cell_type": "code",
   "execution_count": 24,
   "metadata": {
    "pycharm": {
     "is_executing": false
    }
   },
   "outputs": [
    {
     "name": "stdout",
     "text": [
      "Epoch 1/20\n",
      "\r   5/4148 [..............................] - ETA: 3:22 - loss: 348.9988 - accuracy: 0.6000",
      "\b\b\b\b\b\b\b\b\b\b\b\b\b\b\b\b\b\b\b\b\b\b\b\b\b\b\b\b\b\b\b\b\b\b\b\b\b\b\b\b\b\b\b\b\b\b\b\b\b\b\b\b\b\b\b\b\b\b\b\b\b\b\b\b\b\b\b\b\b\b\b\b\b\b\b\b\b\b\b\b\b\b\b\b\b\b\b\b\b\b\r 165/4148 [>.............................] - ETA: 7s - loss: 103.6521 - accuracy: 0.5394  ",
      "\b\b\b\b\b\b\b\b\b\b\b\b\b\b\b\b\b\b\b\b\b\b\b\b\b\b\b\b\b\b\b\b\b\b\b\b\b\b\b\b\b\b\b\b\b\b\b\b\b\b\b\b\b\b\b\b\b\b\b\b\b\b\b\b\b\b\b\b\b\b\b\b\b\b\b\b\b\b\b\b\b\b\b\b\b\b\b\b\r 335/4148 [=>............................] - ETA: 3s - loss: 87.6147 - accuracy: 0.5075 ",
      "\b\b\b\b\b\b\b\b\b\b\b\b\b\b\b\b\b\b\b\b\b\b\b\b\b\b\b\b\b\b\b\b\b\b\b\b\b\b\b\b\b\b\b\b\b\b\b\b\b\b\b\b\b\b\b\b\b\b\b\b\b\b\b\b\b\b\b\b\b\b\b\b\b\b\b\b\b\b\b\b\b\b\b\b\b\b\b\r 540/4148 [==>...........................] - ETA: 2s - loss: 70.3538 - accuracy: 0.5037",
      "\b\b\b\b\b\b\b\b\b\b\b\b\b\b\b\b\b\b\b\b\b\b\b\b\b\b\b\b\b\b\b\b\b\b\b\b\b\b\b\b\b\b\b\b\b\b\b\b\b\b\b\b\b\b\b\b\b\b\b\b\b\b\b\b\b\b\b\b\b\b\b\b\b\b\b\b\b\b\b\b\b\b\b\b\b\b\b\r 735/4148 [====>.........................] - ETA: 2s - loss: 58.6457 - accuracy: 0.5238",
      "\b\b\b\b\b\b\b\b\b\b\b\b\b\b\b\b\b\b\b\b\b\b\b\b\b\b\b\b\b\b\b\b\b\b\b\b\b\b\b\b\b\b\b\b\b\b\b\b\b\b\b\b\b\b\b\b\b\b\b\b\b\b\b\b\b\b\b\b\b\b\b\b\b\b\b\b\b\b\b\b\b\b\b\b\b\b\b\r 960/4148 [=====>........................] - ETA: 1s - loss: 52.0580 - accuracy: 0.5219",
      "\b\b\b\b\b\b\b\b\b\b\b\b\b\b\b\b\b\b\b\b\b\b\b\b\b\b\b\b\b\b\b\b\b\b\b\b\b\b\b\b\b\b\b\b\b\b\b\b\b\b\b\b\b\b\b\b\b\b\b\b\b\b\b\b\b\b\b\b\b\b\b\b\b\b\b\b\b\b\b\b\b\b\b\b\b\b\b\r1125/4148 [=======>......................] - ETA: 1s - loss: 47.6011 - accuracy: 0.5244",
      "\b\b\b\b\b\b\b\b\b\b\b\b\b\b\b\b\b\b\b\b\b\b\b\b\b\b\b\b\b\b\b\b\b\b\b\b\b\b\b\b\b\b\b\b\b\b\b\b\b\b\b\b\b\b\b\b\b\b\b\b\b\b\b\b\b\b\b\b\b\b\b\b\b\b\b\b\b\b\b\b\b\b\b\b\b\b\b",
      "\r1330/4148 [========>.....................] - ETA: 1s - loss: 42.8598 - accuracy: 0.5218",
      "\b\b\b\b\b\b\b\b\b\b\b\b\b\b\b\b\b\b\b\b\b\b\b\b\b\b\b\b\b\b\b\b\b\b\b\b\b\b\b\b\b\b\b\b\b\b\b\b\b\b\b\b\b\b\b\b\b\b\b\b\b\b\b\b\b\b\b\b\b\b\b\b\b\b\b\b\b\b\b\b\b\b\b\b\b\b\b\r1540/4148 [==========>...................] - ETA: 1s - loss: 38.9643 - accuracy: 0.5266",
      "\b\b\b\b\b\b\b\b\b\b\b\b\b\b\b\b\b\b\b\b\b\b\b\b\b\b\b\b\b\b\b\b\b\b\b\b\b\b\b\b\b\b\b\b\b\b\b\b\b\b\b\b\b\b\b\b\b\b\b\b\b\b\b\b\b\b\b\b\b\b\b\b\b\b\b\b\b\b\b\b\b\b\b\b\b\b\b\r1765/4148 [===========>..................] - ETA: 0s - loss: 35.3362 - accuracy: 0.5326",
      "\b\b\b\b\b\b\b\b\b\b\b\b\b\b\b\b\b\b\b\b\b\b\b\b\b\b\b\b\b\b\b\b\b\b\b\b\b\b\b\b\b\b\b\b\b\b\b\b\b\b\b\b\b\b\b\b\b\b\b\b\b\b\b\b\b\b\b\b\b\b\b\b\b\b\b\b\b\b\b\b\b\b\b\b\b\b\b\r1955/4148 [=============>................] - ETA: 0s - loss: 32.8922 - accuracy: 0.5309",
      "\b\b\b\b\b\b\b\b\b\b\b\b\b\b\b\b\b\b\b\b\b\b\b\b\b\b\b\b\b\b\b\b\b\b\b\b\b\b\b\b\b\b\b\b\b\b\b\b\b\b\b\b\b\b\b\b\b\b\b\b\b\b\b\b\b\b\b\b\b\b\b\b\b\b\b\b\b\b\b\b\b\b\b\b\b\b\b",
      "\r2215/4148 [===============>..............] - ETA: 0s - loss: 30.1035 - accuracy: 0.5327",
      "\b\b\b\b\b\b\b\b\b\b\b\b\b\b\b\b\b\b\b\b\b\b\b\b\b\b\b\b\b\b\b\b\b\b\b\b\b\b\b\b\b\b\b\b\b\b\b\b\b\b\b\b\b\b\b\b\b\b\b\b\b\b\b\b\b\b\b\b\b\b\b\b\b\b\b\b\b\b\b\b\b\b\b\b\b\b\b\r2465/4148 [================>.............] - ETA: 0s - loss: 27.7261 - accuracy: 0.5327",
      "\b\b\b\b\b\b\b\b\b\b\b\b\b\b\b\b\b\b\b\b\b\b\b\b\b\b\b\b\b\b\b\b\b\b\b\b\b\b\b\b\b\b\b\b\b\b\b\b\b\b\b\b\b\b\b\b\b\b\b\b\b\b\b\b\b\b\b\b\b\b\b\b\b\b\b\b\b\b\b\b\b\b\b\b\b\b\b\r2655/4148 [==================>...........] - ETA: 0s - loss: 26.2775 - accuracy: 0.5277",
      "\b\b\b\b\b\b\b\b\b\b\b\b\b\b\b\b\b\b\b\b\b\b\b\b\b\b\b\b\b\b\b\b\b\b\b\b\b\b\b\b\b\b\b\b\b\b\b\b\b\b\b\b\b\b\b\b\b\b\b\b\b\b\b\b\b\b\b\b\b\b\b\b\b\b\b\b\b\b\b\b\b\b\b\b\b\b\b\r2885/4148 [===================>..........] - ETA: 0s - loss: 24.5790 - accuracy: 0.5258",
      "\b\b\b\b\b\b\b\b\b\b\b\b\b\b\b\b\b\b\b\b\b\b\b\b\b\b\b\b\b\b\b\b\b\b\b\b\b\b\b\b\b\b\b\b\b\b\b\b\b\b\b\b\b\b\b\b\b\b\b\b\b\b\b\b\b\b\b\b\b\b\b\b\b\b\b\b\b\b\b\b\b\b\b\b\b\b\b",
      "\r3105/4148 [=====================>........] - ETA: 0s - loss: 23.1590 - accuracy: 0.5295",
      "\b\b\b\b\b\b\b\b\b\b\b\b\b\b\b\b\b\b\b\b\b\b\b\b\b\b\b\b\b\b\b\b\b\b\b\b\b\b\b\b\b\b\b\b\b\b\b\b\b\b\b\b\b\b\b\b\b\b\b\b\b\b\b\b\b\b\b\b\b\b\b\b\b\b\b\b\b\b\b\b\b\b\b\b\b\b\b\r3335/4148 [=======================>......] - ETA: 0s - loss: 21.8163 - accuracy: 0.5271",
      "\b\b\b\b\b\b\b\b\b\b\b\b\b\b\b\b\b\b\b\b\b\b\b\b\b\b\b\b\b\b\b\b\b\b\b\b\b\b\b\b\b\b\b\b\b\b\b\b\b\b\b\b\b\b\b\b\b\b\b\b\b\b\b\b\b\b\b\b\b\b\b\b\b\b\b\b\b\b\b\b\b\b\b\b\b\b\b\r3560/4148 [========================>.....] - ETA: 0s - loss: 20.6367 - accuracy: 0.5247",
      "\b\b\b\b\b\b\b\b\b\b\b\b\b\b\b\b\b\b\b\b\b\b\b\b\b\b\b\b\b\b\b\b\b\b\b\b\b\b\b\b\b\b\b\b\b\b\b\b\b\b\b\b\b\b\b\b\b\b\b\b\b\b\b\b\b\b\b\b\b\b\b\b\b\b\b\b\b\b\b\b\b\b\b\b\b\b\b\r3755/4148 [==========================>...] - ETA: 0s - loss: 19.6674 - accuracy: 0.5225",
      "\b\b\b\b\b\b\b\b\b\b\b\b\b\b\b\b\b\b\b\b\b\b\b\b\b\b\b\b\b\b\b\b\b\b\b\b\b\b\b\b\b\b\b\b\b\b\b\b\b\b\b\b\b\b\b\b\b\b\b\b\b\b\b\b\b\b\b\b\b\b\b\b\b\b\b\b\b\b\b\b\b\b\b\b\b\b\b",
      "\r3925/4148 [===========================>..] - ETA: 0s - loss: 18.9709 - accuracy: 0.5205",
      "\b\b\b\b\b\b\b\b\b\b\b\b\b\b\b\b\b\b\b\b\b\b\b\b\b\b\b\b\b\b\b\b\b\b\b\b\b\b\b\b\b\b\b\b\b\b\b\b\b\b\b\b\b\b\b\b\b\b\b\b\b\b\b\b\b\b\b\b\b\b\b\b\b\b\b\b\b\b\b\b\b\b\b\b\b\b\b\r4105/4148 [============================>.] - ETA: 0s - loss: 18.2254 - accuracy: 0.5206",
      "\b\b\b\b\b\b\b\b\b\b\b\b\b\b\b\b\b\b\b\b\b\b\b\b\b\b\b\b\b\b\b\b\b\b\b\b\b\b\b\b\b\b\b\b\b\b\b\b\b\b\b\b\b\b\b\b\b\b\b\b\b\b\b\b\b\b\b\b\b\b\b\b\b\b\b\b\b\b\b\b\b\b\b\b\b\b\b\r4148/4148 [==============================] - 1s 307us/step - loss: 18.0704 - accuracy: 0.5200\n",
      "Epoch 2/20\n\r   5/4148 [..............................] - ETA: 1s - loss: 0.8470 - accuracy: 0.4000",
      "\b\b\b\b\b\b\b\b\b\b\b\b\b\b\b\b\b\b\b\b\b\b\b\b\b\b\b\b\b\b\b\b\b\b\b\b\b\b\b\b\b\b\b\b\b\b\b\b\b\b\b\b\b\b\b\b\b\b\b\b\b\b\b\b\b\b\b\b\b\b\b\b\b\b\b\b\b\b\b\b\b\b\b\b\b\b\r 250/4148 [>.............................] - ETA: 0s - loss: 3.2087 - accuracy: 0.4760",
      "\b\b\b\b\b\b\b\b\b\b\b\b\b\b\b\b\b\b\b\b\b\b\b\b\b\b\b\b\b\b\b\b\b\b\b\b\b\b\b\b\b\b\b\b\b\b\b\b\b\b\b\b\b\b\b\b\b\b\b\b\b\b\b\b\b\b\b\b\b\b\b\b\b\b\b\b\b\b\b\b\b\b\b\b\b\b\r 505/4148 [==>...........................] - ETA: 0s - loss: 2.6839 - accuracy: 0.5030",
      "\b\b\b\b\b\b\b\b\b\b\b\b\b\b\b\b\b\b\b\b\b\b\b\b\b\b\b\b\b\b\b\b\b\b\b\b\b\b\b\b\b\b\b\b\b\b\b\b\b\b\b\b\b\b\b\b\b\b\b\b\b\b\b\b\b\b\b\b\b\b\b\b\b\b\b\b\b\b\b\b\b\b\b\b\b\b\r 740/4148 [====>.........................] - ETA: 0s - loss: 2.5475 - accuracy: 0.4905",
      "\b\b\b\b\b\b\b\b\b\b\b\b\b\b\b\b\b\b\b\b\b\b\b\b\b\b\b\b\b\b\b\b\b\b\b\b\b\b\b\b\b\b\b\b\b\b\b\b\b\b\b\b\b\b\b\b\b\b\b\b\b\b\b\b\b\b\b\b\b\b\b\b\b\b\b\b\b\b\b\b\b\b\b\b\b\b",
      "\r 945/4148 [=====>........................] - ETA: 0s - loss: 2.3016 - accuracy: 0.4804",
      "\b\b\b\b\b\b\b\b\b\b\b\b\b\b\b\b\b\b\b\b\b\b\b\b\b\b\b\b\b\b\b\b\b\b\b\b\b\b\b\b\b\b\b\b\b\b\b\b\b\b\b\b\b\b\b\b\b\b\b\b\b\b\b\b\b\b\b\b\b\b\b\b\b\b\b\b\b\b\b\b\b\b\b\b\b\b\r1175/4148 [=======>......................] - ETA: 0s - loss: 2.1057 - accuracy: 0.4868",
      "\b\b\b\b\b\b\b\b\b\b\b\b\b\b\b\b\b\b\b\b\b\b\b\b\b\b\b\b\b\b\b\b\b\b\b\b\b\b\b\b\b\b\b\b\b\b\b\b\b\b\b\b\b\b\b\b\b\b\b\b\b\b\b\b\b\b\b\b\b\b\b\b\b\b\b\b\b\b\b\b\b\b\b\b\b\b\r1435/4148 [=========>....................] - ETA: 0s - loss: 2.0574 - accuracy: 0.4843",
      "\b\b\b\b\b\b\b\b\b\b\b\b\b\b\b\b\b\b\b\b\b\b\b\b\b\b\b\b\b\b\b\b\b\b\b\b\b\b\b\b\b\b\b\b\b\b\b\b\b\b\b\b\b\b\b\b\b\b\b\b\b\b\b\b\b\b\b\b\b\b\b\b\b\b\b\b\b\b\b\b\b\b\b\b\b\b",
      "\r1590/4148 [==========>...................] - ETA: 0s - loss: 2.0116 - accuracy: 0.4855",
      "\b\b\b\b\b\b\b\b\b\b\b\b\b\b\b\b\b\b\b\b\b\b\b\b\b\b\b\b\b\b\b\b\b\b\b\b\b\b\b\b\b\b\b\b\b\b\b\b\b\b\b\b\b\b\b\b\b\b\b\b\b\b\b\b\b\b\b\b\b\b\b\b\b\b\b\b\b\b\b\b\b\b\b\b\b\b\r1810/4148 [============>.................] - ETA: 0s - loss: 1.8953 - accuracy: 0.4840",
      "\b\b\b\b\b\b\b\b\b\b\b\b\b\b\b\b\b\b\b\b\b\b\b\b\b\b\b\b\b\b\b\b\b\b\b\b\b\b\b\b\b\b\b\b\b\b\b\b\b\b\b\b\b\b\b\b\b\b\b\b\b\b\b\b\b\b\b\b\b\b\b\b\b\b\b\b\b\b\b\b\b\b\b\b\b\b\r1980/4148 [=============>................] - ETA: 0s - loss: 1.8166 - accuracy: 0.4859",
      "\b\b\b\b\b\b\b\b\b\b\b\b\b\b\b\b\b\b\b\b\b\b\b\b\b\b\b\b\b\b\b\b\b\b\b\b\b\b\b\b\b\b\b\b\b\b\b\b\b\b\b\b\b\b\b\b\b\b\b\b\b\b\b\b\b\b\b\b\b\b\b\b\b\b\b\b\b\b\b\b\b\b\b\b\b\b\r2180/4148 [==============>...............] - ETA: 0s - loss: 1.7754 - accuracy: 0.4839",
      "\b\b\b\b\b\b\b\b\b\b\b\b\b\b\b\b\b\b\b\b\b\b\b\b\b\b\b\b\b\b\b\b\b\b\b\b\b\b\b\b\b\b\b\b\b\b\b\b\b\b\b\b\b\b\b\b\b\b\b\b\b\b\b\b\b\b\b\b\b\b\b\b\b\b\b\b\b\b\b\b\b\b\b\b\b\b\r2410/4148 [================>.............] - ETA: 0s - loss: 1.7304 - accuracy: 0.4838",
      "\b\b\b\b\b\b\b\b\b\b\b\b\b\b\b\b\b\b\b\b\b\b\b\b\b\b\b\b\b\b\b\b\b\b\b\b\b\b\b\b\b\b\b\b\b\b\b\b\b\b\b\b\b\b\b\b\b\b\b\b\b\b\b\b\b\b\b\b\b\b\b\b\b\b\b\b\b\b\b\b\b\b\b\b\b\b\r2655/4148 [==================>...........] - ETA: 0s - loss: 1.7035 - accuracy: 0.4851",
      "\b\b\b\b\b\b\b\b\b\b\b\b\b\b\b\b\b\b\b\b\b\b\b\b\b\b\b\b\b\b\b\b\b\b\b\b\b\b\b\b\b\b\b\b\b\b\b\b\b\b\b\b\b\b\b\b\b\b\b\b\b\b\b\b\b\b\b\b\b\b\b\b\b\b\b\b\b\b\b\b\b\b\b\b\b\b\r2930/4148 [====================>.........] - ETA: 0s - loss: 1.6371 - accuracy: 0.4846",
      "\b\b\b\b\b\b\b\b\b\b\b\b\b\b\b\b\b\b\b\b\b\b\b\b\b\b\b\b\b\b\b\b\b\b\b\b\b\b\b\b\b\b\b\b\b\b\b\b\b\b\b\b\b\b\b\b\b\b\b\b\b\b\b\b\b\b\b\b\b\b\b\b\b\b\b\b\b\b\b\b\b\b\b\b\b\b\r3230/4148 [======================>.......] - ETA: 0s - loss: 1.6003 - accuracy: 0.4830",
      "\b\b\b\b\b\b\b\b\b\b\b\b\b\b\b\b\b\b\b\b\b\b\b\b\b\b\b\b\b\b\b\b\b\b\b\b\b\b\b\b\b\b\b\b\b\b\b\b\b\b\b\b\b\b\b\b\b\b\b\b\b\b\b\b\b\b\b\b\b\b\b\b\b\b\b\b\b\b\b\b\b\b\b\b\b\b\r3525/4148 [========================>.....] - ETA: 0s - loss: 1.5612 - accuracy: 0.4828",
      "\b\b\b\b\b\b\b\b\b\b\b\b\b\b\b\b\b\b\b\b\b\b\b\b\b\b\b\b\b\b\b\b\b\b\b\b\b\b\b\b\b\b\b\b\b\b\b\b\b\b\b\b\b\b\b\b\b\b\b\b\b\b\b\b\b\b\b\b\b\b\b\b\b\b\b\b\b\b\b\b\b\b\b\b\b\b\r3780/4148 [==========================>...] - ETA: 0s - loss: 1.5216 - accuracy: 0.4817",
      "\b\b\b\b\b\b\b\b\b\b\b\b\b\b\b\b\b\b\b\b\b\b\b\b\b\b\b\b\b\b\b\b\b\b\b\b\b\b\b\b\b\b\b\b\b\b\b\b\b\b\b\b\b\b\b\b\b\b\b\b\b\b\b\b\b\b\b\b\b\b\b\b\b\b\b\b\b\b\b\b\b\b\b\b\b\b\r4000/4148 [===========================>..] - ETA: 0s - loss: 1.4875 - accuracy: 0.4798",
      "\b\b\b\b\b\b\b\b\b\b\b\b\b\b\b\b\b\b\b\b\b\b\b\b\b\b\b\b\b\b\b\b\b\b\b\b\b\b\b\b\b\b\b\b\b\b\b\b\b\b\b\b\b\b\b\b\b\b\b\b\b\b\b\b\b\b\b\b\b\b\b\b\b\b\b\b\b\b\b\b\b\b\b\b\b\b\r4148/4148 [==============================] - 1s 217us/step - loss: 1.4678 - accuracy: 0.4776\n",
      "Epoch 3/20\n\r   5/4148 [..............................] - ETA: 0s - loss: 0.8284 - accuracy: 0.4000",
      "\b\b\b\b\b\b\b\b\b\b\b\b\b\b\b\b\b\b\b\b\b\b\b\b\b\b\b\b\b\b\b\b\b\b\b\b\b\b\b\b\b\b\b\b\b\b\b\b\b\b\b\b\b\b\b\b\b\b\b\b\b\b\b\b\b\b\b\b\b\b\b\b\b\b\b\b\b\b\b\b\b\b\b\b\b\b",
      "\r 240/4148 [>.............................] - ETA: 0s - loss: 1.1359 - accuracy: 0.4500",
      "\b\b\b\b\b\b\b\b\b\b\b\b\b\b\b\b\b\b\b\b\b\b\b\b\b\b\b\b\b\b\b\b\b\b\b\b\b\b\b\b\b\b\b\b\b\b\b\b\b\b\b\b\b\b\b\b\b\b\b\b\b\b\b\b\b\b\b\b\b\b\b\b\b\b\b\b\b\b\b\b\b\b\b\b\b\b",
      "\r 480/4148 [==>...........................] - ETA: 0s - loss: 1.0323 - accuracy: 0.4938",
      "\b\b\b\b\b\b\b\b\b\b\b\b\b\b\b\b\b\b\b\b\b\b\b\b\b\b\b\b\b\b\b\b\b\b\b\b\b\b\b\b\b\b\b\b\b\b\b\b\b\b\b\b\b\b\b\b\b\b\b\b\b\b\b\b\b\b\b\b\b\b\b\b\b\b\b\b\b\b\b\b\b\b\b\b\b\b",
      "\r 750/4148 [====>.........................] - ETA: 0s - loss: 1.0920 - accuracy: 0.4893",
      "\b\b\b\b\b\b\b\b\b\b\b\b\b\b\b\b\b\b\b\b\b\b\b\b\b\b\b\b\b\b\b\b\b\b\b\b\b\b\b\b\b\b\b\b\b\b\b\b\b\b\b\b\b\b\b\b\b\b\b\b\b\b\b\b\b\b\b\b\b\b\b\b\b\b\b\b\b\b\b\b\b\b\b\b\b\b\r1015/4148 [======>.......................] - ETA: 0s - loss: 1.0334 - accuracy: 0.4926",
      "\b\b\b\b\b\b\b\b\b\b\b\b\b\b\b\b\b\b\b\b\b\b\b\b\b\b\b\b\b\b\b\b\b\b\b\b\b\b\b\b\b\b\b\b\b\b\b\b\b\b\b\b\b\b\b\b\b\b\b\b\b\b\b\b\b\b\b\b\b\b\b\b\b\b\b\b\b\b\b\b\b\b\b\b\b\b\r1210/4148 [=======>......................] - ETA: 0s - loss: 1.0216 - accuracy: 0.5025",
      "\b\b\b\b\b\b\b\b\b\b\b\b\b\b\b\b\b\b\b\b\b\b\b\b\b\b\b\b\b\b\b\b\b\b\b\b\b\b\b\b\b\b\b\b\b\b\b\b\b\b\b\b\b\b\b\b\b\b\b\b\b\b\b\b\b\b\b\b\b\b\b\b\b\b\b\b\b\b\b\b\b\b\b\b\b\b\r1455/4148 [=========>....................] - ETA: 0s - loss: 1.0470 - accuracy: 0.4962",
      "\b\b\b\b\b\b\b\b\b\b\b\b\b\b\b\b\b\b\b\b\b\b\b\b\b\b\b\b\b\b\b\b\b\b\b\b\b\b\b\b\b\b\b\b\b\b\b\b\b\b\b\b\b\b\b\b\b\b\b\b\b\b\b\b\b\b\b\b\b\b\b\b\b\b\b\b\b\b\b\b\b\b\b\b\b\b\r1695/4148 [===========>..................] - ETA: 0s - loss: 1.0453 - accuracy: 0.4968",
      "\b\b\b\b\b\b\b\b\b\b\b\b\b\b\b\b\b\b\b\b\b\b\b\b\b\b\b\b\b\b\b\b\b\b\b\b\b\b\b\b\b\b\b\b\b\b\b\b\b\b\b\b\b\b\b\b\b\b\b\b\b\b\b\b\b\b\b\b\b\b\b\b\b\b\b\b\b\b\b\b\b\b\b\b\b\b",
      "\r1970/4148 [=============>................] - ETA: 0s - loss: 1.0420 - accuracy: 0.4919",
      "\b\b\b\b\b\b\b\b\b\b\b\b\b\b\b\b\b\b\b\b\b\b\b\b\b\b\b\b\b\b\b\b\b\b\b\b\b\b\b\b\b\b\b\b\b\b\b\b\b\b\b\b\b\b\b\b\b\b\b\b\b\b\b\b\b\b\b\b\b\b\b\b\b\b\b\b\b\b\b\b\b\b\b\b\b\b\r2195/4148 [==============>...............] - ETA: 0s - loss: 1.0400 - accuracy: 0.4925",
      "\b\b\b\b\b\b\b\b\b\b\b\b\b\b\b\b\b\b\b\b\b\b\b\b\b\b\b\b\b\b\b\b\b\b\b\b\b\b\b\b\b\b\b\b\b\b\b\b\b\b\b\b\b\b\b\b\b\b\b\b\b\b\b\b\b\b\b\b\b\b\b\b\b\b\b\b\b\b\b\b\b\b\b\b\b\b\r2440/4148 [================>.............] - ETA: 0s - loss: 1.0338 - accuracy: 0.4930",
      "\b\b\b\b\b\b\b\b\b\b\b\b\b\b\b\b\b\b\b\b\b\b\b\b\b\b\b\b\b\b\b\b\b\b\b\b\b\b\b\b\b\b\b\b\b\b\b\b\b\b\b\b\b\b\b\b\b\b\b\b\b\b\b\b\b\b\b\b\b\b\b\b\b\b\b\b\b\b\b\b\b\b\b\b\b\b\r2690/4148 [==================>...........] - ETA: 0s - loss: 1.0265 - accuracy: 0.4937",
      "\b\b\b\b\b\b\b\b\b\b\b\b\b\b\b\b\b\b\b\b\b\b\b\b\b\b\b\b\b\b\b\b\b\b\b\b\b\b\b\b\b\b\b\b\b\b\b\b\b\b\b\b\b\b\b\b\b\b\b\b\b\b\b\b\b\b\b\b\b\b\b\b\b\b\b\b\b\b\b\b\b\b\b\b\b\b\r2930/4148 [====================>.........] - ETA: 0s - loss: 1.0530 - accuracy: 0.4911",
      "\b\b\b\b\b\b\b\b\b\b\b\b\b\b\b\b\b\b\b\b\b\b\b\b\b\b\b\b\b\b\b\b\b\b\b\b\b\b\b\b\b\b\b\b\b\b\b\b\b\b\b\b\b\b\b\b\b\b\b\b\b\b\b\b\b\b\b\b\b\b\b\b\b\b\b\b\b\b\b\b\b\b\b\b\b\b\r3190/4148 [======================>.......] - ETA: 0s - loss: 1.0377 - accuracy: 0.4909",
      "\b\b\b\b\b\b\b\b\b\b\b\b\b\b\b\b\b\b\b\b\b\b\b\b\b\b\b\b\b\b\b\b\b\b\b\b\b\b\b\b\b\b\b\b\b\b\b\b\b\b\b\b\b\b\b\b\b\b\b\b\b\b\b\b\b\b\b\b\b\b\b\b\b\b\b\b\b\b\b\b\b\b\b\b\b\b\r3415/4148 [=======================>......] - ETA: 0s - loss: 1.0296 - accuracy: 0.4864",
      "\b\b\b\b\b\b\b\b\b\b\b\b\b\b\b\b\b\b\b\b\b\b\b\b\b\b\b\b\b\b\b\b\b\b\b\b\b\b\b\b\b\b\b\b\b\b\b\b\b\b\b\b\b\b\b\b\b\b\b\b\b\b\b\b\b\b\b\b\b\b\b\b\b\b\b\b\b\b\b\b\b\b\b\b\b\b\r3580/4148 [========================>.....] - ETA: 0s - loss: 1.0185 - accuracy: 0.4880",
      "\b\b\b\b\b\b\b\b\b\b\b\b\b\b\b\b\b\b\b\b\b\b\b\b\b\b\b\b\b\b\b\b\b\b\b\b\b\b\b\b\b\b\b\b\b\b\b\b\b\b\b\b\b\b\b\b\b\b\b\b\b\b\b\b\b\b\b\b\b\b\b\b\b\b\b\b\b\b\b\b\b\b\b\b\b\b\r3770/4148 [==========================>...] - ETA: 0s - loss: 1.0068 - accuracy: 0.4889",
      "\b\b\b\b\b\b\b\b\b\b\b\b\b\b\b\b\b\b\b\b\b\b\b\b\b\b\b\b\b\b\b\b\b\b\b\b\b\b\b\b\b\b\b\b\b\b\b\b\b\b\b\b\b\b\b\b\b\b\b\b\b\b\b\b\b\b\b\b\b\b\b\b\b\b\b\b\b\b\b\b\b\b\b\b\b\b\r3965/4148 [===========================>..] - ETA: 0s - loss: 1.0050 - accuracy: 0.4893",
      "\b\b\b\b\b\b\b\b\b\b\b\b\b\b\b\b\b\b\b\b\b\b\b\b\b\b\b\b\b\b\b\b\b\b\b\b\b\b\b\b\b\b\b\b\b\b\b\b\b\b\b\b\b\b\b\b\b\b\b\b\b\b\b\b\b\b\b\b\b\b\b\b\b\b\b\b\b\b\b\b\b\b\b\b\b\b\r4148/4148 [==============================] - 1s 219us/step - loss: 0.9987 - accuracy: 0.4904\n",
      "Epoch 4/20\n\r   5/4148 [..............................] - ETA: 0s - loss: 0.6722 - accuracy: 0.8000",
      "\b\b\b\b\b\b\b\b\b\b\b\b\b\b\b\b\b\b\b\b\b\b\b\b\b\b\b\b\b\b\b\b\b\b\b\b\b\b\b\b\b\b\b\b\b\b\b\b\b\b\b\b\b\b\b\b\b\b\b\b\b\b\b\b\b\b\b\b\b\b\b\b\b\b\b\b\b\b\b\b\b\b\b\b\b\b\r 260/4148 [>.............................] - ETA: 0s - loss: 0.8297 - accuracy: 0.5577",
      "\b\b\b\b\b\b\b\b\b\b\b\b\b\b\b\b\b\b\b\b\b\b\b\b\b\b\b\b\b\b\b\b\b\b\b\b\b\b\b\b\b\b\b\b\b\b\b\b\b\b\b\b\b\b\b\b\b\b\b\b\b\b\b\b\b\b\b\b\b\b\b\b\b\b\b\b\b\b\b\b\b\b\b\b\b\b",
      "\r 515/4148 [==>...........................] - ETA: 0s - loss: 0.8097 - accuracy: 0.5204",
      "\b\b\b\b\b\b\b\b\b\b\b\b\b\b\b\b\b\b\b\b\b\b\b\b\b\b\b\b\b\b\b\b\b\b\b\b\b\b\b\b\b\b\b\b\b\b\b\b\b\b\b\b\b\b\b\b\b\b\b\b\b\b\b\b\b\b\b\b\b\b\b\b\b\b\b\b\b\b\b\b\b\b\b\b\b\b\r 770/4148 [====>.........................] - ETA: 0s - loss: 0.7715 - accuracy: 0.5169",
      "\b\b\b\b\b\b\b\b\b\b\b\b\b\b\b\b\b\b\b\b\b\b\b\b\b\b\b\b\b\b\b\b\b\b\b\b\b\b\b\b\b\b\b\b\b\b\b\b\b\b\b\b\b\b\b\b\b\b\b\b\b\b\b\b\b\b\b\b\b\b\b\b\b\b\b\b\b\b\b\b\b\b\b\b\b\b\r1020/4148 [======>.......................] - ETA: 0s - loss: 0.7699 - accuracy: 0.5108",
      "\b\b\b\b\b\b\b\b\b\b\b\b\b\b\b\b\b\b\b\b\b\b\b\b\b\b\b\b\b\b\b\b\b\b\b\b\b\b\b\b\b\b\b\b\b\b\b\b\b\b\b\b\b\b\b\b\b\b\b\b\b\b\b\b\b\b\b\b\b\b\b\b\b\b\b\b\b\b\b\b\b\b\b\b\b\b\r1190/4148 [=======>......................] - ETA: 0s - loss: 0.7888 - accuracy: 0.5185",
      "\b\b\b\b\b\b\b\b\b\b\b\b\b\b\b\b\b\b\b\b\b\b\b\b\b\b\b\b\b\b\b\b\b\b\b\b\b\b\b\b\b\b\b\b\b\b\b\b\b\b\b\b\b\b\b\b\b\b\b\b\b\b\b\b\b\b\b\b\b\b\b\b\b\b\b\b\b\b\b\b\b\b\b\b\b\b",
      "\r1375/4148 [========>.....................] - ETA: 0s - loss: 0.7894 - accuracy: 0.5280",
      "\b\b\b\b\b\b\b\b\b\b\b\b\b\b\b\b\b\b\b\b\b\b\b\b\b\b\b\b\b\b\b\b\b\b\b\b\b\b\b\b\b\b\b\b\b\b\b\b\b\b\b\b\b\b\b\b\b\b\b\b\b\b\b\b\b\b\b\b\b\b\b\b\b\b\b\b\b\b\b\b\b\b\b\b\b\b\r1605/4148 [==========>...................] - ETA: 0s - loss: 0.8043 - accuracy: 0.5234",
      "\b\b\b\b\b\b\b\b\b\b\b\b\b\b\b\b\b\b\b\b\b\b\b\b\b\b\b\b\b\b\b\b\b\b\b\b\b\b\b\b\b\b\b\b\b\b\b\b\b\b\b\b\b\b\b\b\b\b\b\b\b\b\b\b\b\b\b\b\b\b\b\b\b\b\b\b\b\b\b\b\b\b\b\b\b\b\r1825/4148 [============>.................] - ETA: 0s - loss: 0.8199 - accuracy: 0.5222",
      "\b\b\b\b\b\b\b\b\b\b\b\b\b\b\b\b\b\b\b\b\b\b\b\b\b\b\b\b\b\b\b\b\b\b\b\b\b\b\b\b\b\b\b\b\b\b\b\b\b\b\b\b\b\b\b\b\b\b\b\b\b\b\b\b\b\b\b\b\b\b\b\b\b\b\b\b\b\b\b\b\b\b\b\b\b\b\r2040/4148 [=============>................] - ETA: 0s - loss: 0.8394 - accuracy: 0.5260",
      "\b\b\b\b\b\b\b\b\b\b\b\b\b\b\b\b\b\b\b\b\b\b\b\b\b\b\b\b\b\b\b\b\b\b\b\b\b\b\b\b\b\b\b\b\b\b\b\b\b\b\b\b\b\b\b\b\b\b\b\b\b\b\b\b\b\b\b\b\b\b\b\b\b\b\b\b\b\b\b\b\b\b\b\b\b\b",
      "\r2275/4148 [===============>..............] - ETA: 0s - loss: 0.8360 - accuracy: 0.5235",
      "\b\b\b\b\b\b\b\b\b\b\b\b\b\b\b\b\b\b\b\b\b\b\b\b\b\b\b\b\b\b\b\b\b\b\b\b\b\b\b\b\b\b\b\b\b\b\b\b\b\b\b\b\b\b\b\b\b\b\b\b\b\b\b\b\b\b\b\b\b\b\b\b\b\b\b\b\b\b\b\b\b\b\b\b\b\b\r2410/4148 [================>.............] - ETA: 0s - loss: 0.8306 - accuracy: 0.5241",
      "\b\b\b\b\b\b\b\b\b\b\b\b\b\b\b\b\b\b\b\b\b\b\b\b\b\b\b\b\b\b\b\b\b\b\b\b\b\b\b\b\b\b\b\b\b\b\b\b\b\b\b\b\b\b\b\b\b\b\b\b\b\b\b\b\b\b\b\b\b\b\b\b\b\b\b\b\b\b\b\b\b\b\b\b\b\b\r2635/4148 [==================>...........] - ETA: 0s - loss: 0.8210 - accuracy: 0.5252",
      "\b\b\b\b\b\b\b\b\b\b\b\b\b\b\b\b\b\b\b\b\b\b\b\b\b\b\b\b\b\b\b\b\b\b\b\b\b\b\b\b\b\b\b\b\b\b\b\b\b\b\b\b\b\b\b\b\b\b\b\b\b\b\b\b\b\b\b\b\b\b\b\b\b\b\b\b\b\b\b\b\b\b\b\b\b\b\r2890/4148 [===================>..........] - ETA: 0s - loss: 0.8316 - accuracy: 0.5208",
      "\b\b\b\b\b\b\b\b\b\b\b\b\b\b\b\b\b\b\b\b\b\b\b\b\b\b\b\b\b\b\b\b\b\b\b\b\b\b\b\b\b\b\b\b\b\b\b\b\b\b\b\b\b\b\b\b\b\b\b\b\b\b\b\b\b\b\b\b\b\b\b\b\b\b\b\b\b\b\b\b\b\b\b\b\b\b\r3150/4148 [=====================>........] - ETA: 0s - loss: 0.8310 - accuracy: 0.5171",
      "\b\b\b\b\b\b\b\b\b\b\b\b\b\b\b\b\b\b\b\b\b\b\b\b\b\b\b\b\b\b\b\b\b\b\b\b\b\b\b\b\b\b\b\b\b\b\b\b\b\b\b\b\b\b\b\b\b\b\b\b\b\b\b\b\b\b\b\b\b\b\b\b\b\b\b\b\b\b\b\b\b\b\b\b\b\b\r3380/4148 [=======================>......] - ETA: 0s - loss: 0.8246 - accuracy: 0.5163",
      "\b\b\b\b\b\b\b\b\b\b\b\b\b\b\b\b\b\b\b\b\b\b\b\b\b\b\b\b\b\b\b\b\b\b\b\b\b\b\b\b\b\b\b\b\b\b\b\b\b\b\b\b\b\b\b\b\b\b\b\b\b\b\b\b\b\b\b\b\b\b\b\b\b\b\b\b\b\b\b\b\b\b\b\b\b\b\r3660/4148 [=========================>....] - ETA: 0s - loss: 0.8193 - accuracy: 0.5202",
      "\b\b\b\b\b\b\b\b\b\b\b\b\b\b\b\b\b\b\b\b\b\b\b\b\b\b\b\b\b\b\b\b\b\b\b\b\b\b\b\b\b\b\b\b\b\b\b\b\b\b\b\b\b\b\b\b\b\b\b\b\b\b\b\b\b\b\b\b\b\b\b\b\b\b\b\b\b\b\b\b\b\b\b\b\b\b\r3910/4148 [===========================>..] - ETA: 0s - loss: 0.8208 - accuracy: 0.5187",
      "\b\b\b\b\b\b\b\b\b\b\b\b\b\b\b\b\b\b\b\b\b\b\b\b\b\b\b\b\b\b\b\b\b\b\b\b\b\b\b\b\b\b\b\b\b\b\b\b\b\b\b\b\b\b\b\b\b\b\b\b\b\b\b\b\b\b\b\b\b\b\b\b\b\b\b\b\b\b\b\b\b\b\b\b\b\b",
      "\r4148/4148 [==============================] - 1s 221us/step - loss: 0.8282 - accuracy: 0.5181\n",
      "Epoch 5/20\n\r   5/4148 [..............................] - ETA: 0s - loss: 0.5239 - accuracy: 0.6000",
      "\b\b\b\b\b\b\b\b\b\b\b\b\b\b\b\b\b\b\b\b\b\b\b\b\b\b\b\b\b\b\b\b\b\b\b\b\b\b\b\b\b\b\b\b\b\b\b\b\b\b\b\b\b\b\b\b\b\b\b\b\b\b\b\b\b\b\b\b\b\b\b\b\b\b\b\b\b\b\b\b\b\b\b\b\b\b\r 260/4148 [>.............................] - ETA: 0s - loss: 0.8001 - accuracy: 0.5538",
      "\b\b\b\b\b\b\b\b\b\b\b\b\b\b\b\b\b\b\b\b\b\b\b\b\b\b\b\b\b\b\b\b\b\b\b\b\b\b\b\b\b\b\b\b\b\b\b\b\b\b\b\b\b\b\b\b\b\b\b\b\b\b\b\b\b\b\b\b\b\b\b\b\b\b\b\b\b\b\b\b\b\b\b\b\b\b\r 540/4148 [==>...........................] - ETA: 0s - loss: 0.8734 - accuracy: 0.5389",
      "\b\b\b\b\b\b\b\b\b\b\b\b\b\b\b\b\b\b\b\b\b\b\b\b\b\b\b\b\b\b\b\b\b\b\b\b\b\b\b\b\b\b\b\b\b\b\b\b\b\b\b\b\b\b\b\b\b\b\b\b\b\b\b\b\b\b\b\b\b\b\b\b\b\b\b\b\b\b\b\b\b\b\b\b\b\b\r 810/4148 [====>.........................] - ETA: 0s - loss: 0.8862 - accuracy: 0.5370",
      "\b\b\b\b\b\b\b\b\b\b\b\b\b\b\b\b\b\b\b\b\b\b\b\b\b\b\b\b\b\b\b\b\b\b\b\b\b\b\b\b\b\b\b\b\b\b\b\b\b\b\b\b\b\b\b\b\b\b\b\b\b\b\b\b\b\b\b\b\b\b\b\b\b\b\b\b\b\b\b\b\b\b\b\b\b\b",
      "\r1075/4148 [======>.......................] - ETA: 0s - loss: 0.8769 - accuracy: 0.5330",
      "\b\b\b\b\b\b\b\b\b\b\b\b\b\b\b\b\b\b\b\b\b\b\b\b\b\b\b\b\b\b\b\b\b\b\b\b\b\b\b\b\b\b\b\b\b\b\b\b\b\b\b\b\b\b\b\b\b\b\b\b\b\b\b\b\b\b\b\b\b\b\b\b\b\b\b\b\b\b\b\b\b\b\b\b\b\b\r1310/4148 [========>.....................] - ETA: 0s - loss: 0.8540 - accuracy: 0.5267",
      "\b\b\b\b\b\b\b\b\b\b\b\b\b\b\b\b\b\b\b\b\b\b\b\b\b\b\b\b\b\b\b\b\b\b\b\b\b\b\b\b\b\b\b\b\b\b\b\b\b\b\b\b\b\b\b\b\b\b\b\b\b\b\b\b\b\b\b\b\b\b\b\b\b\b\b\b\b\b\b\b\b\b\b\b\b\b\r1500/4148 [=========>....................] - ETA: 0s - loss: 0.8513 - accuracy: 0.5133",
      "\b\b\b\b\b\b\b\b\b\b\b\b\b\b\b\b\b\b\b\b\b\b\b\b\b\b\b\b\b\b\b\b\b\b\b\b\b\b\b\b\b\b\b\b\b\b\b\b\b\b\b\b\b\b\b\b\b\b\b\b\b\b\b\b\b\b\b\b\b\b\b\b\b\b\b\b\b\b\b\b\b\b\b\b\b\b\r1675/4148 [===========>..................] - ETA: 0s - loss: 0.8345 - accuracy: 0.5152",
      "\b\b\b\b\b\b\b\b\b\b\b\b\b\b\b\b\b\b\b\b\b\b\b\b\b\b\b\b\b\b\b\b\b\b\b\b\b\b\b\b\b\b\b\b\b\b\b\b\b\b\b\b\b\b\b\b\b\b\b\b\b\b\b\b\b\b\b\b\b\b\b\b\b\b\b\b\b\b\b\b\b\b\b\b\b\b\r1860/4148 [============>.................] - ETA: 0s - loss: 0.8344 - accuracy: 0.5215",
      "\b\b\b\b\b\b\b\b\b\b\b\b\b\b\b\b\b\b\b\b\b\b\b\b\b\b\b\b\b\b\b\b\b\b\b\b\b\b\b\b\b\b\b\b\b\b\b\b\b\b\b\b\b\b\b\b\b\b\b\b\b\b\b\b\b\b\b\b\b\b\b\b\b\b\b\b\b\b\b\b\b\b\b\b\b\b\r2080/4148 [==============>...............] - ETA: 0s - loss: 0.8280 - accuracy: 0.5192",
      "\b\b\b\b\b\b\b\b\b\b\b\b\b\b\b\b\b\b\b\b\b\b\b\b\b\b\b\b\b\b\b\b\b\b\b\b\b\b\b\b\b\b\b\b\b\b\b\b\b\b\b\b\b\b\b\b\b\b\b\b\b\b\b\b\b\b\b\b\b\b\b\b\b\b\b\b\b\b\b\b\b\b\b\b\b\b\r2290/4148 [===============>..............] - ETA: 0s - loss: 0.8245 - accuracy: 0.5218",
      "\b\b\b\b\b\b\b\b\b\b\b\b\b\b\b\b\b\b\b\b\b\b\b\b\b\b\b\b\b\b\b\b\b\b\b\b\b\b\b\b\b\b\b\b\b\b\b\b\b\b\b\b\b\b\b\b\b\b\b\b\b\b\b\b\b\b\b\b\b\b\b\b\b\b\b\b\b\b\b\b\b\b\b\b\b\b",
      "\r2560/4148 [=================>............] - ETA: 0s - loss: 0.8336 - accuracy: 0.5180",
      "\b\b\b\b\b\b\b\b\b\b\b\b\b\b\b\b\b\b\b\b\b\b\b\b\b\b\b\b\b\b\b\b\b\b\b\b\b\b\b\b\b\b\b\b\b\b\b\b\b\b\b\b\b\b\b\b\b\b\b\b\b\b\b\b\b\b\b\b\b\b\b\b\b\b\b\b\b\b\b\b\b\b\b\b\b\b\r2800/4148 [===================>..........] - ETA: 0s - loss: 0.8264 - accuracy: 0.5218",
      "\b\b\b\b\b\b\b\b\b\b\b\b\b\b\b\b\b\b\b\b\b\b\b\b\b\b\b\b\b\b\b\b\b\b\b\b\b\b\b\b\b\b\b\b\b\b\b\b\b\b\b\b\b\b\b\b\b\b\b\b\b\b\b\b\b\b\b\b\b\b\b\b\b\b\b\b\b\b\b\b\b\b\b\b\b\b\r3060/4148 [=====================>........] - ETA: 0s - loss: 0.8285 - accuracy: 0.5235",
      "\b\b\b\b\b\b\b\b\b\b\b\b\b\b\b\b\b\b\b\b\b\b\b\b\b\b\b\b\b\b\b\b\b\b\b\b\b\b\b\b\b\b\b\b\b\b\b\b\b\b\b\b\b\b\b\b\b\b\b\b\b\b\b\b\b\b\b\b\b\b\b\b\b\b\b\b\b\b\b\b\b\b\b\b\b\b\r3320/4148 [=======================>......] - ETA: 0s - loss: 0.8291 - accuracy: 0.5217",
      "\b\b\b\b\b\b\b\b\b\b\b\b\b\b\b\b\b\b\b\b\b\b\b\b\b\b\b\b\b\b\b\b\b\b\b\b\b\b\b\b\b\b\b\b\b\b\b\b\b\b\b\b\b\b\b\b\b\b\b\b\b\b\b\b\b\b\b\b\b\b\b\b\b\b\b\b\b\b\b\b\b\b\b\b\b\b",
      "\r3555/4148 [========================>.....] - ETA: 0s - loss: 0.8333 - accuracy: 0.5224",
      "\b\b\b\b\b\b\b\b\b\b\b\b\b\b\b\b\b\b\b\b\b\b\b\b\b\b\b\b\b\b\b\b\b\b\b\b\b\b\b\b\b\b\b\b\b\b\b\b\b\b\b\b\b\b\b\b\b\b\b\b\b\b\b\b\b\b\b\b\b\b\b\b\b\b\b\b\b\b\b\b\b\b\b\b\b\b\r3755/4148 [==========================>...] - ETA: 0s - loss: 0.8296 - accuracy: 0.5204",
      "\b\b\b\b\b\b\b\b\b\b\b\b\b\b\b\b\b\b\b\b\b\b\b\b\b\b\b\b\b\b\b\b\b\b\b\b\b\b\b\b\b\b\b\b\b\b\b\b\b\b\b\b\b\b\b\b\b\b\b\b\b\b\b\b\b\b\b\b\b\b\b\b\b\b\b\b\b\b\b\b\b\b\b\b\b\b\r3980/4148 [===========================>..] - ETA: 0s - loss: 0.8274 - accuracy: 0.5186",
      "\b\b\b\b\b\b\b\b\b\b\b\b\b\b\b\b\b\b\b\b\b\b\b\b\b\b\b\b\b\b\b\b\b\b\b\b\b\b\b\b\b\b\b\b\b\b\b\b\b\b\b\b\b\b\b\b\b\b\b\b\b\b\b\b\b\b\b\b\b\b\b\b\b\b\b\b\b\b\b\b\b\b\b\b\b\b",
      "\r4148/4148 [==============================] - 1s 219us/step - loss: 0.8275 - accuracy: 0.5203\n",
      "Epoch 6/20\n\r   5/4148 [..............................] - ETA: 0s - loss: 0.7004 - accuracy: 0.4000",
      "\b\b\b\b\b\b\b\b\b\b\b\b\b\b\b\b\b\b\b\b\b\b\b\b\b\b\b\b\b\b\b\b\b\b\b\b\b\b\b\b\b\b\b\b\b\b\b\b\b\b\b\b\b\b\b\b\b\b\b\b\b\b\b\b\b\b\b\b\b\b\b\b\b\b\b\b\b\b\b\b\b\b\b\b\b\b",
      "\r 130/4148 [..............................] - ETA: 1s - loss: 0.7199 - accuracy: 0.5462",
      "\b\b\b\b\b\b\b\b\b\b\b\b\b\b\b\b\b\b\b\b\b\b\b\b\b\b\b\b\b\b\b\b\b\b\b\b\b\b\b\b\b\b\b\b\b\b\b\b\b\b\b\b\b\b\b\b\b\b\b\b\b\b\b\b\b\b\b\b\b\b\b\b\b\b\b\b\b\b\b\b\b\b\b\b\b\b",
      "\r 310/4148 [=>............................] - ETA: 1s - loss: 0.7003 - accuracy: 0.5742",
      "\b\b\b\b\b\b\b\b\b\b\b\b\b\b\b\b\b\b\b\b\b\b\b\b\b\b\b\b\b\b\b\b\b\b\b\b\b\b\b\b\b\b\b\b\b\b\b\b\b\b\b\b\b\b\b\b\b\b\b\b\b\b\b\b\b\b\b\b\b\b\b\b\b\b\b\b\b\b\b\b\b\b\b\b\b\b\r 545/4148 [==>...........................] - ETA: 1s - loss: 0.7522 - accuracy: 0.5651",
      "\b\b\b\b\b\b\b\b\b\b\b\b\b\b\b\b\b\b\b\b\b\b\b\b\b\b\b\b\b\b\b\b\b\b\b\b\b\b\b\b\b\b\b\b\b\b\b\b\b\b\b\b\b\b\b\b\b\b\b\b\b\b\b\b\b\b\b\b\b\b\b\b\b\b\b\b\b\b\b\b\b\b\b\b\b\b\r 790/4148 [====>.........................] - ETA: 0s - loss: 0.7582 - accuracy: 0.5557",
      "\b\b\b\b\b\b\b\b\b\b\b\b\b\b\b\b\b\b\b\b\b\b\b\b\b\b\b\b\b\b\b\b\b\b\b\b\b\b\b\b\b\b\b\b\b\b\b\b\b\b\b\b\b\b\b\b\b\b\b\b\b\b\b\b\b\b\b\b\b\b\b\b\b\b\b\b\b\b\b\b\b\b\b\b\b\b\r1075/4148 [======>.......................] - ETA: 0s - loss: 0.7693 - accuracy: 0.5581",
      "\b\b\b\b\b\b\b\b\b\b\b\b\b\b\b\b\b\b\b\b\b\b\b\b\b\b\b\b\b\b\b\b\b\b\b\b\b\b\b\b\b\b\b\b\b\b\b\b\b\b\b\b\b\b\b\b\b\b\b\b\b\b\b\b\b\b\b\b\b\b\b\b\b\b\b\b\b\b\b\b\b\b\b\b\b\b\r1310/4148 [========>.....................] - ETA: 0s - loss: 0.7631 - accuracy: 0.5557",
      "\b\b\b\b\b\b\b\b\b\b\b\b\b\b\b\b\b\b\b\b\b\b\b\b\b\b\b\b\b\b\b\b\b\b\b\b\b\b\b\b\b\b\b\b\b\b\b\b\b\b\b\b\b\b\b\b\b\b\b\b\b\b\b\b\b\b\b\b\b\b\b\b\b\b\b\b\b\b\b\b\b\b\b\b\b\b\r1535/4148 [==========>...................] - ETA: 0s - loss: 0.7634 - accuracy: 0.5544",
      "\b\b\b\b\b\b\b\b\b\b\b\b\b\b\b\b\b\b\b\b\b\b\b\b\b\b\b\b\b\b\b\b\b\b\b\b\b\b\b\b\b\b\b\b\b\b\b\b\b\b\b\b\b\b\b\b\b\b\b\b\b\b\b\b\b\b\b\b\b\b\b\b\b\b\b\b\b\b\b\b\b\b\b\b\b\b\r1785/4148 [===========>..................] - ETA: 0s - loss: 0.7554 - accuracy: 0.5479",
      "\b\b\b\b\b\b\b\b\b\b\b\b\b\b\b\b\b\b\b\b\b\b\b\b\b\b\b\b\b\b\b\b\b\b\b\b\b\b\b\b\b\b\b\b\b\b\b\b\b\b\b\b\b\b\b\b\b\b\b\b\b\b\b\b\b\b\b\b\b\b\b\b\b\b\b\b\b\b\b\b\b\b\b\b\b\b\r2055/4148 [=============>................] - ETA: 0s - loss: 0.7482 - accuracy: 0.5460",
      "\b\b\b\b\b\b\b\b\b\b\b\b\b\b\b\b\b\b\b\b\b\b\b\b\b\b\b\b\b\b\b\b\b\b\b\b\b\b\b\b\b\b\b\b\b\b\b\b\b\b\b\b\b\b\b\b\b\b\b\b\b\b\b\b\b\b\b\b\b\b\b\b\b\b\b\b\b\b\b\b\b\b\b\b\b\b",
      "\r2285/4148 [===============>..............] - ETA: 0s - loss: 0.7591 - accuracy: 0.5409",
      "\b\b\b\b\b\b\b\b\b\b\b\b\b\b\b\b\b\b\b\b\b\b\b\b\b\b\b\b\b\b\b\b\b\b\b\b\b\b\b\b\b\b\b\b\b\b\b\b\b\b\b\b\b\b\b\b\b\b\b\b\b\b\b\b\b\b\b\b\b\b\b\b\b\b\b\b\b\b\b\b\b\b\b\b\b\b\r2470/4148 [================>.............] - ETA: 0s - loss: 0.7623 - accuracy: 0.5393",
      "\b\b\b\b\b\b\b\b\b\b\b\b\b\b\b\b\b\b\b\b\b\b\b\b\b\b\b\b\b\b\b\b\b\b\b\b\b\b\b\b\b\b\b\b\b\b\b\b\b\b\b\b\b\b\b\b\b\b\b\b\b\b\b\b\b\b\b\b\b\b\b\b\b\b\b\b\b\b\b\b\b\b\b\b\b\b\r2670/4148 [==================>...........] - ETA: 0s - loss: 0.7732 - accuracy: 0.5333",
      "\b\b\b\b\b\b\b\b\b\b\b\b\b\b\b\b\b\b\b\b\b\b\b\b\b\b\b\b\b\b\b\b\b\b\b\b\b\b\b\b\b\b\b\b\b\b\b\b\b\b\b\b\b\b\b\b\b\b\b\b\b\b\b\b\b\b\b\b\b\b\b\b\b\b\b\b\b\b\b\b\b\b\b\b\b\b\r2890/4148 [===================>..........] - ETA: 0s - loss: 0.7749 - accuracy: 0.5318",
      "\b\b\b\b\b\b\b\b\b\b\b\b\b\b\b\b\b\b\b\b\b\b\b\b\b\b\b\b\b\b\b\b\b\b\b\b\b\b\b\b\b\b\b\b\b\b\b\b\b\b\b\b\b\b\b\b\b\b\b\b\b\b\b\b\b\b\b\b\b\b\b\b\b\b\b\b\b\b\b\b\b\b\b\b\b\b",
      "\r3120/4148 [=====================>........] - ETA: 0s - loss: 0.7779 - accuracy: 0.5317",
      "\b\b\b\b\b\b\b\b\b\b\b\b\b\b\b\b\b\b\b\b\b\b\b\b\b\b\b\b\b\b\b\b\b\b\b\b\b\b\b\b\b\b\b\b\b\b\b\b\b\b\b\b\b\b\b\b\b\b\b\b\b\b\b\b\b\b\b\b\b\b\b\b\b\b\b\b\b\b\b\b\b\b\b\b\b\b\r3350/4148 [=======================>......] - ETA: 0s - loss: 0.7773 - accuracy: 0.5322",
      "\b\b\b\b\b\b\b\b\b\b\b\b\b\b\b\b\b\b\b\b\b\b\b\b\b\b\b\b\b\b\b\b\b\b\b\b\b\b\b\b\b\b\b\b\b\b\b\b\b\b\b\b\b\b\b\b\b\b\b\b\b\b\b\b\b\b\b\b\b\b\b\b\b\b\b\b\b\b\b\b\b\b\b\b\b\b\r3490/4148 [========================>.....] - ETA: 0s - loss: 0.7825 - accuracy: 0.5301",
      "\b\b\b\b\b\b\b\b\b\b\b\b\b\b\b\b\b\b\b\b\b\b\b\b\b\b\b\b\b\b\b\b\b\b\b\b\b\b\b\b\b\b\b\b\b\b\b\b\b\b\b\b\b\b\b\b\b\b\b\b\b\b\b\b\b\b\b\b\b\b\b\b\b\b\b\b\b\b\b\b\b\b\b\b\b\b\r3705/4148 [=========================>....] - ETA: 0s - loss: 0.7789 - accuracy: 0.5296",
      "\b\b\b\b\b\b\b\b\b\b\b\b\b\b\b\b\b\b\b\b\b\b\b\b\b\b\b\b\b\b\b\b\b\b\b\b\b\b\b\b\b\b\b\b\b\b\b\b\b\b\b\b\b\b\b\b\b\b\b\b\b\b\b\b\b\b\b\b\b\b\b\b\b\b\b\b\b\b\b\b\b\b\b\b\b\b",
      "\r3895/4148 [===========================>..] - ETA: 0s - loss: 0.7801 - accuracy: 0.5317",
      "\b\b\b\b\b\b\b\b\b\b\b\b\b\b\b\b\b\b\b\b\b\b\b\b\b\b\b\b\b\b\b\b\b\b\b\b\b\b\b\b\b\b\b\b\b\b\b\b\b\b\b\b\b\b\b\b\b\b\b\b\b\b\b\b\b\b\b\b\b\b\b\b\b\b\b\b\b\b\b\b\b\b\b\b\b\b\r4100/4148 [============================>.] - ETA: 0s - loss: 0.7764 - accuracy: 0.5320",
      "\b\b\b\b\b\b\b\b\b\b\b\b\b\b\b\b\b\b\b\b\b\b\b\b\b\b\b\b\b\b\b\b\b\b\b\b\b\b\b\b\b\b\b\b\b\b\b\b\b\b\b\b\b\b\b\b\b\b\b\b\b\b\b\b\b\b\b\b\b\b\b\b\b\b\b\b\b\b\b\b\b\b\b\b\b\b\r4148/4148 [==============================] - 1s 237us/step - loss: 0.7751 - accuracy: 0.5321\n",
      "Epoch 7/20\n\r   5/4148 [..............................] - ETA: 1s - loss: 0.5791 - accuracy: 0.8000",
      "\b\b\b\b\b\b\b\b\b\b\b\b\b\b\b\b\b\b\b\b\b\b\b\b\b\b\b\b\b\b\b\b\b\b\b\b\b\b\b\b\b\b\b\b\b\b\b\b\b\b\b\b\b\b\b\b\b\b\b\b\b\b\b\b\b\b\b\b\b\b\b\b\b\b\b\b\b\b\b\b\b\b\b\b\b\b\r 175/4148 [>.............................] - ETA: 1s - loss: 0.6992 - accuracy: 0.4686",
      "\b\b\b\b\b\b\b\b\b\b\b\b\b\b\b\b\b\b\b\b\b\b\b\b\b\b\b\b\b\b\b\b\b\b\b\b\b\b\b\b\b\b\b\b\b\b\b\b\b\b\b\b\b\b\b\b\b\b\b\b\b\b\b\b\b\b\b\b\b\b\b\b\b\b\b\b\b\b\b\b\b\b\b\b\b\b\r 375/4148 [=>............................] - ETA: 1s - loss: 0.7162 - accuracy: 0.4853",
      "\b\b\b\b\b\b\b\b\b\b\b\b\b\b\b\b\b\b\b\b\b\b\b\b\b\b\b\b\b\b\b\b\b\b\b\b\b\b\b\b\b\b\b\b\b\b\b\b\b\b\b\b\b\b\b\b\b\b\b\b\b\b\b\b\b\b\b\b\b\b\b\b\b\b\b\b\b\b\b\b\b\b\b\b\b\b\r 605/4148 [===>..........................] - ETA: 0s - loss: 0.6992 - accuracy: 0.5223",
      "\b\b\b\b\b\b\b\b\b\b\b\b\b\b\b\b\b\b\b\b\b\b\b\b\b\b\b\b\b\b\b\b\b\b\b\b\b\b\b\b\b\b\b\b\b\b\b\b\b\b\b\b\b\b\b\b\b\b\b\b\b\b\b\b\b\b\b\b\b\b\b\b\b\b\b\b\b\b\b\b\b\b\b\b\b\b\r 825/4148 [====>.........................] - ETA: 0s - loss: 0.7018 - accuracy: 0.5358",
      "\b\b\b\b\b\b\b\b\b\b\b\b\b\b\b\b\b\b\b\b\b\b\b\b\b\b\b\b\b\b\b\b\b\b\b\b\b\b\b\b\b\b\b\b\b\b\b\b\b\b\b\b\b\b\b\b\b\b\b\b\b\b\b\b\b\b\b\b\b\b\b\b\b\b\b\b\b\b\b\b\b\b\b\b\b\b\r1060/4148 [======>.......................] - ETA: 0s - loss: 0.7026 - accuracy: 0.5406",
      "\b\b\b\b\b\b\b\b\b\b\b\b\b\b\b\b\b\b\b\b\b\b\b\b\b\b\b\b\b\b\b\b\b\b\b\b\b\b\b\b\b\b\b\b\b\b\b\b\b\b\b\b\b\b\b\b\b\b\b\b\b\b\b\b\b\b\b\b\b\b\b\b\b\b\b\b\b\b\b\b\b\b\b\b\b\b",
      "\r1235/4148 [=======>......................] - ETA: 0s - loss: 0.7167 - accuracy: 0.5352",
      "\b\b\b\b\b\b\b\b\b\b\b\b\b\b\b\b\b\b\b\b\b\b\b\b\b\b\b\b\b\b\b\b\b\b\b\b\b\b\b\b\b\b\b\b\b\b\b\b\b\b\b\b\b\b\b\b\b\b\b\b\b\b\b\b\b\b\b\b\b\b\b\b\b\b\b\b\b\b\b\b\b\b\b\b\b\b\r1420/4148 [=========>....................] - ETA: 0s - loss: 0.7281 - accuracy: 0.5366",
      "\b\b\b\b\b\b\b\b\b\b\b\b\b\b\b\b\b\b\b\b\b\b\b\b\b\b\b\b\b\b\b\b\b\b\b\b\b\b\b\b\b\b\b\b\b\b\b\b\b\b\b\b\b\b\b\b\b\b\b\b\b\b\b\b\b\b\b\b\b\b\b\b\b\b\b\b\b\b\b\b\b\b\b\b\b\b\r1610/4148 [==========>...................] - ETA: 0s - loss: 0.7311 - accuracy: 0.5373",
      "\b\b\b\b\b\b\b\b\b\b\b\b\b\b\b\b\b\b\b\b\b\b\b\b\b\b\b\b\b\b\b\b\b\b\b\b\b\b\b\b\b\b\b\b\b\b\b\b\b\b\b\b\b\b\b\b\b\b\b\b\b\b\b\b\b\b\b\b\b\b\b\b\b\b\b\b\b\b\b\b\b\b\b\b\b\b\r1835/4148 [============>.................] - ETA: 0s - loss: 0.7525 - accuracy: 0.5324",
      "\b\b\b\b\b\b\b\b\b\b\b\b\b\b\b\b\b\b\b\b\b\b\b\b\b\b\b\b\b\b\b\b\b\b\b\b\b\b\b\b\b\b\b\b\b\b\b\b\b\b\b\b\b\b\b\b\b\b\b\b\b\b\b\b\b\b\b\b\b\b\b\b\b\b\b\b\b\b\b\b\b\b\b\b\b\b",
      "\r2025/4148 [=============>................] - ETA: 0s - loss: 0.7676 - accuracy: 0.5304",
      "\b\b\b\b\b\b\b\b\b\b\b\b\b\b\b\b\b\b\b\b\b\b\b\b\b\b\b\b\b\b\b\b\b\b\b\b\b\b\b\b\b\b\b\b\b\b\b\b\b\b\b\b\b\b\b\b\b\b\b\b\b\b\b\b\b\b\b\b\b\b\b\b\b\b\b\b\b\b\b\b\b\b\b\b\b\b\r2265/4148 [===============>..............] - ETA: 0s - loss: 0.7597 - accuracy: 0.5316",
      "\b\b\b\b\b\b\b\b\b\b\b\b\b\b\b\b\b\b\b\b\b\b\b\b\b\b\b\b\b\b\b\b\b\b\b\b\b\b\b\b\b\b\b\b\b\b\b\b\b\b\b\b\b\b\b\b\b\b\b\b\b\b\b\b\b\b\b\b\b\b\b\b\b\b\b\b\b\b\b\b\b\b\b\b\b\b\r2520/4148 [=================>............] - ETA: 0s - loss: 0.7624 - accuracy: 0.5313",
      "\b\b\b\b\b\b\b\b\b\b\b\b\b\b\b\b\b\b\b\b\b\b\b\b\b\b\b\b\b\b\b\b\b\b\b\b\b\b\b\b\b\b\b\b\b\b\b\b\b\b\b\b\b\b\b\b\b\b\b\b\b\b\b\b\b\b\b\b\b\b\b\b\b\b\b\b\b\b\b\b\b\b\b\b\b\b\r2765/4148 [==================>...........] - ETA: 0s - loss: 0.7684 - accuracy: 0.5280",
      "\b\b\b\b\b\b\b\b\b\b\b\b\b\b\b\b\b\b\b\b\b\b\b\b\b\b\b\b\b\b\b\b\b\b\b\b\b\b\b\b\b\b\b\b\b\b\b\b\b\b\b\b\b\b\b\b\b\b\b\b\b\b\b\b\b\b\b\b\b\b\b\b\b\b\b\b\b\b\b\b\b\b\b\b\b\b\r3020/4148 [====================>.........] - ETA: 0s - loss: 0.7715 - accuracy: 0.5268",
      "\b\b\b\b\b\b\b\b\b\b\b\b\b\b\b\b\b\b\b\b\b\b\b\b\b\b\b\b\b\b\b\b\b\b\b\b\b\b\b\b\b\b\b\b\b\b\b\b\b\b\b\b\b\b\b\b\b\b\b\b\b\b\b\b\b\b\b\b\b\b\b\b\b\b\b\b\b\b\b\b\b\b\b\b\b\b\r3255/4148 [======================>.......] - ETA: 0s - loss: 0.7681 - accuracy: 0.5278",
      "\b\b\b\b\b\b\b\b\b\b\b\b\b\b\b\b\b\b\b\b\b\b\b\b\b\b\b\b\b\b\b\b\b\b\b\b\b\b\b\b\b\b\b\b\b\b\b\b\b\b\b\b\b\b\b\b\b\b\b\b\b\b\b\b\b\b\b\b\b\b\b\b\b\b\b\b\b\b\b\b\b\b\b\b\b\b\r3455/4148 [=======================>......] - ETA: 0s - loss: 0.7693 - accuracy: 0.5276",
      "\b\b\b\b\b\b\b\b\b\b\b\b\b\b\b\b\b\b\b\b\b\b\b\b\b\b\b\b\b\b\b\b\b\b\b\b\b\b\b\b\b\b\b\b\b\b\b\b\b\b\b\b\b\b\b\b\b\b\b\b\b\b\b\b\b\b\b\b\b\b\b\b\b\b\b\b\b\b\b\b\b\b\b\b\b\b",
      "\r3680/4148 [=========================>....] - ETA: 0s - loss: 0.7658 - accuracy: 0.5266",
      "\b\b\b\b\b\b\b\b\b\b\b\b\b\b\b\b\b\b\b\b\b\b\b\b\b\b\b\b\b\b\b\b\b\b\b\b\b\b\b\b\b\b\b\b\b\b\b\b\b\b\b\b\b\b\b\b\b\b\b\b\b\b\b\b\b\b\b\b\b\b\b\b\b\b\b\b\b\b\b\b\b\b\b\b\b\b\r3920/4148 [===========================>..] - ETA: 0s - loss: 0.7742 - accuracy: 0.5265",
      "\b\b\b\b\b\b\b\b\b\b\b\b\b\b\b\b\b\b\b\b\b\b\b\b\b\b\b\b\b\b\b\b\b\b\b\b\b\b\b\b\b\b\b\b\b\b\b\b\b\b\b\b\b\b\b\b\b\b\b\b\b\b\b\b\b\b\b\b\b\b\b\b\b\b\b\b\b\b\b\b\b\b\b\b\b\b\r4148/4148 [==============================] - 1s 234us/step - loss: 0.7689 - accuracy: 0.5318\n",
      "Epoch 8/20\n\r   5/4148 [..............................] - ETA: 1s - loss: 0.6707 - accuracy: 0.8000",
      "\b\b\b\b\b\b\b\b\b\b\b\b\b\b\b\b\b\b\b\b\b\b\b\b\b\b\b\b\b\b\b\b\b\b\b\b\b\b\b\b\b\b\b\b\b\b\b\b\b\b\b\b\b\b\b\b\b\b\b\b\b\b\b\b\b\b\b\b\b\b\b\b\b\b\b\b\b\b\b\b\b\b\b\b\b\b\r 140/4148 [>.............................] - ETA: 1s - loss: 0.8053 - accuracy: 0.5214",
      "\b\b\b\b\b\b\b\b\b\b\b\b\b\b\b\b\b\b\b\b\b\b\b\b\b\b\b\b\b\b\b\b\b\b\b\b\b\b\b\b\b\b\b\b\b\b\b\b\b\b\b\b\b\b\b\b\b\b\b\b\b\b\b\b\b\b\b\b\b\b\b\b\b\b\b\b\b\b\b\b\b\b\b\b\b\b\r 355/4148 [=>............................] - ETA: 1s - loss: 0.7317 - accuracy: 0.5324",
      "\b\b\b\b\b\b\b\b\b\b\b\b\b\b\b\b\b\b\b\b\b\b\b\b\b\b\b\b\b\b\b\b\b\b\b\b\b\b\b\b\b\b\b\b\b\b\b\b\b\b\b\b\b\b\b\b\b\b\b\b\b\b\b\b\b\b\b\b\b\b\b\b\b\b\b\b\b\b\b\b\b\b\b\b\b\b\r 565/4148 [===>..........................] - ETA: 0s - loss: 0.7577 - accuracy: 0.5257",
      "\b\b\b\b\b\b\b\b\b\b\b\b\b\b\b\b\b\b\b\b\b\b\b\b\b\b\b\b\b\b\b\b\b\b\b\b\b\b\b\b\b\b\b\b\b\b\b\b\b\b\b\b\b\b\b\b\b\b\b\b\b\b\b\b\b\b\b\b\b\b\b\b\b\b\b\b\b\b\b\b\b\b\b\b\b\b\r 805/4148 [====>.........................] - ETA: 0s - loss: 0.7642 - accuracy: 0.5317",
      "\b\b\b\b\b\b\b\b\b\b\b\b\b\b\b\b\b\b\b\b\b\b\b\b\b\b\b\b\b\b\b\b\b\b\b\b\b\b\b\b\b\b\b\b\b\b\b\b\b\b\b\b\b\b\b\b\b\b\b\b\b\b\b\b\b\b\b\b\b\b\b\b\b\b\b\b\b\b\b\b\b\b\b\b\b\b",
      "\r 990/4148 [======>.......................] - ETA: 0s - loss: 0.7581 - accuracy: 0.5293",
      "\b\b\b\b\b\b\b\b\b\b\b\b\b\b\b\b\b\b\b\b\b\b\b\b\b\b\b\b\b\b\b\b\b\b\b\b\b\b\b\b\b\b\b\b\b\b\b\b\b\b\b\b\b\b\b\b\b\b\b\b\b\b\b\b\b\b\b\b\b\b\b\b\b\b\b\b\b\b\b\b\b\b\b\b\b\b\r1175/4148 [=======>......................] - ETA: 0s - loss: 0.7504 - accuracy: 0.5353",
      "\b\b\b\b\b\b\b\b\b\b\b\b\b\b\b\b\b\b\b\b\b\b\b\b\b\b\b\b\b\b\b\b\b\b\b\b\b\b\b\b\b\b\b\b\b\b\b\b\b\b\b\b\b\b\b\b\b\b\b\b\b\b\b\b\b\b\b\b\b\b\b\b\b\b\b\b\b\b\b\b\b\b\b\b\b\b\r1385/4148 [=========>....................] - ETA: 0s - loss: 0.7854 - accuracy: 0.5307",
      "\b\b\b\b\b\b\b\b\b\b\b\b\b\b\b\b\b\b\b\b\b\b\b\b\b\b\b\b\b\b\b\b\b\b\b\b\b\b\b\b\b\b\b\b\b\b\b\b\b\b\b\b\b\b\b\b\b\b\b\b\b\b\b\b\b\b\b\b\b\b\b\b\b\b\b\b\b\b\b\b\b\b\b\b\b\b\r1585/4148 [==========>...................] - ETA: 0s - loss: 0.7957 - accuracy: 0.5243",
      "\b\b\b\b\b\b\b\b\b\b\b\b\b\b\b\b\b\b\b\b\b\b\b\b\b\b\b\b\b\b\b\b\b\b\b\b\b\b\b\b\b\b\b\b\b\b\b\b\b\b\b\b\b\b\b\b\b\b\b\b\b\b\b\b\b\b\b\b\b\b\b\b\b\b\b\b\b\b\b\b\b\b\b\b\b\b",
      "\r1780/4148 [===========>..................] - ETA: 0s - loss: 0.7917 - accuracy: 0.5242",
      "\b\b\b\b\b\b\b\b\b\b\b\b\b\b\b\b\b\b\b\b\b\b\b\b\b\b\b\b\b\b\b\b\b\b\b\b\b\b\b\b\b\b\b\b\b\b\b\b\b\b\b\b\b\b\b\b\b\b\b\b\b\b\b\b\b\b\b\b\b\b\b\b\b\b\b\b\b\b\b\b\b\b\b\b\b\b\r1985/4148 [=============>................] - ETA: 0s - loss: 0.7847 - accuracy: 0.5229",
      "\b\b\b\b\b\b\b\b\b\b\b\b\b\b\b\b\b\b\b\b\b\b\b\b\b\b\b\b\b\b\b\b\b\b\b\b\b\b\b\b\b\b\b\b\b\b\b\b\b\b\b\b\b\b\b\b\b\b\b\b\b\b\b\b\b\b\b\b\b\b\b\b\b\b\b\b\b\b\b\b\b\b\b\b\b\b\r2220/4148 [===============>..............] - ETA: 0s - loss: 0.7767 - accuracy: 0.5198",
      "\b\b\b\b\b\b\b\b\b\b\b\b\b\b\b\b\b\b\b\b\b\b\b\b\b\b\b\b\b\b\b\b\b\b\b\b\b\b\b\b\b\b\b\b\b\b\b\b\b\b\b\b\b\b\b\b\b\b\b\b\b\b\b\b\b\b\b\b\b\b\b\b\b\b\b\b\b\b\b\b\b\b\b\b\b\b\r2480/4148 [================>.............] - ETA: 0s - loss: 0.7754 - accuracy: 0.5202",
      "\b\b\b\b\b\b\b\b\b\b\b\b\b\b\b\b\b\b\b\b\b\b\b\b\b\b\b\b\b\b\b\b\b\b\b\b\b\b\b\b\b\b\b\b\b\b\b\b\b\b\b\b\b\b\b\b\b\b\b\b\b\b\b\b\b\b\b\b\b\b\b\b\b\b\b\b\b\b\b\b\b\b\b\b\b\b",
      "\r2735/4148 [==================>...........] - ETA: 0s - loss: 0.7758 - accuracy: 0.5207",
      "\b\b\b\b\b\b\b\b\b\b\b\b\b\b\b\b\b\b\b\b\b\b\b\b\b\b\b\b\b\b\b\b\b\b\b\b\b\b\b\b\b\b\b\b\b\b\b\b\b\b\b\b\b\b\b\b\b\b\b\b\b\b\b\b\b\b\b\b\b\b\b\b\b\b\b\b\b\b\b\b\b\b\b\b\b\b\r2970/4148 [====================>.........] - ETA: 0s - loss: 0.7744 - accuracy: 0.5219",
      "\b\b\b\b\b\b\b\b\b\b\b\b\b\b\b\b\b\b\b\b\b\b\b\b\b\b\b\b\b\b\b\b\b\b\b\b\b\b\b\b\b\b\b\b\b\b\b\b\b\b\b\b\b\b\b\b\b\b\b\b\b\b\b\b\b\b\b\b\b\b\b\b\b\b\b\b\b\b\b\b\b\b\b\b\b\b\r3115/4148 [=====================>........] - ETA: 0s - loss: 0.7714 - accuracy: 0.5207",
      "\b\b\b\b\b\b\b\b\b\b\b\b\b\b\b\b\b\b\b\b\b\b\b\b\b\b\b\b\b\b\b\b\b\b\b\b\b\b\b\b\b\b\b\b\b\b\b\b\b\b\b\b\b\b\b\b\b\b\b\b\b\b\b\b\b\b\b\b\b\b\b\b\b\b\b\b\b\b\b\b\b\b\b\b\b\b\r3310/4148 [======================>.......] - ETA: 0s - loss: 0.7720 - accuracy: 0.5184",
      "\b\b\b\b\b\b\b\b\b\b\b\b\b\b\b\b\b\b\b\b\b\b\b\b\b\b\b\b\b\b\b\b\b\b\b\b\b\b\b\b\b\b\b\b\b\b\b\b\b\b\b\b\b\b\b\b\b\b\b\b\b\b\b\b\b\b\b\b\b\b\b\b\b\b\b\b\b\b\b\b\b\b\b\b\b\b",
      "\r3490/4148 [========================>.....] - ETA: 0s - loss: 0.7681 - accuracy: 0.5215",
      "\b\b\b\b\b\b\b\b\b\b\b\b\b\b\b\b\b\b\b\b\b\b\b\b\b\b\b\b\b\b\b\b\b\b\b\b\b\b\b\b\b\b\b\b\b\b\b\b\b\b\b\b\b\b\b\b\b\b\b\b\b\b\b\b\b\b\b\b\b\b\b\b\b\b\b\b\b\b\b\b\b\b\b\b\b\b\r3655/4148 [=========================>....] - ETA: 0s - loss: 0.7728 - accuracy: 0.5198",
      "\b\b\b\b\b\b\b\b\b\b\b\b\b\b\b\b\b\b\b\b\b\b\b\b\b\b\b\b\b\b\b\b\b\b\b\b\b\b\b\b\b\b\b\b\b\b\b\b\b\b\b\b\b\b\b\b\b\b\b\b\b\b\b\b\b\b\b\b\b\b\b\b\b\b\b\b\b\b\b\b\b\b\b\b\b\b\r3805/4148 [==========================>...] - ETA: 0s - loss: 0.7710 - accuracy: 0.5217",
      "\b\b\b\b\b\b\b\b\b\b\b\b\b\b\b\b\b\b\b\b\b\b\b\b\b\b\b\b\b\b\b\b\b\b\b\b\b\b\b\b\b\b\b\b\b\b\b\b\b\b\b\b\b\b\b\b\b\b\b\b\b\b\b\b\b\b\b\b\b\b\b\b\b\b\b\b\b\b\b\b\b\b\b\b\b\b\r3985/4148 [===========================>..] - ETA: 0s - loss: 0.7749 - accuracy: 0.5207",
      "\b\b\b\b\b\b\b\b\b\b\b\b\b\b\b\b\b\b\b\b\b\b\b\b\b\b\b\b\b\b\b\b\b\b\b\b\b\b\b\b\b\b\b\b\b\b\b\b\b\b\b\b\b\b\b\b\b\b\b\b\b\b\b\b\b\b\b\b\b\b\b\b\b\b\b\b\b\b\b\b\b\b\b\b\b\b",
      "\r4148/4148 [==============================] - 1s 258us/step - loss: 0.7737 - accuracy: 0.5229\n",
      "Epoch 9/20\n\r   5/4148 [..............................] - ETA: 1s - loss: 0.6886 - accuracy: 0.2000",
      "\b\b\b\b\b\b\b\b\b\b\b\b\b\b\b\b\b\b\b\b\b\b\b\b\b\b\b\b\b\b\b\b\b\b\b\b\b\b\b\b\b\b\b\b\b\b\b\b\b\b\b\b\b\b\b\b\b\b\b\b\b\b\b\b\b\b\b\b\b\b\b\b\b\b\b\b\b\b\b\b\b\b\b\b\b\b\r 165/4148 [>.............................] - ETA: 1s - loss: 0.7557 - accuracy: 0.5273",
      "\b\b\b\b\b\b\b\b\b\b\b\b\b\b\b\b\b\b\b\b\b\b\b\b\b\b\b\b\b\b\b\b\b\b\b\b\b\b\b\b\b\b\b\b\b\b\b\b\b\b\b\b\b\b\b\b\b\b\b\b\b\b\b\b\b\b\b\b\b\b\b\b\b\b\b\b\b\b\b\b\b\b\b\b\b\b\r 340/4148 [=>............................] - ETA: 1s - loss: 0.8097 - accuracy: 0.5176",
      "\b\b\b\b\b\b\b\b\b\b\b\b\b\b\b\b\b\b\b\b\b\b\b\b\b\b\b\b\b\b\b\b\b\b\b\b\b\b\b\b\b\b\b\b\b\b\b\b\b\b\b\b\b\b\b\b\b\b\b\b\b\b\b\b\b\b\b\b\b\b\b\b\b\b\b\b\b\b\b\b\b\b\b\b\b\b\r 535/4148 [==>...........................] - ETA: 1s - loss: 0.8119 - accuracy: 0.5121",
      "\b\b\b\b\b\b\b\b\b\b\b\b\b\b\b\b\b\b\b\b\b\b\b\b\b\b\b\b\b\b\b\b\b\b\b\b\b\b\b\b\b\b\b\b\b\b\b\b\b\b\b\b\b\b\b\b\b\b\b\b\b\b\b\b\b\b\b\b\b\b\b\b\b\b\b\b\b\b\b\b\b\b\b\b\b\b",
      "\r 695/4148 [====>.........................] - ETA: 1s - loss: 0.8111 - accuracy: 0.5252",
      "\b\b\b\b\b\b\b\b\b\b\b\b\b\b\b\b\b\b\b\b\b\b\b\b\b\b\b\b\b\b\b\b\b\b\b\b\b\b\b\b\b\b\b\b\b\b\b\b\b\b\b\b\b\b\b\b\b\b\b\b\b\b\b\b\b\b\b\b\b\b\b\b\b\b\b\b\b\b\b\b\b\b\b\b\b\b\r 870/4148 [=====>........................] - ETA: 0s - loss: 0.7962 - accuracy: 0.5322",
      "\b\b\b\b\b\b\b\b\b\b\b\b\b\b\b\b\b\b\b\b\b\b\b\b\b\b\b\b\b\b\b\b\b\b\b\b\b\b\b\b\b\b\b\b\b\b\b\b\b\b\b\b\b\b\b\b\b\b\b\b\b\b\b\b\b\b\b\b\b\b\b\b\b\b\b\b\b\b\b\b\b\b\b\b\b\b\r1025/4148 [======>.......................] - ETA: 0s - loss: 0.7909 - accuracy: 0.5278",
      "\b\b\b\b\b\b\b\b\b\b\b\b\b\b\b\b\b\b\b\b\b\b\b\b\b\b\b\b\b\b\b\b\b\b\b\b\b\b\b\b\b\b\b\b\b\b\b\b\b\b\b\b\b\b\b\b\b\b\b\b\b\b\b\b\b\b\b\b\b\b\b\b\b\b\b\b\b\b\b\b\b\b\b\b\b\b",
      "\r1210/4148 [=======>......................] - ETA: 0s - loss: 0.7940 - accuracy: 0.5273",
      "\b\b\b\b\b\b\b\b\b\b\b\b\b\b\b\b\b\b\b\b\b\b\b\b\b\b\b\b\b\b\b\b\b\b\b\b\b\b\b\b\b\b\b\b\b\b\b\b\b\b\b\b\b\b\b\b\b\b\b\b\b\b\b\b\b\b\b\b\b\b\b\b\b\b\b\b\b\b\b\b\b\b\b\b\b\b\r1425/4148 [=========>....................] - ETA: 0s - loss: 0.7921 - accuracy: 0.5228",
      "\b\b\b\b\b\b\b\b\b\b\b\b\b\b\b\b\b\b\b\b\b\b\b\b\b\b\b\b\b\b\b\b\b\b\b\b\b\b\b\b\b\b\b\b\b\b\b\b\b\b\b\b\b\b\b\b\b\b\b\b\b\b\b\b\b\b\b\b\b\b\b\b\b\b\b\b\b\b\b\b\b\b\b\b\b\b\r1630/4148 [==========>...................] - ETA: 0s - loss: 0.7891 - accuracy: 0.5282",
      "\b\b\b\b\b\b\b\b\b\b\b\b\b\b\b\b\b\b\b\b\b\b\b\b\b\b\b\b\b\b\b\b\b\b\b\b\b\b\b\b\b\b\b\b\b\b\b\b\b\b\b\b\b\b\b\b\b\b\b\b\b\b\b\b\b\b\b\b\b\b\b\b\b\b\b\b\b\b\b\b\b\b\b\b\b\b\r1905/4148 [============>.................] - ETA: 0s - loss: 0.7817 - accuracy: 0.5207",
      "\b\b\b\b\b\b\b\b\b\b\b\b\b\b\b\b\b\b\b\b\b\b\b\b\b\b\b\b\b\b\b\b\b\b\b\b\b\b\b\b\b\b\b\b\b\b\b\b\b\b\b\b\b\b\b\b\b\b\b\b\b\b\b\b\b\b\b\b\b\b\b\b\b\b\b\b\b\b\b\b\b\b\b\b\b\b\r2090/4148 [==============>...............] - ETA: 0s - loss: 0.7770 - accuracy: 0.5211",
      "\b\b\b\b\b\b\b\b\b\b\b\b\b\b\b\b\b\b\b\b\b\b\b\b\b\b\b\b\b\b\b\b\b\b\b\b\b\b\b\b\b\b\b\b\b\b\b\b\b\b\b\b\b\b\b\b\b\b\b\b\b\b\b\b\b\b\b\b\b\b\b\b\b\b\b\b\b\b\b\b\b\b\b\b\b\b\r2325/4148 [===============>..............] - ETA: 0s - loss: 0.7687 - accuracy: 0.5217",
      "\b\b\b\b\b\b\b\b\b\b\b\b\b\b\b\b\b\b\b\b\b\b\b\b\b\b\b\b\b\b\b\b\b\b\b\b\b\b\b\b\b\b\b\b\b\b\b\b\b\b\b\b\b\b\b\b\b\b\b\b\b\b\b\b\b\b\b\b\b\b\b\b\b\b\b\b\b\b\b\b\b\b\b\b\b\b\r2555/4148 [=================>............] - ETA: 0s - loss: 0.7730 - accuracy: 0.5288",
      "\b\b\b\b\b\b\b\b\b\b\b\b\b\b\b\b\b\b\b\b\b\b\b\b\b\b\b\b\b\b\b\b\b\b\b\b\b\b\b\b\b\b\b\b\b\b\b\b\b\b\b\b\b\b\b\b\b\b\b\b\b\b\b\b\b\b\b\b\b\b\b\b\b\b\b\b\b\b\b\b\b\b\b\b\b\b\r2645/4148 [==================>...........] - ETA: 0s - loss: 0.7735 - accuracy: 0.5274",
      "\b\b\b\b\b\b\b\b\b\b\b\b\b\b\b\b\b\b\b\b\b\b\b\b\b\b\b\b\b\b\b\b\b\b\b\b\b\b\b\b\b\b\b\b\b\b\b\b\b\b\b\b\b\b\b\b\b\b\b\b\b\b\b\b\b\b\b\b\b\b\b\b\b\b\b\b\b\b\b\b\b\b\b\b\b\b\r2785/4148 [===================>..........] - ETA: 0s - loss: 0.7711 - accuracy: 0.5296",
      "\b\b\b\b\b\b\b\b\b\b\b\b\b\b\b\b\b\b\b\b\b\b\b\b\b\b\b\b\b\b\b\b\b\b\b\b\b\b\b\b\b\b\b\b\b\b\b\b\b\b\b\b\b\b\b\b\b\b\b\b\b\b\b\b\b\b\b\b\b\b\b\b\b\b\b\b\b\b\b\b\b\b\b\b\b\b\r2925/4148 [====================>.........] - ETA: 0s - loss: 0.7688 - accuracy: 0.5299",
      "\b\b\b\b\b\b\b\b\b\b\b\b\b\b\b\b\b\b\b\b\b\b\b\b\b\b\b\b\b\b\b\b\b\b\b\b\b\b\b\b\b\b\b\b\b\b\b\b\b\b\b\b\b\b\b\b\b\b\b\b\b\b\b\b\b\b\b\b\b\b\b\b\b\b\b\b\b\b\b\b\b\b\b\b\b\b\r3170/4148 [=====================>........] - ETA: 0s - loss: 0.7739 - accuracy: 0.5274",
      "\b\b\b\b\b\b\b\b\b\b\b\b\b\b\b\b\b\b\b\b\b\b\b\b\b\b\b\b\b\b\b\b\b\b\b\b\b\b\b\b\b\b\b\b\b\b\b\b\b\b\b\b\b\b\b\b\b\b\b\b\b\b\b\b\b\b\b\b\b\b\b\b\b\b\b\b\b\b\b\b\b\b\b\b\b\b\r3345/4148 [=======================>......] - ETA: 0s - loss: 0.7711 - accuracy: 0.5291",
      "\b\b\b\b\b\b\b\b\b\b\b\b\b\b\b\b\b\b\b\b\b\b\b\b\b\b\b\b\b\b\b\b\b\b\b\b\b\b\b\b\b\b\b\b\b\b\b\b\b\b\b\b\b\b\b\b\b\b\b\b\b\b\b\b\b\b\b\b\b\b\b\b\b\b\b\b\b\b\b\b\b\b\b\b\b\b\r3560/4148 [========================>.....] - ETA: 0s - loss: 0.7688 - accuracy: 0.5236",
      "\b\b\b\b\b\b\b\b\b\b\b\b\b\b\b\b\b\b\b\b\b\b\b\b\b\b\b\b\b\b\b\b\b\b\b\b\b\b\b\b\b\b\b\b\b\b\b\b\b\b\b\b\b\b\b\b\b\b\b\b\b\b\b\b\b\b\b\b\b\b\b\b\b\b\b\b\b\b\b\b\b\b\b\b\b\b",
      "\r3795/4148 [==========================>...] - ETA: 0s - loss: 0.7652 - accuracy: 0.5246",
      "\b\b\b\b\b\b\b\b\b\b\b\b\b\b\b\b\b\b\b\b\b\b\b\b\b\b\b\b\b\b\b\b\b\b\b\b\b\b\b\b\b\b\b\b\b\b\b\b\b\b\b\b\b\b\b\b\b\b\b\b\b\b\b\b\b\b\b\b\b\b\b\b\b\b\b\b\b\b\b\b\b\b\b\b\b\b\r4015/4148 [============================>.] - ETA: 0s - loss: 0.7648 - accuracy: 0.5253",
      "\b\b\b\b\b\b\b\b\b\b\b\b\b\b\b\b\b\b\b\b\b\b\b\b\b\b\b\b\b\b\b\b\b\b\b\b\b\b\b\b\b\b\b\b\b\b\b\b\b\b\b\b\b\b\b\b\b\b\b\b\b\b\b\b\b\b\b\b\b\b\b\b\b\b\b\b\b\b\b\b\b\b\b\b\b\b",
      "\r4148/4148 [==============================] - 1s 271us/step - loss: 0.7630 - accuracy: 0.5248\n",
      "Epoch 10/20\n\r   5/4148 [..............................] - ETA: 2s - loss: 0.6293 - accuracy: 0.6000",
      "\b\b\b\b\b\b\b\b\b\b\b\b\b\b\b\b\b\b\b\b\b\b\b\b\b\b\b\b\b\b\b\b\b\b\b\b\b\b\b\b\b\b\b\b\b\b\b\b\b\b\b\b\b\b\b\b\b\b\b\b\b\b\b\b\b\b\b\b\b\b\b\b\b\b\b\b\b\b\b\b\b\b\b\b\b\b\r 190/4148 [>.............................] - ETA: 1s - loss: 0.7283 - accuracy: 0.5526",
      "\b\b\b\b\b\b\b\b\b\b\b\b\b\b\b\b\b\b\b\b\b\b\b\b\b\b\b\b\b\b\b\b\b\b\b\b\b\b\b\b\b\b\b\b\b\b\b\b\b\b\b\b\b\b\b\b\b\b\b\b\b\b\b\b\b\b\b\b\b\b\b\b\b\b\b\b\b\b\b\b\b\b\b\b\b\b",
      "\r 435/4148 [==>...........................] - ETA: 0s - loss: 0.7230 - accuracy: 0.5356",
      "\b\b\b\b\b\b\b\b\b\b\b\b\b\b\b\b\b\b\b\b\b\b\b\b\b\b\b\b\b\b\b\b\b\b\b\b\b\b\b\b\b\b\b\b\b\b\b\b\b\b\b\b\b\b\b\b\b\b\b\b\b\b\b\b\b\b\b\b\b\b\b\b\b\b\b\b\b\b\b\b\b\b\b\b\b\b",
      "\r 725/4148 [====>.........................] - ETA: 0s - loss: 0.7639 - accuracy: 0.5021",
      "\b\b\b\b\b\b\b\b\b\b\b\b\b\b\b\b\b\b\b\b\b\b\b\b\b\b\b\b\b\b\b\b\b\b\b\b\b\b\b\b\b\b\b\b\b\b\b\b\b\b\b\b\b\b\b\b\b\b\b\b\b\b\b\b\b\b\b\b\b\b\b\b\b\b\b\b\b\b\b\b\b\b\b\b\b\b",
      "\r 990/4148 [======>.......................] - ETA: 0s - loss: 0.7522 - accuracy: 0.5101",
      "\b\b\b\b\b\b\b\b\b\b\b\b\b\b\b\b\b\b\b\b\b\b\b\b\b\b\b\b\b\b\b\b\b\b\b\b\b\b\b\b\b\b\b\b\b\b\b\b\b\b\b\b\b\b\b\b\b\b\b\b\b\b\b\b\b\b\b\b\b\b\b\b\b\b\b\b\b\b\b\b\b\b\b\b\b\b\r1190/4148 [=======>......................] - ETA: 0s - loss: 0.7426 - accuracy: 0.5176",
      "\b\b\b\b\b\b\b\b\b\b\b\b\b\b\b\b\b\b\b\b\b\b\b\b\b\b\b\b\b\b\b\b\b\b\b\b\b\b\b\b\b\b\b\b\b\b\b\b\b\b\b\b\b\b\b\b\b\b\b\b\b\b\b\b\b\b\b\b\b\b\b\b\b\b\b\b\b\b\b\b\b\b\b\b\b\b\r1450/4148 [=========>....................] - ETA: 0s - loss: 0.7319 - accuracy: 0.5214",
      "\b\b\b\b\b\b\b\b\b\b\b\b\b\b\b\b\b\b\b\b\b\b\b\b\b\b\b\b\b\b\b\b\b\b\b\b\b\b\b\b\b\b\b\b\b\b\b\b\b\b\b\b\b\b\b\b\b\b\b\b\b\b\b\b\b\b\b\b\b\b\b\b\b\b\b\b\b\b\b\b\b\b\b\b\b\b",
      "\r1725/4148 [===========>..................] - ETA: 0s - loss: 0.7377 - accuracy: 0.5194",
      "\b\b\b\b\b\b\b\b\b\b\b\b\b\b\b\b\b\b\b\b\b\b\b\b\b\b\b\b\b\b\b\b\b\b\b\b\b\b\b\b\b\b\b\b\b\b\b\b\b\b\b\b\b\b\b\b\b\b\b\b\b\b\b\b\b\b\b\b\b\b\b\b\b\b\b\b\b\b\b\b\b\b\b\b\b\b\r2005/4148 [=============>................] - ETA: 0s - loss: 0.7323 - accuracy: 0.5232",
      "\b\b\b\b\b\b\b\b\b\b\b\b\b\b\b\b\b\b\b\b\b\b\b\b\b\b\b\b\b\b\b\b\b\b\b\b\b\b\b\b\b\b\b\b\b\b\b\b\b\b\b\b\b\b\b\b\b\b\b\b\b\b\b\b\b\b\b\b\b\b\b\b\b\b\b\b\b\b\b\b\b\b\b\b\b\b\r2275/4148 [===============>..............] - ETA: 0s - loss: 0.7323 - accuracy: 0.5253",
      "\b\b\b\b\b\b\b\b\b\b\b\b\b\b\b\b\b\b\b\b\b\b\b\b\b\b\b\b\b\b\b\b\b\b\b\b\b\b\b\b\b\b\b\b\b\b\b\b\b\b\b\b\b\b\b\b\b\b\b\b\b\b\b\b\b\b\b\b\b\b\b\b\b\b\b\b\b\b\b\b\b\b\b\b\b\b\r2560/4148 [=================>............] - ETA: 0s - loss: 0.7390 - accuracy: 0.5234",
      "\b\b\b\b\b\b\b\b\b\b\b\b\b\b\b\b\b\b\b\b\b\b\b\b\b\b\b\b\b\b\b\b\b\b\b\b\b\b\b\b\b\b\b\b\b\b\b\b\b\b\b\b\b\b\b\b\b\b\b\b\b\b\b\b\b\b\b\b\b\b\b\b\b\b\b\b\b\b\b\b\b\b\b\b\b\b",
      "\r2800/4148 [===================>..........] - ETA: 0s - loss: 0.7363 - accuracy: 0.5264",
      "\b\b\b\b\b\b\b\b\b\b\b\b\b\b\b\b\b\b\b\b\b\b\b\b\b\b\b\b\b\b\b\b\b\b\b\b\b\b\b\b\b\b\b\b\b\b\b\b\b\b\b\b\b\b\b\b\b\b\b\b\b\b\b\b\b\b\b\b\b\b\b\b\b\b\b\b\b\b\b\b\b\b\b\b\b\b\r3045/4148 [=====================>........] - ETA: 0s - loss: 0.7312 - accuracy: 0.5287",
      "\b\b\b\b\b\b\b\b\b\b\b\b\b\b\b\b\b\b\b\b\b\b\b\b\b\b\b\b\b\b\b\b\b\b\b\b\b\b\b\b\b\b\b\b\b\b\b\b\b\b\b\b\b\b\b\b\b\b\b\b\b\b\b\b\b\b\b\b\b\b\b\b\b\b\b\b\b\b\b\b\b\b\b\b\b\b\r3140/4148 [=====================>........] - ETA: 0s - loss: 0.7292 - accuracy: 0.5280",
      "\b\b\b\b\b\b\b\b\b\b\b\b\b\b\b\b\b\b\b\b\b\b\b\b\b\b\b\b\b\b\b\b\b\b\b\b\b\b\b\b\b\b\b\b\b\b\b\b\b\b\b\b\b\b\b\b\b\b\b\b\b\b\b\b\b\b\b\b\b\b\b\b\b\b\b\b\b\b\b\b\b\b\b\b\b\b\r3290/4148 [======================>.......] - ETA: 0s - loss: 0.7321 - accuracy: 0.5286",
      "\b\b\b\b\b\b\b\b\b\b\b\b\b\b\b\b\b\b\b\b\b\b\b\b\b\b\b\b\b\b\b\b\b\b\b\b\b\b\b\b\b\b\b\b\b\b\b\b\b\b\b\b\b\b\b\b\b\b\b\b\b\b\b\b\b\b\b\b\b\b\b\b\b\b\b\b\b\b\b\b\b\b\b\b\b\b",
      "\r3470/4148 [========================>.....] - ETA: 0s - loss: 0.7319 - accuracy: 0.5285",
      "\b\b\b\b\b\b\b\b\b\b\b\b\b\b\b\b\b\b\b\b\b\b\b\b\b\b\b\b\b\b\b\b\b\b\b\b\b\b\b\b\b\b\b\b\b\b\b\b\b\b\b\b\b\b\b\b\b\b\b\b\b\b\b\b\b\b\b\b\b\b\b\b\b\b\b\b\b\b\b\b\b\b\b\b\b\b\r3660/4148 [=========================>....] - ETA: 0s - loss: 0.7297 - accuracy: 0.5301",
      "\b\b\b\b\b\b\b\b\b\b\b\b\b\b\b\b\b\b\b\b\b\b\b\b\b\b\b\b\b\b\b\b\b\b\b\b\b\b\b\b\b\b\b\b\b\b\b\b\b\b\b\b\b\b\b\b\b\b\b\b\b\b\b\b\b\b\b\b\b\b\b\b\b\b\b\b\b\b\b\b\b\b\b\b\b\b\r3860/4148 [==========================>...] - ETA: 0s - loss: 0.7327 - accuracy: 0.5303",
      "\b\b\b\b\b\b\b\b\b\b\b\b\b\b\b\b\b\b\b\b\b\b\b\b\b\b\b\b\b\b\b\b\b\b\b\b\b\b\b\b\b\b\b\b\b\b\b\b\b\b\b\b\b\b\b\b\b\b\b\b\b\b\b\b\b\b\b\b\b\b\b\b\b\b\b\b\b\b\b\b\b\b\b\b\b\b\r4090/4148 [============================>.] - ETA: 0s - loss: 0.7425 - accuracy: 0.5269",
      "\b\b\b\b\b\b\b\b\b\b\b\b\b\b\b\b\b\b\b\b\b\b\b\b\b\b\b\b\b\b\b\b\b\b\b\b\b\b\b\b\b\b\b\b\b\b\b\b\b\b\b\b\b\b\b\b\b\b\b\b\b\b\b\b\b\b\b\b\b\b\b\b\b\b\b\b\b\b\b\b\b\b\b\b\b\b\r4148/4148 [==============================] - 1s 225us/step - loss: 0.7423 - accuracy: 0.5272\n",
      "Epoch 11/20\n\r   5/4148 [..............................] - ETA: 1s - loss: 0.6363 - accuracy: 0.8000",
      "\b\b\b\b\b\b\b\b\b\b\b\b\b\b\b\b\b\b\b\b\b\b\b\b\b\b\b\b\b\b\b\b\b\b\b\b\b\b\b\b\b\b\b\b\b\b\b\b\b\b\b\b\b\b\b\b\b\b\b\b\b\b\b\b\b\b\b\b\b\b\b\b\b\b\b\b\b\b\b\b\b\b\b\b\b\b\r 270/4148 [>.............................] - ETA: 0s - loss: 0.7470 - accuracy: 0.5185",
      "\b\b\b\b\b\b\b\b\b\b\b\b\b\b\b\b\b\b\b\b\b\b\b\b\b\b\b\b\b\b\b\b\b\b\b\b\b\b\b\b\b\b\b\b\b\b\b\b\b\b\b\b\b\b\b\b\b\b\b\b\b\b\b\b\b\b\b\b\b\b\b\b\b\b\b\b\b\b\b\b\b\b\b\b\b\b\r 490/4148 [==>...........................] - ETA: 0s - loss: 0.7529 - accuracy: 0.4878",
      "\b\b\b\b\b\b\b\b\b\b\b\b\b\b\b\b\b\b\b\b\b\b\b\b\b\b\b\b\b\b\b\b\b\b\b\b\b\b\b\b\b\b\b\b\b\b\b\b\b\b\b\b\b\b\b\b\b\b\b\b\b\b\b\b\b\b\b\b\b\b\b\b\b\b\b\b\b\b\b\b\b\b\b\b\b\b\r 725/4148 [====>.........................] - ETA: 0s - loss: 0.7348 - accuracy: 0.4979",
      "\b\b\b\b\b\b\b\b\b\b\b\b\b\b\b\b\b\b\b\b\b\b\b\b\b\b\b\b\b\b\b\b\b\b\b\b\b\b\b\b\b\b\b\b\b\b\b\b\b\b\b\b\b\b\b\b\b\b\b\b\b\b\b\b\b\b\b\b\b\b\b\b\b\b\b\b\b\b\b\b\b\b\b\b\b\b\r 975/4148 [======>.......................] - ETA: 0s - loss: 0.7724 - accuracy: 0.5015",
      "\b\b\b\b\b\b\b\b\b\b\b\b\b\b\b\b\b\b\b\b\b\b\b\b\b\b\b\b\b\b\b\b\b\b\b\b\b\b\b\b\b\b\b\b\b\b\b\b\b\b\b\b\b\b\b\b\b\b\b\b\b\b\b\b\b\b\b\b\b\b\b\b\b\b\b\b\b\b\b\b\b\b\b\b\b\b",
      "\r1215/4148 [=======>......................] - ETA: 0s - loss: 0.7629 - accuracy: 0.5045",
      "\b\b\b\b\b\b\b\b\b\b\b\b\b\b\b\b\b\b\b\b\b\b\b\b\b\b\b\b\b\b\b\b\b\b\b\b\b\b\b\b\b\b\b\b\b\b\b\b\b\b\b\b\b\b\b\b\b\b\b\b\b\b\b\b\b\b\b\b\b\b\b\b\b\b\b\b\b\b\b\b\b\b\b\b\b\b\r1445/4148 [=========>....................] - ETA: 0s - loss: 0.7616 - accuracy: 0.5197",
      "\b\b\b\b\b\b\b\b\b\b\b\b\b\b\b\b\b\b\b\b\b\b\b\b\b\b\b\b\b\b\b\b\b\b\b\b\b\b\b\b\b\b\b\b\b\b\b\b\b\b\b\b\b\b\b\b\b\b\b\b\b\b\b\b\b\b\b\b\b\b\b\b\b\b\b\b\b\b\b\b\b\b\b\b\b\b\r1705/4148 [===========>..................] - ETA: 0s - loss: 0.7640 - accuracy: 0.5208",
      "\b\b\b\b\b\b\b\b\b\b\b\b\b\b\b\b\b\b\b\b\b\b\b\b\b\b\b\b\b\b\b\b\b\b\b\b\b\b\b\b\b\b\b\b\b\b\b\b\b\b\b\b\b\b\b\b\b\b\b\b\b\b\b\b\b\b\b\b\b\b\b\b\b\b\b\b\b\b\b\b\b\b\b\b\b\b\r1920/4148 [============>.................] - ETA: 0s - loss: 0.7861 - accuracy: 0.5198",
      "\b\b\b\b\b\b\b\b\b\b\b\b\b\b\b\b\b\b\b\b\b\b\b\b\b\b\b\b\b\b\b\b\b\b\b\b\b\b\b\b\b\b\b\b\b\b\b\b\b\b\b\b\b\b\b\b\b\b\b\b\b\b\b\b\b\b\b\b\b\b\b\b\b\b\b\b\b\b\b\b\b\b\b\b\b\b",
      "\r2100/4148 [==============>...............] - ETA: 0s - loss: 0.7972 - accuracy: 0.5138",
      "\b\b\b\b\b\b\b\b\b\b\b\b\b\b\b\b\b\b\b\b\b\b\b\b\b\b\b\b\b\b\b\b\b\b\b\b\b\b\b\b\b\b\b\b\b\b\b\b\b\b\b\b\b\b\b\b\b\b\b\b\b\b\b\b\b\b\b\b\b\b\b\b\b\b\b\b\b\b\b\b\b\b\b\b\b\b\r2285/4148 [===============>..............] - ETA: 0s - loss: 0.7941 - accuracy: 0.5155",
      "\b\b\b\b\b\b\b\b\b\b\b\b\b\b\b\b\b\b\b\b\b\b\b\b\b\b\b\b\b\b\b\b\b\b\b\b\b\b\b\b\b\b\b\b\b\b\b\b\b\b\b\b\b\b\b\b\b\b\b\b\b\b\b\b\b\b\b\b\b\b\b\b\b\b\b\b\b\b\b\b\b\b\b\b\b\b\r2485/4148 [================>.............] - ETA: 0s - loss: 0.7919 - accuracy: 0.5187",
      "\b\b\b\b\b\b\b\b\b\b\b\b\b\b\b\b\b\b\b\b\b\b\b\b\b\b\b\b\b\b\b\b\b\b\b\b\b\b\b\b\b\b\b\b\b\b\b\b\b\b\b\b\b\b\b\b\b\b\b\b\b\b\b\b\b\b\b\b\b\b\b\b\b\b\b\b\b\b\b\b\b\b\b\b\b\b\r2680/4148 [==================>...........] - ETA: 0s - loss: 0.7888 - accuracy: 0.5216",
      "\b\b\b\b\b\b\b\b\b\b\b\b\b\b\b\b\b\b\b\b\b\b\b\b\b\b\b\b\b\b\b\b\b\b\b\b\b\b\b\b\b\b\b\b\b\b\b\b\b\b\b\b\b\b\b\b\b\b\b\b\b\b\b\b\b\b\b\b\b\b\b\b\b\b\b\b\b\b\b\b\b\b\b\b\b\b\r2930/4148 [====================>.........] - ETA: 0s - loss: 0.7879 - accuracy: 0.5229",
      "\b\b\b\b\b\b\b\b\b\b\b\b\b\b\b\b\b\b\b\b\b\b\b\b\b\b\b\b\b\b\b\b\b\b\b\b\b\b\b\b\b\b\b\b\b\b\b\b\b\b\b\b\b\b\b\b\b\b\b\b\b\b\b\b\b\b\b\b\b\b\b\b\b\b\b\b\b\b\b\b\b\b\b\b\b\b\r3135/4148 [=====================>........] - ETA: 0s - loss: 0.7870 - accuracy: 0.5225",
      "\b\b\b\b\b\b\b\b\b\b\b\b\b\b\b\b\b\b\b\b\b\b\b\b\b\b\b\b\b\b\b\b\b\b\b\b\b\b\b\b\b\b\b\b\b\b\b\b\b\b\b\b\b\b\b\b\b\b\b\b\b\b\b\b\b\b\b\b\b\b\b\b\b\b\b\b\b\b\b\b\b\b\b\b\b\b\r3295/4148 [======================>.......] - ETA: 0s - loss: 0.7827 - accuracy: 0.5247",
      "\b\b\b\b\b\b\b\b\b\b\b\b\b\b\b\b\b\b\b\b\b\b\b\b\b\b\b\b\b\b\b\b\b\b\b\b\b\b\b\b\b\b\b\b\b\b\b\b\b\b\b\b\b\b\b\b\b\b\b\b\b\b\b\b\b\b\b\b\b\b\b\b\b\b\b\b\b\b\b\b\b\b\b\b\b\b",
      "\r3435/4148 [=======================>......] - ETA: 0s - loss: 0.7793 - accuracy: 0.5272",
      "\b\b\b\b\b\b\b\b\b\b\b\b\b\b\b\b\b\b\b\b\b\b\b\b\b\b\b\b\b\b\b\b\b\b\b\b\b\b\b\b\b\b\b\b\b\b\b\b\b\b\b\b\b\b\b\b\b\b\b\b\b\b\b\b\b\b\b\b\b\b\b\b\b\b\b\b\b\b\b\b\b\b\b\b\b\b\r3560/4148 [========================>.....] - ETA: 0s - loss: 0.7769 - accuracy: 0.5287",
      "\b\b\b\b\b\b\b\b\b\b\b\b\b\b\b\b\b\b\b\b\b\b\b\b\b\b\b\b\b\b\b\b\b\b\b\b\b\b\b\b\b\b\b\b\b\b\b\b\b\b\b\b\b\b\b\b\b\b\b\b\b\b\b\b\b\b\b\b\b\b\b\b\b\b\b\b\b\b\b\b\b\b\b\b\b\b\r3690/4148 [=========================>....] - ETA: 0s - loss: 0.7743 - accuracy: 0.5282",
      "\b\b\b\b\b\b\b\b\b\b\b\b\b\b\b\b\b\b\b\b\b\b\b\b\b\b\b\b\b\b\b\b\b\b\b\b\b\b\b\b\b\b\b\b\b\b\b\b\b\b\b\b\b\b\b\b\b\b\b\b\b\b\b\b\b\b\b\b\b\b\b\b\b\b\b\b\b\b\b\b\b\b\b\b\b\b\r3885/4148 [===========================>..] - ETA: 0s - loss: 0.7702 - accuracy: 0.5290",
      "\b\b\b\b\b\b\b\b\b\b\b\b\b\b\b\b\b\b\b\b\b\b\b\b\b\b\b\b\b\b\b\b\b\b\b\b\b\b\b\b\b\b\b\b\b\b\b\b\b\b\b\b\b\b\b\b\b\b\b\b\b\b\b\b\b\b\b\b\b\b\b\b\b\b\b\b\b\b\b\b\b\b\b\b\b\b\r4130/4148 [============================>.] - ETA: 0s - loss: 0.7686 - accuracy: 0.5298",
      "\b\b\b\b\b\b\b\b\b\b\b\b\b\b\b\b\b\b\b\b\b\b\b\b\b\b\b\b\b\b\b\b\b\b\b\b\b\b\b\b\b\b\b\b\b\b\b\b\b\b\b\b\b\b\b\b\b\b\b\b\b\b\b\b\b\b\b\b\b\b\b\b\b\b\b\b\b\b\b\b\b\b\b\b\b\b\r4148/4148 [==============================] - 1s 248us/step - loss: 0.7682 - accuracy: 0.5297\n",
      "Epoch 12/20\n\r   5/4148 [..............................] - ETA: 1s - loss: 0.6969 - accuracy: 0.4000",
      "\b\b\b\b\b\b\b\b\b\b\b\b\b\b\b\b\b\b\b\b\b\b\b\b\b\b\b\b\b\b\b\b\b\b\b\b\b\b\b\b\b\b\b\b\b\b\b\b\b\b\b\b\b\b\b\b\b\b\b\b\b\b\b\b\b\b\b\b\b\b\b\b\b\b\b\b\b\b\b\b\b\b\b\b\b\b\r 250/4148 [>.............................] - ETA: 0s - loss: 0.7614 - accuracy: 0.5160",
      "\b\b\b\b\b\b\b\b\b\b\b\b\b\b\b\b\b\b\b\b\b\b\b\b\b\b\b\b\b\b\b\b\b\b\b\b\b\b\b\b\b\b\b\b\b\b\b\b\b\b\b\b\b\b\b\b\b\b\b\b\b\b\b\b\b\b\b\b\b\b\b\b\b\b\b\b\b\b\b\b\b\b\b\b\b\b\r 450/4148 [==>...........................] - ETA: 0s - loss: 0.7686 - accuracy: 0.5400",
      "\b\b\b\b\b\b\b\b\b\b\b\b\b\b\b\b\b\b\b\b\b\b\b\b\b\b\b\b\b\b\b\b\b\b\b\b\b\b\b\b\b\b\b\b\b\b\b\b\b\b\b\b\b\b\b\b\b\b\b\b\b\b\b\b\b\b\b\b\b\b\b\b\b\b\b\b\b\b\b\b\b\b\b\b\b\b\r 650/4148 [===>..........................] - ETA: 0s - loss: 0.8034 - accuracy: 0.5231",
      "\b\b\b\b\b\b\b\b\b\b\b\b\b\b\b\b\b\b\b\b\b\b\b\b\b\b\b\b\b\b\b\b\b\b\b\b\b\b\b\b\b\b\b\b\b\b\b\b\b\b\b\b\b\b\b\b\b\b\b\b\b\b\b\b\b\b\b\b\b\b\b\b\b\b\b\b\b\b\b\b\b\b\b\b\b\b\r 870/4148 [=====>........................] - ETA: 0s - loss: 0.8066 - accuracy: 0.5103",
      "\b\b\b\b\b\b\b\b\b\b\b\b\b\b\b\b\b\b\b\b\b\b\b\b\b\b\b\b\b\b\b\b\b\b\b\b\b\b\b\b\b\b\b\b\b\b\b\b\b\b\b\b\b\b\b\b\b\b\b\b\b\b\b\b\b\b\b\b\b\b\b\b\b\b\b\b\b\b\b\b\b\b\b\b\b\b\r1080/4148 [======>.......................] - ETA: 0s - loss: 0.8014 - accuracy: 0.5185",
      "\b\b\b\b\b\b\b\b\b\b\b\b\b\b\b\b\b\b\b\b\b\b\b\b\b\b\b\b\b\b\b\b\b\b\b\b\b\b\b\b\b\b\b\b\b\b\b\b\b\b\b\b\b\b\b\b\b\b\b\b\b\b\b\b\b\b\b\b\b\b\b\b\b\b\b\b\b\b\b\b\b\b\b\b\b\b\r1350/4148 [========>.....................] - ETA: 0s - loss: 0.7891 - accuracy: 0.5185",
      "\b\b\b\b\b\b\b\b\b\b\b\b\b\b\b\b\b\b\b\b\b\b\b\b\b\b\b\b\b\b\b\b\b\b\b\b\b\b\b\b\b\b\b\b\b\b\b\b\b\b\b\b\b\b\b\b\b\b\b\b\b\b\b\b\b\b\b\b\b\b\b\b\b\b\b\b\b\b\b\b\b\b\b\b\b\b\r1635/4148 [==========>...................] - ETA: 0s - loss: 0.7834 - accuracy: 0.5193",
      "\b\b\b\b\b\b\b\b\b\b\b\b\b\b\b\b\b\b\b\b\b\b\b\b\b\b\b\b\b\b\b\b\b\b\b\b\b\b\b\b\b\b\b\b\b\b\b\b\b\b\b\b\b\b\b\b\b\b\b\b\b\b\b\b\b\b\b\b\b\b\b\b\b\b\b\b\b\b\b\b\b\b\b\b\b\b",
      "\r1925/4148 [============>.................] - ETA: 0s - loss: 0.7769 - accuracy: 0.5164",
      "\b\b\b\b\b\b\b\b\b\b\b\b\b\b\b\b\b\b\b\b\b\b\b\b\b\b\b\b\b\b\b\b\b\b\b\b\b\b\b\b\b\b\b\b\b\b\b\b\b\b\b\b\b\b\b\b\b\b\b\b\b\b\b\b\b\b\b\b\b\b\b\b\b\b\b\b\b\b\b\b\b\b\b\b\b\b\r2185/4148 [==============>...............] - ETA: 0s - loss: 0.7727 - accuracy: 0.5172",
      "\b\b\b\b\b\b\b\b\b\b\b\b\b\b\b\b\b\b\b\b\b\b\b\b\b\b\b\b\b\b\b\b\b\b\b\b\b\b\b\b\b\b\b\b\b\b\b\b\b\b\b\b\b\b\b\b\b\b\b\b\b\b\b\b\b\b\b\b\b\b\b\b\b\b\b\b\b\b\b\b\b\b\b\b\b\b\r2395/4148 [================>.............] - ETA: 0s - loss: 0.7738 - accuracy: 0.5194",
      "\b\b\b\b\b\b\b\b\b\b\b\b\b\b\b\b\b\b\b\b\b\b\b\b\b\b\b\b\b\b\b\b\b\b\b\b\b\b\b\b\b\b\b\b\b\b\b\b\b\b\b\b\b\b\b\b\b\b\b\b\b\b\b\b\b\b\b\b\b\b\b\b\b\b\b\b\b\b\b\b\b\b\b\b\b\b\r2625/4148 [=================>............] - ETA: 0s - loss: 0.7702 - accuracy: 0.5177",
      "\b\b\b\b\b\b\b\b\b\b\b\b\b\b\b\b\b\b\b\b\b\b\b\b\b\b\b\b\b\b\b\b\b\b\b\b\b\b\b\b\b\b\b\b\b\b\b\b\b\b\b\b\b\b\b\b\b\b\b\b\b\b\b\b\b\b\b\b\b\b\b\b\b\b\b\b\b\b\b\b\b\b\b\b\b\b\r2895/4148 [===================>..........] - ETA: 0s - loss: 0.7631 - accuracy: 0.5212",
      "\b\b\b\b\b\b\b\b\b\b\b\b\b\b\b\b\b\b\b\b\b\b\b\b\b\b\b\b\b\b\b\b\b\b\b\b\b\b\b\b\b\b\b\b\b\b\b\b\b\b\b\b\b\b\b\b\b\b\b\b\b\b\b\b\b\b\b\b\b\b\b\b\b\b\b\b\b\b\b\b\b\b\b\b\b\b\r3160/4148 [=====================>........] - ETA: 0s - loss: 0.7697 - accuracy: 0.5231",
      "\b\b\b\b\b\b\b\b\b\b\b\b\b\b\b\b\b\b\b\b\b\b\b\b\b\b\b\b\b\b\b\b\b\b\b\b\b\b\b\b\b\b\b\b\b\b\b\b\b\b\b\b\b\b\b\b\b\b\b\b\b\b\b\b\b\b\b\b\b\b\b\b\b\b\b\b\b\b\b\b\b\b\b\b\b\b\r3415/4148 [=======================>......] - ETA: 0s - loss: 0.7658 - accuracy: 0.5245",
      "\b\b\b\b\b\b\b\b\b\b\b\b\b\b\b\b\b\b\b\b\b\b\b\b\b\b\b\b\b\b\b\b\b\b\b\b\b\b\b\b\b\b\b\b\b\b\b\b\b\b\b\b\b\b\b\b\b\b\b\b\b\b\b\b\b\b\b\b\b\b\b\b\b\b\b\b\b\b\b\b\b\b\b\b\b\b\r3670/4148 [=========================>....] - ETA: 0s - loss: 0.7684 - accuracy: 0.5229",
      "\b\b\b\b\b\b\b\b\b\b\b\b\b\b\b\b\b\b\b\b\b\b\b\b\b\b\b\b\b\b\b\b\b\b\b\b\b\b\b\b\b\b\b\b\b\b\b\b\b\b\b\b\b\b\b\b\b\b\b\b\b\b\b\b\b\b\b\b\b\b\b\b\b\b\b\b\b\b\b\b\b\b\b\b\b\b",
      "\r3910/4148 [===========================>..] - ETA: 0s - loss: 0.7691 - accuracy: 0.5233",
      "\b\b\b\b\b\b\b\b\b\b\b\b\b\b\b\b\b\b\b\b\b\b\b\b\b\b\b\b\b\b\b\b\b\b\b\b\b\b\b\b\b\b\b\b\b\b\b\b\b\b\b\b\b\b\b\b\b\b\b\b\b\b\b\b\b\b\b\b\b\b\b\b\b\b\b\b\b\b\b\b\b\b\b\b\b\b\r4100/4148 [============================>.] - ETA: 0s - loss: 0.7684 - accuracy: 0.5249",
      "\b\b\b\b\b\b\b\b\b\b\b\b\b\b\b\b\b\b\b\b\b\b\b\b\b\b\b\b\b\b\b\b\b\b\b\b\b\b\b\b\b\b\b\b\b\b\b\b\b\b\b\b\b\b\b\b\b\b\b\b\b\b\b\b\b\b\b\b\b\b\b\b\b\b\b\b\b\b\b\b\b\b\b\b\b\b\r4148/4148 [==============================] - 1s 212us/step - loss: 0.7681 - accuracy: 0.5243\n",
      "Epoch 13/20\n\r   5/4148 [..............................] - ETA: 1s - loss: 0.7896 - accuracy: 0.0000e+00",
      "\b\b\b\b\b\b\b\b\b\b\b\b\b\b\b\b\b\b\b\b\b\b\b\b\b\b\b\b\b\b\b\b\b\b\b\b\b\b\b\b\b\b\b\b\b\b\b\b\b\b\b\b\b\b\b\b\b\b\b\b\b\b\b\b\b\b\b\b\b\b\b\b\b\b\b\b\b\b\b\b\b\b\b\b\b\b\b\b\b\b\r 250/4148 [>.............................] - ETA: 0s - loss: 0.7339 - accuracy: 0.4960    ",
      "\b\b\b\b\b\b\b\b\b\b\b\b\b\b\b\b\b\b\b\b\b\b\b\b\b\b\b\b\b\b\b\b\b\b\b\b\b\b\b\b\b\b\b\b\b\b\b\b\b\b\b\b\b\b\b\b\b\b\b\b\b\b\b\b\b\b\b\b\b\b\b\b\b\b\b\b\b\b\b\b\b\b\b\b\b\b\r 440/4148 [==>...........................] - ETA: 0s - loss: 0.7750 - accuracy: 0.5114",
      "\b\b\b\b\b\b\b\b\b\b\b\b\b\b\b\b\b\b\b\b\b\b\b\b\b\b\b\b\b\b\b\b\b\b\b\b\b\b\b\b\b\b\b\b\b\b\b\b\b\b\b\b\b\b\b\b\b\b\b\b\b\b\b\b\b\b\b\b\b\b\b\b\b\b\b\b\b\b\b\b\b\b\b\b\b\b\r 670/4148 [===>..........................] - ETA: 0s - loss: 0.7672 - accuracy: 0.5164",
      "\b\b\b\b\b\b\b\b\b\b\b\b\b\b\b\b\b\b\b\b\b\b\b\b\b\b\b\b\b\b\b\b\b\b\b\b\b\b\b\b\b\b\b\b\b\b\b\b\b\b\b\b\b\b\b\b\b\b\b\b\b\b\b\b\b\b\b\b\b\b\b\b\b\b\b\b\b\b\b\b\b\b\b\b\b\b\r 880/4148 [=====>........................] - ETA: 0s - loss: 0.7663 - accuracy: 0.5216",
      "\b\b\b\b\b\b\b\b\b\b\b\b\b\b\b\b\b\b\b\b\b\b\b\b\b\b\b\b\b\b\b\b\b\b\b\b\b\b\b\b\b\b\b\b\b\b\b\b\b\b\b\b\b\b\b\b\b\b\b\b\b\b\b\b\b\b\b\b\b\b\b\b\b\b\b\b\b\b\b\b\b\b\b\b\b\b\r1090/4148 [======>.......................] - ETA: 0s - loss: 0.7745 - accuracy: 0.5303",
      "\b\b\b\b\b\b\b\b\b\b\b\b\b\b\b\b\b\b\b\b\b\b\b\b\b\b\b\b\b\b\b\b\b\b\b\b\b\b\b\b\b\b\b\b\b\b\b\b\b\b\b\b\b\b\b\b\b\b\b\b\b\b\b\b\b\b\b\b\b\b\b\b\b\b\b\b\b\b\b\b\b\b\b\b\b\b\r1350/4148 [========>.....................] - ETA: 0s - loss: 0.7581 - accuracy: 0.5252",
      "\b\b\b\b\b\b\b\b\b\b\b\b\b\b\b\b\b\b\b\b\b\b\b\b\b\b\b\b\b\b\b\b\b\b\b\b\b\b\b\b\b\b\b\b\b\b\b\b\b\b\b\b\b\b\b\b\b\b\b\b\b\b\b\b\b\b\b\b\b\b\b\b\b\b\b\b\b\b\b\b\b\b\b\b\b\b\r1615/4148 [==========>...................] - ETA: 0s - loss: 0.7562 - accuracy: 0.5288",
      "\b\b\b\b\b\b\b\b\b\b\b\b\b\b\b\b\b\b\b\b\b\b\b\b\b\b\b\b\b\b\b\b\b\b\b\b\b\b\b\b\b\b\b\b\b\b\b\b\b\b\b\b\b\b\b\b\b\b\b\b\b\b\b\b\b\b\b\b\b\b\b\b\b\b\b\b\b\b\b\b\b\b\b\b\b\b\r1890/4148 [============>.................] - ETA: 0s - loss: 0.7554 - accuracy: 0.5265",
      "\b\b\b\b\b\b\b\b\b\b\b\b\b\b\b\b\b\b\b\b\b\b\b\b\b\b\b\b\b\b\b\b\b\b\b\b\b\b\b\b\b\b\b\b\b\b\b\b\b\b\b\b\b\b\b\b\b\b\b\b\b\b\b\b\b\b\b\b\b\b\b\b\b\b\b\b\b\b\b\b\b\b\b\b\b\b\r2095/4148 [==============>...............] - ETA: 0s - loss: 0.7548 - accuracy: 0.5313",
      "\b\b\b\b\b\b\b\b\b\b\b\b\b\b\b\b\b\b\b\b\b\b\b\b\b\b\b\b\b\b\b\b\b\b\b\b\b\b\b\b\b\b\b\b\b\b\b\b\b\b\b\b\b\b\b\b\b\b\b\b\b\b\b\b\b\b\b\b\b\b\b\b\b\b\b\b\b\b\b\b\b\b\b\b\b\b",
      "\r2255/4148 [===============>..............] - ETA: 0s - loss: 0.7541 - accuracy: 0.5299",
      "\b\b\b\b\b\b\b\b\b\b\b\b\b\b\b\b\b\b\b\b\b\b\b\b\b\b\b\b\b\b\b\b\b\b\b\b\b\b\b\b\b\b\b\b\b\b\b\b\b\b\b\b\b\b\b\b\b\b\b\b\b\b\b\b\b\b\b\b\b\b\b\b\b\b\b\b\b\b\b\b\b\b\b\b\b\b\r2460/4148 [================>.............] - ETA: 0s - loss: 0.7518 - accuracy: 0.5293",
      "\b\b\b\b\b\b\b\b\b\b\b\b\b\b\b\b\b\b\b\b\b\b\b\b\b\b\b\b\b\b\b\b\b\b\b\b\b\b\b\b\b\b\b\b\b\b\b\b\b\b\b\b\b\b\b\b\b\b\b\b\b\b\b\b\b\b\b\b\b\b\b\b\b\b\b\b\b\b\b\b\b\b\b\b\b\b\r2690/4148 [==================>...........] - ETA: 0s - loss: 0.7525 - accuracy: 0.5286",
      "\b\b\b\b\b\b\b\b\b\b\b\b\b\b\b\b\b\b\b\b\b\b\b\b\b\b\b\b\b\b\b\b\b\b\b\b\b\b\b\b\b\b\b\b\b\b\b\b\b\b\b\b\b\b\b\b\b\b\b\b\b\b\b\b\b\b\b\b\b\b\b\b\b\b\b\b\b\b\b\b\b\b\b\b\b\b\r2895/4148 [===================>..........] - ETA: 0s - loss: 0.7490 - accuracy: 0.5254",
      "\b\b\b\b\b\b\b\b\b\b\b\b\b\b\b\b\b\b\b\b\b\b\b\b\b\b\b\b\b\b\b\b\b\b\b\b\b\b\b\b\b\b\b\b\b\b\b\b\b\b\b\b\b\b\b\b\b\b\b\b\b\b\b\b\b\b\b\b\b\b\b\b\b\b\b\b\b\b\b\b\b\b\b\b\b\b\r3090/4148 [=====================>........] - ETA: 0s - loss: 0.7559 - accuracy: 0.5249",
      "\b\b\b\b\b\b\b\b\b\b\b\b\b\b\b\b\b\b\b\b\b\b\b\b\b\b\b\b\b\b\b\b\b\b\b\b\b\b\b\b\b\b\b\b\b\b\b\b\b\b\b\b\b\b\b\b\b\b\b\b\b\b\b\b\b\b\b\b\b\b\b\b\b\b\b\b\b\b\b\b\b\b\b\b\b\b\r3280/4148 [======================>.......] - ETA: 0s - loss: 0.7552 - accuracy: 0.5229",
      "\b\b\b\b\b\b\b\b\b\b\b\b\b\b\b\b\b\b\b\b\b\b\b\b\b\b\b\b\b\b\b\b\b\b\b\b\b\b\b\b\b\b\b\b\b\b\b\b\b\b\b\b\b\b\b\b\b\b\b\b\b\b\b\b\b\b\b\b\b\b\b\b\b\b\b\b\b\b\b\b\b\b\b\b\b\b\r3450/4148 [=======================>......] - ETA: 0s - loss: 0.7531 - accuracy: 0.5188",
      "\b\b\b\b\b\b\b\b\b\b\b\b\b\b\b\b\b\b\b\b\b\b\b\b\b\b\b\b\b\b\b\b\b\b\b\b\b\b\b\b\b\b\b\b\b\b\b\b\b\b\b\b\b\b\b\b\b\b\b\b\b\b\b\b\b\b\b\b\b\b\b\b\b\b\b\b\b\b\b\b\b\b\b\b\b\b\r3600/4148 [=========================>....] - ETA: 0s - loss: 0.7536 - accuracy: 0.5183",
      "\b\b\b\b\b\b\b\b\b\b\b\b\b\b\b\b\b\b\b\b\b\b\b\b\b\b\b\b\b\b\b\b\b\b\b\b\b\b\b\b\b\b\b\b\b\b\b\b\b\b\b\b\b\b\b\b\b\b\b\b\b\b\b\b\b\b\b\b\b\b\b\b\b\b\b\b\b\b\b\b\b\b\b\b\b\b",
      "\r3810/4148 [==========================>...] - ETA: 0s - loss: 0.7511 - accuracy: 0.5184",
      "\b\b\b\b\b\b\b\b\b\b\b\b\b\b\b\b\b\b\b\b\b\b\b\b\b\b\b\b\b\b\b\b\b\b\b\b\b\b\b\b\b\b\b\b\b\b\b\b\b\b\b\b\b\b\b\b\b\b\b\b\b\b\b\b\b\b\b\b\b\b\b\b\b\b\b\b\b\b\b\b\b\b\b\b\b\b\r4005/4148 [===========================>..] - ETA: 0s - loss: 0.7502 - accuracy: 0.5179",
      "\b\b\b\b\b\b\b\b\b\b\b\b\b\b\b\b\b\b\b\b\b\b\b\b\b\b\b\b\b\b\b\b\b\b\b\b\b\b\b\b\b\b\b\b\b\b\b\b\b\b\b\b\b\b\b\b\b\b\b\b\b\b\b\b\b\b\b\b\b\b\b\b\b\b\b\b\b\b\b\b\b\b\b\b\b\b",
      "\r4148/4148 [==============================] - 1s 242us/step - loss: 0.7483 - accuracy: 0.5200\n",
      "Epoch 14/20\n\r   5/4148 [..............................] - ETA: 2s - loss: 0.5579 - accuracy: 0.8000",
      "\b\b\b\b\b\b\b\b\b\b\b\b\b\b\b\b\b\b\b\b\b\b\b\b\b\b\b\b\b\b\b\b\b\b\b\b\b\b\b\b\b\b\b\b\b\b\b\b\b\b\b\b\b\b\b\b\b\b\b\b\b\b\b\b\b\b\b\b\b\b\b\b\b\b\b\b\b\b\b\b\b\b\b\b\b\b",
      "\r 165/4148 [>.............................] - ETA: 1s - loss: 0.6640 - accuracy: 0.5636",
      "\b\b\b\b\b\b\b\b\b\b\b\b\b\b\b\b\b\b\b\b\b\b\b\b\b\b\b\b\b\b\b\b\b\b\b\b\b\b\b\b\b\b\b\b\b\b\b\b\b\b\b\b\b\b\b\b\b\b\b\b\b\b\b\b\b\b\b\b\b\b\b\b\b\b\b\b\b\b\b\b\b\b\b\b\b\b",
      "\r 385/4148 [=>............................] - ETA: 1s - loss: 0.7386 - accuracy: 0.5740",
      "\b\b\b\b\b\b\b\b\b\b\b\b\b\b\b\b\b\b\b\b\b\b\b\b\b\b\b\b\b\b\b\b\b\b\b\b\b\b\b\b\b\b\b\b\b\b\b\b\b\b\b\b\b\b\b\b\b\b\b\b\b\b\b\b\b\b\b\b\b\b\b\b\b\b\b\b\b\b\b\b\b\b\b\b\b\b",
      "\r 570/4148 [===>..........................] - ETA: 0s - loss: 0.7368 - accuracy: 0.5684",
      "\b\b\b\b\b\b\b\b\b\b\b\b\b\b\b\b\b\b\b\b\b\b\b\b\b\b\b\b\b\b\b\b\b\b\b\b\b\b\b\b\b\b\b\b\b\b\b\b\b\b\b\b\b\b\b\b\b\b\b\b\b\b\b\b\b\b\b\b\b\b\b\b\b\b\b\b\b\b\b\b\b\b\b\b\b\b\r 760/4148 [====>.........................] - ETA: 0s - loss: 0.7289 - accuracy: 0.5395",
      "\b\b\b\b\b\b\b\b\b\b\b\b\b\b\b\b\b\b\b\b\b\b\b\b\b\b\b\b\b\b\b\b\b\b\b\b\b\b\b\b\b\b\b\b\b\b\b\b\b\b\b\b\b\b\b\b\b\b\b\b\b\b\b\b\b\b\b\b\b\b\b\b\b\b\b\b\b\b\b\b\b\b\b\b\b\b\r 920/4148 [=====>........................] - ETA: 0s - loss: 0.7213 - accuracy: 0.5348",
      "\b\b\b\b\b\b\b\b\b\b\b\b\b\b\b\b\b\b\b\b\b\b\b\b\b\b\b\b\b\b\b\b\b\b\b\b\b\b\b\b\b\b\b\b\b\b\b\b\b\b\b\b\b\b\b\b\b\b\b\b\b\b\b\b\b\b\b\b\b\b\b\b\b\b\b\b\b\b\b\b\b\b\b\b\b\b\r1110/4148 [=======>......................] - ETA: 0s - loss: 0.7194 - accuracy: 0.5288",
      "\b\b\b\b\b\b\b\b\b\b\b\b\b\b\b\b\b\b\b\b\b\b\b\b\b\b\b\b\b\b\b\b\b\b\b\b\b\b\b\b\b\b\b\b\b\b\b\b\b\b\b\b\b\b\b\b\b\b\b\b\b\b\b\b\b\b\b\b\b\b\b\b\b\b\b\b\b\b\b\b\b\b\b\b\b\b\r1320/4148 [========>.....................] - ETA: 0s - loss: 0.7170 - accuracy: 0.5265",
      "\b\b\b\b\b\b\b\b\b\b\b\b\b\b\b\b\b\b\b\b\b\b\b\b\b\b\b\b\b\b\b\b\b\b\b\b\b\b\b\b\b\b\b\b\b\b\b\b\b\b\b\b\b\b\b\b\b\b\b\b\b\b\b\b\b\b\b\b\b\b\b\b\b\b\b\b\b\b\b\b\b\b\b\b\b\b\r1530/4148 [==========>...................] - ETA: 0s - loss: 0.7202 - accuracy: 0.5170",
      "\b\b\b\b\b\b\b\b\b\b\b\b\b\b\b\b\b\b\b\b\b\b\b\b\b\b\b\b\b\b\b\b\b\b\b\b\b\b\b\b\b\b\b\b\b\b\b\b\b\b\b\b\b\b\b\b\b\b\b\b\b\b\b\b\b\b\b\b\b\b\b\b\b\b\b\b\b\b\b\b\b\b\b\b\b\b\r1770/4148 [===========>..................] - ETA: 0s - loss: 0.7254 - accuracy: 0.5215",
      "\b\b\b\b\b\b\b\b\b\b\b\b\b\b\b\b\b\b\b\b\b\b\b\b\b\b\b\b\b\b\b\b\b\b\b\b\b\b\b\b\b\b\b\b\b\b\b\b\b\b\b\b\b\b\b\b\b\b\b\b\b\b\b\b\b\b\b\b\b\b\b\b\b\b\b\b\b\b\b\b\b\b\b\b\b\b\r1955/4148 [=============>................] - ETA: 0s - loss: 0.7278 - accuracy: 0.5284",
      "\b\b\b\b\b\b\b\b\b\b\b\b\b\b\b\b\b\b\b\b\b\b\b\b\b\b\b\b\b\b\b\b\b\b\b\b\b\b\b\b\b\b\b\b\b\b\b\b\b\b\b\b\b\b\b\b\b\b\b\b\b\b\b\b\b\b\b\b\b\b\b\b\b\b\b\b\b\b\b\b\b\b\b\b\b\b\r2180/4148 [==============>...............] - ETA: 0s - loss: 0.7250 - accuracy: 0.5298",
      "\b\b\b\b\b\b\b\b\b\b\b\b\b\b\b\b\b\b\b\b\b\b\b\b\b\b\b\b\b\b\b\b\b\b\b\b\b\b\b\b\b\b\b\b\b\b\b\b\b\b\b\b\b\b\b\b\b\b\b\b\b\b\b\b\b\b\b\b\b\b\b\b\b\b\b\b\b\b\b\b\b\b\b\b\b\b",
      "\r2420/4148 [================>.............] - ETA: 0s - loss: 0.7286 - accuracy: 0.5298",
      "\b\b\b\b\b\b\b\b\b\b\b\b\b\b\b\b\b\b\b\b\b\b\b\b\b\b\b\b\b\b\b\b\b\b\b\b\b\b\b\b\b\b\b\b\b\b\b\b\b\b\b\b\b\b\b\b\b\b\b\b\b\b\b\b\b\b\b\b\b\b\b\b\b\b\b\b\b\b\b\b\b\b\b\b\b\b\r2665/4148 [==================>...........] - ETA: 0s - loss: 0.7343 - accuracy: 0.5302",
      "\b\b\b\b\b\b\b\b\b\b\b\b\b\b\b\b\b\b\b\b\b\b\b\b\b\b\b\b\b\b\b\b\b\b\b\b\b\b\b\b\b\b\b\b\b\b\b\b\b\b\b\b\b\b\b\b\b\b\b\b\b\b\b\b\b\b\b\b\b\b\b\b\b\b\b\b\b\b\b\b\b\b\b\b\b\b\r2895/4148 [===================>..........] - ETA: 0s - loss: 0.7327 - accuracy: 0.5282",
      "\b\b\b\b\b\b\b\b\b\b\b\b\b\b\b\b\b\b\b\b\b\b\b\b\b\b\b\b\b\b\b\b\b\b\b\b\b\b\b\b\b\b\b\b\b\b\b\b\b\b\b\b\b\b\b\b\b\b\b\b\b\b\b\b\b\b\b\b\b\b\b\b\b\b\b\b\b\b\b\b\b\b\b\b\b\b\r3170/4148 [=====================>........] - ETA: 0s - loss: 0.7320 - accuracy: 0.5290",
      "\b\b\b\b\b\b\b\b\b\b\b\b\b\b\b\b\b\b\b\b\b\b\b\b\b\b\b\b\b\b\b\b\b\b\b\b\b\b\b\b\b\b\b\b\b\b\b\b\b\b\b\b\b\b\b\b\b\b\b\b\b\b\b\b\b\b\b\b\b\b\b\b\b\b\b\b\b\b\b\b\b\b\b\b\b\b",
      "\r3395/4148 [=======================>......] - ETA: 0s - loss: 0.7323 - accuracy: 0.5267",
      "\b\b\b\b\b\b\b\b\b\b\b\b\b\b\b\b\b\b\b\b\b\b\b\b\b\b\b\b\b\b\b\b\b\b\b\b\b\b\b\b\b\b\b\b\b\b\b\b\b\b\b\b\b\b\b\b\b\b\b\b\b\b\b\b\b\b\b\b\b\b\b\b\b\b\b\b\b\b\b\b\b\b\b\b\b\b\r3690/4148 [=========================>....] - ETA: 0s - loss: 0.7336 - accuracy: 0.5290",
      "\b\b\b\b\b\b\b\b\b\b\b\b\b\b\b\b\b\b\b\b\b\b\b\b\b\b\b\b\b\b\b\b\b\b\b\b\b\b\b\b\b\b\b\b\b\b\b\b\b\b\b\b\b\b\b\b\b\b\b\b\b\b\b\b\b\b\b\b\b\b\b\b\b\b\b\b\b\b\b\b\b\b\b\b\b\b\r3950/4148 [===========================>..] - ETA: 0s - loss: 0.7415 - accuracy: 0.5273",
      "\b\b\b\b\b\b\b\b\b\b\b\b\b\b\b\b\b\b\b\b\b\b\b\b\b\b\b\b\b\b\b\b\b\b\b\b\b\b\b\b\b\b\b\b\b\b\b\b\b\b\b\b\b\b\b\b\b\b\b\b\b\b\b\b\b\b\b\b\b\b\b\b\b\b\b\b\b\b\b\b\b\b\b\b\b\b",
      "\r4148/4148 [==============================] - 1s 231us/step - loss: 0.7392 - accuracy: 0.5287\n",
      "Epoch 15/20\n\r   5/4148 [..............................] - ETA: 1s - loss: 0.7074 - accuracy: 0.0000e+00",
      "\b\b\b\b\b\b\b\b\b\b\b\b\b\b\b\b\b\b\b\b\b\b\b\b\b\b\b\b\b\b\b\b\b\b\b\b\b\b\b\b\b\b\b\b\b\b\b\b\b\b\b\b\b\b\b\b\b\b\b\b\b\b\b\b\b\b\b\b\b\b\b\b\b\b\b\b\b\b\b\b\b\b\b\b\b\b\b\b\b\b",
      "\r 260/4148 [>.............................] - ETA: 0s - loss: 0.7280 - accuracy: 0.4692    ",
      "\b\b\b\b\b\b\b\b\b\b\b\b\b\b\b\b\b\b\b\b\b\b\b\b\b\b\b\b\b\b\b\b\b\b\b\b\b\b\b\b\b\b\b\b\b\b\b\b\b\b\b\b\b\b\b\b\b\b\b\b\b\b\b\b\b\b\b\b\b\b\b\b\b\b\b\b\b\b\b\b\b\b\b\b\b\b",
      "\r 510/4148 [==>...........................] - ETA: 0s - loss: 0.7262 - accuracy: 0.5176",
      "\b\b\b\b\b\b\b\b\b\b\b\b\b\b\b\b\b\b\b\b\b\b\b\b\b\b\b\b\b\b\b\b\b\b\b\b\b\b\b\b\b\b\b\b\b\b\b\b\b\b\b\b\b\b\b\b\b\b\b\b\b\b\b\b\b\b\b\b\b\b\b\b\b\b\b\b\b\b\b\b\b\b\b\b\b\b",
      "\r 720/4148 [====>.........................] - ETA: 0s - loss: 0.7243 - accuracy: 0.5250",
      "\b\b\b\b\b\b\b\b\b\b\b\b\b\b\b\b\b\b\b\b\b\b\b\b\b\b\b\b\b\b\b\b\b\b\b\b\b\b\b\b\b\b\b\b\b\b\b\b\b\b\b\b\b\b\b\b\b\b\b\b\b\b\b\b\b\b\b\b\b\b\b\b\b\b\b\b\b\b\b\b\b\b\b\b\b\b\r1005/4148 [======>.......................] - ETA: 0s - loss: 0.7292 - accuracy: 0.5343",
      "\b\b\b\b\b\b\b\b\b\b\b\b\b\b\b\b\b\b\b\b\b\b\b\b\b\b\b\b\b\b\b\b\b\b\b\b\b\b\b\b\b\b\b\b\b\b\b\b\b\b\b\b\b\b\b\b\b\b\b\b\b\b\b\b\b\b\b\b\b\b\b\b\b\b\b\b\b\b\b\b\b\b\b\b\b\b\r1295/4148 [========>.....................] - ETA: 0s - loss: 0.7304 - accuracy: 0.5367",
      "\b\b\b\b\b\b\b\b\b\b\b\b\b\b\b\b\b\b\b\b\b\b\b\b\b\b\b\b\b\b\b\b\b\b\b\b\b\b\b\b\b\b\b\b\b\b\b\b\b\b\b\b\b\b\b\b\b\b\b\b\b\b\b\b\b\b\b\b\b\b\b\b\b\b\b\b\b\b\b\b\b\b\b\b\b\b\r1570/4148 [==========>...................] - ETA: 0s - loss: 0.7304 - accuracy: 0.5306",
      "\b\b\b\b\b\b\b\b\b\b\b\b\b\b\b\b\b\b\b\b\b\b\b\b\b\b\b\b\b\b\b\b\b\b\b\b\b\b\b\b\b\b\b\b\b\b\b\b\b\b\b\b\b\b\b\b\b\b\b\b\b\b\b\b\b\b\b\b\b\b\b\b\b\b\b\b\b\b\b\b\b\b\b\b\b\b",
      "\r1870/4148 [============>.................] - ETA: 0s - loss: 0.7255 - accuracy: 0.5294",
      "\b\b\b\b\b\b\b\b\b\b\b\b\b\b\b\b\b\b\b\b\b\b\b\b\b\b\b\b\b\b\b\b\b\b\b\b\b\b\b\b\b\b\b\b\b\b\b\b\b\b\b\b\b\b\b\b\b\b\b\b\b\b\b\b\b\b\b\b\b\b\b\b\b\b\b\b\b\b\b\b\b\b\b\b\b\b\r2150/4148 [==============>...............] - ETA: 0s - loss: 0.7243 - accuracy: 0.5330",
      "\b\b\b\b\b\b\b\b\b\b\b\b\b\b\b\b\b\b\b\b\b\b\b\b\b\b\b\b\b\b\b\b\b\b\b\b\b\b\b\b\b\b\b\b\b\b\b\b\b\b\b\b\b\b\b\b\b\b\b\b\b\b\b\b\b\b\b\b\b\b\b\b\b\b\b\b\b\b\b\b\b\b\b\b\b\b\r2425/4148 [================>.............] - ETA: 0s - loss: 0.7247 - accuracy: 0.5357",
      "\b\b\b\b\b\b\b\b\b\b\b\b\b\b\b\b\b\b\b\b\b\b\b\b\b\b\b\b\b\b\b\b\b\b\b\b\b\b\b\b\b\b\b\b\b\b\b\b\b\b\b\b\b\b\b\b\b\b\b\b\b\b\b\b\b\b\b\b\b\b\b\b\b\b\b\b\b\b\b\b\b\b\b\b\b\b\r2665/4148 [==================>...........] - ETA: 0s - loss: 0.7224 - accuracy: 0.5328",
      "\b\b\b\b\b\b\b\b\b\b\b\b\b\b\b\b\b\b\b\b\b\b\b\b\b\b\b\b\b\b\b\b\b\b\b\b\b\b\b\b\b\b\b\b\b\b\b\b\b\b\b\b\b\b\b\b\b\b\b\b\b\b\b\b\b\b\b\b\b\b\b\b\b\b\b\b\b\b\b\b\b\b\b\b\b\b",
      "\r2935/4148 [====================>.........] - ETA: 0s - loss: 0.7280 - accuracy: 0.5267",
      "\b\b\b\b\b\b\b\b\b\b\b\b\b\b\b\b\b\b\b\b\b\b\b\b\b\b\b\b\b\b\b\b\b\b\b\b\b\b\b\b\b\b\b\b\b\b\b\b\b\b\b\b\b\b\b\b\b\b\b\b\b\b\b\b\b\b\b\b\b\b\b\b\b\b\b\b\b\b\b\b\b\b\b\b\b\b\r3220/4148 [======================>.......] - ETA: 0s - loss: 0.7309 - accuracy: 0.5273",
      "\b\b\b\b\b\b\b\b\b\b\b\b\b\b\b\b\b\b\b\b\b\b\b\b\b\b\b\b\b\b\b\b\b\b\b\b\b\b\b\b\b\b\b\b\b\b\b\b\b\b\b\b\b\b\b\b\b\b\b\b\b\b\b\b\b\b\b\b\b\b\b\b\b\b\b\b\b\b\b\b\b\b\b\b\b\b\r3525/4148 [========================>.....] - ETA: 0s - loss: 0.7284 - accuracy: 0.5313",
      "\b\b\b\b\b\b\b\b\b\b\b\b\b\b\b\b\b\b\b\b\b\b\b\b\b\b\b\b\b\b\b\b\b\b\b\b\b\b\b\b\b\b\b\b\b\b\b\b\b\b\b\b\b\b\b\b\b\b\b\b\b\b\b\b\b\b\b\b\b\b\b\b\b\b\b\b\b\b\b\b\b\b\b\b\b\b\r3820/4148 [==========================>...] - ETA: 0s - loss: 0.7278 - accuracy: 0.5304",
      "\b\b\b\b\b\b\b\b\b\b\b\b\b\b\b\b\b\b\b\b\b\b\b\b\b\b\b\b\b\b\b\b\b\b\b\b\b\b\b\b\b\b\b\b\b\b\b\b\b\b\b\b\b\b\b\b\b\b\b\b\b\b\b\b\b\b\b\b\b\b\b\b\b\b\b\b\b\b\b\b\b\b\b\b\b\b",
      "\r4125/4148 [============================>.] - ETA: 0s - loss: 0.7374 - accuracy: 0.5292",
      "\b\b\b\b\b\b\b\b\b\b\b\b\b\b\b\b\b\b\b\b\b\b\b\b\b\b\b\b\b\b\b\b\b\b\b\b\b\b\b\b\b\b\b\b\b\b\b\b\b\b\b\b\b\b\b\b\b\b\b\b\b\b\b\b\b\b\b\b\b\b\b\b\b\b\b\b\b\b\b\b\b\b\b\b\b\b\r4148/4148 [==============================] - 1s 186us/step - loss: 0.7375 - accuracy: 0.5294\n",
      "Epoch 16/20\n\r   5/4148 [..............................] - ETA: 1s - loss: 0.6351 - accuracy: 0.6000",
      "\b\b\b\b\b\b\b\b\b\b\b\b\b\b\b\b\b\b\b\b\b\b\b\b\b\b\b\b\b\b\b\b\b\b\b\b\b\b\b\b\b\b\b\b\b\b\b\b\b\b\b\b\b\b\b\b\b\b\b\b\b\b\b\b\b\b\b\b\b\b\b\b\b\b\b\b\b\b\b\b\b\b\b\b\b\b\r 265/4148 [>.............................] - ETA: 0s - loss: 0.7549 - accuracy: 0.5094",
      "\b\b\b\b\b\b\b\b\b\b\b\b\b\b\b\b\b\b\b\b\b\b\b\b\b\b\b\b\b\b\b\b\b\b\b\b\b\b\b\b\b\b\b\b\b\b\b\b\b\b\b\b\b\b\b\b\b\b\b\b\b\b\b\b\b\b\b\b\b\b\b\b\b\b\b\b\b\b\b\b\b\b\b\b\b\b\r 560/4148 [===>..........................] - ETA: 0s - loss: 0.7550 - accuracy: 0.4982",
      "\b\b\b\b\b\b\b\b\b\b\b\b\b\b\b\b\b\b\b\b\b\b\b\b\b\b\b\b\b\b\b\b\b\b\b\b\b\b\b\b\b\b\b\b\b\b\b\b\b\b\b\b\b\b\b\b\b\b\b\b\b\b\b\b\b\b\b\b\b\b\b\b\b\b\b\b\b\b\b\b\b\b\b\b\b\b\r 865/4148 [=====>........................] - ETA: 0s - loss: 0.7558 - accuracy: 0.5040",
      "\b\b\b\b\b\b\b\b\b\b\b\b\b\b\b\b\b\b\b\b\b\b\b\b\b\b\b\b\b\b\b\b\b\b\b\b\b\b\b\b\b\b\b\b\b\b\b\b\b\b\b\b\b\b\b\b\b\b\b\b\b\b\b\b\b\b\b\b\b\b\b\b\b\b\b\b\b\b\b\b\b\b\b\b\b\b\r1160/4148 [=======>......................] - ETA: 0s - loss: 0.7458 - accuracy: 0.5190",
      "\b\b\b\b\b\b\b\b\b\b\b\b\b\b\b\b\b\b\b\b\b\b\b\b\b\b\b\b\b\b\b\b\b\b\b\b\b\b\b\b\b\b\b\b\b\b\b\b\b\b\b\b\b\b\b\b\b\b\b\b\b\b\b\b\b\b\b\b\b\b\b\b\b\b\b\b\b\b\b\b\b\b\b\b\b\b",
      "\r1445/4148 [=========>....................] - ETA: 0s - loss: 0.7349 - accuracy: 0.5211",
      "\b\b\b\b\b\b\b\b\b\b\b\b\b\b\b\b\b\b\b\b\b\b\b\b\b\b\b\b\b\b\b\b\b\b\b\b\b\b\b\b\b\b\b\b\b\b\b\b\b\b\b\b\b\b\b\b\b\b\b\b\b\b\b\b\b\b\b\b\b\b\b\b\b\b\b\b\b\b\b\b\b\b\b\b\b\b\r1685/4148 [===========>..................] - ETA: 0s - loss: 0.7396 - accuracy: 0.5169",
      "\b\b\b\b\b\b\b\b\b\b\b\b\b\b\b\b\b\b\b\b\b\b\b\b\b\b\b\b\b\b\b\b\b\b\b\b\b\b\b\b\b\b\b\b\b\b\b\b\b\b\b\b\b\b\b\b\b\b\b\b\b\b\b\b\b\b\b\b\b\b\b\b\b\b\b\b\b\b\b\b\b\b\b\b\b\b\r1925/4148 [============>.................] - ETA: 0s - loss: 0.7408 - accuracy: 0.5153",
      "\b\b\b\b\b\b\b\b\b\b\b\b\b\b\b\b\b\b\b\b\b\b\b\b\b\b\b\b\b\b\b\b\b\b\b\b\b\b\b\b\b\b\b\b\b\b\b\b\b\b\b\b\b\b\b\b\b\b\b\b\b\b\b\b\b\b\b\b\b\b\b\b\b\b\b\b\b\b\b\b\b\b\b\b\b\b\r2225/4148 [===============>..............] - ETA: 0s - loss: 0.7407 - accuracy: 0.5200",
      "\b\b\b\b\b\b\b\b\b\b\b\b\b\b\b\b\b\b\b\b\b\b\b\b\b\b\b\b\b\b\b\b\b\b\b\b\b\b\b\b\b\b\b\b\b\b\b\b\b\b\b\b\b\b\b\b\b\b\b\b\b\b\b\b\b\b\b\b\b\b\b\b\b\b\b\b\b\b\b\b\b\b\b\b\b\b",
      "\r2525/4148 [=================>............] - ETA: 0s - loss: 0.7377 - accuracy: 0.5200",
      "\b\b\b\b\b\b\b\b\b\b\b\b\b\b\b\b\b\b\b\b\b\b\b\b\b\b\b\b\b\b\b\b\b\b\b\b\b\b\b\b\b\b\b\b\b\b\b\b\b\b\b\b\b\b\b\b\b\b\b\b\b\b\b\b\b\b\b\b\b\b\b\b\b\b\b\b\b\b\b\b\b\b\b\b\b\b\r2820/4148 [===================>..........] - ETA: 0s - loss: 0.7392 - accuracy: 0.5209",
      "\b\b\b\b\b\b\b\b\b\b\b\b\b\b\b\b\b\b\b\b\b\b\b\b\b\b\b\b\b\b\b\b\b\b\b\b\b\b\b\b\b\b\b\b\b\b\b\b\b\b\b\b\b\b\b\b\b\b\b\b\b\b\b\b\b\b\b\b\b\b\b\b\b\b\b\b\b\b\b\b\b\b\b\b\b\b\r3095/4148 [=====================>........] - ETA: 0s - loss: 0.7390 - accuracy: 0.5228",
      "\b\b\b\b\b\b\b\b\b\b\b\b\b\b\b\b\b\b\b\b\b\b\b\b\b\b\b\b\b\b\b\b\b\b\b\b\b\b\b\b\b\b\b\b\b\b\b\b\b\b\b\b\b\b\b\b\b\b\b\b\b\b\b\b\b\b\b\b\b\b\b\b\b\b\b\b\b\b\b\b\b\b\b\b\b\b\r3370/4148 [=======================>......] - ETA: 0s - loss: 0.7391 - accuracy: 0.5249",
      "\b\b\b\b\b\b\b\b\b\b\b\b\b\b\b\b\b\b\b\b\b\b\b\b\b\b\b\b\b\b\b\b\b\b\b\b\b\b\b\b\b\b\b\b\b\b\b\b\b\b\b\b\b\b\b\b\b\b\b\b\b\b\b\b\b\b\b\b\b\b\b\b\b\b\b\b\b\b\b\b\b\b\b\b\b\b",
      "\r3655/4148 [=========================>....] - ETA: 0s - loss: 0.7428 - accuracy: 0.5264",
      "\b\b\b\b\b\b\b\b\b\b\b\b\b\b\b\b\b\b\b\b\b\b\b\b\b\b\b\b\b\b\b\b\b\b\b\b\b\b\b\b\b\b\b\b\b\b\b\b\b\b\b\b\b\b\b\b\b\b\b\b\b\b\b\b\b\b\b\b\b\b\b\b\b\b\b\b\b\b\b\b\b\b\b\b\b\b\r3950/4148 [===========================>..] - ETA: 0s - loss: 0.7441 - accuracy: 0.5258",
      "\b\b\b\b\b\b\b\b\b\b\b\b\b\b\b\b\b\b\b\b\b\b\b\b\b\b\b\b\b\b\b\b\b\b\b\b\b\b\b\b\b\b\b\b\b\b\b\b\b\b\b\b\b\b\b\b\b\b\b\b\b\b\b\b\b\b\b\b\b\b\b\b\b\b\b\b\b\b\b\b\b\b\b\b\b\b\r4148/4148 [==============================] - 1s 182us/step - loss: 0.7449 - accuracy: 0.5248\n",
      "Epoch 17/20\n\r   5/4148 [..............................] - ETA: 0s - loss: 0.6244 - accuracy: 0.6000",
      "\b\b\b\b\b\b\b\b\b\b\b\b\b\b\b\b\b\b\b\b\b\b\b\b\b\b\b\b\b\b\b\b\b\b\b\b\b\b\b\b\b\b\b\b\b\b\b\b\b\b\b\b\b\b\b\b\b\b\b\b\b\b\b\b\b\b\b\b\b\b\b\b\b\b\b\b\b\b\b\b\b\b\b\b\b\b\r 250/4148 [>.............................] - ETA: 0s - loss: 0.7452 - accuracy: 0.4960",
      "\b\b\b\b\b\b\b\b\b\b\b\b\b\b\b\b\b\b\b\b\b\b\b\b\b\b\b\b\b\b\b\b\b\b\b\b\b\b\b\b\b\b\b\b\b\b\b\b\b\b\b\b\b\b\b\b\b\b\b\b\b\b\b\b\b\b\b\b\b\b\b\b\b\b\b\b\b\b\b\b\b\b\b\b\b\b",
      "\r 500/4148 [==>...........................] - ETA: 0s - loss: 0.7730 - accuracy: 0.5080",
      "\b\b\b\b\b\b\b\b\b\b\b\b\b\b\b\b\b\b\b\b\b\b\b\b\b\b\b\b\b\b\b\b\b\b\b\b\b\b\b\b\b\b\b\b\b\b\b\b\b\b\b\b\b\b\b\b\b\b\b\b\b\b\b\b\b\b\b\b\b\b\b\b\b\b\b\b\b\b\b\b\b\b\b\b\b\b",
      "\r 725/4148 [====>.........................] - ETA: 0s - loss: 0.7673 - accuracy: 0.5200",
      "\b\b\b\b\b\b\b\b\b\b\b\b\b\b\b\b\b\b\b\b\b\b\b\b\b\b\b\b\b\b\b\b\b\b\b\b\b\b\b\b\b\b\b\b\b\b\b\b\b\b\b\b\b\b\b\b\b\b\b\b\b\b\b\b\b\b\b\b\b\b\b\b\b\b\b\b\b\b\b\b\b\b\b\b\b\b\r 935/4148 [=====>........................] - ETA: 0s - loss: 0.7694 - accuracy: 0.5166",
      "\b\b\b\b\b\b\b\b\b\b\b\b\b\b\b\b\b\b\b\b\b\b\b\b\b\b\b\b\b\b\b\b\b\b\b\b\b\b\b\b\b\b\b\b\b\b\b\b\b\b\b\b\b\b\b\b\b\b\b\b\b\b\b\b\b\b\b\b\b\b\b\b\b\b\b\b\b\b\b\b\b\b\b\b\b\b\r1155/4148 [=======>......................] - ETA: 0s - loss: 0.7639 - accuracy: 0.5143",
      "\b\b\b\b\b\b\b\b\b\b\b\b\b\b\b\b\b\b\b\b\b\b\b\b\b\b\b\b\b\b\b\b\b\b\b\b\b\b\b\b\b\b\b\b\b\b\b\b\b\b\b\b\b\b\b\b\b\b\b\b\b\b\b\b\b\b\b\b\b\b\b\b\b\b\b\b\b\b\b\b\b\b\b\b\b\b\r1435/4148 [=========>....................] - ETA: 0s - loss: 0.7567 - accuracy: 0.5178",
      "\b\b\b\b\b\b\b\b\b\b\b\b\b\b\b\b\b\b\b\b\b\b\b\b\b\b\b\b\b\b\b\b\b\b\b\b\b\b\b\b\b\b\b\b\b\b\b\b\b\b\b\b\b\b\b\b\b\b\b\b\b\b\b\b\b\b\b\b\b\b\b\b\b\b\b\b\b\b\b\b\b\b\b\b\b\b\r1735/4148 [===========>..................] - ETA: 0s - loss: 0.7501 - accuracy: 0.5274",
      "\b\b\b\b\b\b\b\b\b\b\b\b\b\b\b\b\b\b\b\b\b\b\b\b\b\b\b\b\b\b\b\b\b\b\b\b\b\b\b\b\b\b\b\b\b\b\b\b\b\b\b\b\b\b\b\b\b\b\b\b\b\b\b\b\b\b\b\b\b\b\b\b\b\b\b\b\b\b\b\b\b\b\b\b\b\b\r2030/4148 [=============>................] - ETA: 0s - loss: 0.7470 - accuracy: 0.5291",
      "\b\b\b\b\b\b\b\b\b\b\b\b\b\b\b\b\b\b\b\b\b\b\b\b\b\b\b\b\b\b\b\b\b\b\b\b\b\b\b\b\b\b\b\b\b\b\b\b\b\b\b\b\b\b\b\b\b\b\b\b\b\b\b\b\b\b\b\b\b\b\b\b\b\b\b\b\b\b\b\b\b\b\b\b\b\b\r2305/4148 [===============>..............] - ETA: 0s - loss: 0.7378 - accuracy: 0.5293",
      "\b\b\b\b\b\b\b\b\b\b\b\b\b\b\b\b\b\b\b\b\b\b\b\b\b\b\b\b\b\b\b\b\b\b\b\b\b\b\b\b\b\b\b\b\b\b\b\b\b\b\b\b\b\b\b\b\b\b\b\b\b\b\b\b\b\b\b\b\b\b\b\b\b\b\b\b\b\b\b\b\b\b\b\b\b\b\r2570/4148 [=================>............] - ETA: 0s - loss: 0.7554 - accuracy: 0.5280",
      "\b\b\b\b\b\b\b\b\b\b\b\b\b\b\b\b\b\b\b\b\b\b\b\b\b\b\b\b\b\b\b\b\b\b\b\b\b\b\b\b\b\b\b\b\b\b\b\b\b\b\b\b\b\b\b\b\b\b\b\b\b\b\b\b\b\b\b\b\b\b\b\b\b\b\b\b\b\b\b\b\b\b\b\b\b\b\r2790/4148 [===================>..........] - ETA: 0s - loss: 0.7504 - accuracy: 0.5265",
      "\b\b\b\b\b\b\b\b\b\b\b\b\b\b\b\b\b\b\b\b\b\b\b\b\b\b\b\b\b\b\b\b\b\b\b\b\b\b\b\b\b\b\b\b\b\b\b\b\b\b\b\b\b\b\b\b\b\b\b\b\b\b\b\b\b\b\b\b\b\b\b\b\b\b\b\b\b\b\b\b\b\b\b\b\b\b",
      "\r3095/4148 [=====================>........] - ETA: 0s - loss: 0.7494 - accuracy: 0.5218",
      "\b\b\b\b\b\b\b\b\b\b\b\b\b\b\b\b\b\b\b\b\b\b\b\b\b\b\b\b\b\b\b\b\b\b\b\b\b\b\b\b\b\b\b\b\b\b\b\b\b\b\b\b\b\b\b\b\b\b\b\b\b\b\b\b\b\b\b\b\b\b\b\b\b\b\b\b\b\b\b\b\b\b\b\b\b\b\r3385/4148 [=======================>......] - ETA: 0s - loss: 0.7463 - accuracy: 0.5208",
      "\b\b\b\b\b\b\b\b\b\b\b\b\b\b\b\b\b\b\b\b\b\b\b\b\b\b\b\b\b\b\b\b\b\b\b\b\b\b\b\b\b\b\b\b\b\b\b\b\b\b\b\b\b\b\b\b\b\b\b\b\b\b\b\b\b\b\b\b\b\b\b\b\b\b\b\b\b\b\b\b\b\b\b\b\b\b\r3685/4148 [=========================>....] - ETA: 0s - loss: 0.7461 - accuracy: 0.5248",
      "\b\b\b\b\b\b\b\b\b\b\b\b\b\b\b\b\b\b\b\b\b\b\b\b\b\b\b\b\b\b\b\b\b\b\b\b\b\b\b\b\b\b\b\b\b\b\b\b\b\b\b\b\b\b\b\b\b\b\b\b\b\b\b\b\b\b\b\b\b\b\b\b\b\b\b\b\b\b\b\b\b\b\b\b\b\b\r3990/4148 [===========================>..] - ETA: 0s - loss: 0.7448 - accuracy: 0.5248",
      "\b\b\b\b\b\b\b\b\b\b\b\b\b\b\b\b\b\b\b\b\b\b\b\b\b\b\b\b\b\b\b\b\b\b\b\b\b\b\b\b\b\b\b\b\b\b\b\b\b\b\b\b\b\b\b\b\b\b\b\b\b\b\b\b\b\b\b\b\b\b\b\b\b\b\b\b\b\b\b\b\b\b\b\b\b\b",
      "\r4148/4148 [==============================] - 1s 193us/step - loss: 0.7430 - accuracy: 0.5234\n",
      "Epoch 18/20\n\r   5/4148 [..............................] - ETA: 0s - loss: 0.6843 - accuracy: 0.8000",
      "\b\b\b\b\b\b\b\b\b\b\b\b\b\b\b\b\b\b\b\b\b\b\b\b\b\b\b\b\b\b\b\b\b\b\b\b\b\b\b\b\b\b\b\b\b\b\b\b\b\b\b\b\b\b\b\b\b\b\b\b\b\b\b\b\b\b\b\b\b\b\b\b\b\b\b\b\b\b\b\b\b\b\b\b\b\b",
      "\r 195/4148 [>.............................] - ETA: 1s - loss: 0.6830 - accuracy: 0.5641",
      "\b\b\b\b\b\b\b\b\b\b\b\b\b\b\b\b\b\b\b\b\b\b\b\b\b\b\b\b\b\b\b\b\b\b\b\b\b\b\b\b\b\b\b\b\b\b\b\b\b\b\b\b\b\b\b\b\b\b\b\b\b\b\b\b\b\b\b\b\b\b\b\b\b\b\b\b\b\b\b\b\b\b\b\b\b\b\r 430/4148 [==>...........................] - ETA: 0s - loss: 0.6927 - accuracy: 0.5605",
      "\b\b\b\b\b\b\b\b\b\b\b\b\b\b\b\b\b\b\b\b\b\b\b\b\b\b\b\b\b\b\b\b\b\b\b\b\b\b\b\b\b\b\b\b\b\b\b\b\b\b\b\b\b\b\b\b\b\b\b\b\b\b\b\b\b\b\b\b\b\b\b\b\b\b\b\b\b\b\b\b\b\b\b\b\b\b\r 715/4148 [====>.........................] - ETA: 0s - loss: 0.7238 - accuracy: 0.5483",
      "\b\b\b\b\b\b\b\b\b\b\b\b\b\b\b\b\b\b\b\b\b\b\b\b\b\b\b\b\b\b\b\b\b\b\b\b\b\b\b\b\b\b\b\b\b\b\b\b\b\b\b\b\b\b\b\b\b\b\b\b\b\b\b\b\b\b\b\b\b\b\b\b\b\b\b\b\b\b\b\b\b\b\b\b\b\b\r 980/4148 [======>.......................] - ETA: 0s - loss: 0.7280 - accuracy: 0.5449",
      "\b\b\b\b\b\b\b\b\b\b\b\b\b\b\b\b\b\b\b\b\b\b\b\b\b\b\b\b\b\b\b\b\b\b\b\b\b\b\b\b\b\b\b\b\b\b\b\b\b\b\b\b\b\b\b\b\b\b\b\b\b\b\b\b\b\b\b\b\b\b\b\b\b\b\b\b\b\b\b\b\b\b\b\b\b\b\r1285/4148 [========>.....................] - ETA: 0s - loss: 0.7203 - accuracy: 0.5471",
      "\b\b\b\b\b\b\b\b\b\b\b\b\b\b\b\b\b\b\b\b\b\b\b\b\b\b\b\b\b\b\b\b\b\b\b\b\b\b\b\b\b\b\b\b\b\b\b\b\b\b\b\b\b\b\b\b\b\b\b\b\b\b\b\b\b\b\b\b\b\b\b\b\b\b\b\b\b\b\b\b\b\b\b\b\b\b",
      "\r1590/4148 [==========>...................] - ETA: 0s - loss: 0.7263 - accuracy: 0.5396",
      "\b\b\b\b\b\b\b\b\b\b\b\b\b\b\b\b\b\b\b\b\b\b\b\b\b\b\b\b\b\b\b\b\b\b\b\b\b\b\b\b\b\b\b\b\b\b\b\b\b\b\b\b\b\b\b\b\b\b\b\b\b\b\b\b\b\b\b\b\b\b\b\b\b\b\b\b\b\b\b\b\b\b\b\b\b\b\r1860/4148 [============>.................] - ETA: 0s - loss: 0.7241 - accuracy: 0.5366",
      "\b\b\b\b\b\b\b\b\b\b\b\b\b\b\b\b\b\b\b\b\b\b\b\b\b\b\b\b\b\b\b\b\b\b\b\b\b\b\b\b\b\b\b\b\b\b\b\b\b\b\b\b\b\b\b\b\b\b\b\b\b\b\b\b\b\b\b\b\b\b\b\b\b\b\b\b\b\b\b\b\b\b\b\b\b\b\r2155/4148 [==============>...............] - ETA: 0s - loss: 0.7290 - accuracy: 0.5313",
      "\b\b\b\b\b\b\b\b\b\b\b\b\b\b\b\b\b\b\b\b\b\b\b\b\b\b\b\b\b\b\b\b\b\b\b\b\b\b\b\b\b\b\b\b\b\b\b\b\b\b\b\b\b\b\b\b\b\b\b\b\b\b\b\b\b\b\b\b\b\b\b\b\b\b\b\b\b\b\b\b\b\b\b\b\b\b\r2435/4148 [================>.............] - ETA: 0s - loss: 0.7318 - accuracy: 0.5331",
      "\b\b\b\b\b\b\b\b\b\b\b\b\b\b\b\b\b\b\b\b\b\b\b\b\b\b\b\b\b\b\b\b\b\b\b\b\b\b\b\b\b\b\b\b\b\b\b\b\b\b\b\b\b\b\b\b\b\b\b\b\b\b\b\b\b\b\b\b\b\b\b\b\b\b\b\b\b\b\b\b\b\b\b\b\b\b",
      "\r2675/4148 [==================>...........] - ETA: 0s - loss: 0.7379 - accuracy: 0.5301",
      "\b\b\b\b\b\b\b\b\b\b\b\b\b\b\b\b\b\b\b\b\b\b\b\b\b\b\b\b\b\b\b\b\b\b\b\b\b\b\b\b\b\b\b\b\b\b\b\b\b\b\b\b\b\b\b\b\b\b\b\b\b\b\b\b\b\b\b\b\b\b\b\b\b\b\b\b\b\b\b\b\b\b\b\b\b\b\r2970/4148 [====================>.........] - ETA: 0s - loss: 0.7399 - accuracy: 0.5269",
      "\b\b\b\b\b\b\b\b\b\b\b\b\b\b\b\b\b\b\b\b\b\b\b\b\b\b\b\b\b\b\b\b\b\b\b\b\b\b\b\b\b\b\b\b\b\b\b\b\b\b\b\b\b\b\b\b\b\b\b\b\b\b\b\b\b\b\b\b\b\b\b\b\b\b\b\b\b\b\b\b\b\b\b\b\b\b\r3255/4148 [======================>.......] - ETA: 0s - loss: 0.7393 - accuracy: 0.5287",
      "\b\b\b\b\b\b\b\b\b\b\b\b\b\b\b\b\b\b\b\b\b\b\b\b\b\b\b\b\b\b\b\b\b\b\b\b\b\b\b\b\b\b\b\b\b\b\b\b\b\b\b\b\b\b\b\b\b\b\b\b\b\b\b\b\b\b\b\b\b\b\b\b\b\b\b\b\b\b\b\b\b\b\b\b\b\b\r3550/4148 [========================>.....] - ETA: 0s - loss: 0.7416 - accuracy: 0.5254",
      "\b\b\b\b\b\b\b\b\b\b\b\b\b\b\b\b\b\b\b\b\b\b\b\b\b\b\b\b\b\b\b\b\b\b\b\b\b\b\b\b\b\b\b\b\b\b\b\b\b\b\b\b\b\b\b\b\b\b\b\b\b\b\b\b\b\b\b\b\b\b\b\b\b\b\b\b\b\b\b\b\b\b\b\b\b\b\r3805/4148 [==========================>...] - ETA: 0s - loss: 0.7446 - accuracy: 0.5272",
      "\b\b\b\b\b\b\b\b\b\b\b\b\b\b\b\b\b\b\b\b\b\b\b\b\b\b\b\b\b\b\b\b\b\b\b\b\b\b\b\b\b\b\b\b\b\b\b\b\b\b\b\b\b\b\b\b\b\b\b\b\b\b\b\b\b\b\b\b\b\b\b\b\b\b\b\b\b\b\b\b\b\b\b\b\b\b\r4050/4148 [============================>.] - ETA: 0s - loss: 0.7493 - accuracy: 0.5257",
      "\b\b\b\b\b\b\b\b\b\b\b\b\b\b\b\b\b\b\b\b\b\b\b\b\b\b\b\b\b\b\b\b\b\b\b\b\b\b\b\b\b\b\b\b\b\b\b\b\b\b\b\b\b\b\b\b\b\b\b\b\b\b\b\b\b\b\b\b\b\b\b\b\b\b\b\b\b\b\b\b\b\b\b\b\b\b\r4148/4148 [==============================] - 1s 189us/step - loss: 0.7555 - accuracy: 0.5234\n",
      "Epoch 19/20\n\r   5/4148 [..............................] - ETA: 1s - loss: 0.6005 - accuracy: 0.6000",
      "\b\b\b\b\b\b\b\b\b\b\b\b\b\b\b\b\b\b\b\b\b\b\b\b\b\b\b\b\b\b\b\b\b\b\b\b\b\b\b\b\b\b\b\b\b\b\b\b\b\b\b\b\b\b\b\b\b\b\b\b\b\b\b\b\b\b\b\b\b\b\b\b\b\b\b\b\b\b\b\b\b\b\b\b\b\b",
      "\r 300/4148 [=>............................] - ETA: 0s - loss: 0.7546 - accuracy: 0.5367",
      "\b\b\b\b\b\b\b\b\b\b\b\b\b\b\b\b\b\b\b\b\b\b\b\b\b\b\b\b\b\b\b\b\b\b\b\b\b\b\b\b\b\b\b\b\b\b\b\b\b\b\b\b\b\b\b\b\b\b\b\b\b\b\b\b\b\b\b\b\b\b\b\b\b\b\b\b\b\b\b\b\b\b\b\b\b\b\r 600/4148 [===>..........................] - ETA: 0s - loss: 0.7420 - accuracy: 0.5233",
      "\b\b\b\b\b\b\b\b\b\b\b\b\b\b\b\b\b\b\b\b\b\b\b\b\b\b\b\b\b\b\b\b\b\b\b\b\b\b\b\b\b\b\b\b\b\b\b\b\b\b\b\b\b\b\b\b\b\b\b\b\b\b\b\b\b\b\b\b\b\b\b\b\b\b\b\b\b\b\b\b\b\b\b\b\b\b\r 900/4148 [=====>........................] - ETA: 0s - loss: 0.7265 - accuracy: 0.5256",
      "\b\b\b\b\b\b\b\b\b\b\b\b\b\b\b\b\b\b\b\b\b\b\b\b\b\b\b\b\b\b\b\b\b\b\b\b\b\b\b\b\b\b\b\b\b\b\b\b\b\b\b\b\b\b\b\b\b\b\b\b\b\b\b\b\b\b\b\b\b\b\b\b\b\b\b\b\b\b\b\b\b\b\b\b\b\b\r1110/4148 [=======>......................] - ETA: 0s - loss: 0.7371 - accuracy: 0.5171",
      "\b\b\b\b\b\b\b\b\b\b\b\b\b\b\b\b\b\b\b\b\b\b\b\b\b\b\b\b\b\b\b\b\b\b\b\b\b\b\b\b\b\b\b\b\b\b\b\b\b\b\b\b\b\b\b\b\b\b\b\b\b\b\b\b\b\b\b\b\b\b\b\b\b\b\b\b\b\b\b\b\b\b\b\b\b\b\r1320/4148 [========>.....................] - ETA: 0s - loss: 0.7465 - accuracy: 0.5106",
      "\b\b\b\b\b\b\b\b\b\b\b\b\b\b\b\b\b\b\b\b\b\b\b\b\b\b\b\b\b\b\b\b\b\b\b\b\b\b\b\b\b\b\b\b\b\b\b\b\b\b\b\b\b\b\b\b\b\b\b\b\b\b\b\b\b\b\b\b\b\b\b\b\b\b\b\b\b\b\b\b\b\b\b\b\b\b\r1590/4148 [==========>...................] - ETA: 0s - loss: 0.7541 - accuracy: 0.5126",
      "\b\b\b\b\b\b\b\b\b\b\b\b\b\b\b\b\b\b\b\b\b\b\b\b\b\b\b\b\b\b\b\b\b\b\b\b\b\b\b\b\b\b\b\b\b\b\b\b\b\b\b\b\b\b\b\b\b\b\b\b\b\b\b\b\b\b\b\b\b\b\b\b\b\b\b\b\b\b\b\b\b\b\b\b\b\b\r1835/4148 [============>.................] - ETA: 0s - loss: 0.7504 - accuracy: 0.5139",
      "\b\b\b\b\b\b\b\b\b\b\b\b\b\b\b\b\b\b\b\b\b\b\b\b\b\b\b\b\b\b\b\b\b\b\b\b\b\b\b\b\b\b\b\b\b\b\b\b\b\b\b\b\b\b\b\b\b\b\b\b\b\b\b\b\b\b\b\b\b\b\b\b\b\b\b\b\b\b\b\b\b\b\b\b\b\b\r2080/4148 [==============>...............] - ETA: 0s - loss: 0.7457 - accuracy: 0.5197",
      "\b\b\b\b\b\b\b\b\b\b\b\b\b\b\b\b\b\b\b\b\b\b\b\b\b\b\b\b\b\b\b\b\b\b\b\b\b\b\b\b\b\b\b\b\b\b\b\b\b\b\b\b\b\b\b\b\b\b\b\b\b\b\b\b\b\b\b\b\b\b\b\b\b\b\b\b\b\b\b\b\b\b\b\b\b\b\r2295/4148 [===============>..............] - ETA: 0s - loss: 0.7396 - accuracy: 0.5237",
      "\b\b\b\b\b\b\b\b\b\b\b\b\b\b\b\b\b\b\b\b\b\b\b\b\b\b\b\b\b\b\b\b\b\b\b\b\b\b\b\b\b\b\b\b\b\b\b\b\b\b\b\b\b\b\b\b\b\b\b\b\b\b\b\b\b\b\b\b\b\b\b\b\b\b\b\b\b\b\b\b\b\b\b\b\b\b\r2570/4148 [=================>............] - ETA: 0s - loss: 0.7384 - accuracy: 0.5191",
      "\b\b\b\b\b\b\b\b\b\b\b\b\b\b\b\b\b\b\b\b\b\b\b\b\b\b\b\b\b\b\b\b\b\b\b\b\b\b\b\b\b\b\b\b\b\b\b\b\b\b\b\b\b\b\b\b\b\b\b\b\b\b\b\b\b\b\b\b\b\b\b\b\b\b\b\b\b\b\b\b\b\b\b\b\b\b\r2850/4148 [===================>..........] - ETA: 0s - loss: 0.7383 - accuracy: 0.5165",
      "\b\b\b\b\b\b\b\b\b\b\b\b\b\b\b\b\b\b\b\b\b\b\b\b\b\b\b\b\b\b\b\b\b\b\b\b\b\b\b\b\b\b\b\b\b\b\b\b\b\b\b\b\b\b\b\b\b\b\b\b\b\b\b\b\b\b\b\b\b\b\b\b\b\b\b\b\b\b\b\b\b\b\b\b\b\b\r3145/4148 [=====================>........] - ETA: 0s - loss: 0.7410 - accuracy: 0.5132",
      "\b\b\b\b\b\b\b\b\b\b\b\b\b\b\b\b\b\b\b\b\b\b\b\b\b\b\b\b\b\b\b\b\b\b\b\b\b\b\b\b\b\b\b\b\b\b\b\b\b\b\b\b\b\b\b\b\b\b\b\b\b\b\b\b\b\b\b\b\b\b\b\b\b\b\b\b\b\b\b\b\b\b\b\b\b\b",
      "\r3445/4148 [=======================>......] - ETA: 0s - loss: 0.7430 - accuracy: 0.5161",
      "\b\b\b\b\b\b\b\b\b\b\b\b\b\b\b\b\b\b\b\b\b\b\b\b\b\b\b\b\b\b\b\b\b\b\b\b\b\b\b\b\b\b\b\b\b\b\b\b\b\b\b\b\b\b\b\b\b\b\b\b\b\b\b\b\b\b\b\b\b\b\b\b\b\b\b\b\b\b\b\b\b\b\b\b\b\b\r3695/4148 [=========================>....] - ETA: 0s - loss: 0.7395 - accuracy: 0.5185",
      "\b\b\b\b\b\b\b\b\b\b\b\b\b\b\b\b\b\b\b\b\b\b\b\b\b\b\b\b\b\b\b\b\b\b\b\b\b\b\b\b\b\b\b\b\b\b\b\b\b\b\b\b\b\b\b\b\b\b\b\b\b\b\b\b\b\b\b\b\b\b\b\b\b\b\b\b\b\b\b\b\b\b\b\b\b\b\r3995/4148 [===========================>..] - ETA: 0s - loss: 0.7375 - accuracy: 0.5209",
      "\b\b\b\b\b\b\b\b\b\b\b\b\b\b\b\b\b\b\b\b\b\b\b\b\b\b\b\b\b\b\b\b\b\b\b\b\b\b\b\b\b\b\b\b\b\b\b\b\b\b\b\b\b\b\b\b\b\b\b\b\b\b\b\b\b\b\b\b\b\b\b\b\b\b\b\b\b\b\b\b\b\b\b\b\b\b",
      "\r4148/4148 [==============================] - 1s 191us/step - loss: 0.7383 - accuracy: 0.5210\n",
      "Epoch 20/20\n\r   5/4148 [..............................] - ETA: 1s - loss: 0.6916 - accuracy: 0.4000",
      "\b\b\b\b\b\b\b\b\b\b\b\b\b\b\b\b\b\b\b\b\b\b\b\b\b\b\b\b\b\b\b\b\b\b\b\b\b\b\b\b\b\b\b\b\b\b\b\b\b\b\b\b\b\b\b\b\b\b\b\b\b\b\b\b\b\b\b\b\b\b\b\b\b\b\b\b\b\b\b\b\b\b\b\b\b\b\r 210/4148 [>.............................] - ETA: 0s - loss: 0.7970 - accuracy: 0.4857",
      "\b\b\b\b\b\b\b\b\b\b\b\b\b\b\b\b\b\b\b\b\b\b\b\b\b\b\b\b\b\b\b\b\b\b\b\b\b\b\b\b\b\b\b\b\b\b\b\b\b\b\b\b\b\b\b\b\b\b\b\b\b\b\b\b\b\b\b\b\b\b\b\b\b\b\b\b\b\b\b\b\b\b\b\b\b\b",
      "\r 455/4148 [==>...........................] - ETA: 0s - loss: 0.7822 - accuracy: 0.5363",
      "\b\b\b\b\b\b\b\b\b\b\b\b\b\b\b\b\b\b\b\b\b\b\b\b\b\b\b\b\b\b\b\b\b\b\b\b\b\b\b\b\b\b\b\b\b\b\b\b\b\b\b\b\b\b\b\b\b\b\b\b\b\b\b\b\b\b\b\b\b\b\b\b\b\b\b\b\b\b\b\b\b\b\b\b\b\b",
      "\r 710/4148 [====>.........................] - ETA: 0s - loss: 0.7702 - accuracy: 0.5155",
      "\b\b\b\b\b\b\b\b\b\b\b\b\b\b\b\b\b\b\b\b\b\b\b\b\b\b\b\b\b\b\b\b\b\b\b\b\b\b\b\b\b\b\b\b\b\b\b\b\b\b\b\b\b\b\b\b\b\b\b\b\b\b\b\b\b\b\b\b\b\b\b\b\b\b\b\b\b\b\b\b\b\b\b\b\b\b\r 985/4148 [======>.......................] - ETA: 0s - loss: 0.7504 - accuracy: 0.5208",
      "\b\b\b\b\b\b\b\b\b\b\b\b\b\b\b\b\b\b\b\b\b\b\b\b\b\b\b\b\b\b\b\b\b\b\b\b\b\b\b\b\b\b\b\b\b\b\b\b\b\b\b\b\b\b\b\b\b\b\b\b\b\b\b\b\b\b\b\b\b\b\b\b\b\b\b\b\b\b\b\b\b\b\b\b\b\b\r1280/4148 [========>.....................] - ETA: 0s - loss: 0.7447 - accuracy: 0.5148",
      "\b\b\b\b\b\b\b\b\b\b\b\b\b\b\b\b\b\b\b\b\b\b\b\b\b\b\b\b\b\b\b\b\b\b\b\b\b\b\b\b\b\b\b\b\b\b\b\b\b\b\b\b\b\b\b\b\b\b\b\b\b\b\b\b\b\b\b\b\b\b\b\b\b\b\b\b\b\b\b\b\b\b\b\b\b\b",
      "\r1540/4148 [==========>...................] - ETA: 0s - loss: 0.7390 - accuracy: 0.5188",
      "\b\b\b\b\b\b\b\b\b\b\b\b\b\b\b\b\b\b\b\b\b\b\b\b\b\b\b\b\b\b\b\b\b\b\b\b\b\b\b\b\b\b\b\b\b\b\b\b\b\b\b\b\b\b\b\b\b\b\b\b\b\b\b\b\b\b\b\b\b\b\b\b\b\b\b\b\b\b\b\b\b\b\b\b\b\b\r1780/4148 [===========>..................] - ETA: 0s - loss: 0.7381 - accuracy: 0.5185",
      "\b\b\b\b\b\b\b\b\b\b\b\b\b\b\b\b\b\b\b\b\b\b\b\b\b\b\b\b\b\b\b\b\b\b\b\b\b\b\b\b\b\b\b\b\b\b\b\b\b\b\b\b\b\b\b\b\b\b\b\b\b\b\b\b\b\b\b\b\b\b\b\b\b\b\b\b\b\b\b\b\b\b\b\b\b\b\r1995/4148 [=============>................] - ETA: 0s - loss: 0.7364 - accuracy: 0.5223",
      "\b\b\b\b\b\b\b\b\b\b\b\b\b\b\b\b\b\b\b\b\b\b\b\b\b\b\b\b\b\b\b\b\b\b\b\b\b\b\b\b\b\b\b\b\b\b\b\b\b\b\b\b\b\b\b\b\b\b\b\b\b\b\b\b\b\b\b\b\b\b\b\b\b\b\b\b\b\b\b\b\b\b\b\b\b\b\r2255/4148 [===============>..............] - ETA: 0s - loss: 0.7327 - accuracy: 0.5157",
      "\b\b\b\b\b\b\b\b\b\b\b\b\b\b\b\b\b\b\b\b\b\b\b\b\b\b\b\b\b\b\b\b\b\b\b\b\b\b\b\b\b\b\b\b\b\b\b\b\b\b\b\b\b\b\b\b\b\b\b\b\b\b\b\b\b\b\b\b\b\b\b\b\b\b\b\b\b\b\b\b\b\b\b\b\b\b",
      "\r2460/4148 [================>.............] - ETA: 0s - loss: 0.7305 - accuracy: 0.5167",
      "\b\b\b\b\b\b\b\b\b\b\b\b\b\b\b\b\b\b\b\b\b\b\b\b\b\b\b\b\b\b\b\b\b\b\b\b\b\b\b\b\b\b\b\b\b\b\b\b\b\b\b\b\b\b\b\b\b\b\b\b\b\b\b\b\b\b\b\b\b\b\b\b\b\b\b\b\b\b\b\b\b\b\b\b\b\b\r2730/4148 [==================>...........] - ETA: 0s - loss: 0.7284 - accuracy: 0.5190",
      "\b\b\b\b\b\b\b\b\b\b\b\b\b\b\b\b\b\b\b\b\b\b\b\b\b\b\b\b\b\b\b\b\b\b\b\b\b\b\b\b\b\b\b\b\b\b\b\b\b\b\b\b\b\b\b\b\b\b\b\b\b\b\b\b\b\b\b\b\b\b\b\b\b\b\b\b\b\b\b\b\b\b\b\b\b\b\r3035/4148 [====================>.........] - ETA: 0s - loss: 0.7256 - accuracy: 0.5226",
      "\b\b\b\b\b\b\b\b\b\b\b\b\b\b\b\b\b\b\b\b\b\b\b\b\b\b\b\b\b\b\b\b\b\b\b\b\b\b\b\b\b\b\b\b\b\b\b\b\b\b\b\b\b\b\b\b\b\b\b\b\b\b\b\b\b\b\b\b\b\b\b\b\b\b\b\b\b\b\b\b\b\b\b\b\b\b\r3345/4148 [=======================>......] - ETA: 0s - loss: 0.7267 - accuracy: 0.5274",
      "\b\b\b\b\b\b\b\b\b\b\b\b\b\b\b\b\b\b\b\b\b\b\b\b\b\b\b\b\b\b\b\b\b\b\b\b\b\b\b\b\b\b\b\b\b\b\b\b\b\b\b\b\b\b\b\b\b\b\b\b\b\b\b\b\b\b\b\b\b\b\b\b\b\b\b\b\b\b\b\b\b\b\b\b\b\b",
      "\r3640/4148 [=========================>....] - ETA: 0s - loss: 0.7263 - accuracy: 0.5264",
      "\b\b\b\b\b\b\b\b\b\b\b\b\b\b\b\b\b\b\b\b\b\b\b\b\b\b\b\b\b\b\b\b\b\b\b\b\b\b\b\b\b\b\b\b\b\b\b\b\b\b\b\b\b\b\b\b\b\b\b\b\b\b\b\b\b\b\b\b\b\b\b\b\b\b\b\b\b\b\b\b\b\b\b\b\b\b\r3880/4148 [===========================>..] - ETA: 0s - loss: 0.7254 - accuracy: 0.5263",
      "\b\b\b\b\b\b\b\b\b\b\b\b\b\b\b\b\b\b\b\b\b\b\b\b\b\b\b\b\b\b\b\b\b\b\b\b\b\b\b\b\b\b\b\b\b\b\b\b\b\b\b\b\b\b\b\b\b\b\b\b\b\b\b\b\b\b\b\b\b\b\b\b\b\b\b\b\b\b\b\b\b\b\b\b\b\b\r4148/4148 [==============================] - 1s 196us/step - loss: 0.7255 - accuracy: 0.5229\n"
     ],
     "output_type": "stream"
    },
    {
     "data": {
      "text/plain": "<keras.callbacks.callbacks.History at 0x2a2c77ac6a0>"
     },
     "metadata": {},
     "output_type": "execute_result",
     "execution_count": 24
    }
   ],
   "source": [
    "model.fit(X_train,y_train, epochs=20, batch_size = 5, verbose = 1)"
   ]
  },
  {
   "cell_type": "code",
   "execution_count": 25,
   "metadata": {
    "pycharm": {
     "is_executing": false
    }
   },
   "outputs": [],
   "source": [
    "model.save('trained_model.h5')"
   ]
  },
  {
   "cell_type": "code",
   "execution_count": 26,
   "metadata": {
    "pycharm": {
     "is_executing": false
    }
   },
   "outputs": [
    {
     "data": {
      "text/plain": "vehicle_model_id       0\ntravel_type_id         0\nfrom_area_id           0\nto_area_id             0\nonline_booking         0\nmobile_site_booking    0\nfrom_lat               0\nfrom_long              0\nto_lat                 0\nto_long                0\nfrom_weekdate          0\nfrom_time              0\nbooking_weekdate       0\nbooking_time           0\ndtype: int64"
     },
     "metadata": {},
     "output_type": "execute_result",
     "execution_count": 26
    }
   ],
   "source": [
    "X_test.isnull().sum()"
   ]
  },
  {
   "cell_type": "code",
   "execution_count": 27,
   "metadata": {
    "pycharm": {
     "is_executing": false
    }
   },
   "outputs": [],
   "source": [
    "y_pred_logreg = logreg.predict(X_test)\n",
    "y_pred_keras= model.predict(X_test)\n",
    "y_pred_neigh= neighbor.predict(X_test)\n",
    "y_pred_gaus= gaus.predict(X_test)\n",
    "y_pred_keras= y_pred_keras.argmax(axis=1)"
   ]
  },
  {
   "cell_type": "markdown",
   "metadata": {},
   "source": [
    "# Performance of Each Model"
   ]
  },
  {
   "cell_type": "code",
   "execution_count": 28,
   "metadata": {
    "pycharm": {
     "is_executing": false
    }
   },
   "outputs": [
    {
     "data": {
      "text/plain": "   Logistic  Keras  Neighbor  Naive\n0       715      0       854    928\n1      1063   1778       924    850",
      "text/html": "<div>\n<style scoped>\n    .dataframe tbody tr th:only-of-type {\n        vertical-align: middle;\n    }\n\n    .dataframe tbody tr th {\n        vertical-align: top;\n    }\n\n    .dataframe thead th {\n        text-align: right;\n    }\n</style>\n<table border=\"1\" class=\"dataframe\">\n  <thead>\n    <tr style=\"text-align: right;\">\n      <th></th>\n      <th>Logistic</th>\n      <th>Keras</th>\n      <th>Neighbor</th>\n      <th>Naive</th>\n    </tr>\n  </thead>\n  <tbody>\n    <tr>\n      <th>0</th>\n      <td>715</td>\n      <td>0</td>\n      <td>854</td>\n      <td>928</td>\n    </tr>\n    <tr>\n      <th>1</th>\n      <td>1063</td>\n      <td>1778</td>\n      <td>924</td>\n      <td>850</td>\n    </tr>\n  </tbody>\n</table>\n</div>"
     },
     "metadata": {},
     "output_type": "execute_result",
     "execution_count": 28
    }
   ],
   "source": [
    "\n",
    "y_pred_four = pd.DataFrame({'Logistic': [np.count_nonzero(y_pred_logreg),y_pred_logreg.shape[0]-np.count_nonzero(y_pred_logreg)], 'Keras':[np.count_nonzero(y_pred_keras),y_pred_keras.shape[0]-np.count_nonzero(y_pred_keras)], 'Neighbor':[np.count_nonzero(y_pred_neigh),y_pred_neigh.shape[0]-np.count_nonzero(y_pred_neigh)],'Naive':[np.count_nonzero(y_pred_gaus),y_pred_gaus.shape[0]-np.count_nonzero(y_pred_gaus)]})\n",
    "y_pred_four"
   ]
  },
  {
   "cell_type": "code",
   "execution_count": 29,
   "metadata": {
    "pycharm": {
     "is_executing": false
    }
   },
   "outputs": [
    {
     "data": {
      "text/plain": "array({'Logistic': 0.656355455568054, 'Keras': 0.5331833520809899, 'Neighbor': 0.6276715410573678, 'Naive': 0.6940382452193475},\n      dtype=object)"
     },
     "metadata": {},
     "output_type": "execute_result",
     "execution_count": 29
    }
   ],
   "source": [
    "from sklearn.metrics import accuracy_score\n",
    "logreg_acc= accuracy_score(y_test, y_pred_logreg)\n",
    "keras_acc =accuracy_score(y_test, y_pred_keras)\n",
    "neigh_acc = accuracy_score(y_test, y_pred_neigh)\n",
    "gaus_acc = accuracy_score(y_test, y_pred_gaus)\n",
    "accuracy_four = np.array({'Logistic': logreg_acc, 'Keras':keras_acc, 'Neighbor':neigh_acc,'Naive':gaus_acc})\n",
    "accuracy_four"
   ]
  },
  {
   "cell_type": "markdown",
   "metadata": {},
   "source": [
    "# visualization"
   ]
  },
  {
   "cell_type": "code",
   "execution_count": 30,
   "metadata": {
    "pycharm": {
     "name": "#%%\n",
     "is_executing": false
    }
   },
   "outputs": [],
   "source": [
    "import matplotlib.pyplot as plt\n",
    "import seaborn as sns\n",
    "%matplotlib inline"
   ]
  },
  {
   "cell_type": "code",
   "execution_count": 31,
   "metadata": {
    "pycharm": {
     "name": "#%%\n",
     "is_executing": false
    }
   },
   "outputs": [],
   "source": [
    "from sklearn import metrics\n",
    "import numpy as np\n",
    "\n",
    "cnf_matrixlogreg = metrics.confusion_matrix(y_test, y_pred_logreg)\n",
    "cnf_matrixkeras = metrics.confusion_matrix(y_test, y_pred_keras)\n",
    "cnf_matrixneigh = metrics.confusion_matrix(y_test, y_pred_neigh)\n",
    "cnf_matrixgaus = metrics.confusion_matrix(y_test, y_pred_gaus)"
   ]
  },
  {
   "cell_type": "code",
   "execution_count": 32,
   "metadata": {
    "pycharm": {
     "name": "#%%\n",
     "is_executing": false
    }
   },
   "outputs": [
    {
     "data": {
      "text/plain": "Text(0.5, 257.44, 'Predicted label')"
     },
     "metadata": {},
     "output_type": "execute_result",
     "execution_count": 32
    },
    {
     "data": {
      "text/plain": "<Figure size 432x288 with 2 Axes>",
      "image/png": "[encoded data removed]"
     },
     "metadata": {
      "needs_background": "light"
     },
     "output_type": "display_data"
    }
   ],
   "source": [
    "class_names=['No cancellation','Cancellation'] # name  of classes\n",
    "fig, ax = plt.subplots()\n",
    "tick_marks = np.arange(len(class_names))\n",
    "# create heatmap\n",
    "sns.heatmap(cnf_matrixlogreg, annot=True, cmap=\"YlGnBu\" ,fmt='d', xticklabels=class_names, yticklabels=class_names)\n",
    "ax.xaxis.set_label_position(\"top\")\n",
    "plt.tight_layout()\n",
    "plt.title('Confusion matrix logistic regression')\n",
    "plt.ylabel('Actual label')\n",
    "plt.xlabel('Predicted label')"
   ]
  },
  {
   "cell_type": "code",
   "execution_count": 33,
   "metadata": {
    "pycharm": {
     "is_executing": false
    }
   },
   "outputs": [
    {
     "data": {
      "text/plain": "Text(0.5, 257.44, 'Predicted label')"
     },
     "metadata": {},
     "output_type": "execute_result",
     "execution_count": 33
    },
    {
     "data": {
      "text/plain": "<Figure size 432x288 with 2 Axes>",
      "image/png": "[encoded data removed]"
     },
     "metadata": {
      "needs_background": "light"
     },
     "output_type": "display_data"
    }
   ],
   "source": [
    "class_names=['No cancellation','Cancellation'] # name  of classes\n",
    "fig, ax = plt.subplots()\n",
    "tick_marks = np.arange(len(class_names))\n",
    "# create heatmap\n",
    "sns.heatmap(cnf_matrixkeras, annot=True, cmap=\"YlGnBu\" ,fmt='d', xticklabels=class_names, yticklabels=class_names)\n",
    "ax.xaxis.set_label_position(\"top\")\n",
    "plt.tight_layout()\n",
    "plt.title('Confusion matrix keras')\n",
    "plt.ylabel('Actual label')\n",
    "plt.xlabel('Predicted label')"
   ]
  },
  {
   "cell_type": "code",
   "execution_count": 34,
   "metadata": {
    "pycharm": {
     "is_executing": false
    }
   },
   "outputs": [
    {
     "data": {
      "text/plain": "Text(0.5, 257.44, 'Predicted label')"
     },
     "metadata": {},
     "output_type": "execute_result",
     "execution_count": 34
    },
    {
     "data": {
      "text/plain": "<Figure size 432x288 with 2 Axes>",
      "image/png": "[encoded data removed]"
     },
     "metadata": {
      "needs_background": "light"
     },
     "output_type": "display_data"
    }
   ],
   "source": [
    "class_names=['No cancellation','Cancellation'] # name  of classes\n",
    "fig, ax = plt.subplots()\n",
    "tick_marks = np.arange(len(class_names))\n",
    "# create heatmap\n",
    "sns.heatmap(cnf_matrixneigh, annot=True, cmap=\"YlGnBu\" ,fmt='d', xticklabels=class_names, yticklabels=class_names)\n",
    "ax.xaxis.set_label_position(\"top\")\n",
    "plt.tight_layout()\n",
    "plt.title('Confusion matrix knn')\n",
    "plt.ylabel('Actual label')\n",
    "plt.xlabel('Predicted label')"
   ]
  },
  {
   "cell_type": "code",
   "execution_count": 35,
   "metadata": {
    "pycharm": {
     "is_executing": false
    }
   },
   "outputs": [
    {
     "data": {
      "text/plain": "Text(0.5, 257.44, 'Predicted label')"
     },
     "metadata": {},
     "output_type": "execute_result",
     "execution_count": 35
    },
    {
     "data": {
      "text/plain": "<Figure size 432x288 with 2 Axes>",
      "image/png": "[encoded data removed]"
     },
     "metadata": {
      "needs_background": "light"
     },
     "output_type": "display_data"
    }
   ],
   "source": [
    "class_names=['No cancellation','Cancellation'] # name  of classes\n",
    "fig, ax = plt.subplots()\n",
    "tick_marks = np.arange(len(class_names))\n",
    "# create heatmap\n",
    "sns.heatmap(cnf_matrixgaus, annot=True, cmap=\"YlGnBu\" ,fmt='d', xticklabels=class_names, yticklabels=class_names)\n",
    "ax.xaxis.set_label_position(\"top\")\n",
    "plt.tight_layout()\n",
    "plt.title('Confusion matrix gaussian')\n",
    "plt.ylabel('Actual label')\n",
    "plt.xlabel('Predicted label')"
   ]
  },
  {
   "cell_type": "code",
   "execution_count": 35,
   "metadata": {
    "pycharm": {
     "is_executing": false
    }
   },
   "outputs": [],
   "source": []
  }
 ],
 "metadata": {
  "kernelspec": {
   "display_name": "Python 3",
   "language": "python",
   "name": "python3"
  },
  "language_info": {
   "codemirror_mode": {
    "name": "ipython",
    "version": 3
   },
   "file_extension": ".py",
   "mimetype": "text/x-python",
   "name": "python",
   "nbconvert_exporter": "python",
   "pygments_lexer": "ipython3",
   "version": "3.7.4"
  },
  "pycharm": {
   "stem_cell": {
    "cell_type": "raw",
    "source": [],
    "metadata": {
     "collapsed": false
    }
   }
  }
 },
 "nbformat": 4,
 "nbformat_minor": 2
}