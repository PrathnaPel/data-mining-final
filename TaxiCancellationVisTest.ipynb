{
 "cells": [
  {
   "cell_type": "code",
   "execution_count": 100,
   "metadata": {
    "pycharm": {
     "is_executing": false
    }
   },
   "outputs": [],
   "source": [
    "import pandas as pd\n",
    "import numpy as np\n",
    "import datetime\n",
    "#import pandas_profiling # pip install pandas_profiling\n",
    "\n",
    "taxiCancellationScore = pd.read_csv('Kaggle_YourCabs_score.csv')\n",
    "taxiCancellationTraining = pd.read_csv('Kaggle_YourCabs_training.csv')"
   ]
  },
  {
   "cell_type": "code",
   "execution_count": 101,
   "metadata": {
    "pycharm": {
     "is_executing": false
    }
   },
   "outputs": [],
   "source": [
    "#taxiCancellationScore.Profile_Report()"
   ]
  },
  {
   "cell_type": "code",
   "execution_count": 189,
   "metadata": {
    "pycharm": {
     "is_executing": false
    }
   },
   "outputs": [
    {
     "data": {
      "text/plain": [
       "(43431, 20)"
      ]
     },
     "execution_count": 189,
     "metadata": {},
     "output_type": "execute_result"
    }
   ],
   "source": [
    "taxiCancellationTraining.shape"
   ]
  },
  {
   "cell_type": "code",
   "execution_count": 190,
   "metadata": {
    "pycharm": {
     "is_executing": false
    }
   },
   "outputs": [
    {
     "data": {
      "text/html": [
       "<div>\n",
       "<style scoped>\n",
       "    .dataframe tbody tr th:only-of-type {\n",
       "        vertical-align: middle;\n",
       "    }\n",
       "\n",
       "    .dataframe tbody tr th {\n",
       "        vertical-align: top;\n",
       "    }\n",
       "\n",
       "    .dataframe thead th {\n",
       "        text-align: right;\n",
       "    }\n",
       "</style>\n",
       "<table border=\"1\" class=\"dataframe\">\n",
       "  <thead>\n",
       "    <tr style=\"text-align: right;\">\n",
       "      <th></th>\n",
       "      <th>id</th>\n",
       "      <th>user_id</th>\n",
       "      <th>vehicle_model_id</th>\n",
       "      <th>package_id</th>\n",
       "      <th>travel_type_id</th>\n",
       "      <th>from_area_id</th>\n",
       "      <th>to_area_id</th>\n",
       "      <th>from_city_id</th>\n",
       "      <th>to_city_id</th>\n",
       "      <th>from_date</th>\n",
       "      <th>to_date</th>\n",
       "      <th>online_booking</th>\n",
       "      <th>mobile_site_booking</th>\n",
       "      <th>booking_created</th>\n",
       "      <th>from_lat</th>\n",
       "      <th>from_long</th>\n",
       "      <th>to_lat</th>\n",
       "      <th>to_long</th>\n",
       "      <th>Car_Cancellation</th>\n",
       "      <th>Cost_of_error</th>\n",
       "    </tr>\n",
       "  </thead>\n",
       "  <tbody>\n",
       "    <tr>\n",
       "      <td>0</td>\n",
       "      <td>132512</td>\n",
       "      <td>22177</td>\n",
       "      <td>28</td>\n",
       "      <td>NaN</td>\n",
       "      <td>2</td>\n",
       "      <td>83.0</td>\n",
       "      <td>448.0</td>\n",
       "      <td>NaN</td>\n",
       "      <td>NaN</td>\n",
       "      <td>1/1/2013 2:00</td>\n",
       "      <td>NaN</td>\n",
       "      <td>0</td>\n",
       "      <td>0</td>\n",
       "      <td>1/1/2013 1:39</td>\n",
       "      <td>12.924150</td>\n",
       "      <td>77.672290</td>\n",
       "      <td>12.927320</td>\n",
       "      <td>77.635750</td>\n",
       "      <td>0</td>\n",
       "      <td>1.0</td>\n",
       "    </tr>\n",
       "    <tr>\n",
       "      <td>1</td>\n",
       "      <td>132513</td>\n",
       "      <td>21413</td>\n",
       "      <td>12</td>\n",
       "      <td>NaN</td>\n",
       "      <td>2</td>\n",
       "      <td>1010.0</td>\n",
       "      <td>540.0</td>\n",
       "      <td>NaN</td>\n",
       "      <td>NaN</td>\n",
       "      <td>1/1/2013 9:00</td>\n",
       "      <td>NaN</td>\n",
       "      <td>0</td>\n",
       "      <td>0</td>\n",
       "      <td>1/1/2013 2:25</td>\n",
       "      <td>12.966910</td>\n",
       "      <td>77.749350</td>\n",
       "      <td>12.927680</td>\n",
       "      <td>77.626640</td>\n",
       "      <td>0</td>\n",
       "      <td>1.0</td>\n",
       "    </tr>\n",
       "    <tr>\n",
       "      <td>2</td>\n",
       "      <td>132514</td>\n",
       "      <td>22178</td>\n",
       "      <td>12</td>\n",
       "      <td>NaN</td>\n",
       "      <td>2</td>\n",
       "      <td>1301.0</td>\n",
       "      <td>1034.0</td>\n",
       "      <td>NaN</td>\n",
       "      <td>NaN</td>\n",
       "      <td>1/1/2013 3:30</td>\n",
       "      <td>NaN</td>\n",
       "      <td>0</td>\n",
       "      <td>0</td>\n",
       "      <td>1/1/2013 3:08</td>\n",
       "      <td>12.937222</td>\n",
       "      <td>77.626915</td>\n",
       "      <td>13.047926</td>\n",
       "      <td>77.597766</td>\n",
       "      <td>0</td>\n",
       "      <td>1.0</td>\n",
       "    </tr>\n",
       "    <tr>\n",
       "      <td>3</td>\n",
       "      <td>132515</td>\n",
       "      <td>13034</td>\n",
       "      <td>12</td>\n",
       "      <td>NaN</td>\n",
       "      <td>2</td>\n",
       "      <td>768.0</td>\n",
       "      <td>398.0</td>\n",
       "      <td>NaN</td>\n",
       "      <td>NaN</td>\n",
       "      <td>1/1/2013 5:45</td>\n",
       "      <td>NaN</td>\n",
       "      <td>0</td>\n",
       "      <td>0</td>\n",
       "      <td>1/1/2013 4:39</td>\n",
       "      <td>12.989990</td>\n",
       "      <td>77.553320</td>\n",
       "      <td>12.971430</td>\n",
       "      <td>77.639140</td>\n",
       "      <td>0</td>\n",
       "      <td>1.0</td>\n",
       "    </tr>\n",
       "    <tr>\n",
       "      <td>4</td>\n",
       "      <td>132517</td>\n",
       "      <td>22180</td>\n",
       "      <td>12</td>\n",
       "      <td>NaN</td>\n",
       "      <td>2</td>\n",
       "      <td>1365.0</td>\n",
       "      <td>849.0</td>\n",
       "      <td>NaN</td>\n",
       "      <td>NaN</td>\n",
       "      <td>1/1/2013 9:00</td>\n",
       "      <td>NaN</td>\n",
       "      <td>0</td>\n",
       "      <td>0</td>\n",
       "      <td>1/1/2013 7:53</td>\n",
       "      <td>12.845653</td>\n",
       "      <td>77.677925</td>\n",
       "      <td>12.954340</td>\n",
       "      <td>77.600720</td>\n",
       "      <td>0</td>\n",
       "      <td>1.0</td>\n",
       "    </tr>\n",
       "    <tr>\n",
       "      <td>...</td>\n",
       "      <td>...</td>\n",
       "      <td>...</td>\n",
       "      <td>...</td>\n",
       "      <td>...</td>\n",
       "      <td>...</td>\n",
       "      <td>...</td>\n",
       "      <td>...</td>\n",
       "      <td>...</td>\n",
       "      <td>...</td>\n",
       "      <td>...</td>\n",
       "      <td>...</td>\n",
       "      <td>...</td>\n",
       "      <td>...</td>\n",
       "      <td>...</td>\n",
       "      <td>...</td>\n",
       "      <td>...</td>\n",
       "      <td>...</td>\n",
       "      <td>...</td>\n",
       "      <td>...</td>\n",
       "      <td>...</td>\n",
       "    </tr>\n",
       "    <tr>\n",
       "      <td>43426</td>\n",
       "      <td>185937</td>\n",
       "      <td>14364</td>\n",
       "      <td>12</td>\n",
       "      <td>NaN</td>\n",
       "      <td>2</td>\n",
       "      <td>1147.0</td>\n",
       "      <td>452.0</td>\n",
       "      <td>15.0</td>\n",
       "      <td>NaN</td>\n",
       "      <td>11/24/2013 18:00</td>\n",
       "      <td>41602.82020</td>\n",
       "      <td>1</td>\n",
       "      <td>0</td>\n",
       "      <td>11/24/2013 14:25</td>\n",
       "      <td>13.030640</td>\n",
       "      <td>77.649100</td>\n",
       "      <td>12.952780</td>\n",
       "      <td>77.590880</td>\n",
       "      <td>0</td>\n",
       "      <td>1.0</td>\n",
       "    </tr>\n",
       "    <tr>\n",
       "      <td>43427</td>\n",
       "      <td>185938</td>\n",
       "      <td>48727</td>\n",
       "      <td>12</td>\n",
       "      <td>NaN</td>\n",
       "      <td>2</td>\n",
       "      <td>393.0</td>\n",
       "      <td>466.0</td>\n",
       "      <td>15.0</td>\n",
       "      <td>NaN</td>\n",
       "      <td>11/26/2013 1:00</td>\n",
       "      <td>41604.08037</td>\n",
       "      <td>1</td>\n",
       "      <td>0</td>\n",
       "      <td>11/24/2013 14:30</td>\n",
       "      <td>13.199560</td>\n",
       "      <td>77.706880</td>\n",
       "      <td>13.017436</td>\n",
       "      <td>77.644580</td>\n",
       "      <td>0</td>\n",
       "      <td>1.0</td>\n",
       "    </tr>\n",
       "    <tr>\n",
       "      <td>43428</td>\n",
       "      <td>185939</td>\n",
       "      <td>48729</td>\n",
       "      <td>12</td>\n",
       "      <td>1.0</td>\n",
       "      <td>3</td>\n",
       "      <td>974.0</td>\n",
       "      <td>NaN</td>\n",
       "      <td>15.0</td>\n",
       "      <td>NaN</td>\n",
       "      <td>11/24/2013 18:30</td>\n",
       "      <td>41602.97917</td>\n",
       "      <td>0</td>\n",
       "      <td>0</td>\n",
       "      <td>11/24/2013 14:35</td>\n",
       "      <td>13.075570</td>\n",
       "      <td>77.559040</td>\n",
       "      <td>NaN</td>\n",
       "      <td>NaN</td>\n",
       "      <td>0</td>\n",
       "      <td>1.0</td>\n",
       "    </tr>\n",
       "    <tr>\n",
       "      <td>43429</td>\n",
       "      <td>185940</td>\n",
       "      <td>30724</td>\n",
       "      <td>87</td>\n",
       "      <td>NaN</td>\n",
       "      <td>2</td>\n",
       "      <td>1263.0</td>\n",
       "      <td>542.0</td>\n",
       "      <td>15.0</td>\n",
       "      <td>NaN</td>\n",
       "      <td>11/24/2013 16:00</td>\n",
       "      <td>41602.69495</td>\n",
       "      <td>0</td>\n",
       "      <td>0</td>\n",
       "      <td>11/24/2013 14:43</td>\n",
       "      <td>12.968970</td>\n",
       "      <td>77.594560</td>\n",
       "      <td>12.938230</td>\n",
       "      <td>77.622890</td>\n",
       "      <td>0</td>\n",
       "      <td>1.0</td>\n",
       "    </tr>\n",
       "    <tr>\n",
       "      <td>43430</td>\n",
       "      <td>185941</td>\n",
       "      <td>48730</td>\n",
       "      <td>12</td>\n",
       "      <td>NaN</td>\n",
       "      <td>2</td>\n",
       "      <td>689.0</td>\n",
       "      <td>393.0</td>\n",
       "      <td>15.0</td>\n",
       "      <td>NaN</td>\n",
       "      <td>11/25/2013 5:00</td>\n",
       "      <td>41603.25385</td>\n",
       "      <td>0</td>\n",
       "      <td>1</td>\n",
       "      <td>11/24/2013 14:50</td>\n",
       "      <td>12.976720</td>\n",
       "      <td>77.649270</td>\n",
       "      <td>13.199560</td>\n",
       "      <td>77.706880</td>\n",
       "      <td>0</td>\n",
       "      <td>1.0</td>\n",
       "    </tr>\n",
       "  </tbody>\n",
       "</table>\n",
       "<p>43431 rows × 20 columns</p>\n",
       "</div>"
      ],
      "text/plain": [
       "           id  user_id  vehicle_model_id  package_id  travel_type_id  \\\n",
       "0      132512    22177                28         NaN               2   \n",
       "1      132513    21413                12         NaN               2   \n",
       "2      132514    22178                12         NaN               2   \n",
       "3      132515    13034                12         NaN               2   \n",
       "4      132517    22180                12         NaN               2   \n",
       "...       ...      ...               ...         ...             ...   \n",
       "43426  185937    14364                12         NaN               2   \n",
       "43427  185938    48727                12         NaN               2   \n",
       "43428  185939    48729                12         1.0               3   \n",
       "43429  185940    30724                87         NaN               2   \n",
       "43430  185941    48730                12         NaN               2   \n",
       "\n",
       "       from_area_id  to_area_id  from_city_id  to_city_id         from_date  \\\n",
       "0              83.0       448.0           NaN         NaN     1/1/2013 2:00   \n",
       "1            1010.0       540.0           NaN         NaN     1/1/2013 9:00   \n",
       "2            1301.0      1034.0           NaN         NaN     1/1/2013 3:30   \n",
       "3             768.0       398.0           NaN         NaN     1/1/2013 5:45   \n",
       "4            1365.0       849.0           NaN         NaN     1/1/2013 9:00   \n",
       "...             ...         ...           ...         ...               ...   \n",
       "43426        1147.0       452.0          15.0         NaN  11/24/2013 18:00   \n",
       "43427         393.0       466.0          15.0         NaN   11/26/2013 1:00   \n",
       "43428         974.0         NaN          15.0         NaN  11/24/2013 18:30   \n",
       "43429        1263.0       542.0          15.0         NaN  11/24/2013 16:00   \n",
       "43430         689.0       393.0          15.0         NaN   11/25/2013 5:00   \n",
       "\n",
       "           to_date  online_booking  mobile_site_booking   booking_created  \\\n",
       "0              NaN               0                    0     1/1/2013 1:39   \n",
       "1              NaN               0                    0     1/1/2013 2:25   \n",
       "2              NaN               0                    0     1/1/2013 3:08   \n",
       "3              NaN               0                    0     1/1/2013 4:39   \n",
       "4              NaN               0                    0     1/1/2013 7:53   \n",
       "...            ...             ...                  ...               ...   \n",
       "43426  41602.82020               1                    0  11/24/2013 14:25   \n",
       "43427  41604.08037               1                    0  11/24/2013 14:30   \n",
       "43428  41602.97917               0                    0  11/24/2013 14:35   \n",
       "43429  41602.69495               0                    0  11/24/2013 14:43   \n",
       "43430  41603.25385               0                    1  11/24/2013 14:50   \n",
       "\n",
       "        from_lat  from_long     to_lat    to_long  Car_Cancellation  \\\n",
       "0      12.924150  77.672290  12.927320  77.635750                 0   \n",
       "1      12.966910  77.749350  12.927680  77.626640                 0   \n",
       "2      12.937222  77.626915  13.047926  77.597766                 0   \n",
       "3      12.989990  77.553320  12.971430  77.639140                 0   \n",
       "4      12.845653  77.677925  12.954340  77.600720                 0   \n",
       "...          ...        ...        ...        ...               ...   \n",
       "43426  13.030640  77.649100  12.952780  77.590880                 0   \n",
       "43427  13.199560  77.706880  13.017436  77.644580                 0   \n",
       "43428  13.075570  77.559040        NaN        NaN                 0   \n",
       "43429  12.968970  77.594560  12.938230  77.622890                 0   \n",
       "43430  12.976720  77.649270  13.199560  77.706880                 0   \n",
       "\n",
       "       Cost_of_error  \n",
       "0                1.0  \n",
       "1                1.0  \n",
       "2                1.0  \n",
       "3                1.0  \n",
       "4                1.0  \n",
       "...              ...  \n",
       "43426            1.0  \n",
       "43427            1.0  \n",
       "43428            1.0  \n",
       "43429            1.0  \n",
       "43430            1.0  \n",
       "\n",
       "[43431 rows x 20 columns]"
      ]
     },
     "execution_count": 190,
     "metadata": {},
     "output_type": "execute_result"
    }
   ],
   "source": [
    "taxiCancellationTraining"
   ]
  },
  {
   "cell_type": "markdown",
   "metadata": {},
   "source": [
    "### Drop 9138 rows, Drop from_city_id, Drop row from_lat"
   ]
  },
  {
   "cell_type": "code",
   "execution_count": 191,
   "metadata": {
    "pycharm": {
     "is_executing": false
    }
   },
   "outputs": [
    {
     "data": {
      "text/plain": [
       "id                         0\n",
       "user_id                    0\n",
       "vehicle_model_id           0\n",
       "package_id             35881\n",
       "travel_type_id             0\n",
       "from_area_id              88\n",
       "to_area_id              9138\n",
       "from_city_id           27086\n",
       "to_city_id             41843\n",
       "from_date                  0\n",
       "to_date                17890\n",
       "online_booking             0\n",
       "mobile_site_booking        0\n",
       "booking_created            0\n",
       "from_lat                  93\n",
       "from_long                 93\n",
       "to_lat                  9138\n",
       "to_long                 9138\n",
       "Car_Cancellation           0\n",
       "Cost_of_error              0\n",
       "dtype: int64"
      ]
     },
     "execution_count": 191,
     "metadata": {},
     "output_type": "execute_result"
    }
   ],
   "source": [
    "taxiCancellationTraining.isnull().sum()"
   ]
  },
  {
   "cell_type": "markdown",
   "metadata": {
    "pycharm": {
     "name": "#%% md\n"
    }
   },
   "source": [
    "#Convert Date String into Timestamp()\n",
    "def date_time(y,x):\n",
    "    from_date= [None]*y.shape[0]\n",
    "    for i in range(y.shape[0]):\n",
    "        if (type(y[x][i] is str and y[x][i].isnull() == False)):\n",
    "            try:\n",
    "                datetime_ob = datetime.datetime.strptime(y[x][i],\"%m/%d/%Y %H:%M\").weekday()\n",
    "            except:\n",
    "                print(int)\n",
    "            y.loc[:,x].replace(to_replace=y.loc[:,x].values[i], value = datetime_ob, inplace = True)"
   ]
  },
  {
   "cell_type": "markdown",
   "metadata": {},
   "source": [
    "## Addressing Time"
   ]
  },
  {
   "cell_type": "code",
   "execution_count": 105,
   "metadata": {
    "pycharm": {
     "is_executing": false
    }
   },
   "outputs": [],
   "source": [
    "#convert try 2\n",
    "from_weekdate_test = [] #days of week\n",
    "from_time_test = []\n",
    "for x in taxiCancellationScore['from_date']:\n",
    "    if type(x) is str:\n",
    "        ziz = x.split(' ')\n",
    "        day = ziz[0].split('/')\n",
    "        for z in range(len(day)):\n",
    "            day[z] = int(day[z])\n",
    "        from_weekdate_test.append(datetime.date(day[2], day[0], day[1]).weekday())\n",
    "        #from_weekdate is now ints as day of week, 0=sunday etc\n",
    "\n",
    "        time = ziz[1].split(':')\n",
    "        from_time_test.append(int(time[0])*60 + int(time[1]))\n",
    "        #from_time is now ints as minute of day\n",
    "        \n",
    "        \n",
    "booking_weekdate_test = [] #days of week\n",
    "booking_time_test = []\n",
    "for x in taxiCancellationScore['booking_created']:\n",
    "    if type(x) is str:\n",
    "        ziz = x.split(' ')\n",
    "        day = ziz[0].split('/')\n",
    "        for z in range(len(day)):\n",
    "            day[z] = int(day[z])\n",
    "        booking_weekdate_test.append(datetime.date(day[2], day[0], day[1]).weekday())\n",
    "        #booking_weekdate is now ints as day of week, 0=sunday etc\n",
    "\n",
    "        time = ziz[1].split(':')\n",
    "        booking_time_test.append(int(time[0])*60 + int(time[1]))\n",
    "        #booking_time is now ints as minute of day\n",
    "        \n",
    "#to be appended: from_weekdate, from_time, booking_weekdate, booking_time"
   ]
  },
  {
   "cell_type": "code",
   "execution_count": 106,
   "metadata": {},
   "outputs": [],
   "source": [
    "#convert try 2\n",
    "from_weekdate = [] #days of week\n",
    "from_time = []\n",
    "for x in taxiCancellationTraining['from_date']:\n",
    "    if type(x) is str:\n",
    "        ziz = x.split(' ')\n",
    "        day = ziz[0].split('/')\n",
    "        for z in range(len(day)):\n",
    "            day[z] = int(day[z])\n",
    "        from_weekdate.append(datetime.date(day[2], day[0], day[1]).weekday())\n",
    "        #from_weekdate is now ints as day of week, 0=sunday etc\n",
    "\n",
    "        time = ziz[1].split(':')\n",
    "        from_time.append(int(time[0])*60 + int(time[1]))\n",
    "        #from_time is now ints as minute of day\n",
    "        \n",
    "        \n",
    "booking_weekdate = [] #days of week\n",
    "booking_time = []\n",
    "for x in taxiCancellationTraining['booking_created']:\n",
    "    if type(x) is str:\n",
    "        ziz = x.split(' ')\n",
    "        day = ziz[0].split('/')\n",
    "        for z in range(len(day)):\n",
    "            day[z] = int(day[z])\n",
    "        booking_weekdate.append(datetime.date(day[2], day[0], day[1]).weekday())\n",
    "        #booking_weekdate is now ints as day of week, 0=sunday etc\n",
    "\n",
    "        time = ziz[1].split(':')\n",
    "        booking_time.append(int(time[0])*60 + int(time[1]))\n",
    "        #booking_time is now ints as minute of day\n",
    "        \n",
    "#to be appended: from_weekdate, from_time, booking_weekdate, booking_time"
   ]
  },
  {
   "cell_type": "code",
   "execution_count": 107,
   "metadata": {
    "pycharm": {
     "is_executing": false
    }
   },
   "outputs": [],
   "source": [
    "date_df = pd.DataFrame({'from_weekdate':from_weekdate,'from_time':from_time,'booking_weekdate':booking_weekdate,'booking_time':booking_time})\n",
    "new_taxiCancellationTraining = taxiCancellationTraining.join(date_df)"
   ]
  },
  {
   "cell_type": "markdown",
   "metadata": {
    "pycharm": {
     "name": "#%% md\n"
    }
   },
   "source": [
    "#Replace Trained Value in DataFrame\n",
    "date_time(taxiCancellationScore,'from_date')\n",
    "taxiCancellationScore.loc[:,'from_date']"
   ]
  },
  {
   "cell_type": "markdown",
   "metadata": {
    "pycharm": {
     "name": "#%% md\n"
    }
   },
   "source": [
    "date_time(taxiCancellationScore,'booking_created')\n",
    "taxiCancellationScore.loc[:,'booking_created']"
   ]
  },
  {
   "cell_type": "markdown",
   "metadata": {},
   "source": [
    "## Addressing Null values"
   ]
  },
  {
   "cell_type": "code",
   "execution_count": 108,
   "metadata": {},
   "outputs": [],
   "source": [
    "new_taxiCancellationTraining.dropna(subset=['to_area_id', 'to_lat', 'to_long', ], inplace = True)"
   ]
  },
  {
   "cell_type": "code",
   "execution_count": 109,
   "metadata": {},
   "outputs": [
    {
     "data": {
      "text/plain": [
       "id                         0\n",
       "user_id                    0\n",
       "vehicle_model_id           0\n",
       "package_id             34293\n",
       "travel_type_id             0\n",
       "from_area_id               0\n",
       "to_area_id                 0\n",
       "from_city_id           19788\n",
       "to_city_id             34293\n",
       "from_date                  0\n",
       "to_date                15186\n",
       "online_booking             0\n",
       "mobile_site_booking        0\n",
       "booking_created            0\n",
       "from_lat                   0\n",
       "from_long                  0\n",
       "to_lat                     0\n",
       "to_long                    0\n",
       "Car_Cancellation           0\n",
       "Cost_of_error              0\n",
       "from_weekdate              0\n",
       "from_time                  0\n",
       "booking_weekdate           0\n",
       "booking_time               0\n",
       "dtype: int64"
      ]
     },
     "execution_count": 109,
     "metadata": {},
     "output_type": "execute_result"
    }
   ],
   "source": [
    "new_taxiCancellationTraining.isnull().sum()"
   ]
  },
  {
   "cell_type": "code",
   "execution_count": 110,
   "metadata": {},
   "outputs": [
    {
     "data": {
      "text/html": [
       "<div>\n",
       "<style scoped>\n",
       "    .dataframe tbody tr th:only-of-type {\n",
       "        vertical-align: middle;\n",
       "    }\n",
       "\n",
       "    .dataframe tbody tr th {\n",
       "        vertical-align: top;\n",
       "    }\n",
       "\n",
       "    .dataframe thead th {\n",
       "        text-align: right;\n",
       "    }\n",
       "</style>\n",
       "<table border=\"1\" class=\"dataframe\">\n",
       "  <thead>\n",
       "    <tr style=\"text-align: right;\">\n",
       "      <th></th>\n",
       "      <th>id</th>\n",
       "      <th>user_id</th>\n",
       "      <th>vehicle_model_id</th>\n",
       "      <th>package_id</th>\n",
       "      <th>travel_type_id</th>\n",
       "      <th>from_area_id</th>\n",
       "      <th>to_area_id</th>\n",
       "      <th>from_city_id</th>\n",
       "      <th>to_city_id</th>\n",
       "      <th>from_date</th>\n",
       "      <th>...</th>\n",
       "      <th>from_lat</th>\n",
       "      <th>from_long</th>\n",
       "      <th>to_lat</th>\n",
       "      <th>to_long</th>\n",
       "      <th>Car_Cancellation</th>\n",
       "      <th>Cost_of_error</th>\n",
       "      <th>from_weekdate</th>\n",
       "      <th>from_time</th>\n",
       "      <th>booking_weekdate</th>\n",
       "      <th>booking_time</th>\n",
       "    </tr>\n",
       "  </thead>\n",
       "  <tbody>\n",
       "    <tr>\n",
       "      <td>0</td>\n",
       "      <td>132512</td>\n",
       "      <td>22177</td>\n",
       "      <td>28</td>\n",
       "      <td>NaN</td>\n",
       "      <td>2</td>\n",
       "      <td>83.0</td>\n",
       "      <td>448.0</td>\n",
       "      <td>NaN</td>\n",
       "      <td>NaN</td>\n",
       "      <td>1/1/2013 2:00</td>\n",
       "      <td>...</td>\n",
       "      <td>12.924150</td>\n",
       "      <td>77.672290</td>\n",
       "      <td>12.927320</td>\n",
       "      <td>77.635750</td>\n",
       "      <td>0</td>\n",
       "      <td>1.0</td>\n",
       "      <td>1</td>\n",
       "      <td>120</td>\n",
       "      <td>1</td>\n",
       "      <td>99</td>\n",
       "    </tr>\n",
       "    <tr>\n",
       "      <td>1</td>\n",
       "      <td>132513</td>\n",
       "      <td>21413</td>\n",
       "      <td>12</td>\n",
       "      <td>NaN</td>\n",
       "      <td>2</td>\n",
       "      <td>1010.0</td>\n",
       "      <td>540.0</td>\n",
       "      <td>NaN</td>\n",
       "      <td>NaN</td>\n",
       "      <td>1/1/2013 9:00</td>\n",
       "      <td>...</td>\n",
       "      <td>12.966910</td>\n",
       "      <td>77.749350</td>\n",
       "      <td>12.927680</td>\n",
       "      <td>77.626640</td>\n",
       "      <td>0</td>\n",
       "      <td>1.0</td>\n",
       "      <td>1</td>\n",
       "      <td>540</td>\n",
       "      <td>1</td>\n",
       "      <td>145</td>\n",
       "    </tr>\n",
       "    <tr>\n",
       "      <td>2</td>\n",
       "      <td>132514</td>\n",
       "      <td>22178</td>\n",
       "      <td>12</td>\n",
       "      <td>NaN</td>\n",
       "      <td>2</td>\n",
       "      <td>1301.0</td>\n",
       "      <td>1034.0</td>\n",
       "      <td>NaN</td>\n",
       "      <td>NaN</td>\n",
       "      <td>1/1/2013 3:30</td>\n",
       "      <td>...</td>\n",
       "      <td>12.937222</td>\n",
       "      <td>77.626915</td>\n",
       "      <td>13.047926</td>\n",
       "      <td>77.597766</td>\n",
       "      <td>0</td>\n",
       "      <td>1.0</td>\n",
       "      <td>1</td>\n",
       "      <td>210</td>\n",
       "      <td>1</td>\n",
       "      <td>188</td>\n",
       "    </tr>\n",
       "    <tr>\n",
       "      <td>3</td>\n",
       "      <td>132515</td>\n",
       "      <td>13034</td>\n",
       "      <td>12</td>\n",
       "      <td>NaN</td>\n",
       "      <td>2</td>\n",
       "      <td>768.0</td>\n",
       "      <td>398.0</td>\n",
       "      <td>NaN</td>\n",
       "      <td>NaN</td>\n",
       "      <td>1/1/2013 5:45</td>\n",
       "      <td>...</td>\n",
       "      <td>12.989990</td>\n",
       "      <td>77.553320</td>\n",
       "      <td>12.971430</td>\n",
       "      <td>77.639140</td>\n",
       "      <td>0</td>\n",
       "      <td>1.0</td>\n",
       "      <td>1</td>\n",
       "      <td>345</td>\n",
       "      <td>1</td>\n",
       "      <td>279</td>\n",
       "    </tr>\n",
       "    <tr>\n",
       "      <td>4</td>\n",
       "      <td>132517</td>\n",
       "      <td>22180</td>\n",
       "      <td>12</td>\n",
       "      <td>NaN</td>\n",
       "      <td>2</td>\n",
       "      <td>1365.0</td>\n",
       "      <td>849.0</td>\n",
       "      <td>NaN</td>\n",
       "      <td>NaN</td>\n",
       "      <td>1/1/2013 9:00</td>\n",
       "      <td>...</td>\n",
       "      <td>12.845653</td>\n",
       "      <td>77.677925</td>\n",
       "      <td>12.954340</td>\n",
       "      <td>77.600720</td>\n",
       "      <td>0</td>\n",
       "      <td>1.0</td>\n",
       "      <td>1</td>\n",
       "      <td>540</td>\n",
       "      <td>1</td>\n",
       "      <td>473</td>\n",
       "    </tr>\n",
       "    <tr>\n",
       "      <td>...</td>\n",
       "      <td>...</td>\n",
       "      <td>...</td>\n",
       "      <td>...</td>\n",
       "      <td>...</td>\n",
       "      <td>...</td>\n",
       "      <td>...</td>\n",
       "      <td>...</td>\n",
       "      <td>...</td>\n",
       "      <td>...</td>\n",
       "      <td>...</td>\n",
       "      <td>...</td>\n",
       "      <td>...</td>\n",
       "      <td>...</td>\n",
       "      <td>...</td>\n",
       "      <td>...</td>\n",
       "      <td>...</td>\n",
       "      <td>...</td>\n",
       "      <td>...</td>\n",
       "      <td>...</td>\n",
       "      <td>...</td>\n",
       "      <td>...</td>\n",
       "    </tr>\n",
       "    <tr>\n",
       "      <td>43425</td>\n",
       "      <td>185936</td>\n",
       "      <td>30220</td>\n",
       "      <td>12</td>\n",
       "      <td>NaN</td>\n",
       "      <td>2</td>\n",
       "      <td>585.0</td>\n",
       "      <td>1226.0</td>\n",
       "      <td>15.0</td>\n",
       "      <td>NaN</td>\n",
       "      <td>11/25/2013 0:00</td>\n",
       "      <td>...</td>\n",
       "      <td>12.976770</td>\n",
       "      <td>77.572700</td>\n",
       "      <td>13.015080</td>\n",
       "      <td>77.677960</td>\n",
       "      <td>0</td>\n",
       "      <td>1.0</td>\n",
       "      <td>0</td>\n",
       "      <td>0</td>\n",
       "      <td>6</td>\n",
       "      <td>864</td>\n",
       "    </tr>\n",
       "    <tr>\n",
       "      <td>43426</td>\n",
       "      <td>185937</td>\n",
       "      <td>14364</td>\n",
       "      <td>12</td>\n",
       "      <td>NaN</td>\n",
       "      <td>2</td>\n",
       "      <td>1147.0</td>\n",
       "      <td>452.0</td>\n",
       "      <td>15.0</td>\n",
       "      <td>NaN</td>\n",
       "      <td>11/24/2013 18:00</td>\n",
       "      <td>...</td>\n",
       "      <td>13.030640</td>\n",
       "      <td>77.649100</td>\n",
       "      <td>12.952780</td>\n",
       "      <td>77.590880</td>\n",
       "      <td>0</td>\n",
       "      <td>1.0</td>\n",
       "      <td>6</td>\n",
       "      <td>1080</td>\n",
       "      <td>6</td>\n",
       "      <td>865</td>\n",
       "    </tr>\n",
       "    <tr>\n",
       "      <td>43427</td>\n",
       "      <td>185938</td>\n",
       "      <td>48727</td>\n",
       "      <td>12</td>\n",
       "      <td>NaN</td>\n",
       "      <td>2</td>\n",
       "      <td>393.0</td>\n",
       "      <td>466.0</td>\n",
       "      <td>15.0</td>\n",
       "      <td>NaN</td>\n",
       "      <td>11/26/2013 1:00</td>\n",
       "      <td>...</td>\n",
       "      <td>13.199560</td>\n",
       "      <td>77.706880</td>\n",
       "      <td>13.017436</td>\n",
       "      <td>77.644580</td>\n",
       "      <td>0</td>\n",
       "      <td>1.0</td>\n",
       "      <td>1</td>\n",
       "      <td>60</td>\n",
       "      <td>6</td>\n",
       "      <td>870</td>\n",
       "    </tr>\n",
       "    <tr>\n",
       "      <td>43429</td>\n",
       "      <td>185940</td>\n",
       "      <td>30724</td>\n",
       "      <td>87</td>\n",
       "      <td>NaN</td>\n",
       "      <td>2</td>\n",
       "      <td>1263.0</td>\n",
       "      <td>542.0</td>\n",
       "      <td>15.0</td>\n",
       "      <td>NaN</td>\n",
       "      <td>11/24/2013 16:00</td>\n",
       "      <td>...</td>\n",
       "      <td>12.968970</td>\n",
       "      <td>77.594560</td>\n",
       "      <td>12.938230</td>\n",
       "      <td>77.622890</td>\n",
       "      <td>0</td>\n",
       "      <td>1.0</td>\n",
       "      <td>6</td>\n",
       "      <td>960</td>\n",
       "      <td>6</td>\n",
       "      <td>883</td>\n",
       "    </tr>\n",
       "    <tr>\n",
       "      <td>43430</td>\n",
       "      <td>185941</td>\n",
       "      <td>48730</td>\n",
       "      <td>12</td>\n",
       "      <td>NaN</td>\n",
       "      <td>2</td>\n",
       "      <td>689.0</td>\n",
       "      <td>393.0</td>\n",
       "      <td>15.0</td>\n",
       "      <td>NaN</td>\n",
       "      <td>11/25/2013 5:00</td>\n",
       "      <td>...</td>\n",
       "      <td>12.976720</td>\n",
       "      <td>77.649270</td>\n",
       "      <td>13.199560</td>\n",
       "      <td>77.706880</td>\n",
       "      <td>0</td>\n",
       "      <td>1.0</td>\n",
       "      <td>0</td>\n",
       "      <td>300</td>\n",
       "      <td>6</td>\n",
       "      <td>890</td>\n",
       "    </tr>\n",
       "  </tbody>\n",
       "</table>\n",
       "<p>34293 rows × 24 columns</p>\n",
       "</div>"
      ],
      "text/plain": [
       "           id  user_id  vehicle_model_id  package_id  travel_type_id  \\\n",
       "0      132512    22177                28         NaN               2   \n",
       "1      132513    21413                12         NaN               2   \n",
       "2      132514    22178                12         NaN               2   \n",
       "3      132515    13034                12         NaN               2   \n",
       "4      132517    22180                12         NaN               2   \n",
       "...       ...      ...               ...         ...             ...   \n",
       "43425  185936    30220                12         NaN               2   \n",
       "43426  185937    14364                12         NaN               2   \n",
       "43427  185938    48727                12         NaN               2   \n",
       "43429  185940    30724                87         NaN               2   \n",
       "43430  185941    48730                12         NaN               2   \n",
       "\n",
       "       from_area_id  to_area_id  from_city_id  to_city_id         from_date  \\\n",
       "0              83.0       448.0           NaN         NaN     1/1/2013 2:00   \n",
       "1            1010.0       540.0           NaN         NaN     1/1/2013 9:00   \n",
       "2            1301.0      1034.0           NaN         NaN     1/1/2013 3:30   \n",
       "3             768.0       398.0           NaN         NaN     1/1/2013 5:45   \n",
       "4            1365.0       849.0           NaN         NaN     1/1/2013 9:00   \n",
       "...             ...         ...           ...         ...               ...   \n",
       "43425         585.0      1226.0          15.0         NaN   11/25/2013 0:00   \n",
       "43426        1147.0       452.0          15.0         NaN  11/24/2013 18:00   \n",
       "43427         393.0       466.0          15.0         NaN   11/26/2013 1:00   \n",
       "43429        1263.0       542.0          15.0         NaN  11/24/2013 16:00   \n",
       "43430         689.0       393.0          15.0         NaN   11/25/2013 5:00   \n",
       "\n",
       "       ...   from_lat  from_long     to_lat    to_long  Car_Cancellation  \\\n",
       "0      ...  12.924150  77.672290  12.927320  77.635750                 0   \n",
       "1      ...  12.966910  77.749350  12.927680  77.626640                 0   \n",
       "2      ...  12.937222  77.626915  13.047926  77.597766                 0   \n",
       "3      ...  12.989990  77.553320  12.971430  77.639140                 0   \n",
       "4      ...  12.845653  77.677925  12.954340  77.600720                 0   \n",
       "...    ...        ...        ...        ...        ...               ...   \n",
       "43425  ...  12.976770  77.572700  13.015080  77.677960                 0   \n",
       "43426  ...  13.030640  77.649100  12.952780  77.590880                 0   \n",
       "43427  ...  13.199560  77.706880  13.017436  77.644580                 0   \n",
       "43429  ...  12.968970  77.594560  12.938230  77.622890                 0   \n",
       "43430  ...  12.976720  77.649270  13.199560  77.706880                 0   \n",
       "\n",
       "       Cost_of_error  from_weekdate  from_time  booking_weekdate  booking_time  \n",
       "0                1.0              1        120                 1            99  \n",
       "1                1.0              1        540                 1           145  \n",
       "2                1.0              1        210                 1           188  \n",
       "3                1.0              1        345                 1           279  \n",
       "4                1.0              1        540                 1           473  \n",
       "...              ...            ...        ...               ...           ...  \n",
       "43425            1.0              0          0                 6           864  \n",
       "43426            1.0              6       1080                 6           865  \n",
       "43427            1.0              1         60                 6           870  \n",
       "43429            1.0              6        960                 6           883  \n",
       "43430            1.0              0        300                 6           890  \n",
       "\n",
       "[34293 rows x 24 columns]"
      ]
     },
     "execution_count": 110,
     "metadata": {},
     "output_type": "execute_result"
    }
   ],
   "source": [
    "new_taxiCancellationTraining"
   ]
  },
  {
   "cell_type": "code",
   "execution_count": 111,
   "metadata": {},
   "outputs": [],
   "source": [
    "feature_cols = ['vehicle_model_id', 'travel_type_id',\n",
    "                'from_area_id', 'to_area_id', \n",
    "       'online_booking', 'mobile_site_booking',\n",
    "       'from_lat', 'from_long', 'to_lat', 'to_long', 'from_weekdate','from_time','booking_weekdate','booking_time']"
   ]
  },
  {
   "cell_type": "code",
   "execution_count": 112,
   "metadata": {
    "pycharm": {
     "is_executing": false
    }
   },
   "outputs": [
    {
     "data": {
      "text/plain": [
       "vehicle_model_id       0\n",
       "travel_type_id         0\n",
       "from_area_id           0\n",
       "to_area_id             0\n",
       "online_booking         0\n",
       "mobile_site_booking    0\n",
       "from_lat               0\n",
       "from_long              0\n",
       "to_lat                 0\n",
       "to_long                0\n",
       "from_weekdate          0\n",
       "from_time              0\n",
       "booking_weekdate       0\n",
       "booking_time           0\n",
       "dtype: int64"
      ]
     },
     "execution_count": 112,
     "metadata": {},
     "output_type": "execute_result"
    }
   ],
   "source": [
    "X = new_taxiCancellationTraining.loc[:,feature_cols] # Features\n",
    "y = new_taxiCancellationTraining.loc[:,'Car_Cancellation'] # Target variable\n",
    "X.isnull().sum()"
   ]
  },
  {
   "cell_type": "code",
   "execution_count": 113,
   "metadata": {},
   "outputs": [
    {
     "data": {
      "text/plain": [
       "(34293, 14)"
      ]
     },
     "execution_count": 113,
     "metadata": {},
     "output_type": "execute_result"
    }
   ],
   "source": [
    "X.shape\n",
    "#34k rows"
   ]
  },
  {
   "cell_type": "markdown",
   "metadata": {},
   "source": [
    "# Problem with dataset"
   ]
  },
  {
   "cell_type": "markdown",
   "metadata": {},
   "source": [
    "# ONLY 3,132 taxi orders were cancelled, 40,299 ON TRAINING Dataset"
   ]
  },
  {
   "cell_type": "code",
   "execution_count": 192,
   "metadata": {},
   "outputs": [
    {
     "data": {
      "text/plain": [
       "(3132, 40299)"
      ]
     },
     "execution_count": 192,
     "metadata": {},
     "output_type": "execute_result"
    }
   ],
   "source": [
    "## Non cancellation \n",
    "nines=taxiCancellationTraining.loc[:,'Car_Cancellation'].values\n",
    "np.count_nonzero(nines) , nines.shape[0]-np.count_nonzero(nines)\n"
   ]
  },
  {
   "cell_type": "markdown",
   "metadata": {},
   "source": [
    "## train_test_split"
   ]
  },
  {
   "cell_type": "markdown",
   "metadata": {},
   "source": [
    "date_df_test = pd.DataFrame({'from_weekdate':from_weekdate_test,'from_time':from_time_test,'booking_weekdate':booking_weekdate_test,'booking_time':booking_time_test})\n",
    "new_taxiCancellationScore =taxiCancellationScore.join(date_df_test)"
   ]
  },
  {
   "cell_type": "markdown",
   "metadata": {
    "pycharm": {
     "is_executing": false
    }
   },
   "source": [
    "new_taxiCancellationScore.dropna(subset=['to_area_id', 'to_lat', 'to_long', ], inplace = True)\n",
    "X_test = new_taxiCancellationScore.loc[:,feature_cols] # Features\n",
    "X_test.isnull().sum()"
   ]
  },
  {
   "cell_type": "code",
   "execution_count": 115,
   "metadata": {},
   "outputs": [],
   "source": [
    "from sklearn.model_selection import train_test_split\n",
    "X_train, X_test, y_train, y_test = train_test_split(X,y, test_size =0.30, random_state = 1)"
   ]
  },
  {
   "cell_type": "markdown",
   "metadata": {},
   "source": [
    "## 4 Models"
   ]
  },
  {
   "cell_type": "code",
   "execution_count": 116,
   "metadata": {
    "pycharm": {
     "is_executing": false
    }
   },
   "outputs": [],
   "source": [
    "import tensorflow as tf\n",
    "from keras.models import Sequential\n",
    "from keras.layers import Dense, Dropout\n",
    "\n",
    "#Logistic Regresstion"
   ]
  },
  {
   "cell_type": "code",
   "execution_count": 117,
   "metadata": {
    "pycharm": {
     "name": "#%% \n"
    }
   },
   "outputs": [
    {
     "name": "stderr",
     "output_type": "stream",
     "text": [
      "c:\\users\\prathna\\appdata\\local\\programs\\python\\python37\\lib\\site-packages\\sklearn\\linear_model\\logistic.py:947: ConvergenceWarning: lbfgs failed to converge. Increase the number of iterations.\n",
      "  \"of iterations.\", ConvergenceWarning)\n"
     ]
    },
    {
     "data": {
      "text/plain": [
       "LogisticRegression(C=1.0, class_weight=None, dual=False, fit_intercept=True,\n",
       "                   intercept_scaling=1, l1_ratio=None, max_iter=100,\n",
       "                   multi_class='multinomial', n_jobs=None, penalty='l2',\n",
       "                   random_state=0, solver='lbfgs', tol=0.0001, verbose=0,\n",
       "                   warm_start=False)"
      ]
     },
     "execution_count": 117,
     "metadata": {},
     "output_type": "execute_result"
    }
   ],
   "source": [
    "from sklearn.linear_model import LogisticRegression\n",
    "logreg = LogisticRegression(random_state=0, solver='lbfgs', multi_class='multinomial')\n",
    "logreg.fit(X_train, y_train)"
   ]
  },
  {
   "cell_type": "code",
   "execution_count": 118,
   "metadata": {
    "pycharm": {
     "is_executing": false,
     "name": "#%%\n"
    }
   },
   "outputs": [
    {
     "name": "stdout",
     "output_type": "stream",
     "text": [
      "Model: \"sequential_5\"\n",
      "_________________________________________________________________\n",
      "Layer (type)                 Output Shape              Param #   \n",
      "=================================================================\n",
      "dense_17 (Dense)             (None, 124)               1860      \n",
      "_________________________________________________________________\n",
      "dropout_13 (Dropout)         (None, 124)               0         \n",
      "_________________________________________________________________\n",
      "dense_18 (Dense)             (None, 64)                8000      \n",
      "_________________________________________________________________\n",
      "dropout_14 (Dropout)         (None, 64)                0         \n",
      "_________________________________________________________________\n",
      "dense_19 (Dense)             (None, 32)                2080      \n",
      "_________________________________________________________________\n",
      "dropout_15 (Dropout)         (None, 32)                0         \n",
      "_________________________________________________________________\n",
      "dense_20 (Dense)             (None, 1)                 33        \n",
      "=================================================================\n",
      "Total params: 11,973\n",
      "Trainable params: 11,973\n",
      "Non-trainable params: 0\n",
      "_________________________________________________________________\n"
     ]
    }
   ],
   "source": [
    "#Deep Learning Keras Model\n",
    "#relu -linear\n",
    "#sigmoid function for final layer\n",
    "#Dropout 50%\n",
    "#Dimension input features column\n",
    "#Output binary classification 0 and 1\n",
    "model = Sequential()\n",
    "model.add(Dense(124, activation='relu', input_dim = X.shape[1]))\n",
    "model.add(Dropout(0.5))\n",
    "model.add(Dense(64, activation='relu'))\n",
    "model.add(Dropout(0.5))\n",
    "model.add(Dense(32, activation='relu'))\n",
    "model.add(Dropout(0.5))\n",
    "model.add(Dense(1, activation='sigmoid'))\n",
    "model.summary()\n",
    "#Using binary_crossentropy\n",
    "model.compile(optimizer='rmsprop',\n",
    "              loss='binary_crossentropy',\n",
    "              metrics=['accuracy'])\n"
   ]
  },
  {
   "cell_type": "code",
   "execution_count": 119,
   "metadata": {
    "pycharm": {
     "name": "#%%\n"
    }
   },
   "outputs": [
    {
     "data": {
      "text/plain": [
       "KNeighborsClassifier(algorithm='auto', leaf_size=30, metric='minkowski',\n",
       "                     metric_params=None, n_jobs=None, n_neighbors=3, p=2,\n",
       "                     weights='uniform')"
      ]
     },
     "execution_count": 119,
     "metadata": {},
     "output_type": "execute_result"
    }
   ],
   "source": [
    "#KNN\n",
    "n_neigh = 3\n",
    "from sklearn.neighbors import KNeighborsClassifier\n",
    "neighbor = KNeighborsClassifier(n_neigh)\n",
    "neighbor.fit(X_train, y_train) "
   ]
  },
  {
   "cell_type": "code",
   "execution_count": 120,
   "metadata": {
    "pycharm": {
     "is_executing": false,
     "name": "#%%\n"
    }
   },
   "outputs": [
    {
     "data": {
      "text/plain": [
       "GaussianNB(priors=None, var_smoothing=1e-09)"
      ]
     },
     "execution_count": 120,
     "metadata": {},
     "output_type": "execute_result"
    }
   ],
   "source": [
    "#Naive Bayes\n",
    "from sklearn.naive_bayes import GaussianNB\n",
    "gaus = GaussianNB()\n",
    "gaus.fit(X_train, y_train)"
   ]
  },
  {
   "cell_type": "markdown",
   "metadata": {},
   "source": [
    "# Prediction"
   ]
  },
  {
   "cell_type": "code",
   "execution_count": 121,
   "metadata": {
    "pycharm": {
     "is_executing": true
    }
   },
   "outputs": [
    {
     "name": "stdout",
     "output_type": "stream",
     "text": [
      "Epoch 1/20\n",
      "24005/24005 [==============================] - 24s 1ms/step - loss: 3.3083 - accuracy: 0.8836\n",
      "Epoch 2/20\n",
      "24005/24005 [==============================] - 23s 979us/step - loss: 0.3074 - accuracy: 0.9172\n",
      "Epoch 3/20\n",
      "24005/24005 [==============================] - 23s 976us/step - loss: 0.2944 - accuracy: 0.9180\n",
      "Epoch 4/20\n",
      "24005/24005 [==============================] - 24s 999us/step - loss: 0.2909 - accuracy: 0.9180\n",
      "Epoch 5/20\n",
      "24005/24005 [==============================] - 25s 1ms/step - loss: 0.2988 - accuracy: 0.9182\n",
      "Epoch 6/20\n",
      "24005/24005 [==============================] - 25s 1ms/step - loss: 0.2876 - accuracy: 0.9183\n",
      "Epoch 7/20\n",
      "24005/24005 [==============================] - 26s 1ms/step - loss: 0.2872 - accuracy: 0.9183\n",
      "Epoch 8/20\n",
      "24005/24005 [==============================] - 25s 1ms/step - loss: 0.2910 - accuracy: 0.9181\n",
      "Epoch 9/20\n",
      "24005/24005 [==============================] - 26s 1ms/step - loss: 0.2869 - accuracy: 0.9182\n",
      "Epoch 10/20\n",
      "24005/24005 [==============================] - 27s 1ms/step - loss: 0.2857 - accuracy: 0.9182\n",
      "Epoch 11/20\n",
      "24005/24005 [==============================] - 25s 1ms/step - loss: 0.2899 - accuracy: 0.9182\n",
      "Epoch 12/20\n",
      "24005/24005 [==============================] - 26s 1ms/step - loss: 0.2896 - accuracy: 0.9181\n",
      "Epoch 13/20\n",
      "24005/24005 [==============================] - 25s 1ms/step - loss: 0.2842 - accuracy: 0.9186\n",
      "Epoch 14/20\n",
      "24005/24005 [==============================] - 25s 1ms/step - loss: 0.2842 - accuracy: 0.9185\n",
      "Epoch 15/20\n",
      "24005/24005 [==============================] - 24s 1ms/step - loss: 0.2831 - accuracy: 0.9186\n",
      "Epoch 16/20\n",
      "24005/24005 [==============================] - 26s 1ms/step - loss: 0.2833 - accuracy: 0.9186\n",
      "Epoch 17/20\n",
      "24005/24005 [==============================] - 25s 1ms/step - loss: 0.2840 - accuracy: 0.9185\n",
      "Epoch 18/20\n",
      "24005/24005 [==============================] - 24s 1ms/step - loss: 0.2822 - accuracy: 0.9186\n",
      "Epoch 19/20\n",
      "24005/24005 [==============================] - 26s 1ms/step - loss: 0.2830 - accuracy: 0.9186\n",
      "Epoch 20/20\n",
      "24005/24005 [==============================] - 25s 1ms/step - loss: 0.2823 - accuracy: 0.9186\n"
     ]
    },
    {
     "data": {
      "text/plain": [
       "<keras.callbacks.callbacks.History at 0x1bda6523e88>"
      ]
     },
     "execution_count": 121,
     "metadata": {},
     "output_type": "execute_result"
    }
   ],
   "source": [
    "model.fit(X_train,y_train, epochs=20, batch_size = 5, verbose = 1)"
   ]
  },
  {
   "cell_type": "code",
   "execution_count": 122,
   "metadata": {},
   "outputs": [],
   "source": [
    "model.save('trained_model.h5')"
   ]
  },
  {
   "cell_type": "code",
   "execution_count": 123,
   "metadata": {},
   "outputs": [
    {
     "data": {
      "text/plain": [
       "vehicle_model_id       0\n",
       "travel_type_id         0\n",
       "from_area_id           0\n",
       "to_area_id             0\n",
       "online_booking         0\n",
       "mobile_site_booking    0\n",
       "from_lat               0\n",
       "from_long              0\n",
       "to_lat                 0\n",
       "to_long                0\n",
       "from_weekdate          0\n",
       "from_time              0\n",
       "booking_weekdate       0\n",
       "booking_time           0\n",
       "dtype: int64"
      ]
     },
     "execution_count": 123,
     "metadata": {},
     "output_type": "execute_result"
    }
   ],
   "source": [
    "X_test.isnull().sum()"
   ]
  },
  {
   "cell_type": "code",
   "execution_count": 166,
   "metadata": {},
   "outputs": [],
   "source": [
    "y_pred_logreg = logreg.predict(X_test)\n",
    "y_pred_keras= model.predict(X_test)\n",
    "y_pred_neigh= neighbor.predict(X_test)\n",
    "y_pred_gaus= gaus.predict(X_test)\n",
    "y_pred_keras= y_pred_keras.argmax(axis=1)"
   ]
  },
  {
   "cell_type": "markdown",
   "metadata": {},
   "source": [
    "# Performance of Each Model"
   ]
  },
  {
   "cell_type": "code",
   "execution_count": 188,
   "metadata": {},
   "outputs": [
    {
     "data": {
      "text/html": [
       "<div>\n",
       "<style scoped>\n",
       "    .dataframe tbody tr th:only-of-type {\n",
       "        vertical-align: middle;\n",
       "    }\n",
       "\n",
       "    .dataframe tbody tr th {\n",
       "        vertical-align: top;\n",
       "    }\n",
       "\n",
       "    .dataframe thead th {\n",
       "        text-align: right;\n",
       "    }\n",
       "</style>\n",
       "<table border=\"1\" class=\"dataframe\">\n",
       "  <thead>\n",
       "    <tr style=\"text-align: right;\">\n",
       "      <th></th>\n",
       "      <th>Logistic</th>\n",
       "      <th>Keras</th>\n",
       "      <th>Neighbor</th>\n",
       "      <th>Naive</th>\n",
       "    </tr>\n",
       "  </thead>\n",
       "  <tbody>\n",
       "    <tr>\n",
       "      <td>0</td>\n",
       "      <td>0</td>\n",
       "      <td>0</td>\n",
       "      <td>375</td>\n",
       "      <td>410</td>\n",
       "    </tr>\n",
       "    <tr>\n",
       "      <td>1</td>\n",
       "      <td>10288</td>\n",
       "      <td>10288</td>\n",
       "      <td>9913</td>\n",
       "      <td>9878</td>\n",
       "    </tr>\n",
       "  </tbody>\n",
       "</table>\n",
       "</div>"
      ],
      "text/plain": [
       "   Logistic  Keras  Neighbor  Naive\n",
       "0         0      0       375    410\n",
       "1     10288  10288      9913   9878"
      ]
     },
     "execution_count": 188,
     "metadata": {},
     "output_type": "execute_result"
    }
   ],
   "source": [
    "\n",
    "y_pred_four = pd.DataFrame({'Logistic': [np.count_nonzero(y_pred_logreg),y_pred_logreg.shape[0]-np.count_nonzero(y_pred_logreg)], 'Keras':[np.count_nonzero(y_pred_keras),y_pred_keras.shape[0]-np.count_nonzero(y_pred_keras)], 'Neighbor':[np.count_nonzero(y_pred_neigh),y_pred_neigh.shape[0]-np.count_nonzero(y_pred_neigh)],'Naive':[np.count_nonzero(y_pred_gaus),y_pred_gaus.shape[0]-np.count_nonzero(y_pred_gaus)]})\n",
    "y_pred_four"
   ]
  },
  {
   "cell_type": "code",
   "execution_count": 181,
   "metadata": {},
   "outputs": [
    {
     "data": {
      "text/plain": [
       "array({'Logistic': 0.9201982892690513, 'Keras': 0.9201982892690513, 'Neighbor': 0.9068818040435459, 'Naive': 0.8972589424572317},\n",
       "      dtype=object)"
      ]
     },
     "execution_count": 181,
     "metadata": {},
     "output_type": "execute_result"
    }
   ],
   "source": [
    "from sklearn.metrics import accuracy_score\n",
    "logreg_acc= accuracy_score(y_test, y_pred_logreg)\n",
    "keras_acc =accuracy_score(y_test, y_pred_keras)\n",
    "neigh_acc = accuracy_score(y_test, y_pred_neigh)\n",
    "gaus_acc = accuracy_score(y_test, y_pred_gaus)\n",
    "accuracy_four = np.array({'Logistic': logreg_acc, 'Keras':keras_acc, 'Neighbor':neigh_acc,'Naive':gaus_acc})\n",
    "accuracy_four"
   ]
  },
  {
   "cell_type": "markdown",
   "metadata": {},
   "source": [
    "# visualization"
   ]
  },
  {
   "cell_type": "code",
   "execution_count": 136,
   "metadata": {
    "pycharm": {
     "name": "#%%\n"
    }
   },
   "outputs": [],
   "source": [
    "import matplotlib.pyplot as plt\n",
    "import seaborn as sns\n",
    "%matplotlib inline"
   ]
  },
  {
   "cell_type": "code",
   "execution_count": 160,
   "metadata": {
    "pycharm": {
     "name": "#%%\n"
    }
   },
   "outputs": [],
   "source": [
    "from sklearn import metrics\n",
    "import numpy as np\n",
    "\n",
    "cnf_matrixlogreg = metrics.confusion_matrix(y_test, y_pred_logreg)\n",
    "cnf_matrixkeras = metrics.confusion_matrix(y_test, y_pred_keras)\n",
    "cnf_matrixneigh = metrics.confusion_matrix(y_test, y_pred_neigh)\n",
    "cnf_matrixgaus = metrics.confusion_matrix(y_test, y_pred_gaus)"
   ]
  },
  {
   "cell_type": "code",
   "execution_count": 161,
   "metadata": {
    "pycharm": {
     "name": "#%%\n"
    }
   },
   "outputs": [
    {
     "data": {
      "text/plain": [
       "Text(0.5, 257.44, 'Predicted label')"
      ]
     },
     "execution_count": 161,
     "metadata": {},
     "output_type": "execute_result"
    },
    {
     "data": {
      "image/png": "[encoded data removed]",
      "text/plain": [
       "<Figure size 432x288 with 2 Axes>"
      ]
     },
     "metadata": {
      "needs_background": "light"
     },
     "output_type": "display_data"
    }
   ],
   "source": [
    "class_names=['No cancellation','Cancellation'] # name  of classes\n",
    "fig, ax = plt.subplots()\n",
    "tick_marks = np.arange(len(class_names))\n",
    "# create heatmap\n",
    "sns.heatmap(cnf_matrixlogreg, annot=True, cmap=\"YlGnBu\" ,fmt='d', xticklabels=class_names, yticklabels=class_names)\n",
    "ax.xaxis.set_label_position(\"top\")\n",
    "plt.tight_layout()\n",
    "plt.title('Confusion matrix logistic regression')\n",
    "plt.ylabel('Actual label')\n",
    "plt.xlabel('Predicted label')"
   ]
  },
  {
   "cell_type": "code",
   "execution_count": 162,
   "metadata": {},
   "outputs": [
    {
     "data": {
      "text/plain": [
       "Text(0.5, 257.44, 'Predicted label')"
      ]
     },
     "execution_count": 162,
     "metadata": {},
     "output_type": "execute_result"
    },
    {
     "data": {
      "image/png": "[encoded data removed]",
      "text/plain": [
       "<Figure size 432x288 with 2 Axes>"
      ]
     },
     "metadata": {
      "needs_background": "light"
     },
     "output_type": "display_data"
    }
   ],
   "source": [
    "class_names=['No cancellation','Cancellation'] # name  of classes\n",
    "fig, ax = plt.subplots()\n",
    "tick_marks = np.arange(len(class_names))\n",
    "# create heatmap\n",
    "sns.heatmap(cnf_matrixkeras, annot=True, cmap=\"YlGnBu\" ,fmt='d', xticklabels=class_names, yticklabels=class_names)\n",
    "ax.xaxis.set_label_position(\"top\")\n",
    "plt.tight_layout()\n",
    "plt.title('Confusion matrix keras')\n",
    "plt.ylabel('Actual label')\n",
    "plt.xlabel('Predicted label')"
   ]
  },
  {
   "cell_type": "code",
   "execution_count": 163,
   "metadata": {},
   "outputs": [
    {
     "data": {
      "text/plain": [
       "Text(0.5, 257.44, 'Predicted label')"
      ]
     },
     "execution_count": 163,
     "metadata": {},
     "output_type": "execute_result"
    },
    {
     "data": {
      "image/png": "[encoded data removed]",
      "text/plain": [
       "<Figure size 432x288 with 2 Axes>"
      ]
     },
     "metadata": {
      "needs_background": "light"
     },
     "output_type": "display_data"
    }
   ],
   "source": [
    "class_names=['No cancellation','Cancellation'] # name  of classes\n",
    "fig, ax = plt.subplots()\n",
    "tick_marks = np.arange(len(class_names))\n",
    "# create heatmap\n",
    "sns.heatmap(cnf_matrixneigh, annot=True, cmap=\"YlGnBu\" ,fmt='d', xticklabels=class_names, yticklabels=class_names)\n",
    "ax.xaxis.set_label_position(\"top\")\n",
    "plt.tight_layout()\n",
    "plt.title('Confusion matrix knn')\n",
    "plt.ylabel('Actual label')\n",
    "plt.xlabel('Predicted label')"
   ]
  },
  {
   "cell_type": "code",
   "execution_count": 164,
   "metadata": {},
   "outputs": [
    {
     "data": {
      "text/plain": [
       "Text(0.5, 257.44, 'Predicted label')"
      ]
     },
     "execution_count": 164,
     "metadata": {},
     "output_type": "execute_result"
    },
    {
     "data": {
      "image/png": "[encoded data removed]",
      "text/plain": [
       "<Figure size 432x288 with 2 Axes>"
      ]
     },
     "metadata": {
      "needs_background": "light"
     },
     "output_type": "display_data"
    }
   ],
   "source": [
    "class_names=['No cancellation','Cancellation'] # name  of classes\n",
    "fig, ax = plt.subplots()\n",
    "tick_marks = np.arange(len(class_names))\n",
    "# create heatmap\n",
    "sns.heatmap(cnf_matrixgaus, annot=True, cmap=\"YlGnBu\" ,fmt='d', xticklabels=class_names, yticklabels=class_names)\n",
    "ax.xaxis.set_label_position(\"top\")\n",
    "plt.tight_layout()\n",
    "plt.title('Confusion matrix gaussian')\n",
    "plt.ylabel('Actual label')\n",
    "plt.xlabel('Predicted label')"
   ]
  },
  {
   "cell_type": "code",
   "execution_count": null,
   "metadata": {},
   "outputs": [],
   "source": []
  }
 ],
 "metadata": {
  "kernelspec": {
   "display_name": "Python 3",
   "language": "python",
   "name": "python3"
  },
  "language_info": {
   "codemirror_mode": {
    "name": "ipython",
    "version": 3
   },
   "file_extension": ".py",
   "mimetype": "text/x-python",
   "name": "python",
   "nbconvert_exporter": "python",
   "pygments_lexer": "ipython3",
   "version": "3.7.4"
  },
  "pycharm": {
   "stem_cell": {
    "cell_type": "raw",
    "metadata": {
     "collapsed": false
    },
    "source": []
   }
  }
 },
 "nbformat": 4,
 "nbformat_minor": 2
}
